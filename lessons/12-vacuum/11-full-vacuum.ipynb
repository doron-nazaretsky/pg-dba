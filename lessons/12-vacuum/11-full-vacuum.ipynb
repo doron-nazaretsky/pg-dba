{
 "cells": [
  {
   "cell_type": "markdown",
   "metadata": {},
   "source": [
    "# Full VACUUM"
   ]
  },
  {
   "cell_type": "markdown",
   "metadata": {},
   "source": [
    "## Purposes"
   ]
  },
  {
   "cell_type": "markdown",
   "metadata": {},
   "source": [
    "- Rearrange tuples in the pages for better performance\n",
    "- Release disk space"
   ]
  },
  {
   "cell_type": "markdown",
   "metadata": {},
   "source": [
    "## Flow"
   ]
  },
  {
   "cell_type": "markdown",
   "metadata": {},
   "source": [
    "Unlike the concurrent `VACUUM`, this one is relatively easy.\n",
    "\n",
    "The flow is as follow:\n",
    "1. Acquire `AccessExclusiveLock` on relation\n",
    "1. Create a new table file\n",
    "1. For each live tuple in the origin table -> copy to new file, freeze if needed\n",
    "1. Remove old file\n",
    "1. Rebuild indexes\n",
    "1. Update `FSM`, `VM`\n",
    "1. Update statistics\n",
    "1. Release lock"
   ]
  },
  {
   "cell_type": "markdown",
   "metadata": {},
   "source": [
    "## Problems"
   ]
  },
  {
   "cell_type": "markdown",
   "metadata": {},
   "source": [
    "Be Aware!\n",
    "\n",
    "As you probably seen, this process is performing much harder work -> copy the whole table and indexes, so it's:\n",
    "\n",
    "- Locking the table for `reads` and `writes`\n",
    "- Demanding at most two times the disk space of the table\n",
    "- Demands large CPU usage which slows down the whole DB"
   ]
  },
  {
   "cell_type": "markdown",
   "metadata": {},
   "source": [
    "## When To Use"
   ]
  },
  {
   "cell_type": "markdown",
   "metadata": {},
   "source": [
    "Some would say: *NEVER!!*\n",
    "\n",
    "Others would say:\n",
    "- When your tables are intentionally bloating over long time and you want to rebuild them once in a while\n",
    "- When your tables are unintentionally bloating and you want to debug why it's happening in real time from the beginning\n",
    "\n",
    "Most would say: use `pg-repack`"
   ]
  }
 ],
 "metadata": {
  "language_info": {
   "name": "python"
  }
 },
 "nbformat": 4,
 "nbformat_minor": 2
}
