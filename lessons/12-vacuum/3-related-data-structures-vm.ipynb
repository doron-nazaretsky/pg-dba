{
 "cells": [
  {
   "cell_type": "markdown",
   "metadata": {},
   "source": [
    "# Visibility Map (VM)"
   ]
  },
  {
   "cell_type": "markdown",
   "metadata": {},
   "source": [
    "## Description"
   ]
  },
  {
   "cell_type": "markdown",
   "metadata": {},
   "source": [
    "Holds information about - are all the tuples in the relation page:\n",
    "- Visible to all running transactions? (usually when it's not changed)\n",
    "- Frozen? (due to a too old xmin transaction id)"
   ]
  },
  {
   "cell_type": "markdown",
   "metadata": {},
   "source": [
    "## Purpose"
   ]
  },
  {
   "cell_type": "markdown",
   "metadata": {},
   "source": [
    "- Enhance `VACUUM` performance - it can skip fully visible pages\n",
    "- Enhance query performance by allowing `index-only` scan - if all tuples are visible, the data has not been changed and the index is updated, so it's safe to perform an `index-only` scan"
   ]
  },
  {
   "cell_type": "markdown",
   "metadata": {},
   "source": [
    "## Architecture"
   ]
  },
  {
   "cell_type": "markdown",
   "metadata": {},
   "source": [
    "<img src=\"./helpers/visibility-map.png\" alt=\"drawing\" width=600/>"
   ]
  },
  {
   "cell_type": "markdown",
   "metadata": {},
   "source": [
    "## Maintenance"
   ]
  },
  {
   "cell_type": "markdown",
   "metadata": {},
   "source": [
    "- Created by first VACUUM operation on the table\n",
    "- Updated by:\n",
    "    1. To false by DML -> `UPDATE`, `DELETE`\n",
    "    1. To true by VACUUM"
   ]
  }
 ],
 "metadata": {
  "language_info": {
   "name": "python"
  }
 },
 "nbformat": 4,
 "nbformat_minor": 2
}
