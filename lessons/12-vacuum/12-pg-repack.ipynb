{
 "cells": [
  {
   "cell_type": "markdown",
   "metadata": {},
   "source": [
    "# PG-REPACK"
   ]
  },
  {
   "cell_type": "markdown",
   "metadata": {},
   "source": [
    "## Description"
   ]
  },
  {
   "cell_type": "markdown",
   "metadata": {},
   "source": [
    "This is a very commonly used optimization for `FULL VACUUM` (or `CLUSTER`) process.\n",
    "\n",
    "It performs an almost identical flow but without holding the `AccessExclusiveLock` for so long."
   ]
  },
  {
   "cell_type": "markdown",
   "metadata": {},
   "source": [
    "## Flow"
   ]
  },
  {
   "cell_type": "markdown",
   "metadata": {},
   "source": [
    "The flow is very similar to `FULL VACUUM` except instead of locking the table through the process it's creating triggers on the original table and due to the end of the process it applies those new changes and swaps the tables."
   ]
  },
  {
   "cell_type": "markdown",
   "metadata": {},
   "source": [
    "**In Detail:**\n",
    "1. Create a log table to record changes made to the original table\n",
    "1. Add a trigger onto the original table, logging INSERTs, UPDATEs and DELETEs into our log table\n",
    "1. Create a new table containing all the rows in the old table\n",
    "1. Build indexes on this new table\n",
    "1. Apply all changes which have accrued in the log table to the new table\n",
    "1. Swap the tables, including indexes and toast tables, using the system catalogs\n",
    "1. Drop the original table\n"
   ]
  },
  {
   "cell_type": "markdown",
   "metadata": {},
   "source": [
    "`pg_repack` will only hold an `AccessExclusiveLock` for a short period during initial setup (steps 1 and 2 above) and during the final swap-and-drop phase (steps 6 and 7). For the rest of its time, pg_repack only needs to hold an `AccessShareLock` on the original table, meaning INSERTs, UPDATEs, and DELETEs may proceed as usual."
   ]
  },
  {
   "cell_type": "markdown",
   "metadata": {},
   "source": [
    "## Restrictions"
   ]
  },
  {
   "cell_type": "markdown",
   "metadata": {},
   "source": [
    "- Requires the table to have a primary key or some not-null unique constraints to be able to reproduce the changes from the log table.\n",
    "- Doesn't work on temporary tables.\n",
    "- Doesn't work on tables that have global indexes.\n",
    "\n",
    "Most of the time it's not an issue because usually production tables have primary keys and you most probably don't want to use `FULL VACUUM` on temp tables."
   ]
  },
  {
   "cell_type": "markdown",
   "metadata": {},
   "source": [
    "## Install"
   ]
  },
  {
   "cell_type": "markdown",
   "metadata": {},
   "source": [
    "```BASH\n",
    "apt install pg-repack\n",
    "psql -c \"CREATE EXTENSION pg_repack\"\n",
    "```"
   ]
  },
  {
   "cell_type": "markdown",
   "metadata": {},
   "source": [
    "## Use"
   ]
  },
  {
   "cell_type": "markdown",
   "metadata": {},
   "source": [
    "```SQL\n",
    "DROP TABLE IF EXISTS tbl CASCADE;\n",
    "CREATE TABLE tbl (\n",
    "    id INTEGER PRIMARY KEY GENERATED ALWAYS AS IDENTITY,\n",
    "    data INT\n",
    ");\n",
    "\n",
    "INSERT INTO tbl(data)\n",
    "SELECT 0 AS data\n",
    "FROM generate_series(1,1000000);\n",
    "\n",
    "SELECT pg_size_pretty(pg_relation_size('tbl'));\n",
    "DELETE FROM tbl WHERE id BETWEEN 2 AND 900000;\n",
    "```"
   ]
  },
  {
   "cell_type": "markdown",
   "metadata": {},
   "source": [
    "```BASH\n",
    "pg_repack -t tbl\n",
    "psql -c \"SELECT pg_size_pretty(pg_relation_size('tbl'));\"\n",
    "```"
   ]
  }
 ],
 "metadata": {
  "language_info": {
   "name": "python"
  }
 },
 "nbformat": 4,
 "nbformat_minor": 2
}
