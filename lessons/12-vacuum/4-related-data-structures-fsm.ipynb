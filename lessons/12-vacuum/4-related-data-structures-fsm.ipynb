{
 "cells": [
  {
   "cell_type": "markdown",
   "metadata": {},
   "source": [
    "# Free Space Map (FSM)"
   ]
  },
  {
   "cell_type": "markdown",
   "metadata": {},
   "source": [
    "## Description"
   ]
  },
  {
   "cell_type": "markdown",
   "metadata": {},
   "source": [
    "Holds information about the amount of free space in (almost) every page of a relation"
   ]
  },
  {
   "cell_type": "markdown",
   "metadata": {},
   "source": [
    "## Purpose"
   ]
  },
  {
   "cell_type": "markdown",
   "metadata": {},
   "source": [
    "Whenever a new tuple should be created on a relation (`INSERT`, `UPDATE`) postgres should find which relation page to write the tuple to.\n",
    "\n",
    "It could possibly just write every time to the last page and add new one when it's full, but then deleted tuples would never be recycled and the `concurrent vacuum` would be redundant!\n",
    "\n",
    "To avoid that, using the `FSM` postgres can find the first relation page with enough space for the new tuple."
   ]
  },
  {
   "cell_type": "markdown",
   "metadata": {},
   "source": [
    "## Architecture"
   ]
  },
  {
   "cell_type": "markdown",
   "metadata": {},
   "source": [
    "It's designed as a tree data structure when every leaf of the tree is a number of free space representing a single relation page, while non-leaf nodes are aggregations of leafs that hold the MAX value of free space for the above tree.\n",
    "\n",
    "<img src=\"./helpers/fsm.png\" alt=\"drawing\" width=600/>"
   ]
  },
  {
   "cell_type": "markdown",
   "metadata": {},
   "source": [
    "## Maintenance"
   ]
  },
  {
   "cell_type": "markdown",
   "metadata": {},
   "source": [
    "- Created by first `VACUUM` operation on the table\n",
    "- Updated by by All DML -> `INSERT`, `UPDATE`, `DELETE` and `VACUUM`"
   ]
  }
 ],
 "metadata": {
  "language_info": {
   "name": "python"
  }
 },
 "nbformat": 4,
 "nbformat_minor": 2
}
