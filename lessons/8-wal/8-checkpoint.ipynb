{
 "cells": [
  {
   "cell_type": "markdown",
   "metadata": {},
   "source": [
    "# Checkpoints"
   ]
  },
  {
   "cell_type": "markdown",
   "metadata": {},
   "source": [
    "## Idea"
   ]
  },
  {
   "cell_type": "markdown",
   "metadata": {},
   "source": [
    "Snapshot a single point in time where the DB is in a consistent state and all WAL records are flushed to disk.\n",
    "\n",
    "Later on, this can server as a REDO point, from where we can start applying WAL records and the DB is guaranteed to be consistent."
   ]
  },
  {
   "cell_type": "markdown",
   "metadata": {},
   "source": [
    "## Triggers"
   ]
  },
  {
   "cell_type": "markdown",
   "metadata": {},
   "source": [
    "1. The interval time set for `checkpoint_timeout` from the previous checkpoint has been elapsed (the default interval is 300 seconds)\n",
    "1. The total size of the WAL segment files in the pg_wal directory has exceeded the value of the parameter `max_wal_size` (the default value is 1GB (64 files))\n",
    "1. The PostgreSQL server stops in smart or fast mode.\n",
    "1. A superuser issues the CHECKPOINT command manually."
   ]
  },
  {
   "cell_type": "markdown",
   "metadata": {},
   "source": [
    "## Functionality"
   ]
  },
  {
   "cell_type": "markdown",
   "metadata": {},
   "source": [
    "- Creates a Checkpoint WAL record to store data about DB state\n",
    "- Picks the last WAL record to serve as a REDO point\n",
    "- All data in shared memory (except shared buffers pool) is written to disk\n",
    "- All dirty pages in shared buffer pool are written to disk\n",
    "- pg_control file is updated, it contains a lot of information about the latest checkpoint and the flow of DB recovery start from here"
   ]
  },
  {
   "cell_type": "markdown",
   "metadata": {},
   "source": [
    "```BASH\n",
    "# Check the contents of pg_control\n",
    "pg_controldata $PGDATA\n",
    "\n",
    "# Change last checkpoing\n",
    "pg_controldata | grep \"Latest checkpoint location\"\n",
    "psql -c \"CHECKPOINT;\"\n",
    "pg_controldata | grep \"Latest checkpoint location\"\n",
    "```"
   ]
  },
  {
   "cell_type": "markdown",
   "metadata": {},
   "source": [
    "## Recovery Flow"
   ]
  },
  {
   "cell_type": "markdown",
   "metadata": {},
   "source": [
    "1. Read pg_control file to find last CHECKPOINT record\n",
    "1. Read CHECKPOINT record to find REDO point record\n",
    "1. Apply all WAL records sequentially with comparing LSNs as explained in previous lectures"
   ]
  }
 ],
 "metadata": {
  "language_info": {
   "name": "python"
  }
 },
 "nbformat": 4,
 "nbformat_minor": 2
}
