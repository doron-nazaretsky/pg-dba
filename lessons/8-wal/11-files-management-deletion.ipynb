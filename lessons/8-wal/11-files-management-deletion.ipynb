{
 "cells": [
  {
   "cell_type": "markdown",
   "metadata": {},
   "source": [
    "# Recycle & Deletion"
   ]
  },
  {
   "cell_type": "markdown",
   "metadata": {},
   "source": [
    "A WAL file can be deleted but most of the time it will be recycled for use of the next LSN records."
   ]
  },
  {
   "cell_type": "markdown",
   "metadata": {},
   "source": [
    "## Triggers"
   ]
  },
  {
   "cell_type": "markdown",
   "metadata": {},
   "source": [
    "On checkpoint:\n",
    "- Estimate the number of needed WAL files for the next CHECKPOINT period by checking the last needed file\\\n",
    "(also `min_wal_size` < files_num <  `max_wal_size`)\n",
    "- Recycle needed amount of WAL files\n",
    "- Remove what left (up to `wal_keep_size`)"
   ]
  },
  {
   "cell_type": "markdown",
   "metadata": {},
   "source": [
    "<img src=\"./helpers/recycle-wal-files-checkpoint.png \" alt=\"drawing\" width=\"700\"/>"
   ]
  }
 ],
 "metadata": {
  "language_info": {
   "name": "python"
  }
 },
 "nbformat": 4,
 "nbformat_minor": 2
}
