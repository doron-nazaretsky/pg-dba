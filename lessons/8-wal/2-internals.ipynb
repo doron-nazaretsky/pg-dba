{
 "cells": [
  {
   "cell_type": "markdown",
   "metadata": {},
   "source": [
    "## Create ENV"
   ]
  },
  {
   "cell_type": "code",
   "execution_count": null,
   "metadata": {
    "tags": []
   },
   "outputs": [],
   "source": [
    "export PGHOST=db\n",
    "export PGUSER=postgres\n",
    "export PGDATABASE=postgres\n",
    "psql -c \"CREATE EXTENSION pg_walinspect;\""
   ]
  },
  {
   "cell_type": "markdown",
   "metadata": {},
   "source": [
    "## Naming"
   ]
  },
  {
   "cell_type": "markdown",
   "metadata": {},
   "source": [
    "### LSN"
   ]
  },
  {
   "cell_type": "markdown",
   "metadata": {},
   "source": [
    "#### Structure"
   ]
  },
  {
   "cell_type": "markdown",
   "metadata": {},
   "source": [
    "<img src=\"./helpers/WAL - LSN.png\" alt=\"drawing\" width=\"700\"/>"
   ]
  },
  {
   "cell_type": "markdown",
   "metadata": {},
   "source": [
    "#### Demo"
   ]
  },
  {
   "cell_type": "code",
   "execution_count": null,
   "metadata": {
    "tags": []
   },
   "outputs": [],
   "source": [
    "# Current LSN\n",
    "psql -c \"select pg_current_wal_insert_lsn();\""
   ]
  },
  {
   "cell_type": "markdown",
   "metadata": {},
   "source": [
    "### File"
   ]
  },
  {
   "cell_type": "markdown",
   "metadata": {},
   "source": [
    "#### Name Structure"
   ]
  },
  {
   "cell_type": "markdown",
   "metadata": {},
   "source": [
    "<img src=\"./helpers/WAL - WAL File Name.png\" alt=\"drawing\" width=\"700\"/>"
   ]
  },
  {
   "cell_type": "markdown",
   "metadata": {},
   "source": [
    "## Physical Layout"
   ]
  },
  {
   "cell_type": "markdown",
   "metadata": {},
   "source": [
    "- File of 16 MB (configurable)\n",
    "- Divided to pages of 8 KB (so 2000 pages per segment)\n",
    "\n",
    "<img src=\"./helpers/wal-physical-layout.png\" alt=\"drawing\" width=\"700\"/>"
   ]
  },
  {
   "cell_type": "markdown",
   "metadata": {},
   "source": [
    "## Demo"
   ]
  },
  {
   "cell_type": "code",
   "execution_count": null,
   "metadata": {
    "tags": []
   },
   "outputs": [],
   "source": [
    "# Current WAL File and LSN\n",
    "psql -c \"select pg_current_wal_insert_lsn() lsn, pg_walfile_name(pg_current_wal_insert_lsn()) wal_file_name;\""
   ]
  },
  {
   "cell_type": "code",
   "execution_count": null,
   "metadata": {
    "tags": []
   },
   "outputs": [],
   "source": [
    "# Last modified WAL file\n",
    "ls -alt $PGDATA/pg_wal"
   ]
  },
  {
   "cell_type": "code",
   "execution_count": null,
   "metadata": {
    "tags": []
   },
   "outputs": [],
   "source": [
    "# Swith WAL File\n",
    "psql -c \"select pg_switch_wal();\"\n",
    "psql -c \"select pg_walfile_name(pg_current_wal_insert_lsn());\""
   ]
  },
  {
   "cell_type": "code",
   "execution_count": null,
   "metadata": {},
   "outputs": [],
   "source": [
    "# Last modified WAL file - new one\n",
    "ls -alt $PGDATA/pg_wal"
   ]
  },
  {
   "cell_type": "markdown",
   "metadata": {},
   "source": [
    "### Advanced"
   ]
  },
  {
   "cell_type": "markdown",
   "metadata": {},
   "source": [
    "#### Change current LSN with create table"
   ]
  },
  {
   "cell_type": "code",
   "execution_count": null,
   "metadata": {
    "vscode": {
     "languageId": "sql"
    }
   },
   "outputs": [],
   "source": [
    "-- Run in pg_admin !!\n",
    "-- Changing the LSN with create table\n",
    "DO $$\n",
    "DECLARE start_state pg_lsn;\n",
    "DECLARE after_create pg_lsn;\n",
    "DECLARE start_create_diff text;\n",
    "BEGIN\n",
    "\tSELECT pg_current_wal_insert_lsn()\n",
    "\tINTO start_state;\n",
    "\n",
    "\tDROP TABLE IF EXISTS a;\n",
    "\tCREATE TABLE a(a int);\n",
    "\tCOMMIT; -- Try to ommit\n",
    "\n",
    "\tSELECT pg_current_wal_insert_lsn()\n",
    "\tINTO after_create;\n",
    "\n",
    "\tSELECT pg_size_pretty(after_create - start_state)\n",
    "\tINTO start_create_diff;\n",
    "\n",
    "\tRAISE NOTICE 'Start State LSN: %', start_state;\n",
    "\tRAISE NOTICE 'After Create LSN: %', after_create;\n",
    "\tRAISE NOTICE 'Create - Start DIFF size: %', start_create_diff;\n",
    "END;\n",
    "$$"
   ]
  },
  {
   "cell_type": "markdown",
   "metadata": {},
   "source": [
    "#### WAL Records on INSERT"
   ]
  },
  {
   "cell_type": "code",
   "execution_count": null,
   "metadata": {
    "vscode": {
     "languageId": "sql"
    }
   },
   "outputs": [],
   "source": [
    "-- Run in pg_admin !!\n",
    "DO $$\n",
    "DECLARE start_state pg_lsn;\n",
    "DECLARE after_insert pg_lsn;\n",
    "DECLARE start_insert_diff text;\n",
    "DECLARE rec record;\n",
    "BEGIN\n",
    "\tSELECT pg_current_wal_insert_lsn()\n",
    "\tINTO start_state;\n",
    "\n",
    "\tINSERT INTO a VALUES (1);\n",
    "\tCOMMIT;\n",
    "\n",
    "\tSELECT pg_current_wal_insert_lsn()\n",
    "\tINTO after_insert;\n",
    "\n",
    "\tSELECT pg_size_pretty(after_insert - start_state)\n",
    "\tINTO start_insert_diff;\n",
    "\n",
    "\tRAISE NOTICE '------- Summary -------';\n",
    "\tRAISE NOTICE 'Start State LSN: %', start_state;\n",
    "\tRAISE NOTICE 'After Insert LSN: %', after_insert;\n",
    "\tRAISE NOTICE 'Insert - Create DIFF size: %', start_insert_diff;\n",
    "\tRAISE NOTICE 'WAL Records between Start and Insert:';\n",
    "\tFOR rec in \n",
    "\t\tSELECT * \n",
    "\t\tFROM pg_get_wal_records_info(start_state, after_insert)\n",
    "\tloop\n",
    "\t\tRAISE NOTICE '------- WAL Record -------';\n",
    "\t\tRAISE NOTICE 'Start LSN: %', rec.start_lsn;\n",
    "\t\tRAISE NOTICE 'End LSN: %', rec.end_lsn;\n",
    "\t\tRAISE NOTICE 'Prev LSN: %', rec.prev_lsn;\n",
    "\t\tRAISE NOTICE 'Record Type: %', rec.record_type;\n",
    "\t\tRAISE NOTICE 'Total Record Length In Bytes: %', rec.record_length + rec.main_data_length;\n",
    "\t\tRAISE NOTICE 'Block Reference: %', rec.block_ref;\n",
    "\t\tRAISE NOTICE 'Transaction ID: %', rec.xid;\n",
    "\tend loop;\n",
    "END;\n",
    "$$"
   ]
  },
  {
   "cell_type": "markdown",
   "metadata": {},
   "source": [
    "#### Block Ref - What Is That?"
   ]
  },
  {
   "cell_type": "code",
   "execution_count": null,
   "metadata": {},
   "outputs": [],
   "source": [
    "psql << EOM\n",
    "    SELECT pg_relation_filepath FROM pg_relation_filepath('a');\n",
    "    SELECT * FROM pg_tablespace;\n",
    "EOM"
   ]
  },
  {
   "cell_type": "markdown",
   "metadata": {},
   "source": [
    "#### WAL On Create"
   ]
  },
  {
   "cell_type": "code",
   "execution_count": null,
   "metadata": {
    "vscode": {
     "languageId": "sql"
    }
   },
   "outputs": [],
   "source": [
    "-- Run in pg_admin !!\n",
    "-- What actually happens when we create a new table\n",
    "DO $$\n",
    "DECLARE start_state pg_lsn;\n",
    "DECLARE after_create pg_lsn;\n",
    "DECLARE start_create_diff text;\n",
    "DECLARE rec record;\n",
    "DECLARE rel_name text;\n",
    "BEGIN\n",
    "\tDROP TABLE IF EXISTS b;\n",
    "\tDROP TABLE IF EXISTS create_wal_records;\n",
    "\tSELECT pg_current_wal_insert_lsn()\n",
    "\tINTO start_state;\n",
    "\n",
    "\tCREATE TABLE b(a int);\n",
    "\tCOMMIT;\n",
    "\n",
    "\tSELECT pg_current_wal_insert_lsn()\n",
    "\tINTO after_create;\n",
    "\n",
    "\t-- Change to not temp to look on the rows with simple select\n",
    "\tCREATE TEMP TABLE create_wal_records AS\n",
    "\tSELECT \n",
    "\t\t*,\n",
    "\t\tSPLIT_PART(\n",
    "\t\t\tSUBSTRING(block_ref, '[0-9]\\/[0-9]+\\/[0-9]*'),\n",
    "\t\t\t'/',\n",
    "\t\t\t3\n",
    "\t\t)::oid rel_oid\n",
    "\tFROM pg_get_wal_records_info(start_state, after_create);\n",
    "\n",
    "\tSELECT pg_size_pretty(after_create - start_state)\n",
    "\tINTO start_create_diff;\n",
    "\t\n",
    "\n",
    "\tRAISE NOTICE '------- Summary -------';\n",
    "\tRAISE NOTICE 'Start State LSN: %', start_state;\n",
    "\tRAISE NOTICE 'After Create LSN: %', after_create;\n",
    "\tRAISE NOTICE 'Create - Start DIFF size: %', start_create_diff;\n",
    "\n",
    "\tRAISE NOTICE 'WAL Records between Start and Insert:';\n",
    "\tFOR rec in \n",
    "\t\tSELECT wal.*, cl.relname \n",
    "\t\tFROM \n",
    "\t\t\tcreate_wal_records wal\n",
    "\t\t\tLEFT JOIN pg_class cl ON wal.rel_oid = cl.oid\n",
    "\tloop\n",
    "\t\tRAISE NOTICE '------- WAL Record -------';\n",
    "\t\tRAISE NOTICE 'Relation Name: %', rec.relname;\n",
    "\t\tRAISE NOTICE 'Start LSN: %', rec.start_lsn;\n",
    "\t\tRAISE NOTICE 'End LSN: %', rec.end_lsn;\n",
    "\t\tRAISE NOTICE 'Prev LSN: %', rec.prev_lsn;\n",
    "\t\tRAISE NOTICE 'Record Type: %', rec.record_type;\n",
    "\t\tRAISE NOTICE 'Total Record Length in bytes: %', rec.record_length + rec.main_data_length;\n",
    "\t\tRAISE NOTICE 'Block Reference: %', rec.block_ref;\n",
    "\t\tRAISE NOTICE 'Transaction ID: %', rec.xid;\n",
    "\tend loop;\n",
    "END;\n",
    "$$"
   ]
  }
 ],
 "metadata": {
  "kernelspec": {
   "display_name": "Bash",
   "language": "bash",
   "name": "bash"
  },
  "language_info": {
   "codemirror_mode": "shell",
   "file_extension": ".sh",
   "mimetype": "text/x-sh",
   "name": "bash"
  }
 },
 "nbformat": 4,
 "nbformat_minor": 4
}
