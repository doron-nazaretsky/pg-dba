{
 "cells": [
  {
   "cell_type": "markdown",
   "metadata": {},
   "source": [
    "## General"
   ]
  },
  {
   "cell_type": "markdown",
   "metadata": {},
   "source": [
    "### Definition"
   ]
  },
  {
   "cell_type": "markdown",
   "metadata": {},
   "source": [
    "- WAL is an acronym for Write-Ahead Logging, which is a protocol or rule that requires both changes and actions to be written to a transaction log (in Postgres WAL is also the actual transaction log name)\n",
    "- Primarily used to ensure durability and dealing with crashes\n",
    "- Enables more efficient backup strategies - Point In Time Recovery (PITR)\n",
    "- Enables more efficient streaming replication\n"
   ]
  },
  {
   "cell_type": "markdown",
   "metadata": {},
   "source": [
    "## PostgreSQL"
   ]
  },
  {
   "cell_type": "markdown",
   "metadata": {},
   "source": [
    "### Terminology\n",
    "- XLOG - WAL data"
   ]
  },
  {
   "cell_type": "markdown",
   "metadata": {},
   "source": [
    "### The Problem"
   ]
  },
  {
   "cell_type": "markdown",
   "metadata": {},
   "source": [
    "Let's see a data modification flow without implementing WAL\n",
    "\n",
    "<img src=\"./helpers/WAL - Without WAL.png\" alt=\"drawing\" width=\"700\"/>"
   ]
  },
  {
   "cell_type": "markdown",
   "metadata": {},
   "source": [
    "### The Solution"
   ]
  },
  {
   "cell_type": "markdown",
   "metadata": {},
   "source": [
    "#### Data Modification With WAL"
   ]
  },
  {
   "cell_type": "markdown",
   "metadata": {},
   "source": [
    "<img src=\"./helpers/WAL - With WAL.png\" alt=\"drawing\" width=\"900\"/>"
   ]
  },
  {
   "cell_type": "markdown",
   "metadata": {},
   "source": [
    "#### Full Block Writes"
   ]
  },
  {
   "cell_type": "markdown",
   "metadata": {},
   "source": [
    "- Every first WAL record of a page (after checkpoint) has all data in it\n",
    "- Every other WAL record is a regular record with only the specific change\n",
    "- If the page get corrupted, the first full block WAL record can restore the valid state\n",
    "- Then, other next WAL records can be applied sequentially\n",
    "- Full Block Writes are **idempotent**"
   ]
  },
  {
   "cell_type": "markdown",
   "metadata": {},
   "source": [
    "#### Recovery Process With WAL"
   ]
  },
  {
   "cell_type": "markdown",
   "metadata": {},
   "source": [
    "<img src=\"./helpers/WAL - Recovery.png\" alt=\"drawing\" width=\"900\"/>"
   ]
  },
  {
   "cell_type": "markdown",
   "metadata": {},
   "source": [
    "### WAL Flush"
   ]
  },
  {
   "cell_type": "markdown",
   "metadata": {},
   "source": [
    "- One running transaction has committed or aborted\n",
    "- The WAL buffer has been filled up with tuples (The WAL buffer size is set to the parameter `wal_buffers`)\n",
    "- A WAL writer process writes periodically\n",
    "\n",
    "If any of the above occurs, all WAL records on the WAL buffer are written into a WAL segment file regardless of whether their transactions have been committed or not!\n"
   ]
  },
  {
   "cell_type": "markdown",
   "metadata": {},
   "source": [
    "#### WAL Writer"
   ]
  },
  {
   "cell_type": "markdown",
   "metadata": {},
   "source": [
    "Flushes WAL records from WAL buffer to disk by:\n",
    "- Size (`wal_writer_flush_after` - default is `1MB`)\n",
    "- Time (`wal_writer_delay` - default is `200ms`)"
   ]
  },
  {
   "cell_type": "markdown",
   "metadata": {},
   "source": [
    "#### Batching WAL Writes"
   ]
  },
  {
   "cell_type": "markdown",
   "metadata": {},
   "source": [
    "- Async commits (`synchronous_commit=off`, discussed in detail below)\n",
    "- Commit delay (`commit_delay` & `commit_siblings`) - wait for other active transactions to create ready to flush WAL buffers which results in potential latency but less I/O"
   ]
  },
  {
   "cell_type": "markdown",
   "metadata": {},
   "source": [
    "#### Async Commits"
   ]
  },
  {
   "cell_type": "markdown",
   "metadata": {},
   "source": [
    "Idea: don't wait for WAL records flush to disk to return a transaction success to a client. \n",
    "\n",
    "Basically remove the commit / rollback of a transaction as a trigger to WAL disk flush.\n",
    "\n",
    "Configuration: `synchronous_commit`\n",
    "\n",
    "**Note** - On replications there are several options too, will discussed in replication lesson"
   ]
  },
  {
   "cell_type": "markdown",
   "metadata": {},
   "source": [
    "Advantages:\n",
    "- Can be turned on/off on a transaction level\n",
    "- Lower latency for transactions\n",
    "- Potential batching of WAL records flush to disk\n",
    "\n",
    "Disadvantages:\n",
    "- Potential risk window of `wal_writer_delay * 3` (because the WAL Writer tries internally to fill up a full page of WAL records) of transactions to be lost on DB crash\n",
    "\n",
    "**Important Notes**:\n",
    "- Async commits are not creating a corruption risk! Since logical commits are flushed sequentially and atomically, only the unwritten transactions are at risk\n",
    "- If the application that uses the DB is counting on fully sync consistency, for example for a multi-db transaction, it should use a sync commit "
   ]
  }
 ],
 "metadata": {
  "language_info": {
   "name": "python"
  }
 },
 "nbformat": 4,
 "nbformat_minor": 2
}
