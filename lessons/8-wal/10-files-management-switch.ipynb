{
 "cells": [
  {
   "cell_type": "markdown",
   "metadata": {},
   "source": [
    "# Switch WAL File"
   ]
  },
  {
   "cell_type": "markdown",
   "metadata": {},
   "source": [
    "We already saw how to manually switch WAL file, there are flows that cause the switching:"
   ]
  },
  {
   "cell_type": "markdown",
   "metadata": {},
   "source": [
    "- WAL segment is filled up.\n",
    "- The function `pg_wal_switch` is called.\n",
    "- The `archive_mode` parameter is enabled and the `archive_timeout` parameter has expired."
   ]
  }
 ],
 "metadata": {
  "language_info": {
   "name": "python"
  }
 },
 "nbformat": 4,
 "nbformat_minor": 2
}
