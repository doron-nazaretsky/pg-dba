{
 "cells": [
  {
   "cell_type": "markdown",
   "metadata": {},
   "source": [
    "# Advanced"
   ]
  },
  {
   "cell_type": "markdown",
   "metadata": {},
   "source": [
    "## pg_walinspect"
   ]
  },
  {
   "cell_type": "markdown",
   "metadata": {},
   "source": [
    "The extension `pg_walinspect` is providing a SQL interface for getting more detailed WAL information.\n",
    "\n",
    "It exposes the functions:\n",
    "- `pg_get_wal_record_info` - by specific lsn\n",
    "- `pg_get_wal_records_info` - by a lsn range\n",
    "- `pg_get_wal_block_info` - by a lsn range, broken down to data blocks granularity\n",
    "- `pg_get_wal_stats` - by a lsn range, aggregated to `resource_manager` / `record_type`"
   ]
  },
  {
   "cell_type": "markdown",
   "metadata": {},
   "source": [
    "## Change And Inspect Current LSN"
   ]
  },
  {
   "cell_type": "markdown",
   "metadata": {},
   "source": [
    "### CREATE"
   ]
  },
  {
   "cell_type": "markdown",
   "metadata": {},
   "source": [
    "```SQL\n",
    "-- Run in pg_admin !!\n",
    "-- Changing the LSN with create table\n",
    "DO $$\n",
    "DECLARE start_state pg_lsn;\n",
    "DECLARE after_create pg_lsn;\n",
    "DECLARE start_create_diff text;\n",
    "BEGIN\n",
    "\tSELECT pg_current_wal_insert_lsn()\n",
    "\tINTO start_state;\n",
    "\n",
    "\tDROP TABLE IF EXISTS a;\n",
    "\tCREATE TABLE a(a int);\n",
    "\tCOMMIT; -- Try to ommit\n",
    "\n",
    "\tSELECT pg_current_wal_insert_lsn()\n",
    "\tINTO after_create;\n",
    "\n",
    "\tSELECT pg_size_pretty(after_create - start_state)\n",
    "\tINTO start_create_diff;\n",
    "\n",
    "\tRAISE NOTICE 'Start State LSN: %', start_state;\n",
    "\tRAISE NOTICE 'After Create LSN: %', after_create;\n",
    "\tRAISE NOTICE 'Create - Start DIFF size: %', start_create_diff;\n",
    "END;\n",
    "$$\n",
    "```"
   ]
  },
  {
   "cell_type": "markdown",
   "metadata": {},
   "source": [
    "### Using `pg_walinspect`"
   ]
  },
  {
   "cell_type": "markdown",
   "metadata": {},
   "source": [
    "```BASH\n",
    "psql -c \"CREATE EXTENSION pg_walinspect;\"\n",
    "\n",
    "# Get current LSN\n",
    "CURRENT_LSN=$(psql -t -c \"SELECT pg_current_wal_insert_lsn();\" | xargs)\n",
    "\n",
    "# Change it with making changes in the DB\n",
    "psql -c \"DROP TABLE IF EXISTS Z; SELECT * INTO z FROM generate_series(1,10000000);\"\n",
    "\n",
    "# See new information\n",
    "psql -x -c \"SELECT * FROM pg_get_wal_block_info('$CURRENT_LSN', 'FFFFFFFF/FFFFFFFF', false);\"\n",
    "psql << EOM\n",
    "    SELECT \n",
    "        block_id,\n",
    "        record_type,\n",
    "        COUNT(*) count \n",
    "    FROM (\n",
    "        SELECT * \n",
    "        FROM \n",
    "            pg_get_wal_block_info('$CURRENT_LSN', 'FFFFFFFF/FFFFFFFF', false) block_info\n",
    "            JOIN (SELECT oid FROM pg_class WHERE relname = 'z') rel_info ON block_info.relfilenode = rel_info.oid\n",
    "    ) sub\n",
    "    GROUP BY block_id, record_type;\n",
    "EOM\n",
    "```"
   ]
  },
  {
   "cell_type": "markdown",
   "metadata": {},
   "source": [
    "### INSERT"
   ]
  },
  {
   "cell_type": "markdown",
   "metadata": {},
   "source": [
    "```SQL\n",
    "-- Run in pg_admin !!\n",
    "DO $$\n",
    "DECLARE start_state pg_lsn;\n",
    "DECLARE after_insert pg_lsn;\n",
    "DECLARE start_insert_diff text;\n",
    "DECLARE rec record;\n",
    "BEGIN\n",
    "\tSELECT pg_current_wal_insert_lsn()\n",
    "\tINTO start_state;\n",
    "\n",
    "\tINSERT INTO a VALUES (1);\n",
    "\tCOMMIT;\n",
    "\n",
    "\tSELECT pg_current_wal_insert_lsn()\n",
    "\tINTO after_insert;\n",
    "\n",
    "\tSELECT pg_size_pretty(after_insert - start_state)\n",
    "\tINTO start_insert_diff;\n",
    "\n",
    "\tRAISE NOTICE '------- Summary -------';\n",
    "\tRAISE NOTICE 'Start State LSN: %', start_state;\n",
    "\tRAISE NOTICE 'After Insert LSN: %', after_insert;\n",
    "\tRAISE NOTICE 'Insert - Create DIFF size: %', start_insert_diff;\n",
    "\tRAISE NOTICE 'WAL Records between Start and Insert:';\n",
    "\tFOR rec in \n",
    "\t\tSELECT * \n",
    "\t\tFROM pg_get_wal_records_info(start_state, after_insert)\n",
    "\tloop\n",
    "\t\tRAISE NOTICE '------- WAL Record -------';\n",
    "\t\tRAISE NOTICE 'Start LSN: %', rec.start_lsn;\n",
    "\t\tRAISE NOTICE 'End LSN: %', rec.end_lsn;\n",
    "\t\tRAISE NOTICE 'Prev LSN: %', rec.prev_lsn;\n",
    "\t\tRAISE NOTICE 'Record Type: %', rec.record_type;\n",
    "\t\tRAISE NOTICE 'Total Record Length In Bytes: %', rec.record_length + rec.main_data_length;\n",
    "\t\tRAISE NOTICE 'Block Reference: %', rec.block_ref;\n",
    "\t\tRAISE NOTICE 'Transaction ID: %', rec.xid;\n",
    "\tend loop;\n",
    "END;\n",
    "$$\n",
    "```"
   ]
  },
  {
   "cell_type": "markdown",
   "metadata": {},
   "source": [
    "#### Block Ref - What Is That?"
   ]
  },
  {
   "cell_type": "code",
   "execution_count": null,
   "metadata": {},
   "outputs": [],
   "source": [
    "psql << EOM\n",
    "    SELECT pg_relation_filepath FROM pg_relation_filepath('a');\n",
    "    SELECT * FROM pg_tablespace;\n",
    "EOM"
   ]
  },
  {
   "cell_type": "markdown",
   "metadata": {},
   "source": [
    "### CREATE & INSPECT"
   ]
  },
  {
   "cell_type": "code",
   "execution_count": null,
   "metadata": {
    "vscode": {
     "languageId": "sql"
    }
   },
   "outputs": [],
   "source": [
    "-- Run in pg_admin !!\n",
    "-- What actually happens when we create a new table\n",
    "DO $$\n",
    "DECLARE start_state pg_lsn;\n",
    "DECLARE after_create pg_lsn;\n",
    "DECLARE start_create_diff text;\n",
    "DECLARE rec record;\n",
    "DECLARE rel_name text;\n",
    "BEGIN\n",
    "\tDROP TABLE IF EXISTS b;\n",
    "\tDROP TABLE IF EXISTS create_wal_records;\n",
    "\tSELECT pg_current_wal_insert_lsn()\n",
    "\tINTO start_state;\n",
    "\n",
    "\tCREATE TABLE b(a int);\n",
    "\tCOMMIT;\n",
    "\n",
    "\tSELECT pg_current_wal_insert_lsn()\n",
    "\tINTO after_create;\n",
    "\n",
    "\t-- Change to not temp to look on the rows with simple select\n",
    "\tCREATE TEMP TABLE create_wal_records AS\n",
    "\tSELECT \n",
    "\t\t*,\n",
    "\t\tSPLIT_PART(\n",
    "\t\t\tSUBSTRING(block_ref, '[0-9]\\/[0-9]+\\/[0-9]*'),\n",
    "\t\t\t'/',\n",
    "\t\t\t3\n",
    "\t\t)::oid rel_oid\n",
    "\tFROM pg_get_wal_records_info(start_state, after_create);\n",
    "\n",
    "\tSELECT pg_size_pretty(after_create - start_state)\n",
    "\tINTO start_create_diff;\n",
    "\t\n",
    "\n",
    "\tRAISE NOTICE '------- Summary -------';\n",
    "\tRAISE NOTICE 'Start State LSN: %', start_state;\n",
    "\tRAISE NOTICE 'After Create LSN: %', after_create;\n",
    "\tRAISE NOTICE 'Create - Start DIFF size: %', start_create_diff;\n",
    "\n",
    "\tRAISE NOTICE 'WAL Records between Start and Insert:';\n",
    "\tFOR rec in \n",
    "\t\tSELECT wal.*, cl.relname \n",
    "\t\tFROM \n",
    "\t\t\tcreate_wal_records wal\n",
    "\t\t\tLEFT JOIN pg_class cl ON wal.rel_oid = cl.oid\n",
    "\tloop\n",
    "\t\tRAISE NOTICE '------- WAL Record -------';\n",
    "\t\tRAISE NOTICE 'Relation Name: %', rec.relname;\n",
    "\t\tRAISE NOTICE 'Start LSN: %', rec.start_lsn;\n",
    "\t\tRAISE NOTICE 'End LSN: %', rec.end_lsn;\n",
    "\t\tRAISE NOTICE 'Prev LSN: %', rec.prev_lsn;\n",
    "\t\tRAISE NOTICE 'Record Type: %', rec.record_type;\n",
    "\t\tRAISE NOTICE 'Total Record Length in bytes: %', rec.record_length + rec.main_data_length;\n",
    "\t\tRAISE NOTICE 'Block Reference: %', rec.block_ref;\n",
    "\t\tRAISE NOTICE 'Transaction ID: %', rec.xid;\n",
    "\tend loop;\n",
    "END;\n",
    "$$"
   ]
  }
 ],
 "metadata": {
  "kernelspec": {
   "display_name": "Bash",
   "language": "bash",
   "name": "bash"
  },
  "language_info": {
   "codemirror_mode": "shell",
   "file_extension": ".sh",
   "mimetype": "text/x-sh",
   "name": "bash"
  }
 },
 "nbformat": 4,
 "nbformat_minor": 4
}
