{
 "cells": [
  {
   "cell_type": "markdown",
   "metadata": {},
   "source": [
    "# Configuration Parameters"
   ]
  },
  {
   "cell_type": "markdown",
   "metadata": {},
   "source": [
    "Category    |   Name    |   Description |   Advantages  |   Disadvantages   |   Default\n",
    "--------    |   -----   |   ----------- |   ----------  |   -------------   |   -------\n",
    "Layout   |   `full_page_writes`     |   Save full page images on first modification after checkpoint   |   Make the system safe for data page corruption | Bigger WAL records   | `on`\n",
    "Layout   |   `wal_compression`     |   Compress full page images   |   1. Reduce I/O cost for writing WAL records 2. Less storage required | Higher CPU cost   | `off`\n",
    "Memory  |   `wal_buffers`  |   How much shared memory dedicated for WAL records |    Higher will allow more batching |   Higher can cause more latency of delay or more loss on async |   `-1`: auto, 1/32 of `shared_buffers` (actual data)\n",
    "Async Commit  |   `synchronous_commit`  |   Flush WAL records on every committed transaction?    |    1. Lower latency 2. Potential flush batching |   Potential data loss on server crash |   `off`\n",
    "WAL Writer  |   `wal_writer_delay`  |   How often the WAL writer flushes WAL, in time terms    |    Higher will have more potential  for WAL flush batching in async commits |   Higher will result in higher data loss risk window |   `200ms`\n",
    "WAL Writer  |   `wal_writer_flush_after`  |   How often the WAL writer flushes WAL, in size terms |   Higher will have more potential  for WAL flush batching in async commits |   Higher will result in higher data loss risk window |   `1MB`\n",
    "Commit Batching  |   `commit_delay`  |   Delay commits to try to batch WAL records flush of multiple concurrent transactions |   Less I/O |   Potential higher latency |   `0`\n",
    "Commit Batching  |   `commit_siblings`  |   Minimum number of concurrent transactions to perform `commit_delay` |   Higher will wait less |   Higher will batch less |   `5`\n",
    "Archiving  |   `archive_mode`  |   Archive WAL files? |   1. Can help in recovery from different points in time 2. Can be stored on different machine to ensure durability |   1. Complicates the system 2. Takes storage |   `off`\n",
    "Archiving  |   `archive_command`  |   What shell command to perform on WAL file switch, relevant if archive mode is on |   easy to use |   don't provide robust options |   `''`\n",
    "Archiving  |   `archive_library`  |   What library to use for archiving, relevant if archive mode is on |   1. robust 2. performant |   more complex to setup |   `''`\n",
    "Archiving  |   `archive_timeout`  |   Results in a WAL file switch to force archiving, helps when switch is very rare there is a risk of not archiving in time |   Lower will enforce archiving |   Lower can potentially cause too much WAL files switch and bloat archiving and WAL dir |   `''`\n"
   ]
  }
 ],
 "metadata": {
  "language_info": {
   "name": "python"
  }
 },
 "nbformat": 4,
 "nbformat_minor": 2
}
