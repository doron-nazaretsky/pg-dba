{
 "cells": [
  {
   "cell_type": "markdown",
   "metadata": {},
   "source": [
    "# Files Management"
   ]
  },
  {
   "cell_type": "markdown",
   "metadata": {},
   "source": [
    "WAL files management is a crucial procedure that is mostly automated but sometimes need to be configured and interfered with."
   ]
  },
  {
   "cell_type": "markdown",
   "metadata": {},
   "source": [
    "## Switch WAL File"
   ]
  },
  {
   "cell_type": "markdown",
   "metadata": {},
   "source": [
    "We already saw how to manually switch WAL file, there are flows that cause the switching:"
   ]
  },
  {
   "cell_type": "markdown",
   "metadata": {},
   "source": [
    "- WAL segment is filled up.\n",
    "- The function `pg_wal_switch` is called.\n",
    "- The `archive_mode` parameter is enabled and the `archive_timeout` parameter has expired."
   ]
  },
  {
   "cell_type": "markdown",
   "metadata": {},
   "source": [
    "## Creation, Deletion And Recycling Of Files"
   ]
  },
  {
   "cell_type": "markdown",
   "metadata": {},
   "source": [
    "### Recycle & Deletion"
   ]
  },
  {
   "cell_type": "markdown",
   "metadata": {},
   "source": [
    "On checkpoint:\n",
    "- Estimate the number of needed WAL files for the next CHECKPOINT period by checking the last needed file\\\n",
    "(also `min_wal_size` < files_num <  `max_wal_size`)\n",
    "- Recycle needed amount of WAL files\n",
    "- Remove what left (up to `wal_keep_size`)\n",
    "\n",
    "Illustration:\n",
    "\n",
    "<img src=\"./helpers/recycle-wal-files-checkpoint.png \" alt=\"drawing\" width=\"700\"/>"
   ]
  },
  {
   "cell_type": "markdown",
   "metadata": {},
   "source": [
    "### Creation"
   ]
  },
  {
   "cell_type": "markdown",
   "metadata": {},
   "source": [
    "Created when the existing WAL files are filled up"
   ]
  },
  {
   "cell_type": "markdown",
   "metadata": {},
   "source": [
    "## Archiving - Enables PITR Backup Strategy"
   ]
  },
  {
   "cell_type": "markdown",
   "metadata": {},
   "source": [
    "When Archiving is enabled (`archive_mode` - disabled by default) every time a WAL file is switched it declared as \"done\" and can be archived.\n",
    "\n",
    "The archiving process can be achieved with two approaches:\n",
    "- Shell\n",
    "- Library"
   ]
  },
  {
   "cell_type": "markdown",
   "metadata": {},
   "source": [
    "### Shell"
   ]
  },
  {
   "cell_type": "markdown",
   "metadata": {},
   "source": [
    "#### Usage"
   ]
  },
  {
   "cell_type": "markdown",
   "metadata": {},
   "source": [
    "Using shell commands that are invoked every time a WAL file is switched, for example:\n",
    "\n",
    "`archive_command` = '`'test ! -f /mnt/server/archivedir/%f && cp %p /mnt/server/archivedir/%f'`'\n",
    "\n",
    "- %p: Relative WAL file path + name\n",
    "- %f: WAL file name"
   ]
  },
  {
   "cell_type": "markdown",
   "metadata": {},
   "source": [
    "#### Exit Code"
   ]
  },
  {
   "cell_type": "markdown",
   "metadata": {},
   "source": [
    "It is important that the archive command return zero exit status if and only if it succeeds! Upon getting a zero result, PostgreSQL will assume that the file has been successfully archived, and will remove or recycle it. However, a nonzero status tells PostgreSQL that the file was not archived; it will try again periodically until it succeeds."
   ]
  },
  {
   "cell_type": "markdown",
   "metadata": {},
   "source": [
    "#### Don't Overwrite"
   ]
  },
  {
   "cell_type": "markdown",
   "metadata": {},
   "source": [
    "Archiving should be designed to refuse overwriting pre-existing files to avoid corrupting an existing WAL archive of a different server\n",
    "\n",
    "In rare cases the same WAL file can be a subject to archiving twice due to a server crash, if the new and pre-existing WAL files are identical in content, you can return a zero exit status code"
   ]
  },
  {
   "cell_type": "markdown",
   "metadata": {},
   "source": [
    "#### When Problems Occur"
   ]
  },
  {
   "cell_type": "markdown",
   "metadata": {},
   "source": [
    "- Make sure errors are propagated somehow to the DBA\n",
    "- Delays in archiving are often not a problem, but make sure the wal directory doesn't bloat\n",
    "- If an archiving strategy is not working, you can work on a solution and meanwhile change a strategy, most probably using shell instead of a library for a small period of time. This can be achieved without downtime with configuration change and server reload."
   ]
  },
  {
   "cell_type": "markdown",
   "metadata": {},
   "source": [
    "### Library"
   ]
  },
  {
   "cell_type": "markdown",
   "metadata": {},
   "source": [
    "Implement more complex logic for archiving with custom code and implementation of the necessary callbacks\n",
    "\n",
    "Use: "
   ]
  },
  {
   "cell_type": "markdown",
   "metadata": {},
   "source": [
    "####  Cleanup"
   ]
  },
  {
   "cell_type": "markdown",
   "metadata": {},
   "source": [
    "The cleanup of an archive is not done automatically you should cleanup by yourself using the shell or `pg_archivecleanup`\n",
    "\n",
    "It can be scheduled by: `archive_cleanup_command` that invokes the specified command on restart points\n",
    "\n",
    "Archive libraries can implement their own cleanup strategies using callbacks and background processes"
   ]
  },
  {
   "cell_type": "markdown",
   "metadata": {},
   "source": [
    "### Live Demo"
   ]
  },
  {
   "cell_type": "markdown",
   "metadata": {},
   "source": [
    "1. Find configuration file `postgresql.conf`\n",
    "1. Create custom directory for archives (change owner)\n",
    "1. Change `archive_mode` and `archive_command`\n",
    "1. Start (if it was shutdown) / Restart server\n",
    "1. Insert some rows to enforce new WAL file\n",
    "1. Check the archive directory to see if it's done\n",
    "1. Check out the archive statistics on `pg_catalog.pg_stat_archiver`"
   ]
  }
 ],
 "metadata": {
  "language_info": {
   "name": "python"
  }
 },
 "nbformat": 4,
 "nbformat_minor": 2
}
