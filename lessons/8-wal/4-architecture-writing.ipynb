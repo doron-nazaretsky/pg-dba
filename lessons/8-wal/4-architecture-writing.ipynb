{
 "cells": [
  {
   "cell_type": "markdown",
   "metadata": {},
   "source": [
    "# WAL Writing"
   ]
  },
  {
   "cell_type": "markdown",
   "metadata": {},
   "source": [
    "## When To Flush"
   ]
  },
  {
   "cell_type": "markdown",
   "metadata": {},
   "source": [
    "- One running transaction has committed or aborted\n",
    "- The WAL buffer has been filled up with tuples (The WAL buffer size is set to the parameter `wal_buffers`)\n",
    "- A WAL writer process writes periodically\n",
    "\n",
    "If any of the above occurs, all WAL records on the WAL buffer are written into a WAL segment file regardless of whether their transactions have been committed or not!\n"
   ]
  },
  {
   "cell_type": "markdown",
   "metadata": {},
   "source": [
    "## WAL Writer"
   ]
  },
  {
   "cell_type": "markdown",
   "metadata": {},
   "source": [
    "Flushes WAL records from WAL buffer to disk by:\n",
    "- Size (`wal_writer_flush_after` - default is `1MB`)\n",
    "- Time (`wal_writer_delay` - default is `200ms`)"
   ]
  },
  {
   "cell_type": "markdown",
   "metadata": {},
   "source": [
    "## Batching WAL Writes"
   ]
  },
  {
   "cell_type": "markdown",
   "metadata": {},
   "source": [
    "- Async commits (`synchronous_commit=off`, discussed in detail below)\n",
    "- Commit delay (`commit_delay` & `commit_siblings`) - wait for other active transactions to create ready to flush WAL buffers which results in potential latency but less I/O"
   ]
  },
  {
   "cell_type": "markdown",
   "metadata": {},
   "source": [
    "### Async Commits"
   ]
  },
  {
   "cell_type": "markdown",
   "metadata": {},
   "source": [
    "**Idea:** don't wait for WAL records flush to disk to return a transaction success to a client. \n",
    "\n",
    "Basically remove the commit / rollback of a transaction as a trigger to WAL disk flush.\n",
    "\n",
    "Configuration: `synchronous_commit`"
   ]
  },
  {
   "cell_type": "markdown",
   "metadata": {},
   "source": [
    "```{note}\n",
    "On replications there are several options too, discussed in detail on replication module.\n",
    "```"
   ]
  },
  {
   "cell_type": "markdown",
   "metadata": {},
   "source": [
    "Advantages:\n",
    "- Can be turned on/off on a transaction level\n",
    "- Lower latency for transactions\n",
    "- Potential batching of WAL records flush to disk\n",
    "\n",
    "Disadvantages:\n",
    "- Potential risk window of `wal_writer_delay * 3` (because the WAL Writer tries internally to fill up a full page of WAL records) of transactions to be lost on DB crash"
   ]
  },
  {
   "cell_type": "markdown",
   "metadata": {},
   "source": [
    "```{note}\n",
    "Async commits are not creating a corruption risk! Since logical commits are flushed sequentially and atomically, only the unwritten transactions are at risk\n",
    "```"
   ]
  },
  {
   "cell_type": "markdown",
   "metadata": {},
   "source": [
    "```{note}\n",
    "If the application that uses the DB is counting on fully sync consistency, for example for a multi-db transaction, it should use a sync commit \n",
    "```"
   ]
  },
  {
   "cell_type": "markdown",
   "metadata": {},
   "source": [
    "#### Recovery Process With WAL"
   ]
  },
  {
   "cell_type": "markdown",
   "metadata": {},
   "source": [
    "<img src=\"./helpers/WAL - Recovery.png\" alt=\"drawing\" width=\"900\"/>"
   ]
  }
 ],
 "metadata": {
  "language_info": {
   "name": "python"
  }
 },
 "nbformat": 4,
 "nbformat_minor": 2
}
