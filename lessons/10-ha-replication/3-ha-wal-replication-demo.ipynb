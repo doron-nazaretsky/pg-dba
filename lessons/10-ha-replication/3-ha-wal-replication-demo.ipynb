{
 "cells": [
  {
   "cell_type": "markdown",
   "metadata": {},
   "source": [
    "## Pre Requisites"
   ]
  },
  {
   "cell_type": "markdown",
   "metadata": {},
   "source": [
    "- 5 RHEL version 8 machines"
   ]
  },
  {
   "cell_type": "markdown",
   "metadata": {},
   "source": [
    "## Setup High Availability"
   ]
  },
  {
   "cell_type": "markdown",
   "metadata": {},
   "source": [
    "### Configure IP Resolution (on prem)"
   ]
  },
  {
   "cell_type": "markdown",
   "metadata": {},
   "source": [
    "This should be done in a plain on-prem environment because in most of other modern environments like Docker Compose, Cloud, K8S, etc... the machines have a DNS-like resolution built in.\n",
    "\n",
    "Put `IP Name` key values in /etc/hosts.\n",
    "\n",
    "For Example:"
   ]
  },
  {
   "cell_type": "code",
   "execution_count": null,
   "metadata": {
    "vscode": {
     "languageId": "bash"
    }
   },
   "outputs": [],
   "source": [
    "printf '10.252.55.129  node1\n",
    "10.252.54.125  node2\n",
    "10.252.54.87   node3\n",
    "10.252.54.174  node4\n",
    "10.252.54.81   haproxy\n",
    "' >> /etc/hosts"
   ]
  },
  {
   "cell_type": "markdown",
   "metadata": {},
   "source": [
    "### Install PostgreSQL Server Software"
   ]
  }
 ],
 "metadata": {
  "language_info": {
   "name": "python"
  }
 },
 "nbformat": 4,
 "nbformat_minor": 2
}
