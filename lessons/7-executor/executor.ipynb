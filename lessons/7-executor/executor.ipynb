{
 "cells": [
  {
   "cell_type": "markdown",
   "metadata": {},
   "source": [
    "### General"
   ]
  },
  {
   "cell_type": "markdown",
   "metadata": {},
   "source": [
    "- Every plan node has a matching executing function\n",
    "- When the work_mem and temp_buffers limits are exceeded for in-memory computations, the executor spills data to temp files on disk (expensive operation, hello to all spark people)\n",
    "- Explain Analyze can show information about execution\n",
    "- The executor takes the plan nodes in an order from the end of the plan tree to the root and then invokes the functions."
   ]
  }
 ],
 "metadata": {
  "language_info": {
   "name": "python"
  }
 },
 "nbformat": 4,
 "nbformat_minor": 2
}
