{
 "cells": [
  {
   "cell_type": "markdown",
   "metadata": {},
   "source": [
    "# Terminology"
   ]
  },
  {
   "cell_type": "markdown",
   "metadata": {},
   "source": [
    "- History / Schedule - order of execution for a set of transactions\n",
    "- Tn - resembles a specific transaction place in a history\n",
    "- R(x) - `read` operation on object `x`\n",
    "- W(x) - `write` operation on object `x`\n",
    "- Com. - commit transaction\n",
    "- Abort - abort transaction"
   ]
  },
  {
   "cell_type": "markdown",
   "metadata": {},
   "source": [
    "# Problem"
   ]
  },
  {
   "cell_type": "markdown",
   "metadata": {},
   "source": [
    "## Idea"
   ]
  },
  {
   "cell_type": "markdown",
   "metadata": {},
   "source": [
    "When concurrent transaction are executed in the same time, naturally *isolation* and *consistency* is hard to achieve."
   ]
  },
  {
   "cell_type": "markdown",
   "metadata": {},
   "source": [
    "## Serial Example"
   ]
  },
  {
   "cell_type": "markdown",
   "metadata": {},
   "source": [
    "T1\t        |   T2  \n",
    "--          |   --  \n",
    "R(X)        |       \n",
    "W(X)        |       \n",
    "Com.        |       \n",
    "&#xfeff;    |   R(Y)\n",
    "&#xfeff;    |   W(Y)\n",
    "&#xfeff;    |   Com."
   ]
  },
  {
   "cell_type": "markdown",
   "metadata": {},
   "source": [
    "## Concurrent Example"
   ]
  },
  {
   "cell_type": "markdown",
   "metadata": {},
   "source": [
    "Think what can go wrong here in terms of consistency and isolation"
   ]
  },
  {
   "cell_type": "markdown",
   "metadata": {},
   "source": [
    "T1\t        |   T2  \n",
    "--          |   --  \n",
    "R(X)        |       \n",
    "&#xfeff;    |   R(X)\n",
    "&#xfeff;    |   W(X)\n",
    "W(X)        |       \n",
    "&#xfeff;    |   Com.\n",
    "Com.        |       "
   ]
  },
  {
   "cell_type": "markdown",
   "metadata": {},
   "source": [
    "# Solution"
   ]
  },
  {
   "cell_type": "markdown",
   "metadata": {},
   "source": [
    "## ANSI SQL Standard"
   ]
  },
  {
   "cell_type": "markdown",
   "metadata": {},
   "source": [
    "ANSI described some isolation levels that have to be implemented to deal with concurrency.\n",
    "\n",
    "They are based on the different *Read Phenomenons* that they allow in terms of concurrent transactions."
   ]
  },
  {
   "cell_type": "markdown",
   "metadata": {},
   "source": [
    "### Read Phenomenons"
   ]
  },
  {
   "cell_type": "markdown",
   "metadata": {},
   "source": [
    "#### Dirty Read"
   ]
  },
  {
   "cell_type": "markdown",
   "metadata": {},
   "source": [
    "**See uncommitted changes**\n",
    "\n",
    "Occurs when a transaction retrieves a row that has been updated by another transaction that is not yet committed."
   ]
  },
  {
   "cell_type": "markdown",
   "metadata": {},
   "source": [
    "<img src=\"./helpers/dirty-read.png\" alt=\"drawing\" width=\"900\"/>"
   ]
  },
  {
   "cell_type": "markdown",
   "metadata": {},
   "source": [
    "#### Non-Repeatable Read"
   ]
  },
  {
   "cell_type": "markdown",
   "metadata": {},
   "source": [
    "**See committed changes on row between two queries**\n",
    "\n",
    "Occurs when a transaction retrieves a row twice and that row is updated by another transaction that is committed in between"
   ]
  },
  {
   "cell_type": "markdown",
   "metadata": {},
   "source": [
    "<img src=\"./helpers/non-repeatable-read.png\" alt=\"drawing\" width=\"900\"/>"
   ]
  },
  {
   "cell_type": "markdown",
   "metadata": {},
   "source": [
    "#### Phantom Read"
   ]
  },
  {
   "cell_type": "markdown",
   "metadata": {},
   "source": [
    "**See committed changes on result set between two queries**\n",
    "\n",
    "Occurs when a transaction retrieves a set of rows twice and new rows are inserted into or removed from that set by another transaction that is committed in between"
   ]
  },
  {
   "cell_type": "markdown",
   "metadata": {},
   "source": [
    "<img src=\"./helpers/phantom-read.png\" alt=\"drawing\" width=\"900\"/>"
   ]
  },
  {
   "cell_type": "markdown",
   "metadata": {},
   "source": [
    "### Isolation Levels"
   ]
  },
  {
   "cell_type": "markdown",
   "metadata": {},
   "source": [
    "Isolation Level\t| Dirty Read  |\tNonrepeatable Read  |\tPhantom Read    |\tSerialization Anomaly\n",
    "---------       | -------     | -------             |   ---------       |   -------\n",
    "Read uncommitted    |\tAllowed, but not in PG  |\tPossible    |\tPossible    |\tPossible\n",
    "Read committed  |\tNot possible    |\tPossible    |\tPossible    |\tPossible\n",
    "Repeatable read |\tNot possible    |\tNot possible    |\tAllowed, but not in PG  |\tPossible\n",
    "Serializable    |\tNot possible    |\tNot possible    |\tNot possible    |   Not possible"
   ]
  },
  {
   "cell_type": "markdown",
   "metadata": {},
   "source": [
    "In PostgreSQL:\n",
    "- **Read Uncommitted** mode behaves like **Read Committed** and it's the *default*!\n",
    "- **Repeatable Read** mode behaves like **Serializable** except Snapshot Isolation anomalies."
   ]
  },
  {
   "cell_type": "markdown",
   "metadata": {},
   "source": [
    "## Integrity Rules"
   ]
  },
  {
   "cell_type": "markdown",
   "metadata": {},
   "source": [
    "Integrity rules are abstract properties of a transaction system that provide the building blocks of the isolation level solution"
   ]
  },
  {
   "cell_type": "markdown",
   "metadata": {},
   "source": [
    "### Serializable"
   ]
  },
  {
   "cell_type": "markdown",
   "metadata": {},
   "source": [
    "#### Definition"
   ]
  },
  {
   "cell_type": "markdown",
   "metadata": {},
   "source": [
    "A schedule is serializable if it is equivalent in its outcome to a serial schedule."
   ]
  },
  {
   "cell_type": "markdown",
   "metadata": {},
   "source": [
    "#### Idea"
   ]
  },
  {
   "cell_type": "markdown",
   "metadata": {},
   "source": [
    "The order of dependent **operations** should persist."
   ]
  },
  {
   "cell_type": "markdown",
   "metadata": {},
   "source": [
    "#### Example"
   ]
  },
  {
   "cell_type": "markdown",
   "metadata": {},
   "source": [
    "T1\t        |   T2  \n",
    "--          |   --  \n",
    "R(X)        |       \n",
    "W(X)        |       \n",
    "&#xfeff;    |   R(Y)\n",
    "&#xfeff;    |   W(Y)\n",
    "&#xfeff;    |   Com.\n",
    "Com.        |       "
   ]
  },
  {
   "cell_type": "markdown",
   "metadata": {},
   "source": [
    "### Recoverable"
   ]
  },
  {
   "cell_type": "markdown",
   "metadata": {},
   "source": [
    "#### Definition"
   ]
  },
  {
   "cell_type": "markdown",
   "metadata": {},
   "source": [
    "A schedule is recoverable if transactions only commit after all transactions whose changes they read have committed.\n"
   ]
  },
  {
   "cell_type": "markdown",
   "metadata": {},
   "source": [
    "#### Idea"
   ]
  },
  {
   "cell_type": "markdown",
   "metadata": {},
   "source": [
    "A rollback is affecting all dependent transactions."
   ]
  },
  {
   "cell_type": "markdown",
   "metadata": {},
   "source": [
    "#### Example"
   ]
  },
  {
   "cell_type": "markdown",
   "metadata": {},
   "source": [
    "T1\t        |   T2  \n",
    "--          |   --  \n",
    "&#xfeff;    |   W(X)       \n",
    "W(Y)        |   \n",
    "W(X)        |   \n",
    "&#xfeff;    |   R(Y)\n",
    "Com.        |       \n",
    "&#xfeff;    |   Com."
   ]
  },
  {
   "cell_type": "markdown",
   "metadata": {},
   "source": [
    "## Concurrency Control Solution Categories"
   ]
  },
  {
   "cell_type": "markdown",
   "metadata": {},
   "source": [
    "- Optimistic - No locks, only check for violations of the integrity rules at each transaction's commit. If violations are detected upon a transaction's commit, the transaction is aborted and restarted. This approach is very efficient when few transactions are aborted.\n",
    "- Pessimistic - Use locks, block an operation of a transaction, if it may cause violation of the rules, until the possibility of violation disappears. Blocking operations is typically involved with performance reduction.\n",
    "- Semi-optimistic - Responds pessimistically or optimistically depending on the type of violation and how quickly it can be detected."
   ]
  },
  {
   "cell_type": "markdown",
   "metadata": {},
   "source": [
    "## MVCC"
   ]
  },
  {
   "cell_type": "markdown",
   "metadata": {},
   "source": [
    "### Definition"
   ]
  },
  {
   "cell_type": "markdown",
   "metadata": {},
   "source": [
    "Multi Version Concurrency Control (MVCC) - is mostly an optimistic concurrency control method that reduces the possible conflicts by creating multiple versions of database objects.\n",
    "\n",
    "*Although locks are used in MVCC, read locks are not blocking write locks!*"
   ]
  },
  {
   "cell_type": "markdown",
   "metadata": {},
   "source": [
    "### Snapshot Isolation - MVCC Implementation"
   ]
  },
  {
   "cell_type": "markdown",
   "metadata": {},
   "source": [
    "Queries are viewing a specific point in time snapshot of the database in a consistent state that doesn't change during the query execution."
   ]
  }
 ],
 "metadata": {
  "language_info": {
   "name": "python"
  }
 },
 "nbformat": 4,
 "nbformat_minor": 2
}
