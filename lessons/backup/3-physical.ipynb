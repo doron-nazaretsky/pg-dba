{
 "cells": [
  {
   "cell_type": "markdown",
   "metadata": {},
   "source": [
    "## Idea"
   ]
  },
  {
   "cell_type": "markdown",
   "metadata": {},
   "source": [
    "Copy the cluster files to another location"
   ]
  },
  {
   "cell_type": "markdown",
   "metadata": {},
   "source": [
    "## Problems"
   ]
  },
  {
   "cell_type": "markdown",
   "metadata": {},
   "source": [
    "### Inconsistency"
   ]
  },
  {
   "cell_type": "markdown",
   "metadata": {},
   "source": [
    "1. Since a filesystem copy / tar operation is not atomic, all transactions should be terminated to perform the backup\n",
    "1. Since part of the data is stored in the shared memory and not on disk the server must be shut down to ensure the files are in consistent state\n",
    "1. You could work around shutting down the server with frozen snapshot by the filesystem, but that will still result with a backup of a \"crashed\" DB since transactions are potentially still inconsistent in a current state.\n",
    "1. If the data is stored across multiple file systems there is no way to control all of them in an atomic matter"
   ]
  },
  {
   "cell_type": "markdown",
   "metadata": {},
   "source": [
    "### Can't backup individual objects"
   ]
  },
  {
   "cell_type": "markdown",
   "metadata": {},
   "source": [
    "1. The table fork is only usable with the appropriate WAL records\n",
    "1. The WAL records in a WAL file are mixed between different objects and DBs so you can't differentiate between WAL records of an individual object "
   ]
  },
  {
   "cell_type": "markdown",
   "metadata": {},
   "source": [
    "### Size"
   ]
  },
  {
   "cell_type": "markdown",
   "metadata": {},
   "source": [
    "Can be very large due to the need to store all data altogether even if some of it can be recovered from another part - redundancy"
   ]
  },
  {
   "cell_type": "markdown",
   "metadata": {},
   "source": [
    "## Advantages"
   ]
  },
  {
   "cell_type": "markdown",
   "metadata": {},
   "source": [
    "Fast to create and fast to recover"
   ]
  },
  {
   "cell_type": "markdown",
   "metadata": {},
   "source": [
    "## Demo"
   ]
  },
  {
   "cell_type": "code",
   "execution_count": null,
   "metadata": {
    "vscode": {
     "languageId": "bash"
    }
   },
   "outputs": [],
   "source": [
    "# Stop instance \n",
    "su postgres -c \"pg_ctl stop\""
   ]
  },
  {
   "cell_type": "code",
   "execution_count": null,
   "metadata": {
    "vscode": {
     "languageId": "bash"
    }
   },
   "outputs": [],
   "source": [
    "# Create backup\n",
    "tar -cf /some/new/backup.tar $PGDATA\n",
    "\n",
    "# That easy..."
   ]
  }
 ],
 "metadata": {
  "language_info": {
   "name": "python"
  }
 },
 "nbformat": 4,
 "nbformat_minor": 2
}
