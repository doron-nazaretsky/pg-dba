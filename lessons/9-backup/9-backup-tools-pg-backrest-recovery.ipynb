{
 "cells": [
  {
   "cell_type": "markdown",
   "metadata": {},
   "source": [
    "# Recovery"
   ]
  },
  {
   "cell_type": "markdown",
   "metadata": {},
   "source": [
    "Now to use the backups we made earlier let's simulate a recovery scenario."
   ]
  },
  {
   "cell_type": "markdown",
   "metadata": {},
   "source": [
    "## Regular"
   ]
  },
  {
   "cell_type": "markdown",
   "metadata": {},
   "source": [
    "Our use case is: \n",
    "\n",
    "The`pg_control` file which contains crucial information about last REDO point (discussed in detail in WAL lesson) is removed.\n",
    "\n",
    "The db can't start without it!\n",
    "\n",
    "Let's save it with a recover."
   ]
  },
  {
   "cell_type": "markdown",
   "metadata": {},
   "source": [
    "```BASH\n",
    "# Stop and remove file\n",
    "pg_ctlcluster 16 demo stop\n",
    "su postgres -c \"rm /var/lib/postgresql/16/demo/global/pg_control\"\n",
    "# Try to start again\n",
    "pg_ctlcluster 16 demo start\n",
    "tail -n 20 /var/log/postgresql/postgresql-16-demo.log\n",
    "# Damm...\n",
    "```"
   ]
  },
  {
   "cell_type": "markdown",
   "metadata": {},
   "source": [
    "```BASH\n",
    "# Let's recover\n",
    "# First, remove all db files\n",
    "su postgres -c \"find /var/lib/postgresql/16/demo -mindepth 1 -delete\"\n",
    "ls /var/lib/postgresql/16/demo/ # Nothing\n",
    "# Now let's restore\n",
    "su postgres -c \"pgbackrest --stanza=demo restore\"\n",
    "ls /var/lib/postgresql/16/demo/ # It's all here!\n",
    "pg_ctlcluster 16 demo start # All good just do recovery startup based on pg_wal\n",
    "tail -n 20 /var/log/postgresql/postgresql-16-demo.log\n",
    "```"
   ]
  },
  {
   "cell_type": "markdown",
   "metadata": {},
   "source": [
    "## Delta Recovery"
   ]
  },
  {
   "cell_type": "markdown",
   "metadata": {},
   "source": [
    "Configuration:\n",
    "`delta=y` Config File\n",
    "`--delta` Run Time"
   ]
  },
  {
   "cell_type": "markdown",
   "metadata": {},
   "source": [
    "It's possible and strongly advised to avoid deleting all the files for DB restore phase. With this option, files are checked via hash function check equality to backup and equal files are skipped."
   ]
  },
  {
   "cell_type": "markdown",
   "metadata": {},
   "source": [
    "## Selected DBs"
   ]
  },
  {
   "cell_type": "markdown",
   "metadata": {},
   "source": [
    "Recover only selected DBs instead of all\n",
    "\n",
    "Use Cases:\n",
    "- Recover a specific DB in a different machine\n",
    "- Performance - incremental recovery"
   ]
  },
  {
   "cell_type": "markdown",
   "metadata": {},
   "source": [
    "## Particular point in time"
   ]
  },
  {
   "cell_type": "markdown",
   "metadata": {},
   "source": [
    "Let's demonstrate a common PITR scenario -> redo a human error like drop important table"
   ]
  },
  {
   "cell_type": "markdown",
   "metadata": {},
   "source": [
    "```BASH\n",
    "# Log MOD (DLL + Modifications) statements to be able to determine when the DROP happened\n",
    "su postgres\n",
    "sed -i \"s/#*log_statement.*/log_statement = 'mod'/\" $DB_CONF_FILE\n",
    "pg_ctlcluster 16 demo reload\n",
    "```"
   ]
  },
  {
   "cell_type": "markdown",
   "metadata": {},
   "source": [
    "```BASH\n",
    "# Create table\n",
    "pg_ctlcluster -D 16 demo reload\n",
    "psql << EOM\n",
    "    SET log_statement\n",
    "    BEGIN; \n",
    "    DROP TABLE IF EXISTS important_table;\n",
    "    CREATE TABLE important_table (message TEXT); \n",
    "    INSERT INTO important_table VALUES ('Important Data'); \n",
    "    COMMIT; \n",
    "    SELECT * FROM important_table;\n",
    "EOM\n",
    "```"
   ]
  },
  {
   "cell_type": "markdown",
   "metadata": {},
   "source": [
    "```BASH\n",
    "# Drop table\n",
    "psql -c \"DROP TABLE important_table;\"\n",
    "psql -c \"SELECT * FROM important_table;\" # error!\n",
    "```"
   ]
  },
  {
   "cell_type": "markdown",
   "metadata": {},
   "source": [
    "```BASH\n",
    "# Recovery\n",
    "## Find time of query\n",
    "DROP_QUERY_TS=$(grep \"DROP TABLE important_table;\" /var/log/postgresql/postgresql-16-demo.log | tail -1 | cut -d\" \" -f1,2)\n",
    "echo \"Drop query ts is: $DROP_QUERY_TS\"\n",
    "RECOVERY_TS=$(date -d \"$(date -d \"$DROP_QUERY_TS\") - 2 seconds\" +\"%Y-%m-%d %H:%M:%S\")\n",
    "echo \"Recovery ts, right before drop happened is: $RECOVERY_TS\"\n",
    "\n",
    "## Stop Server\n",
    "pg_ctlcluster 16 demo stop\n",
    "\n",
    "## Restore until timestamp\n",
    "pgbackrest --stanza=demo --delta \\\n",
    "    --type=time \"--target=$RECOVERY_TS\" \\\n",
    "    --target-action=promote \\\n",
    "    --log-level-console=info restore\n",
    "# Type - time / lsn\n",
    "# Target Action\n",
    "\n",
    "## Start server\n",
    "pg_ctlcluster 16 demo start\n",
    "psql -c \"SELECT * FROM important_table;\" # We are saved!\n",
    "\n",
    "## Checkout server log\n",
    "cat /var/log/postgresql/postgresql-16-demo.log\n",
    "```"
   ]
  }
 ],
 "metadata": {
  "language_info": {
   "name": "python"
  }
 },
 "nbformat": 4,
 "nbformat_minor": 2
}
