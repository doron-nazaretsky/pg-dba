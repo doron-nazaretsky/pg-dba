{
 "cells": [
  {
   "cell_type": "markdown",
   "metadata": {},
   "source": [
    "## General"
   ]
  },
  {
   "cell_type": "markdown",
   "metadata": {},
   "source": [
    "Backup categories:\n",
    "- Logical - SQL Statements that can bring a DB to a wanted state\n",
    "- Physical - (also called Base Backup) - backup the actual data on disk (almost impractical)\n",
    "- PITR (Point in time recovery) - also called online backup, a mix of Physical with continuous WAL archiving"
   ]
  }
 ],
 "metadata": {
  "language_info": {
   "name": "python"
  }
 },
 "nbformat": 4,
 "nbformat_minor": 2
}
