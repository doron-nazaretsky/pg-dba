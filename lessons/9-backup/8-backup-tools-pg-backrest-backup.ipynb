{
 "cells": [
  {
   "cell_type": "markdown",
   "metadata": {},
   "source": [
    "# Backup"
   ]
  },
  {
   "cell_type": "markdown",
   "metadata": {},
   "source": [
    "It's time to actually do the backups!"
   ]
  },
  {
   "cell_type": "markdown",
   "metadata": {},
   "source": [
    "## Types Of Backups"
   ]
  },
  {
   "cell_type": "markdown",
   "metadata": {},
   "source": [
    "### Full Backup"
   ]
  },
  {
   "cell_type": "markdown",
   "metadata": {},
   "source": [
    "- A complete backup of the entire PostgreSQL cluster.\n",
    "- Includes all database files, configuration files, and WAL (Write-Ahead Logging) files.\n",
    "- Serves as the base for all other backup types and is the largest in size and takes the most time to complete."
   ]
  },
  {
   "cell_type": "markdown",
   "metadata": {},
   "source": [
    "### Differential Backup"
   ]
  },
  {
   "cell_type": "markdown",
   "metadata": {},
   "source": [
    "- A backup of all the changes made since the last full backup.\n",
    "- Smaller and faster than a full backup but larger and slower than an incremental backup.\n",
    "- Requires a preceding full backup to be useful for recovery."
   ]
  },
  {
   "cell_type": "markdown",
   "metadata": {},
   "source": [
    "### Incremental Backup"
   ]
  },
  {
   "cell_type": "markdown",
   "metadata": {},
   "source": [
    "- A backup of all the changes made since the last full, differential, or incremental backup.\n",
    "- Smallest and fastest but requires all previous backups chain back to the `full` one for a complete recovery.\n",
    "- Also known as a \"delta\" backup."
   ]
  },
  {
   "cell_type": "markdown",
   "metadata": {},
   "source": [
    "## Perform Backups"
   ]
  },
  {
   "cell_type": "markdown",
   "metadata": {},
   "source": [
    "By default pgBachRest tries to perform an incremental backup, but since there is no full backup yet it falls back to full backup\n",
    "\n",
    "You can change the backup type by passing `--type=` option to backup command"
   ]
  },
  {
   "cell_type": "markdown",
   "metadata": {},
   "source": [
    "```BASH\n",
    "# Full Backup\n",
    "su postgres -c \"pgbackrest --stanza=demo --log-level-console=info --type=full backup\"\n",
    "```"
   ]
  },
  {
   "cell_type": "markdown",
   "metadata": {},
   "source": [
    "```BASH\n",
    "# Incremental Backup uses only full backup\n",
    "su postgres -c \"pgbackrest --stanza=demo --log-level-console=info --type=incr backup\"\n",
    "# This takes the default amount of size + new data\n",
    "su postgres -c \"psql -c 'select * into some_table from generate_series(1,100000)'\"\n",
    "su postgres -c \"pgbackrest --stanza=demo --log-level-console=info --type=incr backup\"\n",
    "```"
   ]
  },
  {
   "cell_type": "markdown",
   "metadata": {},
   "source": [
    "```BASH\n",
    "# Diff Backup can only use full backup so uses the same one\n",
    "su postgres -c \"pgbackrest --stanza=demo --log-level-console=info --type=diff backup\"\n",
    "```"
   ]
  },
  {
   "cell_type": "markdown",
   "metadata": {},
   "source": [
    "```BASH\n",
    "# Incremental uses the diff backup\n",
    "su postgres -c \"pgbackrest --stanza=demo --log-level-console=info --type=incr backup\"\n",
    "```"
   ]
  },
  {
   "cell_type": "markdown",
   "metadata": {},
   "source": [
    "## Information About Backups"
   ]
  },
  {
   "cell_type": "markdown",
   "metadata": {},
   "source": [
    "```BASH\n",
    "su postgres -c \"pgbackrest info\"\n",
    "```"
   ]
  },
  {
   "cell_type": "markdown",
   "metadata": {},
   "source": [
    "- WAL archive min/max - archived WALs range\n",
    "- Type of backup\n",
    "- When performed\n",
    "- Sizes:\n",
    "    - db size - actual DB size\n",
    "    - db backup size - size of data to backup\n",
    "    - backup size - this backup size\n",
    "    - set backup size - the amount of data to perform a valid backup (in incremental is calculated recursively)\n",
    "- Backup reference list - dependencies"
   ]
  },
  {
   "cell_type": "markdown",
   "metadata": {},
   "source": [
    "## Schedule Backups"
   ]
  },
  {
   "cell_type": "markdown",
   "metadata": {},
   "source": [
    "We can schedule backups by using the widely used `cron` linux scheduler."
   ]
  },
  {
   "cell_type": "markdown",
   "metadata": {},
   "source": [
    "```BASH\n",
    "# Add weekly full backup on sundays\n",
    "su postgres\n",
    "(crontab -l; echo \"0 0 * * 0 pgbackrest --stanza=demo --type=full backup\") | awk '!x[$0]++' | crontab -\n",
    "# Add weekly diff backup on wendsdays\n",
    "(crontab -l; echo \"0 0 * * 3 pgbackrest --stanza=demo --type=diff backup\") | awk '!x[$0]++' | crontab -\n",
    "# Add daily incremental backup\n",
    "(crontab -l; echo \"0 0 * * 1-2,4-6 pgbackrest --stanza=demo --type=incr backup\") | awk '!x[$0]++' | crontab -\n",
    "exit\n",
    "```"
   ]
  },
  {
   "cell_type": "markdown",
   "metadata": {},
   "source": [
    "### Optimizations"
   ]
  },
  {
   "cell_type": "markdown",
   "metadata": {},
   "source": [
    "#### File Bundling"
   ]
  },
  {
   "cell_type": "markdown",
   "metadata": {},
   "source": [
    "**Configuration**:\n",
    "- Name: `repo-bundle`\n",
    "- Default: `n`\n",
    "- Allowed: `n / y`"
   ]
  },
  {
   "cell_type": "markdown",
   "metadata": {},
   "source": [
    "Postgres file centric approach (for example fork per relation) is demanding a lot of DB files on disk. For Postgres it's easier to manage this way but for a backup it's an unnecessary overhead that costs disk space and performance issues on file object stores like cloud object storage (AWS S3, Azure BLOBs, ...)\n",
    "\n",
    "To avoid that, pgBackRest can bundle the file contents to a summarized file and keep a manifest file to restore it correctly."
   ]
  },
  {
   "cell_type": "markdown",
   "metadata": {},
   "source": [
    "Advantages:\n",
    "- Less files\n",
    "- Less storage consume\n",
    "- Quicker copy on backup especially with object stores\n",
    "- Empty files are not copied, just logged in manifest"
   ]
  },
  {
   "cell_type": "markdown",
   "metadata": {},
   "source": [
    "Disadvantages\n",
    "- Can't stop and resume\n",
    "- Can't take a single file from backup"
   ]
  },
  {
   "cell_type": "markdown",
   "metadata": {},
   "source": [
    "#### Block Incremental"
   ]
  },
  {
   "cell_type": "markdown",
   "metadata": {},
   "source": [
    "**Configuration**:\n",
    "- Name: `repo-block`\n",
    "- Default: `n`\n",
    "- Allowed: `n / y`"
   ]
  },
  {
   "cell_type": "markdown",
   "metadata": {},
   "source": [
    "You can allow incremental backup even on file level - only the delta between backed up file and the current state is stored.\n",
    "\n",
    "**Note**: This option is dependent on `repo-bundle` option"
   ]
  },
  {
   "cell_type": "markdown",
   "metadata": {},
   "source": [
    "#### Parallel Backup / Recovery"
   ]
  },
  {
   "cell_type": "markdown",
   "metadata": {},
   "source": [
    "**Configuration**:\n",
    "- Name:`process-max`\n",
    "- Default: `1`\n",
    "- Allowed: `1-999`"
   ]
  },
  {
   "cell_type": "markdown",
   "metadata": {},
   "source": [
    "Use multiple processes to compress and transfer backup on `backup` or `restore`\n",
    "\n",
    "On `backup` should not use too much processes since the DB needs the CPU resources as well\n",
    "\n",
    "On `restore` you can potentially utilize most of the server resources because there is no competition and time is key for low downtime"
   ]
  },
  {
   "cell_type": "markdown",
   "metadata": {},
   "source": [
    "### Recovery"
   ]
  },
  {
   "cell_type": "markdown",
   "metadata": {},
   "source": [
    "#### Regular"
   ]
  },
  {
   "cell_type": "markdown",
   "metadata": {},
   "source": [
    "Let's see a use case where `pg_control` file which contains crucial information about last REDO point (discussed in detail in WAL lesson) is removed\n",
    "\n",
    "The db can't start without it!\n",
    "\n",
    "Let's save it with a recover"
   ]
  },
  {
   "cell_type": "code",
   "execution_count": null,
   "metadata": {
    "vscode": {
     "languageId": "bash"
    }
   },
   "outputs": [],
   "source": [
    "# Stop and remove file\n",
    "pg_ctlcluster 16 demo stop\n",
    "su postgres -c \"rm /var/lib/postgresql/16/demo/global/pg_control\"\n",
    "# Try to start again\n",
    "pg_ctlcluster 16 demo start\n",
    "tail -n 20 /var/log/postgresql/postgresql-16-demo.log\n",
    "# Damm..."
   ]
  },
  {
   "cell_type": "code",
   "execution_count": null,
   "metadata": {
    "vscode": {
     "languageId": "bash"
    }
   },
   "outputs": [],
   "source": [
    "# Let's recover\n",
    "# First, remove all db files\n",
    "su postgres -c \"find /var/lib/postgresql/16/demo -mindepth 1 -delete\"\n",
    "ls /var/lib/postgresql/16/demo/ # Nothing\n",
    "# Now let's restore\n",
    "su postgres -c \"pgbackrest --stanza=demo restore\"\n",
    "ls /var/lib/postgresql/16/demo/ # It's all here!\n",
    "pg_ctlcluster 16 demo start # All good just do recovery startup based on pg_wal\n",
    "tail -n 20 /var/log/postgresql/postgresql-16-demo.log"
   ]
  },
  {
   "cell_type": "markdown",
   "metadata": {},
   "source": [
    "#### Delta Recovery"
   ]
  },
  {
   "cell_type": "markdown",
   "metadata": {},
   "source": [
    "Configuration:\n",
    "`delta=y` Config File\n",
    "`--delta` Run Time"
   ]
  },
  {
   "cell_type": "markdown",
   "metadata": {},
   "source": [
    "It's possible and strongly advised to avoid deleting all the files for DB restore phase. With this option, files are checked via hash function check equality to backup and equal files are skipped."
   ]
  },
  {
   "cell_type": "markdown",
   "metadata": {},
   "source": [
    "#### Selected DBs"
   ]
  },
  {
   "cell_type": "markdown",
   "metadata": {},
   "source": [
    "Recover only selected DBs instead of all\n",
    "\n",
    "Use Cases:\n",
    "- Recover a specific DB in a different machine\n",
    "- Performance - incremental recovery"
   ]
  },
  {
   "cell_type": "markdown",
   "metadata": {},
   "source": [
    "#### Particular point in time"
   ]
  },
  {
   "cell_type": "markdown",
   "metadata": {},
   "source": [
    "Let's demonstrate a common PITR scenario -> redo a human error like drop important table"
   ]
  },
  {
   "cell_type": "code",
   "execution_count": null,
   "metadata": {
    "vscode": {
     "languageId": "bash"
    }
   },
   "outputs": [],
   "source": [
    "# Log MOD (DLL + Modifications) statements to be able to determine when the DROP happened\n",
    "su postgres\n",
    "sed -i \"s/#*log_statement.*/log_statement = 'mod'/\" $DB_CONF_FILE\n",
    "pg_ctlcluster 16 demo reload"
   ]
  },
  {
   "cell_type": "code",
   "execution_count": null,
   "metadata": {
    "vscode": {
     "languageId": "bash"
    }
   },
   "outputs": [],
   "source": [
    "# Create table\n",
    "pg_ctlcluster -D 16 demo reload\n",
    "psql << EOM\n",
    "    SET log_statement\n",
    "    BEGIN; \n",
    "    DROP TABLE IF EXISTS important_table;\n",
    "    CREATE TABLE important_table (message TEXT); \n",
    "    INSERT INTO important_table VALUES ('Important Data'); \n",
    "    COMMIT; \n",
    "    SELECT * FROM important_table;\n",
    "EOM"
   ]
  },
  {
   "cell_type": "code",
   "execution_count": null,
   "metadata": {
    "vscode": {
     "languageId": "bash"
    }
   },
   "outputs": [],
   "source": [
    "# Drop table\n",
    "psql -c \"DROP TABLE important_table;\"\n",
    "psql -c \"SELECT * FROM important_table;\" # error!"
   ]
  },
  {
   "cell_type": "code",
   "execution_count": null,
   "metadata": {
    "vscode": {
     "languageId": "bash"
    }
   },
   "outputs": [],
   "source": [
    "# Recovery\n",
    "## Find time of query\n",
    "DROP_QUERY_TS=$(grep \"DROP TABLE important_table;\" /var/log/postgresql/postgresql-16-demo.log | tail -1 | cut -d\" \" -f1,2)\n",
    "echo \"Drop query ts is: $DROP_QUERY_TS\"\n",
    "RECOVERY_TS=$(date -d \"$(date -d \"$DROP_QUERY_TS\") - 2 seconds\" +\"%Y-%m-%d %H:%M:%S\")\n",
    "echo \"Recovery ts, right before drop happened is: $RECOVERY_TS\"\n",
    "\n",
    "## Stop Server\n",
    "pg_ctlcluster 16 demo stop\n",
    "\n",
    "## Restore until timestamp\n",
    "pgbackrest --stanza=demo --delta \\\n",
    "    --type=time \"--target=$RECOVERY_TS\" \\\n",
    "    --target-action=promote \\\n",
    "    --log-level-console=info restore\n",
    "# Type - time / lsn\n",
    "# Target Action\n",
    "\n",
    "## Start server\n",
    "pg_ctlcluster 16 demo start\n",
    "psql -c \"SELECT * FROM important_table;\" # We are saved!\n",
    "\n",
    "## Checkout server log\n",
    "cat /var/log/postgresql/postgresql-16-demo.log"
   ]
  }
 ],
 "metadata": {
  "language_info": {
   "name": "python"
  }
 },
 "nbformat": 4,
 "nbformat_minor": 2
}
