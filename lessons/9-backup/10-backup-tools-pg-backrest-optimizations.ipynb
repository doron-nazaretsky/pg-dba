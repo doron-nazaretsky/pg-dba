{
 "cells": [
  {
   "cell_type": "markdown",
   "metadata": {},
   "source": [
    "# Optimizations"
   ]
  },
  {
   "cell_type": "markdown",
   "metadata": {},
   "source": [
    "Backup is an highly costly and delicate procedure, without the right optimizations a backup can easily slow down a running server, let's see some optimizations that help to avoid that."
   ]
  },
  {
   "cell_type": "markdown",
   "metadata": {},
   "source": [
    "## File Bundling"
   ]
  },
  {
   "cell_type": "markdown",
   "metadata": {},
   "source": [
    "**Configuration**:\n",
    "- Name: `repo-bundle`\n",
    "- Default: `n`\n",
    "- Allowed: `n / y`"
   ]
  },
  {
   "cell_type": "markdown",
   "metadata": {},
   "source": [
    "Postgres file centric approach (for example fork per relation) is demanding a lot of DB files on disk. For Postgres it's easier to manage this way but for a backup it's an unnecessary overhead that costs disk space and performance issues on file object stores like cloud object storage (AWS S3, Azure BLOBs, ...)\n",
    "\n",
    "To avoid that, pgBackRest can bundle the file contents to a summarized file and keep a manifest file to restore it correctly."
   ]
  },
  {
   "cell_type": "markdown",
   "metadata": {},
   "source": [
    "Advantages:\n",
    "- Less files\n",
    "- Less storage consume\n",
    "- Quicker copy on backup especially with object stores\n",
    "- Empty files are not copied, just logged in manifest"
   ]
  },
  {
   "cell_type": "markdown",
   "metadata": {},
   "source": [
    "Disadvantages\n",
    "- Can't stop and resume\n",
    "- Can't take a single file from backup"
   ]
  },
  {
   "cell_type": "markdown",
   "metadata": {},
   "source": [
    "## Block Incremental"
   ]
  },
  {
   "cell_type": "markdown",
   "metadata": {},
   "source": [
    "**Configuration**:\n",
    "- Name: `repo-block`\n",
    "- Default: `n`\n",
    "- Allowed: `n / y`"
   ]
  },
  {
   "cell_type": "markdown",
   "metadata": {},
   "source": [
    "You can allow incremental backup even on file level - only the delta between backed up file and the current state is stored.\n",
    "\n",
    "**Note**: This option is dependent on `repo-bundle` option"
   ]
  },
  {
   "cell_type": "markdown",
   "metadata": {},
   "source": [
    "#### Parallel Backup / Recovery"
   ]
  },
  {
   "cell_type": "markdown",
   "metadata": {},
   "source": [
    "**Configuration**:\n",
    "- Name:`process-max`\n",
    "- Default: `1`\n",
    "- Allowed: `1-999`"
   ]
  },
  {
   "cell_type": "markdown",
   "metadata": {},
   "source": [
    "Use multiple processes to compress and transfer backup on `backup` or `restore`\n",
    "\n",
    "On `backup` should not use too much processes since the DB needs the CPU resources as well\n",
    "\n",
    "On `restore` you can potentially utilize most of the server resources because there is no competition and time is key for low downtime"
   ]
  }
 ],
 "metadata": {
  "language_info": {
   "name": "python"
  }
 },
 "nbformat": 4,
 "nbformat_minor": 2
}
