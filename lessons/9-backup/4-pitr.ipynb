{
 "cells": [
  {
   "cell_type": "markdown",
   "metadata": {},
   "source": [
    "# PITR (Point In Time Recovery)"
   ]
  },
  {
   "cell_type": "markdown",
   "metadata": {},
   "source": [
    "## Idea"
   ]
  },
  {
   "cell_type": "markdown",
   "metadata": {},
   "source": [
    "We need a backup that is:\n",
    "- Fast\n",
    "- Consistent\n",
    "- Continuous in time (to \"redo\" operations and create a \"warm\" standby)\n",
    "\n",
    "We do a physical backup which is fast and help it to be consistent using WAL archiving that can bring us from the inconsistent state of the physical backup to any consistent point in time recorded in the WAL archives"
   ]
  },
  {
   "cell_type": "markdown",
   "metadata": {},
   "source": [
    "## Advantages"
   ]
  },
  {
   "cell_type": "markdown",
   "metadata": {},
   "source": [
    "- Fast since physical backup is fast\n",
    "- Easily consistent with the WAL files\n",
    "- Supports recovering to a specific consistent point in time which can help to do a `REDO` like operation\n",
    "- Don't have to do large backups frequently"
   ]
  },
  {
   "cell_type": "markdown",
   "metadata": {},
   "source": [
    "## Disadvantages"
   ]
  },
  {
   "cell_type": "markdown",
   "metadata": {},
   "source": [
    "- Hard to configure and maintain\n",
    "- WAL files can be very large so it's storage consuming"
   ]
  },
  {
   "cell_type": "markdown",
   "metadata": {},
   "source": [
    "## Flow"
   ]
  },
  {
   "cell_type": "markdown",
   "metadata": {},
   "source": [
    "<img src=\"./helpers/Backup - Base Flow.png\" alt=\"drawing\" width=\"1000\"/>"
   ]
  },
  {
   "cell_type": "markdown",
   "metadata": {},
   "source": [
    "Notes:\n",
    "- Since CHECKPOINTS are performed often and a backup is taking time, the particular CHECKPOINT should be stored separately (backup_label file) from pg_control because other CHECKPOINTS can be performed during backup\n",
    "- Backups can have a label (name)\n",
    "- Backup history file is replacing backup label because the backup WAL files are already archived after `pg_backup_stop` which calls `pg_switch_wal`.\n",
    "- Backup history name is determined by the actual WAL file and LSN that should be applied first after restoring the physical backup\\\n",
    "In a format: `%wal_file_name.%lsn.backup` something like: `0000000100001234000055CD.007C9330.backup`"
   ]
  },
  {
   "cell_type": "markdown",
   "metadata": {},
   "source": [
    "## Maintenance"
   ]
  },
  {
   "cell_type": "markdown",
   "metadata": {},
   "source": [
    "### Choosing Interval Between Backups"
   ]
  },
  {
   "cell_type": "markdown",
   "metadata": {},
   "source": [
    "Potentially, WAL files could be stored indefinitely so theoretically you could only one physical backup.\n",
    "\n",
    "But, you should consider:\n",
    "- The larger the difference between the current point in time and the physical backup, the larger the amount of WAL records should be applied on recovery\n",
    "- Larger interval also means a lot of storage used for storing WAL files"
   ]
  },
  {
   "cell_type": "markdown",
   "metadata": {},
   "source": [
    "### Multiple Backups"
   ]
  },
  {
   "cell_type": "markdown",
   "metadata": {},
   "source": [
    "Consider storing more than one working backup for:\n",
    "- More reliability, if anything is wrong with the last one this can be a life saver (in practice shouldn't really happen)\n",
    "- Larger points in time that can be recovered, the only recoverable points of time are the ones that can be reached are after the earliest physical backup"
   ]
  },
  {
   "cell_type": "markdown",
   "metadata": {},
   "source": [
    "### Backup Configuration Files"
   ]
  },
  {
   "cell_type": "markdown",
   "metadata": {},
   "source": [
    "WAL files don't include configuration files (`postgresql.conf`, `pg_hba.conf` and `pg_ident.conf`) changes / content since those are not edited with SQL queries\n",
    "\n",
    "Make sure to backup them also in a suitable place!"
   ]
  },
  {
   "cell_type": "markdown",
   "metadata": {},
   "source": [
    "## Demo"
   ]
  },
  {
   "cell_type": "markdown",
   "metadata": {},
   "source": [
    "```BASH\n",
    "# Create backup\n",
    "mkdir -p /mnt/server\n",
    "chown -R postgres /mnt/server \n",
    "pg_basebackup -D /mnt/server/backup -X stream -P\n",
    "# -D: The directory to store the backup\n",
    "# -X: How to copy WAL file\n",
    "# -P: Show progress\n",
    "# Again that's easy...\n",
    "\n",
    "# Restore\n",
    "cp $PGDATA/postgresql.conf /mnt/server/backup\n",
    "cp $PGDATA/pg_hba.conf /mnt/server/backup\n",
    "cp $PGDATA/pg_ident.conf /mnt/server/backup\n",
    "cd /mnt/server/backup\n",
    "pg_ctl -D . start -l logfile\n",
    "```"
   ]
  }
 ],
 "metadata": {
  "language_info": {
   "name": "python"
  }
 },
 "nbformat": 4,
 "nbformat_minor": 2
}
