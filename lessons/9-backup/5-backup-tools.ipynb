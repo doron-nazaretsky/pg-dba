{
 "cells": [
  {
   "cell_type": "markdown",
   "metadata": {},
   "source": [
    "## How To Pick"
   ]
  },
  {
   "cell_type": "markdown",
   "metadata": {},
   "source": [
    "### Key Features"
   ]
  },
  {
   "cell_type": "markdown",
   "metadata": {},
   "source": [
    "- Automation Capabilities\n",
    "- Reliability and Robustness\n",
    "- Incremental Backup Support"
   ]
  },
  {
   "cell_type": "markdown",
   "metadata": {},
   "source": [
    "### Types Of Tools"
   ]
  },
  {
   "cell_type": "markdown",
   "metadata": {},
   "source": [
    "#### Open Source Standards"
   ]
  },
  {
   "cell_type": "markdown",
   "metadata": {},
   "source": [
    "- pg_dump / pg_dumpall: built in logical backups\n",
    "- pg_basebackup: built in PITR solution for snapshots\n",
    "- pgBackRest: very commonly used (community standard) open source tool that have almost all capabilities needed, required a bit of expertise (uses postgres low level API)\n",
    "- Barman: EDBs open source tool for backup and recovery\n",
    "- Percona: tested pg open source tools tested to work together and bundled, enterprise ready open source solution (partnered with Red Hat, AWS, VMWare and more)"
   ]
  },
  {
   "cell_type": "markdown",
   "metadata": {},
   "source": [
    "#### Managed (paid) Tools"
   ]
  },
  {
   "cell_type": "markdown",
   "metadata": {},
   "source": [
    "Most of those are no-code or little code to use\n",
    "- Cloud native backup tools for managed SQL deployments\n",
    "- SimpleBackups\n",
    "- EDB (managed)"
   ]
  },
  {
   "cell_type": "markdown",
   "metadata": {},
   "source": [
    "## Demo With pgBackRest (pg-debian)"
   ]
  },
  {
   "cell_type": "markdown",
   "metadata": {},
   "source": [
    "### Installation"
   ]
  },
  {
   "cell_type": "code",
   "execution_count": null,
   "metadata": {
    "vscode": {
     "languageId": "bash"
    }
   },
   "outputs": [],
   "source": [
    "apt update\n",
    "apt install pgbackrest\n",
    "pgbackrest --help"
   ]
  },
  {
   "cell_type": "markdown",
   "metadata": {},
   "source": [
    "### Setting Up The Environment"
   ]
  },
  {
   "cell_type": "code",
   "execution_count": null,
   "metadata": {
    "vscode": {
     "languageId": "bash"
    }
   },
   "outputs": [],
   "source": [
    "pg_createcluster 16 demo -- --data-checksums --auth peer\n",
    "DB_CONF_FILE=/etc/postgresql/16/demo/postgresql.conf\n",
    "# Since debian is creating a DB cluster by default, we want to ensure our cluster is on port 5432\n",
    "sed -i \"s/port.*/port = 5432/\" $DB_CONF_FILE\n",
    "pg_lsclusters"
   ]
  },
  {
   "cell_type": "markdown",
   "metadata": {},
   "source": [
    "#### Configurations"
   ]
  },
  {
   "cell_type": "markdown",
   "metadata": {},
   "source": [
    "#### Basic Config For Stanza"
   ]
  },
  {
   "cell_type": "code",
   "execution_count": null,
   "metadata": {
    "vscode": {
     "languageId": "bash"
    }
   },
   "outputs": [],
   "source": [
    "# Create a configuration file (INI format) with configurations for a single db cluster called \"stanza\" in pgBackRest jargon\n",
    "BACK_REST_CONFIG_FILE=/etc/pgbackrest/pgbackrest.conf\n",
    "mkdir -p /etc/pgbackrest/\n",
    "chown -R postgres:postgres /etc/pgbackrest/\n",
    "printf '[demo]\n",
    "pg1-path=/var/lib/postgresql/16/demo\\n' > $BACK_REST_CONFIG_FILE"
   ]
  },
  {
   "cell_type": "markdown",
   "metadata": {},
   "source": [
    "#### Configure Repository"
   ]
  },
  {
   "cell_type": "markdown",
   "metadata": {},
   "source": [
    "Most probably will be another server to avoid crashing together with the host, it can be a production setup as well if all the host machine is being backed up with a different backup tool on a file system level"
   ]
  },
  {
   "cell_type": "code",
   "execution_count": null,
   "metadata": {
    "vscode": {
     "languageId": "bash"
    }
   },
   "outputs": [],
   "source": [
    "# Add repo path\n",
    "mkdir -p /var/lib/pgbackrest\n",
    "chmod 750 /var/lib/pgbackrest\n",
    "chown postgres:postgres /var/lib/pgbackrest\n",
    "\n",
    "# Add repo path to demo stanza\n",
    "printf '\\n[global]\n",
    "repo1-path=/var/lib/pgbackrest\\n' >> $BACK_REST_CONFIG_FILE"
   ]
  },
  {
   "cell_type": "markdown",
   "metadata": {},
   "source": [
    "#### Configure WAL Archiving On Server"
   ]
  },
  {
   "cell_type": "code",
   "execution_count": null,
   "metadata": {
    "vscode": {
     "languageId": "bash"
    }
   },
   "outputs": [],
   "source": [
    "# Configure (details in WAL archiving lesson)\n",
    "sed -i \"s/#*archive_command.*/archive_command = 'pgbackrest --stanza=demo archive-push %p'/\" $DB_CONF_FILE\n",
    "sed -i \"s/#*archive_mode.*/archive_mode = on/\" $DB_CONF_FILE\n",
    "sed -i \"s/#*max_wal_senders.*/max_wal_senders = 3/\" $DB_CONF_FILE\n",
    "sed -i \"s/#*wal_level.*/wal_level = replica/\" $DB_CONF_FILE\n",
    "# Check\n",
    "grep \"^archive_command\\|^archive_mode\\|^max_wal_senders\\|^wal_level\" $DB_CONF_FILE"
   ]
  },
  {
   "cell_type": "markdown",
   "metadata": {},
   "source": [
    "#### Configure Archive Push Command"
   ]
  },
  {
   "cell_type": "markdown",
   "metadata": {},
   "source": [
    "Configurations for the pgbackrest `archive-push` used to push WAL files on archiving trigger (WAL file is switched)"
   ]
  },
  {
   "cell_type": "code",
   "execution_count": null,
   "metadata": {
    "vscode": {
     "languageId": "bash"
    }
   },
   "outputs": [],
   "source": [
    "# Add compression to archived WAL files\n",
    "printf '\\n[global:archive-push]\n",
    "compress-level=3\\n' >> $BACK_REST_CONFIG_FILE"
   ]
  },
  {
   "cell_type": "markdown",
   "metadata": {},
   "source": [
    "#### Configure Backup Retention"
   ]
  },
  {
   "cell_type": "markdown",
   "metadata": {},
   "source": [
    "To empty disk space we are implementing a retention policy that deletes unneeded backups\n",
    "\n",
    "It's always a good idea to keep as mush backups as possible to enhance our point in time recovery window\n",
    "\n",
    "There are 2 types of retention policies:\n",
    "1. Time based - backups older than x time are deleted if there is at least one backup that is new enough\n",
    "1. Count based - whenever the backups number exceed the count the oldest are deleted\n",
    "\n",
    "Retention Policy is enforced by the `expire` command which is called automatically every time a backup is made successfully, but it can also be ran by the user"
   ]
  },
  {
   "cell_type": "code",
   "execution_count": null,
   "metadata": {
    "vscode": {
     "languageId": "bash"
    }
   },
   "outputs": [],
   "source": [
    "# Add count based retention\n",
    "sed -i \"s/^\\[global\\].*/[global]\\nrepo1-retention-full=2/\" etc/pgbackrest/pgbackrest.conf"
   ]
  },
  {
   "cell_type": "markdown",
   "metadata": {},
   "source": [
    "#### Configure Repo Encryption"
   ]
  },
  {
   "cell_type": "markdown",
   "metadata": {},
   "source": [
    "Since the repository basically contains all over production data and even more (historic data as well) it better be secured with encryption!\n",
    "\n",
    "It's better to encrypt on client side (pgbackrest side) even when the server supports built in encryption (all of the cloud storages are) to make sure that nothing happens in the network between them"
   ]
  },
  {
   "cell_type": "code",
   "execution_count": null,
   "metadata": {
    "vscode": {
     "languageId": "bash"
    }
   },
   "outputs": [],
   "source": [
    "# Add count based retention\n",
    "ENCRYPTION_KEY=$(openssl rand -base64 48)\n",
    "sed -i \"s/^\\[global\\].*/[global]\\nrepo1-cipher-type=aes-256-cbc/\" $BACK_REST_CONFIG_FILE\n",
    "sed -i 's,^\\[global\\].*,[global]\\nrepo1-cipher-pass='\"$ENCRYPTION_KEY\"',' $BACK_REST_CONFIG_FILE"
   ]
  },
  {
   "cell_type": "markdown",
   "metadata": {},
   "source": [
    "#### Create stanza"
   ]
  },
  {
   "cell_type": "code",
   "execution_count": null,
   "metadata": {
    "vscode": {
     "languageId": "bash"
    }
   },
   "outputs": [],
   "source": [
    "pg_ctlcluster 16 demo start\n",
    "su postgres -c \"pgbackrest --stanza=demo --log-level-console=info stanza-create\""
   ]
  },
  {
   "cell_type": "markdown",
   "metadata": {},
   "source": [
    "#### Check Configurations"
   ]
  },
  {
   "cell_type": "markdown",
   "metadata": {},
   "source": [
    "This checks that the configurations for the stanza created and the repositories are valid and that WAL archiving is working as expected\n",
    "\n",
    "It actually really archives a WAL file by forcing the server to switch wal with `pg_switch_wal()`"
   ]
  },
  {
   "cell_type": "code",
   "execution_count": null,
   "metadata": {
    "vscode": {
     "languageId": "bash"
    }
   },
   "outputs": [],
   "source": [
    "su postgres -c \"pgbackrest --stanza=demo --log-level-console=info check\""
   ]
  },
  {
   "cell_type": "markdown",
   "metadata": {},
   "source": [
    "#### Don't Wait For Checkpoint"
   ]
  },
  {
   "cell_type": "markdown",
   "metadata": {},
   "source": [
    "By default pgBackRest is waiting for a normally scheduled `CHECKPOINT` on PG server, for the demo purposes we will make it create a `CHECKPOINT` for it's purposes\n",
    "\n",
    "Even in production, in most cases, it's a good idea to turn on this option to be sure that the backup is done in time. Only in very busy servers it can be problematic for performance since the backup routine should be scheduled probably to once a day or so "
   ]
  },
  {
   "cell_type": "code",
   "execution_count": null,
   "metadata": {
    "vscode": {
     "languageId": "bash"
    }
   },
   "outputs": [],
   "source": [
    "sed -i \"s/^\\[global\\].*/[global]\\nstart-fast=y/\" $BACK_REST_CONFIG_FILE"
   ]
  },
  {
   "cell_type": "markdown",
   "metadata": {},
   "source": [
    "### Backups"
   ]
  },
  {
   "cell_type": "markdown",
   "metadata": {},
   "source": [
    "#### Perform Backups"
   ]
  },
  {
   "cell_type": "markdown",
   "metadata": {},
   "source": [
    "By default pgBachRest tries to perform an incremental backup, but since there is no full backup yet it falls back to full backup\n",
    "\n",
    "You can change the backup type by passing `--type=` option to backup command"
   ]
  },
  {
   "cell_type": "code",
   "execution_count": null,
   "metadata": {
    "vscode": {
     "languageId": "bash"
    }
   },
   "outputs": [],
   "source": [
    "# Full Backup\n",
    "su postgres -c \"pgbackrest --stanza=demo --log-level-console=info --type=full backup\""
   ]
  },
  {
   "cell_type": "code",
   "execution_count": null,
   "metadata": {
    "vscode": {
     "languageId": "bash"
    }
   },
   "outputs": [],
   "source": [
    "# Incremental Backup uses only full backup\n",
    "su postgres -c \"pgbackrest --stanza=demo --log-level-console=info --type=incr backup\"\n",
    "# This takes the default amount of size + new data\n",
    "su postgres -c \"psql -c 'select * into some_table from generate_series(1,100000)'\"\n",
    "su postgres -c \"pgbackrest --stanza=demo --log-level-console=info --type=incr backup\""
   ]
  },
  {
   "cell_type": "code",
   "execution_count": null,
   "metadata": {
    "vscode": {
     "languageId": "bash"
    }
   },
   "outputs": [],
   "source": [
    "# Diff Backup can only use full backup so uses the same one\n",
    "su postgres -c \"pgbackrest --stanza=demo --log-level-console=info --type=diff backup\""
   ]
  },
  {
   "cell_type": "code",
   "execution_count": null,
   "metadata": {
    "vscode": {
     "languageId": "bash"
    }
   },
   "outputs": [],
   "source": [
    "# Incremental uses the diff backup\n",
    "su postgres -c \"pgbackrest --stanza=demo --log-level-console=info --type=incr backup\""
   ]
  },
  {
   "cell_type": "markdown",
   "metadata": {},
   "source": [
    "#### Information About Backups"
   ]
  },
  {
   "cell_type": "markdown",
   "metadata": {},
   "source": [
    "- WAL archive min/max - archived WALs range\n",
    "- Type of backup\n",
    "- When performed\n",
    "- Sizes:\n",
    "    - db size - actual DB size\n",
    "    - db backup size - size of data to backup\n",
    "    - backup size - this backup size\n",
    "    - set backup size - the amount of data to perform a valid backup (in incremental is calculated recursively)\n",
    "- Backup reference list - dependencies"
   ]
  },
  {
   "cell_type": "code",
   "execution_count": null,
   "metadata": {
    "vscode": {
     "languageId": "bash"
    }
   },
   "outputs": [],
   "source": [
    "su postgres -c \"pgbackrest info\""
   ]
  },
  {
   "cell_type": "markdown",
   "metadata": {},
   "source": [
    "#### Schedule Backups"
   ]
  },
  {
   "cell_type": "code",
   "execution_count": null,
   "metadata": {
    "vscode": {
     "languageId": "bash"
    }
   },
   "outputs": [],
   "source": [
    "# Add weekly full backup on sundays\n",
    "su postgres\n",
    "(crontab -l; echo \"0 0 * * 0 pgbackrest --stanza=demo --type=full backup\") | awk '!x[$0]++' | crontab -\n",
    "# Add weekly diff backup on wendsdays\n",
    "(crontab -l; echo \"0 0 * * 3 pgbackrest --stanza=demo --type=diff backup\") | awk '!x[$0]++' | crontab -\n",
    "# Add daily incremental backup\n",
    "(crontab -l; echo \"0 0 * * 1-2,4-6 pgbackrest --stanza=demo --type=incr backup\") | awk '!x[$0]++' | crontab -\n",
    "exit"
   ]
  },
  {
   "cell_type": "markdown",
   "metadata": {},
   "source": [
    "### Optimizations"
   ]
  },
  {
   "cell_type": "markdown",
   "metadata": {},
   "source": [
    "#### File Bundling"
   ]
  },
  {
   "cell_type": "markdown",
   "metadata": {},
   "source": [
    "**Configuration**:\n",
    "- Name: `repo-bundle`\n",
    "- Default: `n`\n",
    "- Allowed: `n / y`"
   ]
  },
  {
   "cell_type": "markdown",
   "metadata": {},
   "source": [
    "Postgres file centric approach (for example fork per relation) is demanding a lot of DB files on disk. For Postgres it's easier to manage this way but for a backup it's an unnecessary overhead that costs disk space and performance issues on file object stores like cloud object storage (AWS S3, Azure BLOBs, ...)\n",
    "\n",
    "To avoid that, pgBackRest can bundle the file contents to a summarized file and keep a manifest file to restore it correctly."
   ]
  },
  {
   "cell_type": "markdown",
   "metadata": {},
   "source": [
    "Advantages:\n",
    "- Less files\n",
    "- Less storage consume\n",
    "- Quicker copy on backup especially with object stores\n",
    "- Empty files are not copied, just logged in manifest"
   ]
  },
  {
   "cell_type": "markdown",
   "metadata": {},
   "source": [
    "Disadvantages\n",
    "- Can't stop and resume\n",
    "- Can't take a single file from backup"
   ]
  },
  {
   "cell_type": "markdown",
   "metadata": {},
   "source": [
    "#### Block Incremental"
   ]
  },
  {
   "cell_type": "markdown",
   "metadata": {},
   "source": [
    "**Configuration**:\n",
    "- Name: `repo-block`\n",
    "- Default: `n`\n",
    "- Allowed: `n / y`"
   ]
  },
  {
   "cell_type": "markdown",
   "metadata": {},
   "source": [
    "You can allow incremental backup even on file level - only the delta between backed up file and the current state is stored.\n",
    "\n",
    "**Note**: This option is dependent on `repo-bundle` option"
   ]
  },
  {
   "cell_type": "markdown",
   "metadata": {},
   "source": [
    "#### Parallel Backup / Recovery"
   ]
  },
  {
   "cell_type": "markdown",
   "metadata": {},
   "source": [
    "**Configuration**:\n",
    "- Name:`process-max`\n",
    "- Default: `1`\n",
    "- Allowed: `1-999`"
   ]
  },
  {
   "cell_type": "markdown",
   "metadata": {},
   "source": [
    "Use multiple processes to compress and transfer backup on `backup` or `restore`\n",
    "\n",
    "On `backup` should not use too much processes since the DB needs the CPU resources as well\n",
    "\n",
    "On `restore` you can potentially utilize most of the server resources because there is no competition and time is key for low downtime"
   ]
  },
  {
   "cell_type": "markdown",
   "metadata": {},
   "source": [
    "### Recovery"
   ]
  },
  {
   "cell_type": "markdown",
   "metadata": {},
   "source": [
    "#### Regular"
   ]
  },
  {
   "cell_type": "markdown",
   "metadata": {},
   "source": [
    "Let's see a use case where `pg_control` file which contains crucial information about last REDO point (discussed in detail in WAL lesson) is removed\n",
    "\n",
    "The db can't start without it!\n",
    "\n",
    "Let's save it with a recover"
   ]
  },
  {
   "cell_type": "code",
   "execution_count": null,
   "metadata": {
    "vscode": {
     "languageId": "bash"
    }
   },
   "outputs": [],
   "source": [
    "# Stop and remove file\n",
    "pg_ctlcluster 16 demo stop\n",
    "su postgres -c \"rm /var/lib/postgresql/16/demo/global/pg_control\"\n",
    "# Try to start again\n",
    "pg_ctlcluster 16 demo start\n",
    "tail -n 20 /var/log/postgresql/postgresql-16-demo.log\n",
    "# Damm..."
   ]
  },
  {
   "cell_type": "code",
   "execution_count": null,
   "metadata": {
    "vscode": {
     "languageId": "bash"
    }
   },
   "outputs": [],
   "source": [
    "# Let's recover\n",
    "# First, remove all db files\n",
    "su postgres -c \"find /var/lib/postgresql/16/demo -mindepth 1 -delete\"\n",
    "ls /var/lib/postgresql/16/demo/ # Nothing\n",
    "# Now let's restore\n",
    "su postgres -c \"pgbackrest --stanza=demo restore\"\n",
    "ls /var/lib/postgresql/16/demo/ # It's all here!\n",
    "pg_ctlcluster 16 demo start # All good just do recovery startup based on pg_wal\n",
    "tail -n 20 /var/log/postgresql/postgresql-16-demo.log"
   ]
  },
  {
   "cell_type": "markdown",
   "metadata": {},
   "source": [
    "#### Delta Recovery"
   ]
  },
  {
   "cell_type": "markdown",
   "metadata": {},
   "source": [
    "Configuration:\n",
    "`delta=y` Config File\n",
    "`--delta` Run Time"
   ]
  },
  {
   "cell_type": "markdown",
   "metadata": {},
   "source": [
    "It's possible and strongly advised to avoid deleting all the files for DB restore phase. With this option, files are checked via hash function check equality to backup and equal files are skipped."
   ]
  },
  {
   "cell_type": "markdown",
   "metadata": {},
   "source": [
    "#### Selected DBs"
   ]
  },
  {
   "cell_type": "markdown",
   "metadata": {},
   "source": [
    "Recover only selected DBs instead of all\n",
    "\n",
    "Use Cases:\n",
    "- Recover a specific DB in a different machine\n",
    "- Performance - incremental recovery"
   ]
  },
  {
   "cell_type": "markdown",
   "metadata": {},
   "source": [
    "#### Particular point in time"
   ]
  },
  {
   "cell_type": "markdown",
   "metadata": {},
   "source": [
    "Let's demonstrate a common PITR scenario -> redo a human error like drop important table"
   ]
  },
  {
   "cell_type": "code",
   "execution_count": null,
   "metadata": {
    "vscode": {
     "languageId": "bash"
    }
   },
   "outputs": [],
   "source": [
    "# Log MOD (DLL + Modifications) statements to be able to determine when the DROP happened\n",
    "su postgres\n",
    "sed -i \"s/#*log_statement.*/log_statement = 'mod'/\" $DB_CONF_FILE\n",
    "pg_ctlcluster 16 demo reload"
   ]
  },
  {
   "cell_type": "code",
   "execution_count": null,
   "metadata": {
    "vscode": {
     "languageId": "bash"
    }
   },
   "outputs": [],
   "source": [
    "# Create table\n",
    "pg_ctlcluster -D 16 demo reload\n",
    "psql << EOM\n",
    "    SET log_statement\n",
    "    BEGIN; \n",
    "    DROP TABLE IF EXISTS important_table;\n",
    "    CREATE TABLE important_table (message TEXT); \n",
    "    INSERT INTO important_table VALUES ('Important Data'); \n",
    "    COMMIT; \n",
    "    SELECT * FROM important_table;\n",
    "EOM"
   ]
  },
  {
   "cell_type": "code",
   "execution_count": null,
   "metadata": {
    "vscode": {
     "languageId": "bash"
    }
   },
   "outputs": [],
   "source": [
    "# Drop table\n",
    "psql -c \"DROP TABLE important_table;\"\n",
    "psql -c \"SELECT * FROM important_table;\" # error!"
   ]
  },
  {
   "cell_type": "code",
   "execution_count": null,
   "metadata": {
    "vscode": {
     "languageId": "bash"
    }
   },
   "outputs": [],
   "source": [
    "# Recovery\n",
    "## Find time of query\n",
    "DROP_QUERY_TS=$(grep \"DROP TABLE important_table;\" /var/log/postgresql/postgresql-16-demo.log | tail -1 | cut -d\" \" -f1,2)\n",
    "echo \"Drop query ts is: $DROP_QUERY_TS\"\n",
    "RECOVERY_TS=$(date -d \"$(date -d \"$DROP_QUERY_TS\") - 2 seconds\" +\"%Y-%m-%d %H:%M:%S\")\n",
    "echo \"Recovery ts, right before drop happened is: $RECOVERY_TS\"\n",
    "\n",
    "## Stop Server\n",
    "pg_ctlcluster 16 demo stop\n",
    "\n",
    "## Restore until timestamp\n",
    "pgbackrest --stanza=demo --delta \\\n",
    "    --type=time \"--target=$RECOVERY_TS\" \\\n",
    "    --target-action=promote \\\n",
    "    --log-level-console=info restore\n",
    "# Type - time / lsn\n",
    "# Target Action\n",
    "\n",
    "## Start server\n",
    "pg_ctlcluster 16 demo start\n",
    "psql -c \"SELECT * FROM important_table;\" # We are saved!\n",
    "\n",
    "## Checkout server log\n",
    "cat /var/log/postgresql/postgresql-16-demo.log"
   ]
  }
 ],
 "metadata": {
  "language_info": {
   "name": "python"
  }
 },
 "nbformat": 4,
 "nbformat_minor": 2
}
