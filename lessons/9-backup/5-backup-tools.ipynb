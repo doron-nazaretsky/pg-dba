{
 "cells": [
  {
   "cell_type": "markdown",
   "metadata": {},
   "source": [
    "# Backup Tools"
   ]
  },
  {
   "cell_type": "markdown",
   "metadata": {},
   "source": [
    "## How To Pick"
   ]
  },
  {
   "cell_type": "markdown",
   "metadata": {},
   "source": [
    "### Key Features"
   ]
  },
  {
   "cell_type": "markdown",
   "metadata": {},
   "source": [
    "- Automation Capabilities\n",
    "- Reliability and Robustness\n",
    "- Incremental Backup Support"
   ]
  },
  {
   "cell_type": "markdown",
   "metadata": {},
   "source": [
    "### Types Of Tools"
   ]
  },
  {
   "cell_type": "markdown",
   "metadata": {},
   "source": [
    "#### Open Source Standards"
   ]
  },
  {
   "cell_type": "markdown",
   "metadata": {},
   "source": [
    "- pg_dump / pg_dumpall: built in logical backups\n",
    "- pg_basebackup: built in PITR solution for snapshots\n",
    "- pgBackRest: very commonly used (community standard) open source tool that have almost all capabilities needed, required a bit of expertise (uses postgres low level API)\n",
    "- Barman: EDBs open source tool for backup and recovery\n",
    "- Percona: tested pg open source tools tested to work together and bundled, enterprise ready open source solution (partnered with Red Hat, AWS, VMWare and more)"
   ]
  },
  {
   "cell_type": "markdown",
   "metadata": {},
   "source": [
    "#### Managed (paid) Tools"
   ]
  },
  {
   "cell_type": "markdown",
   "metadata": {},
   "source": [
    "Most of those are no-code or little code to use\n",
    "- Cloud native backup tools for managed SQL deployments\n",
    "- SimpleBackups\n",
    "- EDB (managed)"
   ]
  }
 ],
 "metadata": {
  "language_info": {
   "name": "python"
  }
 },
 "nbformat": 4,
 "nbformat_minor": 2
}
