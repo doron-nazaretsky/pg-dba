{
 "cells": [
  {
   "cell_type": "markdown",
   "metadata": {},
   "source": [
    "# Logical"
   ]
  },
  {
   "cell_type": "markdown",
   "metadata": {},
   "source": [
    "## Idea"
   ]
  },
  {
   "cell_type": "markdown",
   "metadata": {},
   "source": [
    "Create a SQL script that can recreate the DB from scratch"
   ]
  },
  {
   "cell_type": "markdown",
   "metadata": {},
   "source": [
    "## Cons vs Pros"
   ]
  },
  {
   "cell_type": "markdown",
   "metadata": {},
   "source": [
    "### Advantages"
   ]
  },
  {
   "cell_type": "markdown",
   "metadata": {},
   "source": [
    "- System independent\n",
    "- Version independent\n",
    "- Can dump a single DB\n",
    "- Potentially pretty small - don't include index data, just instructions for creation"
   ]
  },
  {
   "cell_type": "markdown",
   "metadata": {},
   "source": [
    "### Disadvantages"
   ]
  },
  {
   "cell_type": "markdown",
   "metadata": {},
   "source": [
    "- Slow to produce\n",
    "- Slow to restore\n",
    "- Dumps a single DB at a time so consistency between DB's can be lost "
   ]
  },
  {
   "cell_type": "markdown",
   "metadata": {},
   "source": [
    "## Main Use Cases"
   ]
  },
  {
   "cell_type": "markdown",
   "metadata": {},
   "source": [
    "- Migrate between versions and different architecture systems\n",
    "- Backup individual parts of the cluster, specific DBs"
   ]
  },
  {
   "cell_type": "markdown",
   "metadata": {},
   "source": [
    "## Demo"
   ]
  },
  {
   "cell_type": "markdown",
   "metadata": {},
   "source": [
    "### Single DB"
   ]
  },
  {
   "cell_type": "markdown",
   "metadata": {},
   "source": [
    "```SQL\n",
    "-- Create a DB with some data\n",
    "DROP DATABASE IF EXISTS example;\n",
    "CREATE DATABASE example;\n",
    "\\c example\n",
    "DROP TABLE IF EXISTS foo;\n",
    "\n",
    "SELECT a, b\n",
    "INTO foo\n",
    "FROM generate_series(1,10000) a, generate_series(1,100) b;\n",
    "```"
   ]
  },
  {
   "cell_type": "markdown",
   "metadata": {},
   "source": [
    "```BASH\n",
    "# Perform a sql dump\n",
    "pg_dump example > example_dump_file.txt\n",
    "head -n 50 example_dump_file.txt\n",
    "\n",
    "# Remove DB and restore\n",
    "dropdb example\n",
    "createdb example\n",
    "psql example < example_dump_file.txt\n",
    "psql -d example -c \"SELECT * FROM foo LIMIT 10\"\n",
    "\n",
    "# Cleanup\n",
    "rm example_dump_file.txt\n",
    "```"
   ]
  },
  {
   "cell_type": "markdown",
   "metadata": {},
   "source": [
    "### Entire Cluster"
   ]
  },
  {
   "cell_type": "markdown",
   "metadata": {},
   "source": [
    "```BASH\n",
    "## Preparations\n",
    "# Create new directory\n",
    "DIR=/some/new/cluster\n",
    "rm -rf $DIR\n",
    "mkdir -p $DIR\n",
    "chown -R postgres $DIR\n",
    "su postgres -c \"initdb -D $DIR\"\n",
    "```"
   ]
  },
  {
   "cell_type": "markdown",
   "metadata": {},
   "source": [
    "```BASH\n",
    "# Dump\n",
    "pg_dumpall -f $DIR/dump_all_example.txt\n",
    "head -n 100 $DIR/dump_all_example.txt\n",
    "\n",
    "# Start new cluster\n",
    "su postgres -c \"pg_ctl -D $DIR -o '-p 5433' start\"\n",
    "\n",
    "# Restore\n",
    "psql -p 5433 -f $DIR/dump_all_example.txt postgres\n",
    "\n",
    "# Cleanup\n",
    "su postgres -c \"pg_ctl -D $DIR stop\"\n",
    "rm -r /some\n",
    "```"
   ]
  }
 ],
 "metadata": {
  "language_info": {
   "name": "python"
  }
 },
 "nbformat": 4,
 "nbformat_minor": 2
}
