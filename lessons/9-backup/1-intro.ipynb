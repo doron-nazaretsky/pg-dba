{
 "cells": [
  {
   "cell_type": "markdown",
   "metadata": {},
   "source": [
    "# Intro"
   ]
  },
  {
   "cell_type": "markdown",
   "metadata": {},
   "source": [
    "A backup is a copy of data stored in a separate location to ensure its availability and integrity in the event of data loss, corruption, or system failure. \n",
    "\n",
    "It acts as a crucial safeguard, enabling the restoration of data to its previous state, thus minimizing downtime and potential data loss. \n",
    "\n",
    "Backups can be classified into different types, such as full, differential, and incremental, each offering varying levels of data recovery efficiency and storage optimization."
   ]
  },
  {
   "cell_type": "markdown",
   "metadata": {},
   "source": [
    "## Backup Solutions"
   ]
  },
  {
   "cell_type": "markdown",
   "metadata": {},
   "source": [
    "- Logical - SQL Statements that can bring a DB to a wanted state\n",
    "- Physical - (also called Base Backup) - backup the actual data on disk (almost impractical)\n",
    "- PITR (Point in time recovery) - also called online backup, a mix of Physical with continuous WAL archiving"
   ]
  }
 ],
 "metadata": {
  "language_info": {
   "name": "python"
  }
 },
 "nbformat": 4,
 "nbformat_minor": 2
}
