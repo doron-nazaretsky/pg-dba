{
 "cells": [
  {
   "cell_type": "markdown",
   "metadata": {},
   "source": [
    "# Configurations"
   ]
  },
  {
   "cell_type": "markdown",
   "metadata": {},
   "source": [
    "## Configure Stanza"
   ]
  },
  {
   "cell_type": "markdown",
   "metadata": {},
   "source": [
    "In pgBackRest, a **stanza** is a configuration unit that defines a specific PostgreSQL cluster. \n",
    "\n",
    "It encapsulates all the settings and parameters related to that cluster, such as its database paths, backup locations, and other related configurations.\n",
    "\n",
    "A stanza allows pgBackRest to manage multiple PostgreSQL clusters on the same or different servers, each with its own distinct configuration."
   ]
  },
  {
   "cell_type": "markdown",
   "metadata": {},
   "source": [
    "```BASH\n",
    "# Create a configuration file (INI format) with configurations for a single db cluster called \"stanza\" in pgBackRest jargon\n",
    "BACK_REST_CONFIG_FILE=/etc/pgbackrest/pgbackrest.conf\n",
    "mkdir -p /etc/pgbackrest/\n",
    "chown -R postgres:postgres /etc/pgbackrest/\n",
    "printf '[demo]\n",
    "pg1-path=/var/lib/postgresql/16/demo\\n' > $BACK_REST_CONFIG_FILE\n",
    "```"
   ]
  },
  {
   "cell_type": "markdown",
   "metadata": {},
   "source": [
    "## Configure Repository"
   ]
  },
  {
   "cell_type": "markdown",
   "metadata": {},
   "source": [
    "Most probably the repository in production will be on an another server to avoid crashing together with the host.\n",
    "\n",
    "A single machine setup could be possible in production only if machine is being backed up with a different backup tool on a file system level."
   ]
  },
  {
   "cell_type": "markdown",
   "metadata": {},
   "source": [
    "### Create Repository"
   ]
  },
  {
   "cell_type": "markdown",
   "metadata": {},
   "source": [
    "```BASH\n",
    "# Add repo path\n",
    "mkdir -p /var/lib/pgbackrest\n",
    "chmod 750 /var/lib/pgbackrest\n",
    "chown postgres:postgres /var/lib/pgbackrest\n",
    "\n",
    "# Add repo path to demo stanza\n",
    "printf '\\n[global]\n",
    "repo1-path=/var/lib/pgbackrest\\n' >> $BACK_REST_CONFIG_FILE\n",
    "```"
   ]
  },
  {
   "cell_type": "markdown",
   "metadata": {},
   "source": [
    "### Configure WAL Archiving On Server"
   ]
  },
  {
   "cell_type": "markdown",
   "metadata": {},
   "source": [
    "```BASH\n",
    "# Configure (details in WAL archiving lesson)\n",
    "sed -i \"s/#*archive_command.*/archive_command = 'pgbackrest --stanza=demo archive-push %p'/\" $DB_CONF_FILE\n",
    "sed -i \"s/#*archive_mode.*/archive_mode = on/\" $DB_CONF_FILE\n",
    "sed -i \"s/#*max_wal_senders.*/max_wal_senders = 3/\" $DB_CONF_FILE\n",
    "sed -i \"s/#*wal_level.*/wal_level = replica/\" $DB_CONF_FILE\n",
    "# Check\n",
    "grep \"^archive_command\\|^archive_mode\\|^max_wal_senders\\|^wal_level\" $DB_CONF_FILE\n",
    "```"
   ]
  },
  {
   "cell_type": "markdown",
   "metadata": {},
   "source": [
    "### Configure Archive Push Command"
   ]
  },
  {
   "cell_type": "markdown",
   "metadata": {},
   "source": [
    "Configurations for the pgbackrest `archive-push` used to push WAL files on archiving trigger (WAL file is switched)"
   ]
  },
  {
   "cell_type": "markdown",
   "metadata": {},
   "source": [
    "```BASH\n",
    "# Add compression to archived WAL files\n",
    "printf '\\n[global:archive-push]\n",
    "compress-level=3\\n' >> $BACK_REST_CONFIG_FILE\n",
    "```"
   ]
  },
  {
   "cell_type": "markdown",
   "metadata": {},
   "source": [
    "### Configure Backup Retention"
   ]
  },
  {
   "cell_type": "markdown",
   "metadata": {},
   "source": [
    "To empty disk space we are implementing a retention policy that deletes unneeded backups\n",
    "\n",
    "It's always a good idea to keep as mush backups as possible to enhance our point in time recovery window\n",
    "\n",
    "There are 2 types of retention policies:\n",
    "1. Time based - backups older than x time are deleted if there is at least one backup that is new enough\n",
    "1. Count based - whenever the backups number exceed the count the oldest are deleted\n",
    "\n",
    "Retention Policy is enforced by the `expire` command which is called automatically every time a backup is made successfully, but it can also be ran by the user"
   ]
  },
  {
   "cell_type": "markdown",
   "metadata": {},
   "source": [
    "```BASH\n",
    "# Add count based retention\n",
    "sed -i \"s/^\\[global\\].*/[global]\\nrepo1-retention-full=2/\" $BACK_REST_CONFIG_FILE\n",
    "```"
   ]
  },
  {
   "cell_type": "markdown",
   "metadata": {},
   "source": [
    "### Configure Repo Encryption"
   ]
  },
  {
   "cell_type": "markdown",
   "metadata": {},
   "source": [
    "Since the repository basically contains all over production data and even more (historic data as well) it better be secured with encryption!\n",
    "\n",
    "It's better to encrypt on client side (pgbackrest side) even when the server supports built in encryption (all of the cloud storages are) to make sure that nothing happens in the network between them"
   ]
  },
  {
   "cell_type": "markdown",
   "metadata": {},
   "source": [
    "```BASH\n",
    "# Add count based retention\n",
    "ENCRYPTION_KEY=$(openssl rand -base64 48)\n",
    "sed -i \"s/^\\[global\\].*/[global]\\nrepo1-cipher-type=aes-256-cbc/\" $BACK_REST_CONFIG_FILE\n",
    "sed -i 's,^\\[global\\].*,[global]\\nrepo1-cipher-pass='\"$ENCRYPTION_KEY\"',' $BACK_REST_CONFIG_FILE\n",
    "```"
   ]
  },
  {
   "cell_type": "markdown",
   "metadata": {},
   "source": [
    "### Don't Wait For Checkpoint"
   ]
  },
  {
   "cell_type": "markdown",
   "metadata": {},
   "source": [
    "By default pgBackRest is waiting for a normally scheduled `CHECKPOINT` on PG server, for the demo purposes we will make it create a `CHECKPOINT` for it's purposes\n",
    "\n",
    "Even in production, in most cases, it's a good idea to turn on this option to be sure that the backup is done in time. Only in very busy servers it can be problematic for performance since the backup routine should be scheduled probably to once a day or so "
   ]
  },
  {
   "cell_type": "code",
   "execution_count": null,
   "metadata": {
    "vscode": {
     "languageId": "bash"
    }
   },
   "outputs": [],
   "source": [
    "sed -i \"s/^\\[global\\].*/[global]\\nstart-fast=y/\" $BACK_REST_CONFIG_FILE"
   ]
  },
  {
   "cell_type": "markdown",
   "metadata": {},
   "source": [
    "## Setup Stanza"
   ]
  },
  {
   "cell_type": "markdown",
   "metadata": {},
   "source": [
    "After configuring both the stanza and the repository it's going to be backed up in, it's time to create the stanza object that is actually used when running a backup."
   ]
  },
  {
   "cell_type": "markdown",
   "metadata": {},
   "source": [
    "### Create stanza"
   ]
  },
  {
   "cell_type": "code",
   "execution_count": null,
   "metadata": {
    "vscode": {
     "languageId": "bash"
    }
   },
   "outputs": [],
   "source": [
    "pg_ctlcluster 16 demo start\n",
    "su postgres -c \"pgbackrest --stanza=demo --log-level-console=info stanza-create\""
   ]
  },
  {
   "cell_type": "markdown",
   "metadata": {},
   "source": [
    "### Check Configurations"
   ]
  },
  {
   "cell_type": "markdown",
   "metadata": {},
   "source": [
    "This checks that the configurations for the stanza created and the repositories are valid and that WAL archiving is working as expected\n",
    "\n",
    "It actually really archives a WAL file by forcing the server to switch wal with `pg_switch_wal()`"
   ]
  }
 ],
 "metadata": {
  "language_info": {
   "name": "python"
  }
 },
 "nbformat": 4,
 "nbformat_minor": 2
}
