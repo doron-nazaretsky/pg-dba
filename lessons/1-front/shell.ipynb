{
 "cells": [
  {
   "cell_type": "markdown",
   "metadata": {},
   "source": [
    "## Passing the password"
   ]
  },
  {
   "cell_type": "markdown",
   "metadata": {},
   "source": [
    "There are couple of ways to pass the password:\n",
    "- Interactively - When using the front applications interactively\n",
    "- Environment variable - When writing a quick script\n",
    "- .pgpass File - In production (because environment variables can be accessed with ps)\n",
    "- Environment + .pgpass - In our course"
   ]
  },
  {
   "cell_type": "code",
   "execution_count": null,
   "metadata": {
    "vscode": {
     "languageId": "bash"
    }
   },
   "outputs": [],
   "source": [
    "psql --help"
   ]
  },
  {
   "cell_type": "code",
   "execution_count": null,
   "metadata": {
    "vscode": {
     "languageId": "bash"
    }
   },
   "outputs": [],
   "source": [
    "export PGPASSWORD=cool-postgres-course\n",
    "psql postgresql://postgres@db:5432 -c \"SELECT 1 AS EXAMPLE\"\n",
    "# Remember to restart kernel or the PGPASSWORD will be"
   ]
  },
  {
   "cell_type": "code",
   "execution_count": null,
   "metadata": {
    "vscode": {
     "languageId": "bash"
    }
   },
   "outputs": [],
   "source": [
    "# Since the docker file already got a .pgpass (how convinient) we would want to demonstrate a new environment\n",
    "rm ~/.pgpass # Remove existing .pgpass file\n",
    "touch ~/.pgpass\n",
    "echo db:5432:*:postgres:cool-postgres-course > ~/.pgpass\n",
    "chmod 600 ~/.pgpass\n",
    "chown jovyan ~/.pgpass\n",
    "psql -h db -U postgres -c \"SELECT 1 AS EXAMPLE\""
   ]
  },
  {
   "cell_type": "code",
   "execution_count": null,
   "metadata": {
    "vscode": {
     "languageId": "bash"
    }
   },
   "outputs": [],
   "source": [
    "export PGHOST=db\n",
    "export PGUSER=postgres\n",
    "export PGDATABASE=postgres\n",
    "psql -c \"SELECT 1 AS EXAMPLE\" # No need for any params!"
   ]
  },
  {
   "cell_type": "markdown",
   "metadata": {},
   "source": [
    "## PSQL"
   ]
  },
  {
   "cell_type": "markdown",
   "metadata": {},
   "source": [
    "### Scripting style"
   ]
  },
  {
   "cell_type": "markdown",
   "metadata": {},
   "source": [
    "#### Using multiple commands in a long string"
   ]
  },
  {
   "cell_type": "code",
   "execution_count": null,
   "metadata": {
    "vscode": {
     "languageId": "bash"
    }
   },
   "outputs": [],
   "source": [
    "psql << EOM\n",
    "    SELECT 1 AS first;\n",
    "    SELECT 1 AS some, 2 AS more, 3 AS example;\n",
    "EOM"
   ]
  },
  {
   "cell_type": "markdown",
   "metadata": {},
   "source": [
    "#### Using multiple commands in different psql instances"
   ]
  },
  {
   "cell_type": "code",
   "execution_count": null,
   "metadata": {
    "vscode": {
     "languageId": "sql"
    }
   },
   "outputs": [],
   "source": [
    "psql << EOM\n",
    "    SELECT 1 AS first;\n",
    "EOM\n",
    "\n",
    "psql << EOM\n",
    "    SELECT 1 AS some, 2 AS more, 3 AS example;\n",
    "EOM"
   ]
  },
  {
   "cell_type": "markdown",
   "metadata": {},
   "source": [
    "#### Let's create some data"
   ]
  },
  {
   "cell_type": "code",
   "execution_count": null,
   "metadata": {
    "vscode": {
     "languageId": "sql"
    }
   },
   "outputs": [],
   "source": [
    "psql << EOM\n",
    "    DROP DATABASE IF EXISTS newdb;\n",
    "    CREATE DATABASE newdb;\n",
    "EOM\n",
    "export PGDATABASE=newdb"
   ]
  },
  {
   "cell_type": "code",
   "execution_count": null,
   "metadata": {
    "vscode": {
     "languageId": "bash"
    }
   },
   "outputs": [],
   "source": [
    "psql << EOM\n",
    "    DROP TABLE IF EXISTS PRODUCT;\n",
    "    CREATE TABLE IF NOT EXISTS PRODUCT (\n",
    "      id   SERIAL,\n",
    "      name VARCHAR(100) NOT NULL,\n",
    "      sku  CHAR(8)\n",
    "    );\n",
    "EOM\n",
    "\n",
    "psql << EOM\n",
    "    INSERT INTO product VALUES\n",
    "    (DEFAULT, 'Banana', '1'),\n",
    "    (DEFAULT, 'Orange', '2'),\n",
    "    (DEFAULT, 'Milki', '3')\n",
    "    ;\n",
    "EOM"
   ]
  },
  {
   "cell_type": "markdown",
   "metadata": {},
   "source": [
    "#### Using meta commands\n",
    "We already saw the `\\c` command, let's some other interesting ones"
   ]
  },
  {
   "cell_type": "code",
   "execution_count": null,
   "metadata": {
    "vscode": {
     "languageId": "bash"
    }
   },
   "outputs": [],
   "source": [
    "psql -c \"\\x off\""
   ]
  },
  {
   "cell_type": "code",
   "execution_count": null,
   "metadata": {
    "vscode": {
     "languageId": "bash"
    }
   },
   "outputs": [],
   "source": [
    "# List databases\n",
    "psql -c \"\\l+\""
   ]
  },
  {
   "cell_type": "code",
   "execution_count": null,
   "metadata": {
    "vscode": {
     "languageId": "bash"
    }
   },
   "outputs": [],
   "source": [
    "# List relations\n",
    "psql -c \"\\d+\""
   ]
  },
  {
   "cell_type": "code",
   "execution_count": null,
   "metadata": {
    "vscode": {
     "languageId": "bash"
    }
   },
   "outputs": [],
   "source": [
    "# Specific relation data\n",
    "psql -c \"\\d+ product\""
   ]
  },
  {
   "cell_type": "code",
   "execution_count": null,
   "metadata": {
    "vscode": {
     "languageId": "bash"
    }
   },
   "outputs": [],
   "source": [
    "# Roles\n",
    "psql -c \"\\du\""
   ]
  },
  {
   "cell_type": "code",
   "execution_count": null,
   "metadata": {
    "scrolled": true,
    "vscode": {
     "languageId": "sql"
    }
   },
   "outputs": [],
   "source": [
    "# Time queries\n",
    "psql << EOM\n",
    "    \\timing\n",
    "    SELECT COUNT(*) product;\n",
    "    SELECT COUNT('id') product;\n",
    "    \\timing\n",
    "EOM"
   ]
  },
  {
   "cell_type": "code",
   "execution_count": null,
   "metadata": {
    "vscode": {
     "languageId": "bash"
    }
   },
   "outputs": [],
   "source": [
    "# Access methods\n",
    "psql -c \"\\dA+\""
   ]
  },
  {
   "cell_type": "code",
   "execution_count": null,
   "metadata": {
    "vscode": {
     "languageId": "bash"
    }
   },
   "outputs": [],
   "source": [
    "# Table spaces\n",
    "psql -c \"\\db+\""
   ]
  },
  {
   "cell_type": "code",
   "execution_count": null,
   "metadata": {
    "vscode": {
     "languageId": "bash"
    }
   },
   "outputs": [],
   "source": [
    "# Variables\n",
    "psql << EOM\n",
    "    \\set we_learn postgres\n",
    "    \\echo What do we learn? :we_learn!\n",
    "EOM"
   ]
  },
  {
   "cell_type": "code",
   "execution_count": null,
   "metadata": {
    "vscode": {
     "languageId": "sql"
    }
   },
   "outputs": [],
   "source": [
    "# Variables with SQL queries\n",
    "psql << EOM\n",
    "    \\set my_table product\n",
    "    SELECT * FROM :my_table\n",
    "EOM"
   ]
  },
  {
   "cell_type": "markdown",
   "metadata": {},
   "source": [
    "#### Cool and relatively easy looping with \\gexec"
   ]
  },
  {
   "cell_type": "code",
   "execution_count": null,
   "metadata": {
    "vscode": {
     "languageId": "sql"
    }
   },
   "outputs": [],
   "source": [
    "psql << EOM    \n",
    "    SELECT FORMAT('SELECT %s AS example', id) FROM generate_series(1,4) AS id\n",
    "    \\gexec\n",
    "EOM"
   ]
  },
  {
   "cell_type": "markdown",
   "metadata": {},
   "source": [
    "So how does it work?\n",
    "1. Query a dynamic SQL query string"
   ]
  },
  {
   "cell_type": "code",
   "execution_count": null,
   "metadata": {
    "vscode": {
     "languageId": "sql"
    }
   },
   "outputs": [],
   "source": [
    "psql -c \"SELECT 'SELECT 1 AS example' unimportant_column_name;\""
   ]
  },
  {
   "cell_type": "markdown",
   "metadata": {},
   "source": [
    "2. Create multiple strings"
   ]
  },
  {
   "cell_type": "code",
   "execution_count": null,
   "metadata": {
    "vscode": {
     "languageId": "sql"
    }
   },
   "outputs": [],
   "source": [
    "psql -c \"SELECT FORMAT('SELECT %s AS example', id) FROM generate_series(1,4) AS id;\""
   ]
  },
  {
   "cell_type": "markdown",
   "metadata": {},
   "source": [
    "3. Run a dynamic query with `\\gexec` which is actually executing the `query buffer`"
   ]
  },
  {
   "cell_type": "code",
   "execution_count": null,
   "metadata": {
    "vscode": {
     "languageId": "sql"
    }
   },
   "outputs": [],
   "source": [
    "psql << EOM    \n",
    "    SELECT 'SELECT 1 AS example' unimportant_column_name\n",
    "    \\gexec\n",
    "EOM"
   ]
  },
  {
   "cell_type": "markdown",
   "metadata": {},
   "source": [
    "4. Run the multiple dynamic strings"
   ]
  },
  {
   "cell_type": "code",
   "execution_count": null,
   "metadata": {
    "vscode": {
     "languageId": "sql"
    }
   },
   "outputs": [],
   "source": [
    "psql << EOM    \n",
    "    SELECT FORMAT('SELECT %s AS example', id) FROM generate_series(1,4) AS id\n",
    "    \\gexec\n",
    "EOM"
   ]
  },
  {
   "cell_type": "markdown",
   "metadata": {},
   "source": [
    "Pretty cool! \\\n",
    "Can be used in a wide variety of use cases, just so you get a taste of it:"
   ]
  },
  {
   "cell_type": "code",
   "execution_count": null,
   "metadata": {
    "vscode": {
     "languageId": "sql"
    }
   },
   "outputs": [],
   "source": [
    "psql << EOM    \n",
    "    SELECT format('CREATE INDEX ON product(%I)', attname)\n",
    "    FROM pg_attribute\n",
    "    WHERE attrelid = 'product'::regclass AND attnum > 0\n",
    "    ORDER BY attnum\n",
    "    \\gexec\n",
    "EOM"
   ]
  },
  {
   "cell_type": "code",
   "execution_count": null,
   "metadata": {
    "vscode": {
     "languageId": "bash"
    }
   },
   "outputs": [],
   "source": [
    "psql -c \"\\d product\""
   ]
  },
  {
   "cell_type": "markdown",
   "metadata": {},
   "source": [
    "## More useful tools"
   ]
  },
  {
   "cell_type": "markdown",
   "metadata": {},
   "source": [
    "**clusterdb** — cluster a PostgreSQL database \\\n",
    "**createdb** — create a new PostgreSQL database \\\n",
    "**createuser** — define a new PostgreSQL user account \\\n",
    "**dropdb** — remove a PostgreSQL database \\\n",
    "**dropuser** — remove a PostgreSQL user account \\\n",
    "**pg_amcheck** — checks for corruption in one or more PostgreSQL databases \\\n",
    "**pg_basebackup** — take a base backup of a PostgreSQL cluster \\\n",
    "**pgbench** — run a benchmark test on PostgreSQL \\\n",
    "**pg_config** — retrieve information about the installed version of PostgreSQL \\\n",
    "**pg_dump** — extract a PostgreSQL database into a script file or other archive file \\\n",
    "**pg_dumpall** — extract a PostgreSQL database cluster into a script file \\\n",
    "**pg_isready** — check the connection status of a PostgreSQL server \\\n",
    "**pg_receivewal** — stream write-ahead logs from a PostgreSQL server \\\n",
    "**pg_restore** — restore a PostgreSQL database from an archive file created by pg_dump \\\n",
    "**pg_verifybackup** — verify the integrity of a base backup of a PostgreSQL cluster \\\n",
    "**reindexdb** — reindex a PostgreSQL database \\\n",
    "**vacuumdb** — garbage-collect and analyze a PostgreSQL database"
   ]
  }
 ],
 "metadata": {
  "kernelspec": {
   "display_name": "venv",
   "language": "python",
   "name": "python3"
  },
  "language_info": {
   "codemirror_mode": "shell",
   "file_extension": ".sh",
   "mimetype": "text/x-sh",
   "name": "python",
   "version": "3.9.6"
  }
 },
 "nbformat": 4,
 "nbformat_minor": 4
}
