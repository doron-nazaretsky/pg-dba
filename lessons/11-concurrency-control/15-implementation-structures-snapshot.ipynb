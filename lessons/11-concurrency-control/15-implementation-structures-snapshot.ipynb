{
 "cells": [
  {
   "cell_type": "markdown",
   "metadata": {},
   "source": [
    "# Transaction Snapshot"
   ]
  },
  {
   "cell_type": "markdown",
   "metadata": {},
   "source": [
    "The main component of snapshot isolation providing the actual state of the snapshot for a given query.\n",
    "\n",
    "This is using the `CLOG` to create a snapshot for any query / transaction (depending on isolation level)."
   ]
  },
  {
   "cell_type": "markdown",
   "metadata": {},
   "source": [
    "## Functionality"
   ]
  },
  {
   "cell_type": "markdown",
   "metadata": {},
   "source": [
    "Each transaction works with its own data `snapshot` / `snapshots`, which makes sure the transaction sees the appropriate data based on `xid`"
   ]
  },
  {
   "cell_type": "markdown",
   "metadata": {},
   "source": [
    "<img src=\"./helpers/snapshot-example.png\" alt=\"drawing\" width=800 style=\"background-color:white\"/>"
   ]
  },
  {
   "cell_type": "markdown",
   "metadata": {},
   "source": [
    "## Isolation Levels"
   ]
  },
  {
   "cell_type": "markdown",
   "metadata": {},
   "source": [
    "### Read Committed"
   ]
  },
  {
   "cell_type": "markdown",
   "metadata": {},
   "source": [
    "A new snapshot is created on every statement in the transaction\n",
    "\n",
    "<img src=\"./helpers/snapshot-read-committed.png\" alt=\"drawing\" width=800 style=\"background-color:white\"/>"
   ]
  },
  {
   "cell_type": "markdown",
   "metadata": {},
   "source": [
    "### Repeatable Read / Serializable"
   ]
  },
  {
   "cell_type": "markdown",
   "metadata": {},
   "source": [
    "A single snapshot is created at the beginning of the transaction\n",
    "\n",
    "<img src=\"./helpers/snapshots-repeatable-read.png\" alt=\"drawing\" width=800 style=\"background-color:white\"/>"
   ]
  },
  {
   "cell_type": "markdown",
   "metadata": {},
   "source": [
    "## Structure"
   ]
  },
  {
   "cell_type": "markdown",
   "metadata": {},
   "source": [
    "`xmin`:`xmax`:`xip_list`"
   ]
  },
  {
   "cell_type": "markdown",
   "metadata": {},
   "source": [
    "- xmin - (earliest xid that is still active): All earlier transactions will either be committed and visible, or rolled back and dead.\n",
    "- xmax - (first as-yet-unassigned txid): All txids greater than or equal to this are not yet started as of the time of the snapshot, and thus invisible.\n",
    "- xip_list (list of active transaction ids at the time of the snapshot): The list includes only active txids between xmin and xmax."
   ]
  },
  {
   "cell_type": "markdown",
   "metadata": {},
   "source": [
    "So the visible transactions are:\n",
    "- Tn < xmin\n",
    "- xmin < Tn < xmax `AND` NOT IN xip_list\n",
    "- Tn = `MYSELF`\n",
    "\n",
    "That should give you the intuition to understand how the snapshot will be represented."
   ]
  },
  {
   "cell_type": "markdown",
   "metadata": {},
   "source": [
    "## Hands On"
   ]
  },
  {
   "cell_type": "markdown",
   "metadata": {},
   "source": [
    "### Outside Of Transaction"
   ]
  },
  {
   "cell_type": "code",
   "execution_count": null,
   "metadata": {
    "vscode": {
     "languageId": "bash"
    }
   },
   "outputs": [],
   "source": [
    "psql -c \"SELECT pg_current_snapshot(), pg_current_xact_id_if_assigned();\""
   ]
  },
  {
   "cell_type": "markdown",
   "metadata": {},
   "source": [
    "### Inside A Transaction"
   ]
  },
  {
   "cell_type": "code",
   "execution_count": null,
   "metadata": {
    "vscode": {
     "languageId": "bash"
    }
   },
   "outputs": [],
   "source": [
    "# Current snapshot inside a transaction\n",
    "psql << EOM\n",
    "BEGIN;\n",
    "    CREATE TEMP TABLE tbl_a(data int);\n",
    "    SELECT pg_current_snapshot(), pg_current_xact_id_if_assigned() INTO TEMP TABLE output;\n",
    "END;\n",
    "SELECT * FROM output;\n",
    "EOM"
   ]
  },
  {
   "cell_type": "markdown",
   "metadata": {},
   "source": [
    "### Different Isolation Levels"
   ]
  },
  {
   "cell_type": "markdown",
   "metadata": {},
   "source": [
    "This exercise should be done on 4 concurrent sessions (psql / pgadmin doesn't matter).\n",
    "\n",
    "**Note** - Remember, the default isolation level is `READ COMMITTED`."
   ]
  },
  {
   "cell_type": "code",
   "execution_count": null,
   "metadata": {
    "vscode": {
     "languageId": "bash"
    }
   },
   "outputs": [],
   "source": [
    "# Prepare env\n",
    "psql -c \"DROP TABLE IF EXISTS a; CREATE TABLE a(data int);\""
   ]
  },
  {
   "cell_type": "code",
   "execution_count": null,
   "metadata": {
    "vscode": {
     "languageId": "sql"
    }
   },
   "outputs": [],
   "source": [
    "-- First Session\n",
    "BEGIN;\n",
    "INSERT INTO a VALUES (1);\n",
    "SELECT pg_current_xact_id_if_assigned();\n",
    "SELECT pg_current_snapshot();\n",
    "\n",
    "-- Second Session\n",
    "BEGIN;\n",
    "INSERT INTO a VALUES (1);\n",
    "SELECT pg_current_xact_id_if_assigned();\n",
    "SELECT pg_current_snapshot();\n",
    "\n",
    "-- Third Session\n",
    "BEGIN ISOLATION LEVEL REPEATABLE READ;\n",
    "INSERT INTO a VALUES (1);\n",
    "SELECT pg_current_xact_id_if_assigned();\n",
    "SELECT pg_current_snapshot();\n",
    "\n",
    "-- Fourth Session\n",
    "BEGIN;\n",
    "INSERT INTO a VALUES (1);\n",
    "SELECT pg_current_xact_id_if_assigned();\n",
    "SELECT pg_current_snapshot();\n",
    "\n",
    "-- Fifth Session\n",
    "BEGIN;\n",
    "INSERT INTO a VALUES (1);\n",
    "SELECT pg_current_xact_id_if_assigned();\n",
    "SELECT pg_current_snapshot();\n",
    "\n",
    "-- Fourth Session\n",
    "COMMIT;\n",
    "\n",
    "-- Run First, Second, Third, Fifth Sessions\n",
    "SELECT pg_current_snapshot();"
   ]
  }
 ],
 "metadata": {
  "language_info": {
   "name": "python"
  }
 },
 "nbformat": 4,
 "nbformat_minor": 2
}
