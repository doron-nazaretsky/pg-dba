{
 "cells": [
  {
   "cell_type": "markdown",
   "metadata": {},
   "source": [
    "# Page"
   ]
  },
  {
   "cell_type": "markdown",
   "metadata": {},
   "source": [
    "## Architecture"
   ]
  },
  {
   "cell_type": "markdown",
   "metadata": {},
   "source": [
    "### Overall Page"
   ]
  },
  {
   "cell_type": "markdown",
   "metadata": {},
   "source": [
    "**Important:**\n",
    "- lp (line pointer) - an object, points to the physical address of the tuple in the page and contains some information about it.\n",
    "- ctid (tuple id pointer) - a pair of (page_num, lp_num), points to the lp of the tuple.\n",
    "- tuple (row here) - actual data payload.\n",
    "\n",
    "**Not in scope:**\n",
    "- special space - a reserved place for index access methods data to store anything they need (empty on heap)."
   ]
  },
  {
   "cell_type": "markdown",
   "metadata": {},
   "source": [
    "<img src=\"./helpers/block-layout.png\" alt=\"drawing\" width=\"600\"/>"
   ]
  },
  {
   "cell_type": "markdown",
   "metadata": {},
   "source": [
    "### Line Pointer"
   ]
  },
  {
   "cell_type": "markdown",
   "metadata": {},
   "source": [
    "[Source Code](https://github.com/postgres/postgres/blob/ae482a7ec521e09bb0dbfc261da6e6170a5ac29f/src/include/storage/itemid.h#L25):\n",
    "\n",
    "```C\n",
    "typedef struct ItemIdData\n",
    "{\n",
    "\tunsigned\tlp_off:15,\t\t/* offset to tuple (from start of page) */\n",
    "\t\t\tlp_flags:2,\t\t/* state of line pointer, changed mainly by VACUUM */\n",
    "\t\t\tlp_len:15;\t\t/* byte length of tuple */\n",
    "} ItemIdData;\n",
    "```"
   ]
  },
  {
   "cell_type": "markdown",
   "metadata": {},
   "source": [
    "## Hands On"
   ]
  },
  {
   "cell_type": "markdown",
   "metadata": {},
   "source": [
    "### Prepare ENV"
   ]
  },
  {
   "cell_type": "markdown",
   "metadata": {},
   "source": [
    "```SQL\n",
    "DROP TABLE IF EXISTS tbl;\n",
    "SELECT generate_series AS id, 0 AS data\n",
    "INTO tbl\n",
    "FROM generate_series(1,10);\n",
    "\n",
    "/*** (detailed in VACUUM module) ***/\n",
    "-- Turn autovacuum off\n",
    "ALTER TABLE tbl SET (autovacuum_enabled = false);\n",
    "\n",
    "-- Look at the page layout\n",
    "DROP VIEW IF EXISTS vw_inspect_tbl_first_page;\n",
    "CREATE VIEW vw_inspect_tbl_first_page AS\n",
    "SELECT\n",
    "\tlp AS line_pointer\n",
    "\t,lp_off AS liner_pointer_offset\n",
    "\t,lp_len AS liner_pointer_length\n",
    "\t,lp_off - lp_len AS next_liner_pointer_offset\n",
    "\t,t_ctid\n",
    "FROM\n",
    "\theap_page_items(get_raw_page('tbl', 0)) hp;\n",
    "```"
   ]
  },
  {
   "cell_type": "markdown",
   "metadata": {},
   "source": [
    "### Page layout"
   ]
  },
  {
   "cell_type": "markdown",
   "metadata": {},
   "source": [
    "```SQL\n",
    "SELECT * FROM vw_inspect_tbl_first_page;\n",
    "\n",
    "SELECT \n",
    "\tlower AS line_pointers_offset\n",
    "\t,upper AS data_offset\n",
    "\t,upper - lower free_space\n",
    "FROM page_header(get_raw_page('tbl', 0));\n",
    "```"
   ]
  },
  {
   "cell_type": "markdown",
   "metadata": {},
   "source": [
    "### Update"
   ]
  },
  {
   "cell_type": "markdown",
   "metadata": {},
   "source": [
    "```SQL\n",
    "-- Single row\n",
    "UPDATE tbl SET data = 1 WHERE id = 2;\n",
    "SELECT * FROM vw_inspect_tbl_first_page;\n",
    "```"
   ]
  },
  {
   "cell_type": "markdown",
   "metadata": {},
   "source": [
    "```SQL\n",
    "-- Multiple rows\n",
    "UPDATE tbl SET data = 1;\n",
    "SELECT * FROM vw_inspect_tbl_first_page;\n",
    "```"
   ]
  },
  {
   "cell_type": "markdown",
   "metadata": {},
   "source": [
    "## Delete"
   ]
  },
  {
   "cell_type": "markdown",
   "metadata": {},
   "source": [
    "```SQL\n",
    "-- Single row\n",
    "DELETE FROM tbl WHERE id = 1;\n",
    "```"
   ]
  },
  {
   "cell_type": "markdown",
   "metadata": {},
   "source": [
    "```SQL\n",
    "-- Multiple rows\n",
    "DELETE FROM tbl WHERE 1 = 1;\n",
    "```"
   ]
  }
 ],
 "metadata": {
  "language_info": {
   "name": "python"
  }
 },
 "nbformat": 4,
 "nbformat_minor": 2
}
