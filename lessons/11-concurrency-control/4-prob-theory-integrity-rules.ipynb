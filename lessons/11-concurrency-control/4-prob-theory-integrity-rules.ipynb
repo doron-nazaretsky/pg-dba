{
 "cells": [
  {
   "cell_type": "markdown",
   "metadata": {},
   "source": [
    "# Integrity Rules"
   ]
  },
  {
   "cell_type": "markdown",
   "metadata": {},
   "source": [
    "Integrity rules are abstract properties of a transaction system that provide the building blocks of the isolation level solution"
   ]
  },
  {
   "cell_type": "markdown",
   "metadata": {},
   "source": [
    "## Serializable"
   ]
  },
  {
   "cell_type": "markdown",
   "metadata": {},
   "source": [
    "### Definition"
   ]
  },
  {
   "cell_type": "markdown",
   "metadata": {},
   "source": [
    "A schedule is serializable if it is equivalent in its outcome to a serial schedule."
   ]
  },
  {
   "cell_type": "markdown",
   "metadata": {},
   "source": [
    "### Idea"
   ]
  },
  {
   "cell_type": "markdown",
   "metadata": {},
   "source": [
    "The order of dependent **operations** should persist."
   ]
  },
  {
   "cell_type": "markdown",
   "metadata": {},
   "source": [
    "### Example"
   ]
  },
  {
   "cell_type": "markdown",
   "metadata": {},
   "source": [
    "T1\t        |   T2  \n",
    "--          |   --  \n",
    "R(X)        |       \n",
    "W(X)        |       \n",
    "&#xfeff;    |   R(Y)\n",
    "&#xfeff;    |   W(Y)\n",
    "&#xfeff;    |   Com.\n",
    "Com.        |       "
   ]
  },
  {
   "cell_type": "markdown",
   "metadata": {},
   "source": [
    "## Recoverable"
   ]
  },
  {
   "cell_type": "markdown",
   "metadata": {},
   "source": [
    "### Definition"
   ]
  },
  {
   "cell_type": "markdown",
   "metadata": {},
   "source": [
    "A schedule is recoverable if transactions only commit after all transactions whose changes they read have committed.\n"
   ]
  },
  {
   "cell_type": "markdown",
   "metadata": {},
   "source": [
    "### Idea"
   ]
  },
  {
   "cell_type": "markdown",
   "metadata": {},
   "source": [
    "A rollback is affecting all dependent transactions."
   ]
  },
  {
   "cell_type": "markdown",
   "metadata": {},
   "source": [
    "### Example"
   ]
  },
  {
   "cell_type": "markdown",
   "metadata": {},
   "source": [
    "T1\t        |   T2  \n",
    "--          |   --  \n",
    "&#xfeff;    |   W(X)       \n",
    "W(Y)        |   \n",
    "W(X)        |   \n",
    "&#xfeff;    |   R(Y)\n",
    "Com.        |       \n",
    "&#xfeff;    |   Com."
   ]
  }
 ],
 "metadata": {
  "language_info": {
   "name": "python"
  }
 },
 "nbformat": 4,
 "nbformat_minor": 2
}
