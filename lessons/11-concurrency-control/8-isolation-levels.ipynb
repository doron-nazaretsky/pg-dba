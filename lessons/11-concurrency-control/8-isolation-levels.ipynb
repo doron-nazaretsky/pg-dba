{
 "cells": [
  {
   "cell_type": "markdown",
   "metadata": {},
   "source": [
    "# Isolation Levels"
   ]
  },
  {
   "cell_type": "markdown",
   "metadata": {},
   "source": [
    "## Read Committed Isolation Level"
   ]
  },
  {
   "cell_type": "markdown",
   "metadata": {},
   "source": [
    "### Specifications"
   ]
  },
  {
   "cell_type": "markdown",
   "metadata": {},
   "source": [
    "- Select Queries: sees only data committed before the **query** began, easy to achieve with MVCC snapshot.\n",
    "- DML Queries: blocked by other DML queries on the same rows, wait for them to commit / rollback.\\\n",
    "If they succeed the updated version of the rows that were found are evaluated again against the `WHERE` qualifiers."
   ]
  },
  {
   "cell_type": "markdown",
   "metadata": {},
   "source": [
    "### Illustration"
   ]
  },
  {
   "cell_type": "markdown",
   "metadata": {},
   "source": [
    "#### Simple Usage - May Be OK"
   ]
  },
  {
   "cell_type": "markdown",
   "metadata": {},
   "source": [
    "Transfer between accounts\n",
    "```SQL\n",
    "BEGIN;\n",
    "UPDATE accounts SET balance = balance + 100.00 WHERE acctnum = 12345;\n",
    "-- run from another session: UPDATE accounts SET balance = balance - 100.00 WHERE acctnum = 12345;\n",
    "UPDATE accounts SET balance = balance - 100.00 WHERE acctnum = 7534;\n",
    "COMMIT;\n",
    "```"
   ]
  },
  {
   "cell_type": "markdown",
   "metadata": {},
   "source": [
    "#### Complex Usage - Problematic"
   ]
  },
  {
   "cell_type": "markdown",
   "metadata": {},
   "source": [
    "Assume website is a two-row table with website.hits equaling 9 and 10:"
   ]
  },
  {
   "cell_type": "markdown",
   "metadata": {},
   "source": [
    "```SQL\n",
    "BEGIN;\n",
    "UPDATE website SET hits = hits + 1; -- Which rows are updated??\n",
    "-- run from another session:  DELETE FROM website WHERE hits = 10;\n",
    "COMMIT;\n",
    "```"
   ]
  },
  {
   "cell_type": "markdown",
   "metadata": {},
   "source": [
    "## Repeatable Read Isolation Level"
   ]
  },
  {
   "cell_type": "markdown",
   "metadata": {},
   "source": [
    "### Specifications"
   ]
  },
  {
   "cell_type": "markdown",
   "metadata": {},
   "source": [
    "- Classic snapshot isolation.\n",
    "- Select Queries: sees only data committed before the **first non-transaction-control statement in the transaction** began.\n",
    "- DML Queries: current transaction is blocked by other DML transactions on the same rows, wait for them to commit / rollback.\\\n",
    "If they succeed the, the transaction is rolled back.\n",
    "- An app that uses this or more strict level should be prepare to deal with serialization failures -> retry transaction."
   ]
  },
  {
   "cell_type": "markdown",
   "metadata": {},
   "source": [
    "### Illustration"
   ]
  },
  {
   "cell_type": "markdown",
   "metadata": {},
   "source": [
    "```SQL\n",
    "BEGIN;\n",
    "SELECT * FROM website WHERE hits = 10;\n",
    "-- run from another session:  DELETE FROM website WHERE hits = 10;\n",
    "UPDATE website SET hits = hits + 1; -- Would crash with failure!\n",
    "COMMIT;\n",
    "```\n",
    "\n",
    "`ERROR:  could not serialize access due to concurrent update`"
   ]
  },
  {
   "cell_type": "markdown",
   "metadata": {},
   "source": [
    "## Serializable Isolation Level"
   ]
  },
  {
   "cell_type": "markdown",
   "metadata": {},
   "source": [
    "- Serializable snapshot isolation.\n",
    "- Similar to repeatable read, but takes predicate (non-blocking) locks to identify potential read-write dependencies.\n",
    "- Eliminates any non-serial anomalies, *assuming that all the transactions operating on this data are serializable!*"
   ]
  }
 ],
 "metadata": {
  "language_info": {
   "name": "python"
  }
 },
 "nbformat": 4,
 "nbformat_minor": 2
}
