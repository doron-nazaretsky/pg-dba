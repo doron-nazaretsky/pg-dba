{
 "cells": [
  {
   "cell_type": "markdown",
   "metadata": {},
   "source": [
    "# Isolation Levels"
   ]
  },
  {
   "cell_type": "markdown",
   "metadata": {},
   "source": [
    "## Read Committed Isolation Level"
   ]
  },
  {
   "cell_type": "markdown",
   "metadata": {},
   "source": [
    "### Specifications"
   ]
  },
  {
   "cell_type": "markdown",
   "metadata": {},
   "source": [
    "- Select Queries: sees only data committed before the **query** began, easy to achieve with MVCC snapshot.\n",
    "- DML Queries: blocked by other DML queries on the same rows, wait for them to commit / rollback.\\\n",
    "If they succeed the updated version of the rows that were found are evaluated again against the `WHERE` qualifiers."
   ]
  },
  {
   "cell_type": "markdown",
   "metadata": {},
   "source": [
    "### Illustration"
   ]
  },
  {
   "cell_type": "markdown",
   "metadata": {},
   "source": [
    "#### Simple Usage - May Be OK"
   ]
  },
  {
   "cell_type": "markdown",
   "metadata": {},
   "source": [
    "Transfer between accounts\n",
    "\n",
    "```SQL\n",
    "BEGIN;\n",
    "UPDATE accounts SET balance = balance + 100.00 WHERE acctnum = 1;\n",
    "-- run from another session: UPDATE accounts SET balance = balance - 100.00 WHERE acctnum = 1;\n",
    "UPDATE accounts SET balance = balance - 100.00 WHERE acctnum = 2;\n",
    "COMMIT;\n",
    "```"
   ]
  },
  {
   "cell_type": "markdown",
   "metadata": {},
   "source": [
    "#### Complex Usage - Problematic"
   ]
  },
  {
   "cell_type": "markdown",
   "metadata": {},
   "source": [
    "Assume website is a two-row table with website.hits equaling 9 and 10:"
   ]
  },
  {
   "cell_type": "markdown",
   "metadata": {},
   "source": [
    "```SQL\n",
    "DROP TABLE IF EXISTS read_committed;\n",
    "CREATE TABLE read_committed(id INT, data INT);\n",
    "INSERT INTO read_committed VALUES (1, 10), (2, 11);\n",
    "COMMIT;\n",
    "```"
   ]
  },
  {
   "cell_type": "markdown",
   "metadata": {},
   "source": [
    "```SQL\n",
    "/** Transaction 1 **/\n",
    "BEGIN;\n",
    "UPDATE read_committed SET data = data + 1;\n",
    "```\n",
    "\n",
    "```SQL\n",
    "/** Transaction 2 **/\n",
    "BEGIN;\n",
    "DELETE FROM read_committed WHERE data = 11;\n",
    "-- This is blocked because transaction 1 is updating the table\n",
    "```\n",
    "\n",
    "```SQL\n",
    "/** Transaction 1 **/\n",
    "COMMIT;\n",
    "```\n",
    "\n",
    "```SQL\n",
    "/** Transaction 2 **/\n",
    "-- Now it's unblocked, which row is deleted?\n",
    "SELECT * FROM read_committed;\n",
    "COMMIT;\n",
    "```"
   ]
  },
  {
   "cell_type": "markdown",
   "metadata": {},
   "source": [
    "## Repeatable Read Isolation Level"
   ]
  },
  {
   "cell_type": "markdown",
   "metadata": {},
   "source": [
    "### Specifications"
   ]
  },
  {
   "cell_type": "markdown",
   "metadata": {},
   "source": [
    "- Classic snapshot isolation.\n",
    "- Select Queries: sees only data committed before the **first non-transaction-control statement in the transaction** began.\n",
    "- DML Queries: current transaction is blocked by other DML transactions on the same rows, wait for them to commit / rollback.\\\n",
    "If they succeed the, the transaction is rolled back.\n",
    "- An app that uses this or more strict level should be prepare to deal with serialization failures -> retry transaction."
   ]
  },
  {
   "cell_type": "markdown",
   "metadata": {},
   "source": [
    "### Illustration"
   ]
  },
  {
   "cell_type": "markdown",
   "metadata": {},
   "source": [
    "```SQL\n",
    "/** Transaction 1 **/\n",
    "BEGIN;\n",
    "UPDATE read_committed SET data = data + 1;\n",
    "```\n",
    "\n",
    "```SQL\n",
    "/** Transaction 2 **/\n",
    "BEGIN ISOLATION LEVEL REPEATABLE READ;\n",
    "DELETE FROM read_committed WHERE data = 11;\n",
    "```\n",
    "\n",
    "```SQL\n",
    "/** Transaction 1 **/\n",
    "COMMIT;\n",
    "```\n",
    "\n",
    "```SQL\n",
    "/** Transaction 2 **/\n",
    "-- This just finishes with an error\n",
    "ROLLBACK;\n",
    "```"
   ]
  },
  {
   "cell_type": "markdown",
   "metadata": {},
   "source": [
    "## Serializable Isolation Level"
   ]
  },
  {
   "cell_type": "markdown",
   "metadata": {},
   "source": [
    "- Serializable snapshot isolation.\n",
    "- Similar to repeatable read, but takes predicate (non-blocking) locks to identify potential read-write dependencies.\n",
    "- Eliminates any non-serial anomalies, *assuming that all the transactions operating on this data are serializable!*"
   ]
  }
 ],
 "metadata": {
  "language_info": {
   "name": "python"
  }
 },
 "nbformat": 4,
 "nbformat_minor": 2
}
