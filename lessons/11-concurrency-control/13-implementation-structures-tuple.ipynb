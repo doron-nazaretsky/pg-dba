{
 "cells": [
  {
   "cell_type": "markdown",
   "metadata": {},
   "source": [
    "# Tuple"
   ]
  },
  {
   "cell_type": "markdown",
   "metadata": {},
   "source": [
    "## Architecture"
   ]
  },
  {
   "cell_type": "markdown",
   "metadata": {},
   "source": [
    "**Important:**\n",
    "- t_xmin - txid of the transaction that inserted this tuple.\n",
    "- t_xmax - txid of the transaction that deleted or updated this tuple. If this tuple has not been deleted or updated, t_xmax is set to 0, which means INVALID.\n",
    "- t_cid - the number of SQL commands that were executed before this command was executed within the current transaction, starting from 0.\n",
    "- t_ctid - tuple identifier (tid) that points to itself or a new tuple (if there is a new version of the tuple), structure: (page_index, tuple_index_in_page).\n",
    "\n",
    "**Not In Scope:**\n",
    "- t_infomask, t_infomask2 - contains information about the tuple that reduce work for processes, in our context hint bits about xmin and xmax are stored here too.\n",
    "- t_hoff - offset to user data in tuple."
   ]
  },
  {
   "cell_type": "markdown",
   "metadata": {},
   "source": [
    "<img src=\"./helpers/tuple-structure.png\" alt=\"drawing\" width=\"900\"/>"
   ]
  },
  {
   "cell_type": "markdown",
   "metadata": {},
   "source": [
    "## Hands On"
   ]
  },
  {
   "cell_type": "markdown",
   "metadata": {},
   "source": [
    "Operations:\n",
    "- INSERT\n",
    "- UPDATE\n",
    "- DELETE"
   ]
  },
  {
   "cell_type": "code",
   "execution_count": null,
   "metadata": {
    "vscode": {
     "languageId": "bash"
    }
   },
   "outputs": [],
   "source": [
    "psql -c \"CREATE EXTENSION pageinspect;\"\n",
    "psql -c \"DROP TABLE IF EXISTS tbl; CREATE TABLE tbl (data text);\"\n",
    "psql -c \"INSERT INTO tbl VALUES ('A'), ('B'), ('C');\"\n",
    "psql -c \"UPDATE tbl SET data = 'D' WHERE data = 'A';\"\n",
    "psql -c \"DELETE FROM tbl WHERE data = 'B';\"\n",
    "\n",
    "psql << EOM\n",
    "    SELECT \n",
    "        lp as tuple_num\n",
    "        ,t_xmin\n",
    "        ,t_xmax\n",
    "        ,t_field3 as t_cid\n",
    "        ,t_ctid \n",
    "    FROM heap_page_items(get_raw_page('tbl', 0));\n",
    "EOM\n",
    "psql -c \"DROP TABLE IF EXISTS tbl;\""
   ]
  },
  {
   "cell_type": "markdown",
   "metadata": {},
   "source": [
    "## Tuple VS Row"
   ]
  },
  {
   "cell_type": "markdown",
   "metadata": {},
   "source": [
    "There is sometimes a distinction between a tuple and a row:\n",
    "- Tuple - a single data object that represent a single version of a row.\n",
    "- Row - logical table row, can consist of several tuples."
   ]
  }
 ],
 "metadata": {
  "language_info": {
   "name": "python"
  }
 },
 "nbformat": 4,
 "nbformat_minor": 2
}
