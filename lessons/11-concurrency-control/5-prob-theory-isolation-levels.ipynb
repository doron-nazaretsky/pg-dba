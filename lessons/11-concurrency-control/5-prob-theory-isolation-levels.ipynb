{
 "cells": [
  {
   "cell_type": "markdown",
   "metadata": {},
   "source": [
    "# Isolation Levels"
   ]
  },
  {
   "cell_type": "markdown",
   "metadata": {},
   "source": [
    "Isolation Level\t| Dirty Read  |\tNonrepeatable Read  |   Lost Updates  |\tPhantom Read    |\tSerialization Anomaly\n",
    "---------       | -------     | -------             |   ---  |   ---------       |   -------\n",
    "Read uncommitted    |\tAllowed, but not in PG  |\tPossible    |   Possible  |\tPossible    |\tPossible\n",
    "Read committed  |\tNot possible    |\tPossible    |   Possible  |\tPossible    |\tPossible\n",
    "Repeatable read |\tNot possible    |\tNot possible    |   Not Possible  |\tAllowed, but not in PG  |\tPossible\n",
    "Serializable    |\tNot possible    |\tNot possible    |   Not Possible  |\tNot possible    |   Not possible"
   ]
  },
  {
   "cell_type": "markdown",
   "metadata": {},
   "source": [
    "## In PostgreSQL"
   ]
  },
  {
   "cell_type": "markdown",
   "metadata": {},
   "source": [
    "- **Read Uncommitted** mode behaves like **Read Committed** and it's the *default*!\n",
    "- **Repeatable Read** mode behaves like **Serializable** except Snapshot Isolation anomalies.\n",
    "- **Lost Updates** are not possible in any isolation level."
   ]
  }
 ],
 "metadata": {
  "language_info": {
   "name": "python"
  }
 },
 "nbformat": 4,
 "nbformat_minor": 2
}
