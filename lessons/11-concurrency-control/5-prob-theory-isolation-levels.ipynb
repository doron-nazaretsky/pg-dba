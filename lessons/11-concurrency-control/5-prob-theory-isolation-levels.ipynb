{
 "cells": [
  {
   "cell_type": "markdown",
   "metadata": {},
   "source": [
    "# Isolation Levels"
   ]
  },
  {
   "cell_type": "markdown",
   "metadata": {},
   "source": [
    "Isolation Level\t| Dirty Read  |\tNonrepeatable Read  |\tPhantom Read    |\tSerialization Anomaly\n",
    "---------       | -------     | -------             |   ---------       |   -------\n",
    "Read uncommitted    |\tAllowed, but not in PG  |\tPossible    |\tPossible    |\tPossible\n",
    "Read committed  |\tNot possible    |\tPossible    |\tPossible    |\tPossible\n",
    "Repeatable read |\tNot possible    |\tNot possible    |\tAllowed, but not in PG  |\tPossible\n",
    "Serializable    |\tNot possible    |\tNot possible    |\tNot possible    |   Not possible"
   ]
  },
  {
   "cell_type": "markdown",
   "metadata": {},
   "source": [
    "## In PostgreSQL"
   ]
  },
  {
   "cell_type": "markdown",
   "metadata": {},
   "source": [
    "- **Read Uncommitted** mode behaves like **Read Committed** and it's the *default*!\n",
    "- **Repeatable Read** mode behaves like **Serializable** except Snapshot Isolation anomalies."
   ]
  }
 ],
 "metadata": {
  "language_info": {
   "name": "python"
  }
 },
 "nbformat": 4,
 "nbformat_minor": 2
}
