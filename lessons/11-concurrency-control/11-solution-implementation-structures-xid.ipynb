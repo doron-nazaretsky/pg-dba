{
 "cells": [
  {
   "cell_type": "markdown",
   "metadata": {},
   "source": [
    "# Transaction IDS"
   ]
  },
  {
   "cell_type": "markdown",
   "metadata": {},
   "source": [
    "Every transaction is identified by a unique `VirtualTransactionId` (`vxid`), which is comprised of a backend ID (or `backendID`) and a sequentially-assigned number local to each backend, known as `localXID`.\n",
    "\n",
    "Non-virtual TransactionIds (`xid`), are assigned sequentially to transactions from a global counter used by all databases within the PostgreSQL cluster. This assignment happens when a transaction *first writes* to the database."
   ]
  },
  {
   "cell_type": "code",
   "execution_count": null,
   "metadata": {
    "vscode": {
     "languageId": "bash"
    }
   },
   "outputs": [],
   "source": [
    "psql -c \"SELECT pg_current_xact_id_if_assigned();\""
   ]
  },
  {
   "cell_type": "markdown",
   "metadata": {},
   "source": [
    "txids can be compared with each other (in a circle):\n",
    "\n",
    "<img src=\"./helpers/txid-comparison.png\" alt=\"drawing\" width=\"900\"/>"
   ]
  }
 ],
 "metadata": {
  "language_info": {
   "name": "python"
  }
 },
 "nbformat": 4,
 "nbformat_minor": 2
}
