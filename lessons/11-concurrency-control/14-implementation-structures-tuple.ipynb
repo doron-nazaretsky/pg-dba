{
 "cells": [
  {
   "cell_type": "markdown",
   "metadata": {},
   "source": [
    "# Tuple"
   ]
  },
  {
   "cell_type": "markdown",
   "metadata": {},
   "source": [
    "## Architecture"
   ]
  },
  {
   "cell_type": "markdown",
   "metadata": {},
   "source": [
    "**Important:**\n",
    "- t_xmin - txid of the transaction that inserted this tuple.\n",
    "- t_xmax - txid of the transaction that deleted or updated this tuple. If this tuple has not been deleted or updated, t_xmax is set to 0, which means INVALID.\n",
    "- t_cid - the number of SQL commands that were executed before this command was executed within the current transaction, starting from 0.\n",
    "- t_ctid - tuple identifier (tid) that points to itself or a new tuple (if there is a new version of the tuple), structure: (page_index, tuple_index_in_page).\n",
    "\n",
    "**Not In Scope:**\n",
    "- t_infomask, t_infomask2 - contains information about the tuple that reduce work for processes, in our context hint bits about xmin and xmax are stored here too.\n",
    "- t_hoff - offset to user data in tuple."
   ]
  },
  {
   "cell_type": "markdown",
   "metadata": {},
   "source": [
    "<img src=\"./helpers/tuple-structure.png\" alt=\"drawing\" width=\"900\"/>"
   ]
  },
  {
   "cell_type": "markdown",
   "metadata": {},
   "source": [
    "## Hands On"
   ]
  },
  {
   "cell_type": "markdown",
   "metadata": {},
   "source": [
    "Operations:\n",
    "- INSERT\n",
    "- UPDATE\n",
    "- DELETE"
   ]
  },
  {
   "cell_type": "markdown",
   "metadata": {},
   "source": [
    "```SQL\n",
    "DROP TABLE IF EXISTS tbl;\n",
    "SELECT generate_series AS id\n",
    "INTO tbl\n",
    "FROM generate_series(1,10);\n",
    "\n",
    "/*** (detailed in VACUUM module) ***/\n",
    "-- Turn autovacuum off\n",
    "ALTER TABLE tbl SET (autovacuum_enabled = false);\n",
    "\n",
    "-- Look at the page layout\n",
    "DROP VIEW IF EXISTS vw_inspect_tbl_first_page;\n",
    "CREATE VIEW vw_inspect_tbl_first_page AS\n",
    "SELECT\n",
    "\tlp AS line_pointer\n",
    "\t,lp_off AS liner_pointer_offset\n",
    "\t,lp_len AS liner_pointer_length\n",
    "\t,lp_off - lp_len AS next_liner_pointer_offset\n",
    "\t,t_xmin\n",
    "\t,t_xmax\n",
    "\t,t_ctid\n",
    "FROM \n",
    "\theap_page_items(get_raw_page('tbl', 0)) hp;\n",
    "```SQL\n"
   ]
  },
  {
   "cell_type": "markdown",
   "metadata": {},
   "source": [
    "### Update"
   ]
  },
  {
   "cell_type": "markdown",
   "metadata": {},
   "source": [
    "```SQL\n",
    "-- Some row\n",
    "UPDATE tbl SET data = 1 WHERE id = 1;\n",
    "SELECT * FROM vw_inspect_tbl_first_page;\n",
    "```"
   ]
  },
  {
   "cell_type": "markdown",
   "metadata": {},
   "source": [
    "```SQL\n",
    "-- Same row\n",
    "UPDATE tbl SET data = 2 WHERE id = 1;\n",
    "SELECT * FROM vw_inspect_tbl_first_page;\n",
    "```"
   ]
  },
  {
   "cell_type": "markdown",
   "metadata": {},
   "source": [
    "## Delete"
   ]
  },
  {
   "cell_type": "markdown",
   "metadata": {},
   "source": [
    "```SQL\n",
    "-- Some row\n",
    "DELETE FROM tbl WHERE id = 2;\n",
    "SELECT * FROM vw_inspect_tbl_first_page;\n",
    "```"
   ]
  },
  {
   "cell_type": "markdown",
   "metadata": {},
   "source": [
    "```SQL\n",
    "-- Same row\n",
    "DELETE FROM tbl WHERE id = 1;\n",
    "SELECT * FROM vw_inspect_tbl_first_page;\n",
    "```"
   ]
  }
 ],
 "metadata": {
  "language_info": {
   "name": "python"
  }
 },
 "nbformat": 4,
 "nbformat_minor": 2
}
