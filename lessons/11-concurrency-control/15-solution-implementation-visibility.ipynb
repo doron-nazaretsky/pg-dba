{
 "cells": [
  {
   "cell_type": "markdown",
   "metadata": {},
   "source": [
    "# Visibility"
   ]
  },
  {
   "cell_type": "markdown",
   "metadata": {},
   "source": [
    "After understanding the structures, let's see how they are used to implement snapshot isolation.\n",
    "\n",
    "Visibility - wether a transaction is allowed to see some tuple or not."
   ]
  }
 ],
 "metadata": {
  "language_info": {
   "name": "python"
  }
 },
 "nbformat": 4,
 "nbformat_minor": 2
}
