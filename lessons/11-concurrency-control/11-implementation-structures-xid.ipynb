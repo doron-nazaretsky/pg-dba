{
 "cells": [
  {
   "cell_type": "markdown",
   "metadata": {},
   "source": [
    "# Transaction IDS"
   ]
  },
  {
   "cell_type": "markdown",
   "metadata": {},
   "source": [
    "Every transaction is identified by a unique `VirtualTransactionId` (`vxid`), which is comprised of a backend ID (or `backendID`) and a sequentially-assigned number local to each backend, known as `localXID`.\n",
    "\n",
    "Non-virtual TransactionIds (`xid`), are assigned sequentially to transactions from a global counter used by all databases within the PostgreSQL cluster. This assignment happens when a transaction *first writes* to the database."
   ]
  },
  {
   "cell_type": "markdown",
   "metadata": {},
   "source": [
    "```SQL\n",
    "SELECT pg_current_xact_id_if_assigned(); -- Nothing, because there is no xid\n",
    "\n",
    "-- Get vxid of current transaction\n",
    "SELECT \n",
    "\tpid,\n",
    "\trelation::regclass AS relation,\n",
    "\tvirtualxid as vxid,\n",
    "\ttransactionid as xid,\n",
    "\tmode\n",
    "FROM pg_locks\n",
    "WHERE pid = (SELECT pg_backend_pid());\n",
    "```"
   ]
  },
  {
   "cell_type": "markdown",
   "metadata": {},
   "source": [
    "```SQL\n",
    "BEGIN; \n",
    "DROP TABLE IF EXISTS A; \n",
    "CREATE TABLE A(A INT); \n",
    "SELECT pg_current_xact_id_if_assigned(); -- Got an XID\n",
    "ROLLBACK;\n",
    "```"
   ]
  },
  {
   "cell_type": "markdown",
   "metadata": {},
   "source": [
    "txids can be compared with each other (in a circle):\n",
    "\n",
    "<img src=\"./helpers/txid-comparison.png\" alt=\"drawing\" width=\"900\"/>"
   ]
  },
  {
   "cell_type": "markdown",
   "metadata": {},
   "source": [
    "## Transaction ID Wraparound"
   ]
  },
  {
   "cell_type": "markdown",
   "metadata": {},
   "source": [
    "Since transaction IDs have limited size (32 bits) a cluster that runs for a long time (more than 4 billion transactions) would suffer transaction ID wraparound: the XID counter wraps around to zero, and all of a sudden transactions that were in the past appear to be in the future — which means their output become invisible.\n",
    "\n",
    "To prevent this, PostgreSQL reserves a special XID, `FrozenTransactionId`, which does not follow the normal XID comparison rules and is always considered older than every normal XID. Frozen row versions are treated as if the inserting XID were `FrozenTransactionId`, so that they will appear to be “in the past” to all normal transactions regardless of wraparound issues, and so such row versions will be valid until deleted, no matter how long that is."
   ]
  }
 ],
 "metadata": {
  "language_info": {
   "name": "python"
  }
 },
 "nbformat": 4,
 "nbformat_minor": 2
}
