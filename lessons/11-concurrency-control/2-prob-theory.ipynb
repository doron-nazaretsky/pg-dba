{
 "cells": [
  {
   "cell_type": "markdown",
   "metadata": {},
   "source": [
    "# Problem Theory"
   ]
  },
  {
   "cell_type": "markdown",
   "metadata": {},
   "source": [
    "## Terminology"
   ]
  },
  {
   "cell_type": "markdown",
   "metadata": {},
   "source": [
    "- History / Schedule - order of execution for a set of transactions\n",
    "- Tn - resembles a specific transaction place in a history\n",
    "- R(x) - `read` operation on object `x`\n",
    "- W(x) - `write` operation on object `x`\n",
    "- Com. - commit transaction\n",
    "- Abort - abort transaction"
   ]
  },
  {
   "cell_type": "markdown",
   "metadata": {},
   "source": [
    "## Serial Example"
   ]
  },
  {
   "cell_type": "markdown",
   "metadata": {},
   "source": [
    "T1\t        |   T2  \n",
    "--          |   --  \n",
    "R(X)        |       \n",
    "W(X)        |       \n",
    "Com.        |       \n",
    "&#xfeff;    |   R(Y)\n",
    "&#xfeff;    |   W(Y)\n",
    "&#xfeff;    |   Com."
   ]
  },
  {
   "cell_type": "markdown",
   "metadata": {},
   "source": [
    "## Concurrent Example"
   ]
  },
  {
   "cell_type": "markdown",
   "metadata": {},
   "source": [
    "Think what can go wrong here in terms of consistency and isolation"
   ]
  },
  {
   "cell_type": "markdown",
   "metadata": {},
   "source": [
    "T1\t        |   T2  \n",
    "--          |   --  \n",
    "R(X)        |       \n",
    "&#xfeff;    |   R(X)\n",
    "&#xfeff;    |   W(X)\n",
    "W(X)        |       \n",
    "&#xfeff;    |   Com.\n",
    "Com.        |       "
   ]
  },
  {
   "cell_type": "markdown",
   "metadata": {},
   "source": [
    "### Possible Problems"
   ]
  },
  {
   "cell_type": "markdown",
   "metadata": {},
   "source": [
    "- T2 can get earlier ID than T1 on write\n",
    "- T2 should see T1 write because it happened before, but it this way it can't \n",
    "- T1 can conflict with T2 because it's read is not representing the table state at write\n",
    "- T1 can be affected by T2 but then T2 could abort and T1 will commit with a weird state, an ID gap can develop"
   ]
  }
 ],
 "metadata": {
  "language_info": {
   "name": "python"
  }
 },
 "nbformat": 4,
 "nbformat_minor": 2
}
