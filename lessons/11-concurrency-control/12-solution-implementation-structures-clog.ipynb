{
 "cells": [
  {
   "cell_type": "markdown",
   "metadata": {},
   "source": [
    "# Commit Log (CLOG)"
   ]
  },
  {
   "cell_type": "markdown",
   "metadata": {},
   "source": [
    "Array transaction ids and their status:\n",
    "- IN_PROGRESS\n",
    "- COMMITTED\n",
    "- ABORTED\n",
    "- SUB_COMMITTED"
   ]
  },
  {
   "cell_type": "markdown",
   "metadata": {},
   "source": [
    "This information is stored in `pg_xact` directory in 256KB files named `0000`, `0001`, etc."
   ]
  }
 ],
 "metadata": {
  "language_info": {
   "name": "python"
  }
 },
 "nbformat": 4,
 "nbformat_minor": 2
}
