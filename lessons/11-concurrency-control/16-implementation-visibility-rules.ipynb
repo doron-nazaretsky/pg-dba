{
 "cells": [
  {
   "cell_type": "markdown",
   "metadata": {},
   "source": [
    "# Rules"
   ]
  },
  {
   "cell_type": "markdown",
   "metadata": {},
   "source": [
    "The following is somewhat a simplified flow chart of visibility rules that decide if a certain tuple is visible to some transaction or not.\n",
    "\n",
    "There is no reason to remember it, the important part is to understand how `clog`, `tuple predicates` and `snapshots` are combined to achieve visibility."
   ]
  },
  {
   "cell_type": "markdown",
   "metadata": {},
   "source": [
    "```{note} The following is somewhat a simplified flow chart of visibility rules that decide if a certain tuple is visible to some transaction or not.\n",
    "```"
   ]
  },
  {
   "cell_type": "markdown",
   "metadata": {},
   "source": [
    "<img src=\"./helpers/concurrency-control-visibility-rules.png\" alt=\"drawing\" height=1000/>"
   ]
  }
 ],
 "metadata": {
  "language_info": {
   "name": "python"
  }
 },
 "nbformat": 4,
 "nbformat_minor": 2
}
