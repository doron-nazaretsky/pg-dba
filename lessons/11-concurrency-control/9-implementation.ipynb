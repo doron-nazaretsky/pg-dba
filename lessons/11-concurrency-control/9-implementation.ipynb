{
 "cells": [
  {
   "cell_type": "markdown",
   "metadata": {},
   "source": [
    "# Implementation"
   ]
  },
  {
   "cell_type": "markdown",
   "metadata": {},
   "source": [
    "Let's understand PostgreSQL's MVCC implementation internals"
   ]
  },
  {
   "cell_type": "markdown",
   "metadata": {},
   "source": [
    "## Idea"
   ]
  },
  {
   "cell_type": "markdown",
   "metadata": {},
   "source": [
    "Every time we need to modify a row, just add a new version of it to be able to show the previous version to transactions that shouldn't see this modification yet. "
   ]
  },
  {
   "cell_type": "markdown",
   "metadata": {},
   "source": [
    "### Row VS Tuple"
   ]
  },
  {
   "cell_type": "markdown",
   "metadata": {},
   "source": [
    "- Tuple - a single data object that represent a single `version` of a row.\n",
    "- Row - logical table row, can consist of one or many tuples."
   ]
  },
  {
   "cell_type": "markdown",
   "metadata": {},
   "source": [
    "### DML Operations"
   ]
  },
  {
   "cell_type": "markdown",
   "metadata": {},
   "source": [
    "- `INSERT` - Create a new `row` with a single new `tuple`.\n",
    "- `DELETE` - Delete a `row`, marks last `tuple` as `dead`.\n",
    "- `UPDATE` - Update a `row`, marks last `tuple` as `dead` and create a new `tuple` that represents the updated version of the `row`."
   ]
  },
  {
   "cell_type": "markdown",
   "metadata": {},
   "source": [
    "## Prepare Env"
   ]
  },
  {
   "cell_type": "markdown",
   "metadata": {},
   "source": [
    "To see the implementation details in hands-on style we will use the `pg_visibility` and `pageinspect` extensions to look under the hood."
   ]
  },
  {
   "cell_type": "markdown",
   "metadata": {},
   "source": [
    "```SQL\n",
    "CREATE EXTENSION pg_visibility;\n",
    "CREATE EXTENSION pageinspect;\n",
    "```"
   ]
  }
 ],
 "metadata": {
  "language_info": {
   "name": "python"
  }
 },
 "nbformat": 4,
 "nbformat_minor": 2
}
