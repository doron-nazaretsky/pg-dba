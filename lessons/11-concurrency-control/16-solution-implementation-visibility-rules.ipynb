{
 "cells": [
  {
   "cell_type": "markdown",
   "metadata": {},
   "source": [
    "# Rules"
   ]
  },
  {
   "cell_type": "markdown",
   "metadata": {},
   "source": [
    "TODO - Draw a scheme"
   ]
  },
  {
   "cell_type": "code",
   "execution_count": null,
   "metadata": {
    "vscode": {
     "languageId": "sql"
    }
   },
   "outputs": [],
   "source": [
    "/* t_xmin status == ABORTED */\n",
    "Rule 1:\n",
    "IF t_xmin status is 'ABORTED' THEN RETURN 'Invisible' END IF\n",
    "\n",
    "/* t_xmin status == IN_PROGRESS */\n",
    "       IF t_xmin status is 'IN_PROGRESS' THEN\n",
    "              IF t_xmin = current_txid THEN\n",
    "Rule 2:              IF t_xmax = INVALID THEN\n",
    "                           RETURN 'Visible'\n",
    "Rule 3:              ELSE  /* this tuple has been deleted or updated  */\n",
    "                           /* by the current transaction itself.      */\n",
    "                            RETURN 'Invisible'\n",
    "                     END IF\n",
    "Rule 4:       ELSE   /* t_xmin &ne; current_txid */\n",
    "                     RETURN 'Invisible'\n",
    "              END IF\n",
    "       END IF"
   ]
  }
 ],
 "metadata": {
  "language_info": {
   "name": "python"
  }
 },
 "nbformat": 4,
 "nbformat_minor": 2
}
