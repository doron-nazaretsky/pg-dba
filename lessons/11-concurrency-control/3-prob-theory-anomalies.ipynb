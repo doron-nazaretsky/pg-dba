{
 "cells": [
  {
   "cell_type": "markdown",
   "metadata": {},
   "source": [
    "# Anomalies"
   ]
  },
  {
   "cell_type": "markdown",
   "metadata": {},
   "source": [
    "ANSI described some isolation levels that have to be implemented to deal with concurrency.\n",
    "\n",
    "They are based on the different *Data Anomalies* that they allow in terms of concurrent transactions."
   ]
  },
  {
   "cell_type": "markdown",
   "metadata": {},
   "source": [
    "## Prepare Env"
   ]
  },
  {
   "cell_type": "code",
   "execution_count": null,
   "metadata": {
    "vscode": {
     "languageId": "sql"
    }
   },
   "outputs": [],
   "source": [
    "DROP TABLE IF EXISTS users;\n",
    "CREATE TABLE users(id INT, name VARCHAR(250), age INT);\n",
    "\n",
    "INSERT INTO users VALUES\n",
    "(1, 'Alice', 20),\n",
    "(2, 'Bob', 25);\n",
    "COMMIT;"
   ]
  },
  {
   "cell_type": "markdown",
   "metadata": {},
   "source": [
    "## Dirty Read"
   ]
  },
  {
   "cell_type": "markdown",
   "metadata": {},
   "source": [
    "**See uncommitted changes**\n",
    "\n",
    "Occurs when a transaction retrieves a row that has been updated by another transaction that is not yet committed."
   ]
  },
  {
   "cell_type": "markdown",
   "metadata": {},
   "source": [
    "```SQL\n",
    "/** Transaction 1 **/\n",
    "BEGIN;\n",
    "SELECT age FROM users WHERE id = 1;\n",
    "-- Retrieves 20\n",
    "```\n",
    "\n",
    "```SQL\n",
    "/** Transaction 2 **/\n",
    "BEGIN;\n",
    "UPDATE users SET age = 21 WHERE id = 1;\n",
    "-- No commit!\n",
    "```\n",
    "\n",
    "```SQL\n",
    "/** Transaction 1 **/\n",
    "SELECT age FROM users WHERE id = 1;\n",
    "-- Retrieves 21 -> CHANGED\n",
    "-- In a serial database that would be still 20!\n",
    "COMMIT;\n",
    "```"
   ]
  },
  {
   "cell_type": "markdown",
   "metadata": {},
   "source": [
    "## Non-Repeatable Read"
   ]
  },
  {
   "cell_type": "markdown",
   "metadata": {},
   "source": [
    "**See committed changes on row between two queries**\n",
    "\n",
    "Occurs when a transaction retrieves a row twice and that row is updated by another transaction that is committed in between"
   ]
  },
  {
   "cell_type": "markdown",
   "metadata": {},
   "source": [
    "```SQL\n",
    "/** Transaction 1 **/\n",
    "BEGIN;\n",
    "SELECT age FROM users WHERE id = 1;\n",
    "-- Retrieves 20\n",
    "```\n",
    "\n",
    "```SQL\n",
    "/** Transaction 2 **/\n",
    "BEGIN;\n",
    "UPDATE users SET age = 21 WHERE id = 1;\n",
    "COMMIT; -- Committed!\n",
    "```\n",
    "\n",
    "```SQL\n",
    "/** Transaction 1 **/\n",
    "SELECT age FROM users WHERE id = 1;\n",
    "-- Retrieves 21 -> CHANGED\n",
    "-- In a serial database that would be still 20!\n",
    "COMMIT;\n",
    "```"
   ]
  },
  {
   "cell_type": "markdown",
   "metadata": {},
   "source": [
    "## Phantom Read"
   ]
  },
  {
   "cell_type": "markdown",
   "metadata": {},
   "source": [
    "**See committed changes on result set between two queries**\n",
    "\n",
    "Occurs when a transaction retrieves a set of rows twice and new rows are inserted into or removed from that set by another transaction that is committed in between"
   ]
  },
  {
   "cell_type": "markdown",
   "metadata": {},
   "source": [
    "```SQL\n",
    "/** Transaction 1 **/\n",
    "BEGIN;\n",
    "SELECT name FROM users WHERE age > 17;\n",
    "-- Retrieves [Alice, Bob]\n",
    "```\n",
    "\n",
    "```SQL\n",
    "/** Transaction 2 **/\n",
    "BEGIN;\n",
    "INSERT INTO users VALUES (3, 'Carol', 26);\n",
    "COMMIT; -- Committed!\n",
    "```\n",
    "\n",
    "```SQL\n",
    "/** Transaction 1 **/\n",
    "SELECT name FROM users WHERE age > 17;\n",
    "-- Retrieves [Alice, Bob, Carol] -> CHANGED\n",
    "-- In a serial database that would be still [Alice, Bob]!\n",
    "COMMIT;\n",
    "```"
   ]
  },
  {
   "cell_type": "markdown",
   "metadata": {},
   "source": [
    "## Lost Updates"
   ]
  },
  {
   "cell_type": "markdown",
   "metadata": {},
   "source": [
    "**Two concurrent updates overwrite each other**\n",
    "\n",
    "A lost update is a scenario in which two or more transactions update the same row, but neither transaction is aware of the modification made by the other transaction, and the second change overwrites the first modification."
   ]
  },
  {
   "cell_type": "markdown",
   "metadata": {},
   "source": [
    "### Classic Scenario"
   ]
  },
  {
   "cell_type": "markdown",
   "metadata": {},
   "source": [
    "This won't happen in Postgres"
   ]
  },
  {
   "cell_type": "markdown",
   "metadata": {},
   "source": [
    "```SQL\n",
    "/** Transaction 1 **/\n",
    "BEGIN;\n",
    "UPDATE users SET age = age + 5 WHERE name = 'Carol';\n",
    "-- 26 + 5 -> 31\n",
    "```\n",
    "\n",
    "```SQL\n",
    "/** Transaction 2 **/\n",
    "BEGIN;\n",
    "UPDATE users SET age = age + 10 WHERE name = 'Carol';\n",
    "-- 26 + 10 -> 36\n",
    "COMMIT; -- Commits to 36\n",
    "```\n",
    "\n",
    "```SQL\n",
    "/** Transaction 1 **/\n",
    "COMMIT; -- Commits to 31 -> Transaction 2 is overwritten\n",
    "-- In a serial database this would end up with 26 + 5 + 10 = 41! \n",
    "```"
   ]
  },
  {
   "cell_type": "markdown",
   "metadata": {},
   "source": [
    "### Possible Problematic Scenario"
   ]
  },
  {
   "cell_type": "markdown",
   "metadata": {},
   "source": [
    "```SQL\n",
    "UPDATE users SET age = 26 WHERE name = 'Carol';\n",
    "COMMIT;\n",
    "```\n",
    "\n",
    "```SQL\n",
    "/** Transaction 1 **/\n",
    "BEGIN;\n",
    "SELECT age INTO carols_age FROM users WHERE name = 'Carol';\n",
    "SELECT * FROM carols_age;\n",
    "```\n",
    "\n",
    "```SQL\n",
    "/** Transaction 2 **/\n",
    "BEGIN;\n",
    "UPDATE users SET age = age + 10 WHERE name = 'Carol';\n",
    "SELECT age FROM users WHERE name = 'Carol';\n",
    "-- 26 + 10 -> 36\n",
    "COMMIT; -- Commits to 36\n",
    "```\n",
    "\n",
    "```SQL\n",
    "/** Transaction 1 **/\n",
    "UPDATE users SET age = (SELECT age FROM carols_age) + 5 WHERE name = 'Carol';\n",
    "SELECT age FROM users WHERE name = 'Carol';\n",
    "-- 26 + 5 -> 31\n",
    "COMMIT; -- Commits to 31 -> Transaction 2 is overwritten\n",
    "-- In a serial database this would end up with 26 + 5 + 10 = 41! \n",
    "```"
   ]
  },
  {
   "cell_type": "markdown",
   "metadata": {},
   "source": [
    "Now try the same thing when transaction 1 is in `Repeatable Read` isolation level!"
   ]
  }
 ],
 "metadata": {
  "language_info": {
   "name": "python"
  }
 },
 "nbformat": 4,
 "nbformat_minor": 2
}
