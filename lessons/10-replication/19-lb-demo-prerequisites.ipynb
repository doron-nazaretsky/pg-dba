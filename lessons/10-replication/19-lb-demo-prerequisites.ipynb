{
 "cells": [
  {
   "cell_type": "markdown",
   "metadata": {},
   "source": [
    "# Prerequisites"
   ]
  },
  {
   "cell_type": "markdown",
   "metadata": {},
   "source": [
    "- 3 Linux machines with PG and Patroni installed\n",
    "- 3 Linux machines with etcd nodes\n",
    "- 1 Linux machine (for haproxy, on docker-compose change command to sleep infinity)\n",
    "- 1 Linux machine with client tools to query postgres"
   ]
  }
 ],
 "metadata": {
  "language_info": {
   "name": "python"
  }
 },
 "nbformat": 4,
 "nbformat_minor": 2
}
