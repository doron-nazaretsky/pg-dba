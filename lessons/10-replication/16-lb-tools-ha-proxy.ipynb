{
 "cells": [
  {
   "cell_type": "markdown",
   "metadata": {},
   "source": [
    "# HAProxy"
   ]
  },
  {
   "cell_type": "markdown",
   "metadata": {},
   "source": [
    "<img src=\"./helpers/haproxy-icon.jpeg\" alt=\"drawing\" width=\"600\"/>"
   ]
  },
  {
   "cell_type": "markdown",
   "metadata": {},
   "source": [
    "## Description"
   ]
  },
  {
   "cell_type": "markdown",
   "metadata": {},
   "source": [
    "A feature rich and very performant (regular or reverse) proxy that is mainly used for High Availability and Load Balancing.\n",
    "\n",
    "On cloud environment this will be typically replaced by a native proxy."
   ]
  },
  {
   "cell_type": "markdown",
   "metadata": {},
   "source": [
    "## Responsibility In Our Environment"
   ]
  },
  {
   "cell_type": "markdown",
   "metadata": {},
   "source": [
    "- Serve as a single point of interaction for the users of the DB and encapsulate the multi node architecture behind it.\n",
    "- Load balance between read replicas\n",
    "- Differentiate between read and write traffic and route the requests to the relevant server considering the current state of the cluster"
   ]
  }
 ],
 "metadata": {
  "language_info": {
   "name": "python"
  }
 },
 "nbformat": 4,
 "nbformat_minor": 2
}
