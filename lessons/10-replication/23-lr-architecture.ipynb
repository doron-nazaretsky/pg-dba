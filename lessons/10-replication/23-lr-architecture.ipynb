{
 "cells": [
  {
   "cell_type": "markdown",
   "metadata": {},
   "source": [
    "# Architecture"
   ]
  },
  {
   "cell_type": "markdown",
   "metadata": {},
   "source": [
    "The logical replication is built on top of the physical replication both abstractly and even implementation wise"
   ]
  },
  {
   "cell_type": "markdown",
   "metadata": {},
   "source": [
    "## Regular Flow"
   ]
  },
  {
   "cell_type": "markdown",
   "metadata": {},
   "source": [
    "An already created logical replication setup"
   ]
  },
  {
   "cell_type": "markdown",
   "metadata": {},
   "source": [
    "<img src=\"./helpers/logical-replication-regular-flow.png\" alt=\"drawing\" height=\"500\"/>"
   ]
  },
  {
   "cell_type": "markdown",
   "metadata": {},
   "source": [
    "## Init Flow"
   ]
  },
  {
   "cell_type": "markdown",
   "metadata": {},
   "source": [
    "Setup a new logical replication"
   ]
  },
  {
   "cell_type": "markdown",
   "metadata": {},
   "source": [
    "<img src=\"./helpers/logical-replication-initial-flow.png\" alt=\"drawing\" height=\"800\"/>"
   ]
  },
  {
   "cell_type": "markdown",
   "metadata": {},
   "source": [
    "## Worker Types"
   ]
  },
  {
   "cell_type": "markdown",
   "metadata": {},
   "source": [
    "- Table Sync - Responsible for initial sync of a single **replicated table**. There is always 1-1 relation between table sync workers and tables, multiple can run in parallel for different tables.\n",
    "- Leader Apply - In charge of coordinating (in parallel mode) and applying (in regular mode) of a single on-going **subscription**.\n",
    "- Parallel Apply - In charge of applying changes along side with other parallel apply workers in a single **subscription**."
   ]
  },
  {
   "cell_type": "markdown",
   "metadata": {},
   "source": [
    "## Streaming Types"
   ]
  },
  {
   "cell_type": "markdown",
   "metadata": {},
   "source": [
    "- Off - Send transaction to subscriber only when transaction committed on publisher.\n",
    "- On - Stream changes continuously to subscriber, write to temp file on subscriber and only on transaction commit on publisher side the subscriber commit it as well. Good to technique to deal with long running transaction that include large amount of changes.\n",
    "- Parallel - Same as `on` but applied in parallel with multiple `parallel apply` workers."
   ]
  }
 ],
 "metadata": {
  "kernelspec": {
   "display_name": "Python 3 (ipykernel)",
   "language": "python",
   "name": "python3"
  },
  "language_info": {
   "codemirror_mode": {
    "name": "ipython",
    "version": 3
   },
   "file_extension": ".py",
   "mimetype": "text/x-python",
   "name": "python",
   "nbconvert_exporter": "python",
   "pygments_lexer": "ipython3",
   "version": "3.11.6"
  }
 },
 "nbformat": 4,
 "nbformat_minor": 4
}
