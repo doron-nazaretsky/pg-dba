{
 "cells": [
  {
   "cell_type": "markdown",
   "metadata": {},
   "source": [
    "# Architecture"
   ]
  },
  {
   "cell_type": "markdown",
   "metadata": {},
   "source": [
    "## High Level"
   ]
  },
  {
   "cell_type": "markdown",
   "metadata": {},
   "source": [
    "<img src=\"./helpers/wal-replication.png\" alt=\"drawing\"/>"
   ]
  },
  {
   "cell_type": "markdown",
   "metadata": {},
   "source": [
    "## Primary"
   ]
  },
  {
   "cell_type": "markdown",
   "metadata": {},
   "source": [
    "**File Based**\n",
    "\n",
    "The primary is just doing continuous WAL archiving in an accessible to standby machine place."
   ]
  },
  {
   "cell_type": "markdown",
   "metadata": {},
   "source": [
    "## Standby Mode"
   ]
  },
  {
   "cell_type": "markdown",
   "metadata": {},
   "source": [
    "A server enters standby mode (standby loop) if a `standby.signal` file exists in the data directory when the server is started.\n",
    "\n",
    "Standby mode is exited and the server switches to normal operation when `pg_ctl promote` is run, or `pg_promote()` is called."
   ]
  },
  {
   "cell_type": "markdown",
   "metadata": {},
   "source": [
    "<img src=\"./helpers/Replication - Standby Loop.png\" alt=\"drawing\"/>"
   ]
  },
  {
   "cell_type": "markdown",
   "metadata": {},
   "source": [
    "## Streaming"
   ]
  },
  {
   "cell_type": "markdown",
   "metadata": {},
   "source": [
    "<img src=\"./helpers/streaming-replication-architecture.png\" alt=\"drawing\" width=\"700\"/>\n",
    "\n",
    "1. Start the primary and standby servers.\n",
    "1. The standby server starts the startup process.\n",
    "1. The standby server starts a walreceiver process.\n",
    "1. The walreceiver sends a connection request to the primary server. If the primary server is not running, the walreceiver sends these requests periodically.\n",
    "1. When the primary server receives a connection request, it starts a walsender process and a TCP connection is established between the walsender and walreceiver.\n",
    "1. Handshake: the walreceiver sends the latest LSN (Log Sequence Number) of standby’s database cluster.\n",
    "1. If the standby’s latest LSN is less than the primary’s latest LSN (Standby’s LSN Primary’s LSN), the walsender sends WAL data from the former LSN to the latter LSN. These WAL data are provided by WAL segments stored in the primary’s pg_wal subdirectory. The standby server then replays the received WAL data. In this phase, the standby catches up with the primary, so it is called catch-up.\n",
    "1. Streaming Replication begins to work."
   ]
  },
  {
   "cell_type": "markdown",
   "metadata": {},
   "source": [
    "## Cascading Replication"
   ]
  },
  {
   "cell_type": "markdown",
   "metadata": {},
   "source": [
    "Idea: use a standby as an upstream of data changes in the primary to not have to connect directly to the primary"
   ]
  },
  {
   "cell_type": "markdown",
   "metadata": {},
   "source": [
    "<img src=\"./helpers/cascading-replication.png\" alt=\"drawing\" height=\"500\"/>"
   ]
  }
 ],
 "metadata": {
  "language_info": {
   "name": "python"
  }
 },
 "nbformat": 4,
 "nbformat_minor": 2
}
