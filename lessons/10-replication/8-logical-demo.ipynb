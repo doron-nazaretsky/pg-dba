{
 "cells": [
  {
   "cell_type": "markdown",
   "metadata": {},
   "source": [
    "# Prepare Env"
   ]
  },
  {
   "cell_type": "markdown",
   "metadata": {},
   "source": [
    "## Pre Requisites"
   ]
  },
  {
   "cell_type": "markdown",
   "metadata": {},
   "source": [
    "- 3 Linux machines with PostgreSQL installed that are reachable for each other network wise\n",
    "- Hosts named resolved with db-1, db-2, db-3"
   ]
  },
  {
   "cell_type": "markdown",
   "metadata": {},
   "source": [
    "# Demo"
   ]
  },
  {
   "cell_type": "markdown",
   "metadata": {},
   "source": [
    "## Adjust Configurations"
   ]
  },
  {
   "cell_type": "code",
   "execution_count": null,
   "metadata": {
    "vscode": {
     "languageId": "bash"
    }
   },
   "outputs": [],
   "source": [
    "#### On Every Machine ####\n",
    "su postgres\n",
    "cd $PGDATA\n",
    "## WAL Level ##\n",
    "sed -i \"s/#*wal_level.*/wal_level = logical/\" postgresql.conf\n",
    "\n",
    "## Logs ##\n",
    "sed -i \"s/#*logging_collector.*/logging_collector = on/\" postgresql.conf\n",
    "sed -i \"s/#*log_replication_commands.*/log_replication_commands = on/\" postgresql.conf\n",
    "sed -i \"s/#*log_min_messages.*/log_min_messages = INFO/\" postgresql.conf\n",
    "alias pg_logs='tail -n 20 log/`ls -t log | head -n 1`'\n",
    "\n",
    "\n",
    "## Restart server to apply configurations\n",
    "pg_ctl restart\n",
    "psql -c \"SHOW wal_level;\" # Make sure it's logical"
   ]
  },
  {
   "cell_type": "markdown",
   "metadata": {},
   "source": [
    "## Single Source"
   ]
  },
  {
   "cell_type": "markdown",
   "metadata": {},
   "source": [
    "### Setup Replication"
   ]
  },
  {
   "cell_type": "markdown",
   "metadata": {},
   "source": [
    "#### Create Tables"
   ]
  },
  {
   "cell_type": "code",
   "execution_count": null,
   "metadata": {
    "vscode": {
     "languageId": "bash"
    }
   },
   "outputs": [],
   "source": [
    "#### On Both db-1, db-2 ####\n",
    "psql -c \"CREATE TABLE replicated_a(id INT PRIMARY KEY, data VARCHAR(40));\"\n",
    "psql -c \"CREATE TABLE replicated_b(id INT PRIMARY KEY, data VARCHAR(40));\""
   ]
  },
  {
   "cell_type": "markdown",
   "metadata": {},
   "source": [
    "#### Create Publication"
   ]
  },
  {
   "cell_type": "code",
   "execution_count": null,
   "metadata": {
    "vscode": {
     "languageId": "bash"
    }
   },
   "outputs": [],
   "source": [
    "#### On db-1 ####\n",
    "psql -c \"CREATE PUBLICATION pub_all_tbl FOR ALL TABLES;\"\n",
    "psql -c \"SELECT * FROM pg_publication;\"\n",
    "psql -c \"SELECT * FROM pg_publication_tables;\""
   ]
  },
  {
   "cell_type": "markdown",
   "metadata": {},
   "source": [
    "#### Create Subscription"
   ]
  },
  {
   "cell_type": "code",
   "execution_count": null,
   "metadata": {
    "vscode": {
     "languageId": "bash"
    }
   },
   "outputs": [],
   "source": [
    "#### On db-2 ####\n",
    "psql -c \"CREATE SUBSCRIPTION sub_db1_all_tbl CONNECTION 'host=db-1 password=cool-postgres-course' PUBLICATION pub_all_tbl;\"\n",
    "psql -c \"SELECT * FROM pg_subscription;\"\n",
    "psql -c \"SELECT * FROM pg_subscription_rel;\"\n",
    "pg_logs\n",
    "\n",
    "#### Check out what happend on db-1 as well ##\n",
    "pg_logs -n 60"
   ]
  },
  {
   "cell_type": "markdown",
   "metadata": {},
   "source": [
    "### Change Rows"
   ]
  },
  {
   "cell_type": "markdown",
   "metadata": {},
   "source": [
    "#### Set select alias"
   ]
  },
  {
   "cell_type": "code",
   "execution_count": null,
   "metadata": {
    "vscode": {
     "languageId": "bash"
    }
   },
   "outputs": [],
   "source": [
    "#### db-2 ####\n",
    "alias pg_select_rep_a='psql -c \"SELECT * FROM replicated_a;\"'\n",
    "alias pg_select_rep_b='psql -c \"SELECT * FROM replicated_b;\"'"
   ]
  },
  {
   "cell_type": "markdown",
   "metadata": {},
   "source": [
    "#### Insert"
   ]
  },
  {
   "cell_type": "code",
   "execution_count": null,
   "metadata": {
    "vscode": {
     "languageId": "bash"
    }
   },
   "outputs": [],
   "source": [
    "#### db-1 ####\n",
    "psql -c \"INSERT INTO replicated_a VALUES (1, 'a'), (2, 'b');\"\n",
    "\n",
    "#### db-2 ####\n",
    "pg_select_rep_a"
   ]
  },
  {
   "cell_type": "markdown",
   "metadata": {},
   "source": [
    "#### Update"
   ]
  },
  {
   "cell_type": "code",
   "execution_count": null,
   "metadata": {
    "vscode": {
     "languageId": "bash"
    }
   },
   "outputs": [],
   "source": [
    "#### db-1 ####\n",
    "psql -c \"UPDATE replicated_a SET data = 'c' WHERE id = 1;\"\n",
    "\n",
    "#### db-2 ####\n",
    "pg_select_rep_a"
   ]
  },
  {
   "cell_type": "markdown",
   "metadata": {},
   "source": [
    "#### Delete"
   ]
  },
  {
   "cell_type": "code",
   "execution_count": null,
   "metadata": {
    "vscode": {
     "languageId": "bash"
    }
   },
   "outputs": [],
   "source": [
    "#### db-1 ####\n",
    "psql -c \"DELETE FROM replicated_a WHERE id = 2;\"\n",
    "\n",
    "#### db-2 ####\n",
    "pg_select_rep_a"
   ]
  },
  {
   "cell_type": "markdown",
   "metadata": {},
   "source": [
    "### Handle Conflicts"
   ]
  },
  {
   "cell_type": "markdown",
   "metadata": {},
   "source": [
    "#### Set monitoring alias"
   ]
  },
  {
   "cell_type": "code",
   "execution_count": null,
   "metadata": {
    "vscode": {
     "languageId": "bash"
    }
   },
   "outputs": [],
   "source": [
    "#### db-2 ####\n",
    "alias pg_sub_stats='echo \"SELECT * FROM pg_stat_subscription_stats; \\watch i=5 c=4\" | psql' # Cumulative\n",
    "alias pg_sub='psql -c \"SELECT * FROM pg_stat_subscription;\"' # Dynamic"
   ]
  },
  {
   "cell_type": "markdown",
   "metadata": {},
   "source": [
    "#### Create Conflict"
   ]
  },
  {
   "cell_type": "code",
   "execution_count": null,
   "metadata": {
    "vscode": {
     "languageId": "bash"
    }
   },
   "outputs": [],
   "source": [
    "#### db-2 ####\n",
    "psql -c \"ALTER TABLE replicated_a ADD CONSTRAINT a_unique_data UNIQUE(data);\"\n",
    "\n",
    "#### db-1 ####\n",
    "psql -c \"INSERT INTO replicated_a VALUES (2, 'z'), (3, 'z');\"\n",
    "\n",
    "#### db-2 ####\n",
    "## Check out the subscription\n",
    "pg_select_rep_a\n",
    "pg_logs -n 100\n",
    "pg_sub\n",
    "pg_sub_stats\n",
    "\n",
    "\n",
    "#### db-1 ####\n",
    "## Look on the delta\n",
    "psql << EOM\n",
    "SELECT \n",
    "    pg_size_pretty(pg_current_wal_lsn() - confirmed_flush_lsn) fall_behaind_size\n",
    "FROM pg_replication_slots\n",
    "WHERE slot_name = 'sub_db1_all_tbl';\n",
    "EOM"
   ]
  },
  {
   "cell_type": "markdown",
   "metadata": {},
   "source": [
    "#### Disable Subscription - Quit Loop"
   ]
  },
  {
   "cell_type": "code",
   "execution_count": null,
   "metadata": {
    "vscode": {
     "languageId": "bash"
    }
   },
   "outputs": [],
   "source": [
    "#### db-2 ####\n",
    "psql -c \"ALTER SUBSCRIPTION sub_db1_all_tbl SET (DISABLE_ON_ERROR='on');\"\n",
    "\n",
    "## Check out the subscription\n",
    "pg_sub\n",
    "pg_sub_stats"
   ]
  },
  {
   "cell_type": "markdown",
   "metadata": {},
   "source": [
    "#### Handle By Changing Constraint"
   ]
  },
  {
   "cell_type": "code",
   "execution_count": null,
   "metadata": {
    "vscode": {
     "languageId": "bash"
    }
   },
   "outputs": [],
   "source": [
    "#### db-2 ####\n",
    "## Remove constraint to handle error\n",
    "psql -c \"ALTER TABLE replicated_a DROP CONSTRAINT a_unique_data;\"\n",
    "\n",
    "## Enable the subscription\n",
    "psql -c \"ALTER SUBSCRIPTION sub_db1_all_tbl ENABLE;\"\n",
    "pg_select_rep_a"
   ]
  },
  {
   "cell_type": "markdown",
   "metadata": {},
   "source": [
    "#### Handle By Skipping LSN"
   ]
  },
  {
   "cell_type": "code",
   "execution_count": null,
   "metadata": {
    "vscode": {
     "languageId": "bash"
    }
   },
   "outputs": [],
   "source": [
    "###### Create conflict on replicated_b ######\n",
    "#### db-2 ####\n",
    "psql -c \"ALTER TABLE replicated_b ADD CONSTRAINT b_unique_data UNIQUE(data);\"\n",
    "\n",
    "#### db-1 ####\n",
    "psql -c \"INSERT INTO replicated_b VALUES (2, 'z'), (3, 'z');\"\n",
    "psql -c \"INSERT INTO replicated_b VALUES (4, 'z'), (5, 'x');\"\n",
    "\n",
    "\n",
    "###### Handle by skipping LSN ######\n",
    "## Find problematic LSN\n",
    "pg_logs\n",
    "\n",
    "## Skip LSN\n",
    "psql -c \"ALTER SUBSCRIPTION sub_db1_all_tbl SKIP (LSN='<lsn>');\"\n",
    "\n",
    "## Enable the subscription\n",
    "psql -c \"ALTER SUBSCRIPTION sub_db1_all_tbl ENABLE;\"\n",
    "pg_select_rep_b\n",
    "pg_sub\n",
    "pg_sub_stats"
   ]
  },
  {
   "cell_type": "markdown",
   "metadata": {},
   "source": [
    "## Multiple Sources"
   ]
  },
  {
   "cell_type": "markdown",
   "metadata": {},
   "source": [
    "### Setup Replication"
   ]
  },
  {
   "cell_type": "code",
   "execution_count": null,
   "metadata": {
    "vscode": {
     "languageId": "bash"
    }
   },
   "outputs": [],
   "source": [
    "#### db-3 ####\n",
    "psql -c \"CREATE TABLE replicated_a(id INT PRIMARY KEY, data VARCHAR(40));\"\n",
    "psql -c \"CREATE PUBLICATION pub_rep_a FOR TABLE replicated_a;\"\n",
    "\n",
    "#### db-2 ####\n",
    "psql -c \"CREATE SUBSCRIPTION sub_db3_rep_a CONNECTION 'host=db-3 password=cool-postgres-course' PUBLICATION pub_rep_a;\""
   ]
  },
  {
   "cell_type": "markdown",
   "metadata": {},
   "source": [
    "### Change Rows"
   ]
  },
  {
   "cell_type": "code",
   "execution_count": null,
   "metadata": {
    "vscode": {
     "languageId": "bash"
    }
   },
   "outputs": [],
   "source": [
    "#### db-3 ###\n",
    "psql -c \"INSERT INTO replicated_a VALUES (6, 'f'), (7, 'g');\"\n",
    "\n",
    "#### db-2 ###\n",
    "pg_select_rep_a"
   ]
  }
 ],
 "metadata": {
  "language_info": {
   "name": "python"
  }
 },
 "nbformat": 4,
 "nbformat_minor": 2
}
