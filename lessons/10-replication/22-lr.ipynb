{
 "cells": [
  {
   "cell_type": "markdown",
   "metadata": {},
   "source": [
    "# Logical Replication"
   ]
  },
  {
   "cell_type": "markdown",
   "metadata": {},
   "source": [
    "## Idea"
   ]
  },
  {
   "cell_type": "markdown",
   "metadata": {},
   "source": [
    "Logical replication is a different replication technique that records the `logical` changes in the DB. \n",
    "\n",
    "Not like `physical` changes, the information sent between the machines is enough to replicate the same transactions as occurred on the original machine, but the replicator should apply those individually.\n",
    "\n",
    "It's more `declarative` in nature much like SQL itself.\n",
    "\n",
    "Instead of: *Do Those Operations* -> *Make Sure Those Changes Persist*."
   ]
  },
  {
   "cell_type": "markdown",
   "metadata": {},
   "source": [
    "## Use Cases"
   ]
  },
  {
   "cell_type": "markdown",
   "metadata": {},
   "source": [
    "- Replicate to other hardware architecture / postgres version.\n",
    "- Replicate from multiple servers to one summary.\n",
    "- Expose subsets of data in a more efficient way (with other indexes, only relevant data with row filters and column list)."
   ]
  },
  {
   "cell_type": "markdown",
   "metadata": {},
   "source": [
    "## Terminology"
   ]
  },
  {
   "cell_type": "markdown",
   "metadata": {},
   "source": [
    "- Publisher - The original machine where the changes are recorded\n",
    "- Subscriber - The machine that replicates the changes\n",
    "- Logical Replication Worker - A general name for any one of the workers: `Apply`, `Apply Parallel`, `TableSync`\n",
    "\n",
    "Any postgres server can serve potentially both as a publisher and a subscriber, there is no application differentiation like in physical replication to `primary` and `standby`, those roles are viewed in a context of a particular replication."
   ]
  }
 ],
 "metadata": {
  "kernelspec": {
   "display_name": "Python 3 (ipykernel)",
   "language": "python",
   "name": "python3"
  },
  "language_info": {
   "codemirror_mode": {
    "name": "ipython",
    "version": 3
   },
   "file_extension": ".py",
   "mimetype": "text/x-python",
   "name": "python",
   "nbconvert_exporter": "python",
   "pygments_lexer": "ipython3",
   "version": "3.11.6"
  }
 },
 "nbformat": 4,
 "nbformat_minor": 4
}
