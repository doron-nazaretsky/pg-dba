{
 "cells": [
  {
   "cell_type": "markdown",
   "metadata": {},
   "source": [
    "# Multiple Machines"
   ]
  },
  {
   "cell_type": "markdown",
   "metadata": {},
   "source": [
    "## Architecture"
   ]
  },
  {
   "cell_type": "markdown",
   "metadata": {},
   "source": [
    "<img src=\"./helpers/replication-multiple-machines.png\" alt=\"drawing\" width=\"600\"/>"
   ]
  },
  {
   "cell_type": "markdown",
   "metadata": {},
   "source": [
    "## Pre Requisites"
   ]
  },
  {
   "cell_type": "markdown",
   "metadata": {},
   "source": [
    "- 2 Linux machines with `PostgreSQL` server software and `Patroni`\n",
    "- 2 Linux machine with `etcd`\n",
    "- 1 Linux machine with client tools to query postgres"
   ]
  },
  {
   "cell_type": "markdown",
   "metadata": {},
   "source": [
    "## Setup Network Resolution"
   ]
  },
  {
   "cell_type": "markdown",
   "metadata": {},
   "source": [
    "This should be done in a plain on-prem environment because in most of other modern environments like Docker Compose, Cloud, K8S, etc... the machines have a DNS-like resolution built in.\n",
    "\n",
    "Put `IP Name` key values in /etc/hosts.\n",
    "\n",
    "For Example:"
   ]
  },
  {
   "cell_type": "markdown",
   "metadata": {},
   "source": [
    "10.252.55.129   pg-1\\\n",
    "10.252.54.125   pg-2\\\n",
    "10.252.54.87    etcd-1\\\n",
    "10.252.54.85    etcd-2"
   ]
  },
  {
   "cell_type": "markdown",
   "metadata": {},
   "source": [
    "## Configure ETCD Cluster"
   ]
  },
  {
   "cell_type": "code",
   "execution_count": null,
   "metadata": {
    "vscode": {
     "languageId": "bash"
    }
   },
   "outputs": [],
   "source": [
    "#### Inside ETCD Node ####\n",
    "PEER_PORT=2380\n",
    "CLIENT_PORT=2379\n",
    "# For all machines\n",
    "export ETCD_INITIAL_CLUSTER=\"etcd-1=http://etcd-1:$PEER_PORT,etcd-2=http://etcd-2:$PEER_PORT\" # The initial cluster nodes\n",
    "export ETCD_INITIAL_CLUSTER_STATE=\"new\"\n",
    "\n",
    "# For each machine change host\n",
    "HOST=<host> # Change on other machines\n",
    "export ETCD_INITIAL_ADVERTISE_PEER_URLS=\"http://$HOST:$PEER_PORT\"\n",
    "export ETCD_LISTEN_PEER_URLS=\"http://0.0.0.0:$PEER_PORT\"\n",
    "export ETCD_LISTEN_CLIENT_URLS=\"http://0.0.0.0:$CLIENT_PORT\"\n",
    "export ETCD_ADVERTISE_CLIENT_URLS=\"http://$HOST:$CLIENT_PORT\"\n",
    "\n",
    "etcd --data-dir=data/etcd --enable-v2=true --name $HOST"
   ]
  },
  {
   "cell_type": "markdown",
   "metadata": {},
   "source": [
    "Check out our new ETCD cluster"
   ]
  },
  {
   "cell_type": "code",
   "execution_count": null,
   "metadata": {
    "vscode": {
     "languageId": "bash"
    }
   },
   "outputs": [],
   "source": [
    "#### Inside PG Node ####\n",
    "# Both Nodes\n",
    "apt install etcd-client\n",
    "\n",
    "# First Node\n",
    "ENDPOINT=\"etcd-1:2379\"\n",
    "etcdctl --endpoints=$ENDPOINT put hello \"world\"\n",
    "\n",
    "# Second Node\n",
    "ENDPOINT=\"etcd-2:2379\"\n",
    "etcdctl --endpoints=$ENDPOINT get hello\n",
    "etcdctl --endpoints=$ENDPOINT del hello\n",
    "\n",
    "# First Node\n",
    "etcdctl --endpoints=$ENDPOINT get hello"
   ]
  },
  {
   "cell_type": "markdown",
   "metadata": {},
   "source": [
    "## Configure Patroni"
   ]
  },
  {
   "cell_type": "markdown",
   "metadata": {},
   "source": [
    "This should look similar to the single machine setup except:\n",
    "- etcd machines -> change host etcd-1 / etcd-2 (etcd header)\n",
    "- pg machines -> change host pg-1 / pg-2 (restapi, pg_hba, postgresql-listen, postgresql-connect_address)\n",
    "\n",
    "Here is a working config for example of pg-1"
   ]
  },
  {
   "cell_type": "markdown",
   "metadata": {},
   "source": [
    "```yaml\n",
    "scope: batman\n",
    "namespace: /service\n",
    "name: postgresql0\n",
    "\n",
    "restapi:\n",
    "  listen: 0.0.0.0:8008\n",
    "  connect_address: pg-1:8008\n",
    "\n",
    "ctl:\n",
    " insecure: false # Allow connections to Patroni REST API without verifying certificates\n",
    "\n",
    "etcd3:\n",
    "  host: etcd-1:2379\n",
    "\n",
    "# The bootstrap configuration. Works only when the cluster is not yet initialized.\n",
    "# If the cluster is already initialized, all changes in the `bootstrap` section are ignored!\n",
    "bootstrap:\n",
    "  initdb:  \n",
    "  - encoding: UTF8\n",
    "  - data-checksums\n",
    "  dcs:\n",
    "    ttl: 30\n",
    "    loop_wait: 10\n",
    "    retry_timeout: 10\n",
    "    maximum_lag_on_failover: 1048576\n",
    "    primary_start_timeout: 300\n",
    "#    synchronous_mode: false\n",
    "    postgresql:\n",
    "      use_pg_rewind: true\n",
    "      pg_hba:\n",
    "      - host replication replicator <hostname pg-1>/32 md5\n",
    "      - host replication replicator <hostname pg-2>/32 md5\n",
    "      - host replication replicator 127.0.0.1/32 md5\n",
    "      - host all all 0.0.0.0/0 md5\n",
    "\n",
    "postgresql:\n",
    "  listen: 127.0.0.1,pg-1:5432\n",
    "  connect_address: pg-1:5432\n",
    "  data_dir: data/postgresql0\n",
    "  authentication:\n",
    "    replication:\n",
    "      username: replicator\n",
    "      password: rep-pass\n",
    "    superuser:\n",
    "      username: postgres\n",
    "      password: zalando\n",
    "    rewind:\n",
    "      username: rewind_user\n",
    "      password: rewind_password\n",
    "# Can be used to make sure more than one Postgres node is not elected to be primary due to Patroni bug / error\n",
    "# By default on\n",
    "watchdog: \n",
    "  mode: off\n",
    "\n",
    "tags:\n",
    "    noloadbalance: false # Only HA\n",
    "    nostream: false # Change to file based continuous recovery\n",
    "    # replicatefrom: # Create cascading replication with this\n",
    "```"
   ]
  },
  {
   "cell_type": "code",
   "execution_count": null,
   "metadata": {
    "vscode": {
     "languageId": "bash"
    }
   },
   "outputs": [],
   "source": [
    "#### Inside PG Node ####\n",
    "# Both\n",
    "su postgres\n",
    "cd ~\n",
    "patroni <your yaml configuration file>"
   ]
  },
  {
   "cell_type": "markdown",
   "metadata": {},
   "source": [
    "## Monitor Activity"
   ]
  },
  {
   "cell_type": "code",
   "execution_count": null,
   "metadata": {
    "vscode": {
     "languageId": "bash"
    }
   },
   "outputs": [],
   "source": [
    "curl -s http://localhost:8008/patroni | jq .\n",
    "curl -s http://localhost:8008/cluster | jq .\n",
    "curl -s http://localhost:8008/history | jq ."
   ]
  }
 ],
 "metadata": {
  "language_info": {
   "name": "python"
  }
 },
 "nbformat": 4,
 "nbformat_minor": 2
}
