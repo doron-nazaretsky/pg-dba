{
 "cells": [
  {
   "cell_type": "markdown",
   "metadata": {},
   "source": [
    "# Tools"
   ]
  },
  {
   "cell_type": "markdown",
   "metadata": {},
   "source": [
    "## HAProxy"
   ]
  },
  {
   "cell_type": "markdown",
   "metadata": {},
   "source": [
    "<img src=\"./helpers/haproxy-icon.jpeg\" alt=\"drawing\" width=\"600\"/>"
   ]
  },
  {
   "cell_type": "markdown",
   "metadata": {},
   "source": [
    "### Description"
   ]
  },
  {
   "cell_type": "markdown",
   "metadata": {},
   "source": [
    "A feature rich and very performant (regular or reverse) proxy that is mainly used for High Availability and Load Balancing.\n",
    "\n",
    "On cloud environment this will be typically replaced by a native proxy."
   ]
  },
  {
   "cell_type": "markdown",
   "metadata": {},
   "source": [
    "### Responsibility In Our Environment"
   ]
  },
  {
   "cell_type": "markdown",
   "metadata": {},
   "source": [
    "- Serve as a single point of interaction for the users of the DB and encapsulate the multi node architecture behind it.\n",
    "- Load balance between read replicas\n",
    "- Differentiate between read and write traffic and route the requests to the relevant server considering the current state of the cluster"
   ]
  },
  {
   "cell_type": "markdown",
   "metadata": {},
   "source": [
    "# Demo"
   ]
  },
  {
   "cell_type": "markdown",
   "metadata": {},
   "source": [
    "## The Problem"
   ]
  },
  {
   "cell_type": "markdown",
   "metadata": {},
   "source": [
    "Try write some rows on primary then switchover and write more to the same server.\n",
    "\n",
    "This of course will result in an error because the prior primary has become the new standby with read-only transactions."
   ]
  },
  {
   "cell_type": "markdown",
   "metadata": {},
   "source": [
    "## Architecture"
   ]
  },
  {
   "cell_type": "markdown",
   "metadata": {},
   "source": [
    "<img src=\"./helpers/Replication - Load Balance.png\" alt=\"drawing\" width=\"700\"/>"
   ]
  },
  {
   "cell_type": "markdown",
   "metadata": {},
   "source": [
    "## Prerequisites"
   ]
  },
  {
   "cell_type": "markdown",
   "metadata": {},
   "source": [
    "- 3 Linux machines with PG and Patroni installed\n",
    "- 3 Linux machines with etcd nodes\n",
    "- 1 Linux machine (for haproxy, on docker-compose change command to sleep infinity)\n",
    "- 1 Linux machine with client tools to query postgres"
   ]
  },
  {
   "cell_type": "markdown",
   "metadata": {},
   "source": [
    "## Setup HAProxy"
   ]
  },
  {
   "cell_type": "markdown",
   "metadata": {},
   "source": [
    "### Configure"
   ]
  },
  {
   "cell_type": "markdown",
   "metadata": {},
   "source": [
    "Create a a new `cfg` config file or edit the existing default `/etc/haproxy/haproxy.cfg`"
   ]
  },
  {
   "cell_type": "markdown",
   "metadata": {},
   "source": [
    "#### HAProxy Global And Defaults"
   ]
  },
  {
   "cell_type": "markdown",
   "metadata": {},
   "source": [
    "```cfg\n",
    "global\n",
    "    maxconn 300\n",
    "    log     127.0.0.1 local2\n",
    "\n",
    "defaults\n",
    "    log global\n",
    "    mode tcp\n",
    "    retries 2\n",
    "    timeout client 30m\n",
    "    timeout connect 4s\n",
    "    timeout server 30m\n",
    "    timeout check 5s\n",
    "\n",
    "listen stats\n",
    "    mode http\n",
    "    bind *:7000\n",
    "    stats enable\n",
    "    stats uri /\n",
    "```"
   ]
  },
  {
   "cell_type": "markdown",
   "metadata": {},
   "source": [
    "#### Primary"
   ]
  },
  {
   "cell_type": "markdown",
   "metadata": {},
   "source": [
    "```cfg\n",
    "listen primary\n",
    "    bind *:5000\n",
    "    option httpchk\n",
    "    http-check expect status 200\n",
    "    default-server inter 3s fall 3 rise 2 on-marked-down shutdown-sessions\n",
    "    server pg-1 pg-1:5432 maxconn 100 check port 8008\n",
    "    server pg-2 pg-2:5432 maxconn 100 check port 8008\n",
    "    server pg-3 pg-3:5432 maxconn 100 check port 8008\n",
    "```"
   ]
  },
  {
   "cell_type": "markdown",
   "metadata": {},
   "source": [
    "#### Standby"
   ]
  },
  {
   "cell_type": "markdown",
   "metadata": {},
   "source": [
    "```cfg\n",
    "listen standby\n",
    "    bind *:5001\n",
    "    option httpchk OPTIONS/replica\n",
    "    http-check expect status 200\n",
    "    default-server inter 3s fall 3 rise 2 on-marked-down shutdown-sessions\n",
    "    server pg-1 pg-1:5432 maxconn 100 check port 8008\n",
    "    server pg-2 pg-2:5432 maxconn 100 check port 8008\n",
    "    server pg-3 pg-3:5432 maxconn 100 check port 8008\n",
    "```"
   ]
  },
  {
   "cell_type": "markdown",
   "metadata": {},
   "source": [
    "### Run HAProxy"
   ]
  },
  {
   "cell_type": "code",
   "execution_count": null,
   "metadata": {
    "vscode": {
     "languageId": "bash"
    }
   },
   "outputs": [],
   "source": [
    "haproxy -f /etc/haproxy/haproxy.cfg"
   ]
  },
  {
   "cell_type": "markdown",
   "metadata": {},
   "source": [
    "## Checkout Our Load Balance"
   ]
  },
  {
   "cell_type": "markdown",
   "metadata": {},
   "source": [
    "### Play"
   ]
  },
  {
   "cell_type": "markdown",
   "metadata": {},
   "source": [
    "- Insert rows into 5000 port and watch it created on 5001 port\n",
    "- Switchover between pg nodes\n",
    "- Use the write port again and see logs about other node being primary and forwarded properly"
   ]
  },
  {
   "cell_type": "code",
   "execution_count": null,
   "metadata": {
    "vscode": {
     "languageId": "bash"
    }
   },
   "outputs": [],
   "source": [
    "# For switchover\n",
    "patronictl -c \"patroni.yaml\" swithcover --force"
   ]
  },
  {
   "cell_type": "markdown",
   "metadata": {},
   "source": [
    "### Check logs"
   ]
  },
  {
   "cell_type": "markdown",
   "metadata": {},
   "source": [
    "- Logs on pg machines\n",
    "- Logs on HAProxy"
   ]
  },
  {
   "cell_type": "markdown",
   "metadata": {},
   "source": [
    "### Monitoring"
   ]
  },
  {
   "cell_type": "markdown",
   "metadata": {},
   "source": [
    "Checkout the REST API of patroni on some node to get information about the cluster"
   ]
  },
  {
   "cell_type": "code",
   "execution_count": null,
   "metadata": {
    "vscode": {
     "languageId": "bash"
    }
   },
   "outputs": [],
   "source": [
    "curl -s http://localhost:8008/patroni | jq .\n",
    "curl -s http://localhost:8008/cluster | jq .\n",
    "curl -s http://localhost:8008/history | jq ."
   ]
  }
 ],
 "metadata": {
  "language_info": {
   "name": "python"
  }
 },
 "nbformat": 4,
 "nbformat_minor": 2
}
