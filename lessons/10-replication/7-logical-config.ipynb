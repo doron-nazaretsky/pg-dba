{
 "cells": [
  {
   "cell_type": "markdown",
   "metadata": {},
   "source": [
    "## Publisher"
   ]
  },
  {
   "cell_type": "markdown",
   "metadata": {},
   "source": [
    "Name    |   Description |   Configuring |   Default\n",
    "-----   |   ----------- |   ----------- |   -------\n",
    "`wal_level` |   As discussed in WAL in detail, represent the level of detail in WAL log writing | Must be *logical* |   *replica*\n",
    "`max_replication_slots` |   Specifies the maximum number of replication slots that the server can support   |   Must be at least the number of publications + some spare for sync table |   10\n",
    "`max_wal_senders`   |   Specifies the maximum number of concurrent connections from standby servers or streaming clients    |   Must be at least as `max_replication_slots` + more for physical replication clients without slots   |   10"
   ]
  },
  {
   "cell_type": "markdown",
   "metadata": {},
   "source": [
    "## Subscriber"
   ]
  },
  {
   "cell_type": "markdown",
   "metadata": {},
   "source": [
    "Name    |   Description |   Configuring |   Default\n",
    "-----   |   ----------- |   ----------- |   -------\n",
    "`max_replication_slots` |   Specifies the maximum number of replication slots that the server can support   |   Must be set to at least the number of subscriptions that will be added to the subscriber, plus some reserve for table synchronization |   10\n",
    "`max_logical_replication_workers` |   Specifies maximum number of logical replication workers. This includes leader apply workers, parallel apply workers, and table synchronization workers    |   must be set to at least the number of subscriptions (for leader apply workers), plus some reserve for the table synchronization workers and parallel apply workers  |   4\n",
    "`max_worker_processes`  |   Specifies the maximum number of background processes that the system can support  |   May need to be adjusted to accommodate for replication workers, at least (max_logical_replication_workers + 1), other extensions and parallel queries are also using those slots   |   8\n",
    "`max_sync_workers_per_subscription` |   Controls the amount of parallelism of the initial data copy during the subscription initialization or when new tables are added |   Depends on how quick tour init process should be   |   2\n",
    "`max_parallel_apply_workers_per_subscription`   |   Controls the amount of parallelism for streaming of in-progress transactions with subscription parameter `streaming = parallel` |   Depends on how much changes should be applied for a window of time   |   2"
   ]
  }
 ],
 "metadata": {
  "language_info": {
   "name": "python"
  }
 },
 "nbformat": 4,
 "nbformat_minor": 2
}
