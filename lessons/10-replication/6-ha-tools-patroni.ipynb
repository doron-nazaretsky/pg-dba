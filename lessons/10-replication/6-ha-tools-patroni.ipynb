{
 "cells": [
  {
   "cell_type": "markdown",
   "metadata": {},
   "source": [
    "# Patroni"
   ]
  },
  {
   "cell_type": "markdown",
   "metadata": {},
   "source": [
    "<img src=\"./helpers/patroni-logo.png\" alt=\"drawing\" width=\"500\"/>"
   ]
  },
  {
   "cell_type": "markdown",
   "metadata": {},
   "source": [
    "## Description"
   ]
  },
  {
   "cell_type": "markdown",
   "metadata": {},
   "source": [
    "Tool for managing postgres multi node cluster."
   ]
  },
  {
   "cell_type": "markdown",
   "metadata": {},
   "source": [
    "## Responsibility"
   ]
  },
  {
   "cell_type": "markdown",
   "metadata": {},
   "source": [
    "It's main responsibilities are:\n",
    "- Elect *only a single* primary based on some distributed configuration system\n",
    "- Create PG clusters based on configuration\n",
    "- Automatic failover mechanism\n",
    "- Automatic restart of failed servers (mainly for primaries to come back alive as standbys)"
   ]
  },
  {
   "cell_type": "markdown",
   "metadata": {},
   "source": [
    "## Monitoring"
   ]
  },
  {
   "cell_type": "markdown",
   "metadata": {},
   "source": [
    "Patroni can be easily monitored by it's REST API.\n",
    "\n",
    "It exposes the following endpoints for monitoring:\n",
    "- `GET /patroni` - Information about this particular patroni deployment and the pg node it manages.\n",
    "- `GET /cluster` - Information about the whole cluster.\n",
    "- `GET /history` - History of switches / failovers in the cluster."
   ]
  },
  {
   "cell_type": "markdown",
   "metadata": {},
   "source": [
    "Patroni can integrate to monitoring tools like `Prometheus` with `metrics` endpoint or just adjusting the `/patroni` json to the monitoring tool used."
   ]
  },
  {
   "cell_type": "markdown",
   "metadata": {},
   "source": [
    "## Install"
   ]
  },
  {
   "cell_type": "code",
   "execution_count": null,
   "metadata": {
    "vscode": {
     "languageId": "bash"
    }
   },
   "outputs": [],
   "source": [
    "apt install patroni # Debian\n",
    "dnf install patroni patroni-etcd # RHEL\n",
    "\n",
    "patroni --version"
   ]
  }
 ],
 "metadata": {
  "language_info": {
   "name": "python"
  }
 },
 "nbformat": 4,
 "nbformat_minor": 2
}
