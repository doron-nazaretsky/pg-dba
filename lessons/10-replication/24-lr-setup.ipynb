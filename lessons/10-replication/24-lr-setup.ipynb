{
 "cells": [
  {
   "cell_type": "markdown",
   "metadata": {},
   "source": [
    "# Setup"
   ]
  },
  {
   "cell_type": "markdown",
   "metadata": {},
   "source": [
    "## Tables Specification"
   ]
  },
  {
   "cell_type": "markdown",
   "metadata": {},
   "source": [
    "- Single specified table\n",
    "- Multiple specified table\n",
    "- All tables in schema (`TABLES IN SCHEMA`)\n",
    "- All table in DB (`ALL TABLES`)"
   ]
  },
  {
   "cell_type": "markdown",
   "metadata": {},
   "source": [
    "## Operation Type"
   ]
  },
  {
   "cell_type": "markdown",
   "metadata": {},
   "source": [
    "- Insert\n",
    "- Update - using replica identity\n",
    "- Delete - using replica identity\n",
    "- Truncate"
   ]
  },
  {
   "cell_type": "markdown",
   "metadata": {},
   "source": [
    "## Replica Identity"
   ]
  },
  {
   "cell_type": "markdown",
   "metadata": {},
   "source": [
    "To perform update / delete operation the published table should have a `replica identity` - an expression that can be used to search for rows on subscriber side to perform operations on existing rows.\n",
    "\n",
    "This can be:\n",
    "- Primary key (by default).\n",
    "- Unique index (must be BTREE, non-partial, leftmost field should be a column on published table).\n",
    "- FULL - all the tuple is used to compare, very inefficient since it's using full scan + potentially N(columns amount) of comparisons per tuple. "
   ]
  },
  {
   "cell_type": "markdown",
   "metadata": {},
   "source": [
    "## Column Lists"
   ]
  },
  {
   "cell_type": "markdown",
   "metadata": {},
   "source": [
    "Allows replication of a subset of a table on the publisher, when only a subset needed, resulting in higher performance less network traffic and less storage."
   ]
  },
  {
   "cell_type": "markdown",
   "metadata": {},
   "source": [
    "## Row Filters"
   ]
  },
  {
   "cell_type": "markdown",
   "metadata": {},
   "source": [
    "Specifying the rows to replicate changes on with a `WHERE` clause.\n",
    "\n",
    "If the row filter evaluates to `false` or `NULL` then the row is **not replicated**.\n",
    "\n",
    "Multiple subscriptions on the same table and same operation are being grouped into `OR` qualifier on publisher."
   ]
  },
  {
   "cell_type": "markdown",
   "metadata": {},
   "source": [
    "### Insert & Delete"
   ]
  },
  {
   "cell_type": "markdown",
   "metadata": {},
   "source": [
    "Send operation to subscriber if the new / old rows satisfy the `WHERE` clause."
   ]
  },
  {
   "cell_type": "markdown",
   "metadata": {},
   "source": [
    "### Update"
   ]
  },
  {
   "cell_type": "markdown",
   "metadata": {},
   "source": [
    "Which versions satisfy `WHERE`:\n",
    "- Both old and new -> send update\n",
    "- Only old -> send delete\n",
    "- Only new -> send insert\n",
    "- Neither -> skip"
   ]
  },
  {
   "cell_type": "markdown",
   "metadata": {},
   "source": [
    "## Note"
   ]
  },
  {
   "cell_type": "markdown",
   "metadata": {},
   "source": [
    "Row filters and column lists are not applied on `TRUNCATE` -> any truncate will affect all rows."
   ]
  }
 ],
 "metadata": {
  "kernelspec": {
   "display_name": "Python 3 (ipykernel)",
   "language": "python",
   "name": "python3"
  },
  "language_info": {
   "codemirror_mode": {
    "name": "ipython",
    "version": 3
   },
   "file_extension": ".py",
   "mimetype": "text/x-python",
   "name": "python",
   "nbconvert_exporter": "python",
   "pygments_lexer": "ipython3",
   "version": "3.11.6"
  }
 },
 "nbformat": 4,
 "nbformat_minor": 4
}
