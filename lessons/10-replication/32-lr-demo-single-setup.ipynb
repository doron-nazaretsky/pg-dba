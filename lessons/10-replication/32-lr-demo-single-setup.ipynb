{
 "cells": [
  {
   "cell_type": "markdown",
   "metadata": {},
   "source": [
    "# Setup"
   ]
  },
  {
   "cell_type": "markdown",
   "metadata": {},
   "source": [
    "## Create Tables"
   ]
  },
  {
   "cell_type": "code",
   "execution_count": null,
   "metadata": {
    "vscode": {
     "languageId": "bash"
    }
   },
   "outputs": [],
   "source": [
    "#### On Both db-1, db-2 ####\n",
    "psql -c \"CREATE TABLE replicated_a(id INT PRIMARY KEY, data VARCHAR(40));\"\n",
    "psql -c \"CREATE TABLE replicated_b(id INT PRIMARY KEY, data VARCHAR(40));\""
   ]
  },
  {
   "cell_type": "markdown",
   "metadata": {},
   "source": [
    "## Create Publication"
   ]
  },
  {
   "cell_type": "code",
   "execution_count": null,
   "metadata": {
    "vscode": {
     "languageId": "bash"
    }
   },
   "outputs": [],
   "source": [
    "#### On db-1 ####\n",
    "psql -c \"CREATE PUBLICATION pub_all_tbl FOR ALL TABLES;\"\n",
    "psql -c \"SELECT * FROM pg_publication;\"\n",
    "psql -c \"SELECT * FROM pg_publication_tables;\""
   ]
  },
  {
   "cell_type": "markdown",
   "metadata": {},
   "source": [
    "## Create Subscription"
   ]
  },
  {
   "cell_type": "code",
   "execution_count": null,
   "metadata": {
    "vscode": {
     "languageId": "bash"
    }
   },
   "outputs": [],
   "source": [
    "#### On db-2 ####\n",
    "psql -c \"CREATE SUBSCRIPTION sub_db1_all_tbl CONNECTION 'host=db-1 password=cool-postgres-course' PUBLICATION pub_all_tbl;\"\n",
    "psql -c \"SELECT * FROM pg_subscription;\"\n",
    "psql -c \"SELECT * FROM pg_subscription_rel;\"\n",
    "pg_logs\n",
    "\n",
    "#### Check out what happend on db-1 as well ##\n",
    "pg_logs -n 60"
   ]
  }
 ],
 "metadata": {
  "language_info": {
   "name": "python"
  }
 },
 "nbformat": 4,
 "nbformat_minor": 2
}
