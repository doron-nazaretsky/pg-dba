{
 "cells": [
  {
   "cell_type": "markdown",
   "metadata": {},
   "source": [
    "# Prerequisites"
   ]
  },
  {
   "cell_type": "markdown",
   "metadata": {},
   "source": [
    "- 3 Linux machines with PostgreSQL installed that are reachable for each other network wise\n",
    "- Hosts named resolved with db-1, db-2, db-3"
   ]
  },
  {
   "cell_type": "markdown",
   "metadata": {},
   "source": [
    "## Adjust Configurations"
   ]
  },
  {
   "cell_type": "code",
   "execution_count": null,
   "metadata": {
    "vscode": {
     "languageId": "bash"
    }
   },
   "outputs": [],
   "source": [
    "#### On Every Machine ####\n",
    "su postgres\n",
    "cd $PGDATA\n",
    "## WAL Level ##\n",
    "sed -i \"s/#*wal_level.*/wal_level = logical/\" postgresql.conf\n",
    "\n",
    "## Logs ##\n",
    "sed -i \"s/#*logging_collector.*/logging_collector = on/\" postgresql.conf\n",
    "sed -i \"s/#*log_replication_commands.*/log_replication_commands = on/\" postgresql.conf\n",
    "sed -i \"s/#*log_min_messages.*/log_min_messages = INFO/\" postgresql.conf\n",
    "alias pg_logs='tail -n 20 log/`ls -t log | head -n 1`'\n",
    "\n",
    "\n",
    "## Restart server to apply configurations\n",
    "pg_ctl restart\n",
    "psql -c \"SHOW wal_level;\" # Make sure it's logical"
   ]
  }
 ],
 "metadata": {
  "language_info": {
   "name": "python"
  }
 },
 "nbformat": 4,
 "nbformat_minor": 2
}
