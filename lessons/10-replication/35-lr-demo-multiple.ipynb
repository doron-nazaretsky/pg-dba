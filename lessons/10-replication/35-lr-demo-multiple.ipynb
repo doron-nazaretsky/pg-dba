{
 "cells": [
  {
   "cell_type": "markdown",
   "metadata": {},
   "source": [
    "# Multiple Sources"
   ]
  },
  {
   "cell_type": "markdown",
   "metadata": {},
   "source": [
    "## Setup Replication"
   ]
  },
  {
   "cell_type": "code",
   "execution_count": null,
   "metadata": {
    "vscode": {
     "languageId": "bash"
    }
   },
   "outputs": [],
   "source": [
    "#### db-3 ####\n",
    "psql -c \"CREATE TABLE replicated_a(id INT PRIMARY KEY, data VARCHAR(40));\"\n",
    "psql -c \"CREATE PUBLICATION pub_rep_a FOR TABLE replicated_a;\"\n",
    "\n",
    "#### db-2 ####\n",
    "psql -c \"CREATE SUBSCRIPTION sub_db3_rep_a CONNECTION 'host=db-3 password=cool-postgres-course' PUBLICATION pub_rep_a;\""
   ]
  },
  {
   "cell_type": "markdown",
   "metadata": {},
   "source": [
    "## Change Rows"
   ]
  },
  {
   "cell_type": "code",
   "execution_count": null,
   "metadata": {
    "vscode": {
     "languageId": "bash"
    }
   },
   "outputs": [],
   "source": [
    "#### db-3 ###\n",
    "psql -c \"INSERT INTO replicated_a VALUES (6, 'f'), (7, 'g');\"\n",
    "\n",
    "#### db-2 ###\n",
    "pg_select_rep_a"
   ]
  }
 ],
 "metadata": {
  "language_info": {
   "name": "python"
  }
 },
 "nbformat": 4,
 "nbformat_minor": 2
}
