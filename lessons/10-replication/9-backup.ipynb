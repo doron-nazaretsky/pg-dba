{
 "cells": [
  {
   "cell_type": "markdown",
   "metadata": {},
   "source": [
    "# Prepare Env"
   ]
  },
  {
   "cell_type": "markdown",
   "metadata": {},
   "source": [
    "- 2 Linux machines with `patroni`, `postgres`, `pgBackRest`, `ssh-server` installed -> pg-1, pg-2\n",
    "- 2 Linux machines with `etcd` installed and a cluster setup -> etcd-1, etcd-2\n",
    "- 1 Linux machine with `pgBackRest` and `ssh-server` installed -> bcp-repo"
   ]
  },
  {
   "cell_type": "markdown",
   "metadata": {},
   "source": [
    "# Idea"
   ]
  },
  {
   "cell_type": "markdown",
   "metadata": {},
   "source": [
    "- Mix HA & LB with backup strategies\n",
    "- Use pgBackRest as a powerful replica creation tool"
   ]
  },
  {
   "cell_type": "markdown",
   "metadata": {},
   "source": [
    "# Demo"
   ]
  },
  {
   "cell_type": "markdown",
   "metadata": {},
   "source": [
    "Since there are 2 or more machines that construct the postgres cluster, the repository should be accessible from all the machines, so we create a dedicated remote repository machine."
   ]
  },
  {
   "cell_type": "markdown",
   "metadata": {},
   "source": [
    "## Setup Passwordless SSH"
   ]
  },
  {
   "cell_type": "markdown",
   "metadata": {},
   "source": [
    "### Start SSH Server"
   ]
  },
  {
   "cell_type": "code",
   "execution_count": null,
   "metadata": {
    "vscode": {
     "languageId": "bash"
    }
   },
   "outputs": [],
   "source": [
    "### On Postgres And Repo ###\n",
    "service ssh start"
   ]
  },
  {
   "cell_type": "markdown",
   "metadata": {},
   "source": [
    "### Setup Password For SSH"
   ]
  },
  {
   "cell_type": "code",
   "execution_count": null,
   "metadata": {
    "vscode": {
     "languageId": "bash"
    }
   },
   "outputs": [],
   "source": [
    "### On Postgres And Repo ###\n",
    "PG_USER_PASS=123\n",
    "echo \"postgres:$PG_USER_PASS\" | chpasswd"
   ]
  },
  {
   "cell_type": "markdown",
   "metadata": {},
   "source": [
    "### Create Keys"
   ]
  },
  {
   "cell_type": "code",
   "execution_count": null,
   "metadata": {
    "vscode": {
     "languageId": "bash"
    }
   },
   "outputs": [],
   "source": [
    "### On Postgres And Repo ###\n",
    "su postgres\n",
    "\n",
    "mkdir -m 750 -p /var/lib/postgresql/.ssh\n",
    "ssh-keygen -f /var/lib/postgresql/.ssh/id_rsa -t rsa -b 4096 -N \"\""
   ]
  },
  {
   "cell_type": "markdown",
   "metadata": {},
   "source": [
    "### Exchange Keys"
   ]
  },
  {
   "cell_type": "code",
   "execution_count": null,
   "metadata": {
    "vscode": {
     "languageId": "bash"
    }
   },
   "outputs": [],
   "source": [
    "### On bcp-repo ###\n",
    "# For each postgres node\n",
    "PG_USER_PASS=123\n",
    "(echo -n 'no-agent-forwarding,no-X11-forwarding,no-port-forwarding,' && \\\n",
    "    echo -n 'command=\"/usr/bin/pgbackrest ${SSH_ORIGINAL_COMMAND#* }\" ' && \\\n",
    "    sshpass -p $PG_USER_PASS ssh -o StrictHostKeyChecking=accept-new postgres@<pg-host> cat /var/lib/postgresql/.ssh/id_rsa.pub) | \\\n",
    "    tee -a /var/lib/postgresql/.ssh/authorized_keys\n",
    "\n",
    "### On pg nodes ###\n",
    "PG_USER_PASS=123\n",
    "(echo -n 'no-agent-forwarding,no-X11-forwarding,no-port-forwarding,' && \\\n",
    "       echo -n 'command=\"/usr/bin/pgbackrest ${SSH_ORIGINAL_COMMAND#* }\" ' && \\\n",
    "       sshpass -p $PG_USER_PASS ssh -o StrictHzostKeyChecking=accept-new postgres@bcp-repo cat /var/lib/postgresql/.ssh/id_rsa.pub) | \\\n",
    "       tee -a /var/lib/postgresql/.ssh/authorized_keys"
   ]
  },
  {
   "cell_type": "markdown",
   "metadata": {},
   "source": [
    "## Configure pgBackRest Repo"
   ]
  },
  {
   "cell_type": "code",
   "execution_count": null,
   "metadata": {
    "vscode": {
     "languageId": "bash"
    }
   },
   "outputs": [],
   "source": [
    "### On bcp-repo ###\n",
    "cat << EOF > /etc/pgbackrest.conf\n",
    "[global]\n",
    "repo1-path=/var/lib/pgbackrest\n",
    "repo1-retention-full=2\n",
    "repo1-host-user=postgres\n",
    "start-fast=y\n",
    "delta=y\n",
    "\n",
    "[main]\n",
    "pg1-host=pg-1\n",
    "pg1-path=/var/lib/postgresql/16/main\n",
    "pg1-port=5432\n",
    "EOF"
   ]
  },
  {
   "cell_type": "markdown",
   "metadata": {},
   "source": [
    "## Configure pgBackRest on Postgres Nodes "
   ]
  },
  {
   "cell_type": "code",
   "execution_count": null,
   "metadata": {
    "vscode": {
     "languageId": "bash"
    }
   },
   "outputs": [],
   "source": [
    "#### On Postgres Nodes ####\n",
    "cat << EOF > /etc/pgbackrest.conf\n",
    "[demo]\n",
    "pg1-path=/var/lib/postgresql/16/main\n",
    "\n",
    "[global]\n",
    "log-level-file=detail\n",
    "repo1-host=bcp-repo\n",
    "EOF"
   ]
  },
  {
   "cell_type": "markdown",
   "metadata": {},
   "source": [
    "## Create Backup"
   ]
  },
  {
   "cell_type": "code",
   "execution_count": null,
   "metadata": {
    "vscode": {
     "languageId": "bash"
    }
   },
   "outputs": [],
   "source": [
    "#### On repo-bcp ####\n",
    "su postgres -c \"pgbackrest --stanza=main stanza-create\""
   ]
  },
  {
   "cell_type": "markdown",
   "metadata": {},
   "source": [
    "TODO - https://pgbackrest.org/user-guide.html#replication\\\n",
    "https://patroni.readthedocs.io/en/latest/replica_bootstrap.html"
   ]
  },
  {
   "cell_type": "markdown",
   "metadata": {},
   "source": [
    "### Setting Up WAL Archiving For Backup"
   ]
  },
  {
   "cell_type": "markdown",
   "metadata": {},
   "source": [
    "To set up "
   ]
  },
  {
   "cell_type": "markdown",
   "metadata": {},
   "source": [
    "As you can see there is a simple archiving mechanism in the defaults using `cp` command for archiving and restoring.\n",
    "\n",
    "Try using `pgBackRest` as your archiving and backup tool as learnt in `Backup` lesson\n",
    "\n",
    "*Hint* - You n"
   ]
  },
  {
   "cell_type": "markdown",
   "metadata": {},
   "source": [
    "```yaml\n",
    "postgresql:\n",
    "    create_replica_methods:\n",
    "        - pgbackrest\n",
    "        - basebackup\n",
    "    pgbackrest:\n",
    "        command: /usr/bin/pgbackrest --stanza=<scope> --delta restore\n",
    "        keep_data: True\n",
    "        no_params: True\n",
    "    basebackup:\n",
    "        max-rate: '100M'\n",
    "```"
   ]
  }
 ],
 "metadata": {
  "language_info": {
   "name": "python"
  }
 },
 "nbformat": 4,
 "nbformat_minor": 2
}
