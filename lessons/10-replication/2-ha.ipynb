{
 "cells": [
  {
   "cell_type": "markdown",
   "metadata": {},
   "source": [
    "# High Availability"
   ]
  },
  {
   "cell_type": "markdown",
   "metadata": {},
   "source": [
    "## Idea"
   ]
  },
  {
   "cell_type": "markdown",
   "metadata": {},
   "source": [
    "There is a primary server that acts like a regular single machine server that has continuous WAL archiving configured.\n",
    "\n",
    "The archiving process sends data to single / multiple standby servers which are in a continuous recovery state.\n",
    "\n",
    "Whenever the primary server is facing a disaster, there is always a ready standby server that can take over in a matter of moments and become the new primary, without any human interference."
   ]
  },
  {
   "cell_type": "markdown",
   "metadata": {},
   "source": [
    "## Risk"
   ]
  },
  {
   "cell_type": "markdown",
   "metadata": {},
   "source": [
    "Just like the backup / recovery mechanism, there is a risk of data loss in the time window between transaction commit and WAL archiving.\n",
    "\n",
    "This risk is addressed with the `archive_timeout` parameter and even shrinks in streaming communication method."
   ]
  }
 ],
 "metadata": {
  "language_info": {
   "name": "python"
  }
 },
 "nbformat": 4,
 "nbformat_minor": 2
}
