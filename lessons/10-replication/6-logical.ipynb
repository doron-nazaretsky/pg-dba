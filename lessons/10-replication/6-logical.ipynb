{
 "cells": [
  {
   "cell_type": "markdown",
   "metadata": {},
   "source": [
    "## Idea"
   ]
  },
  {
   "cell_type": "markdown",
   "metadata": {},
   "source": [
    "Logical replication is a different replication technique that records the `logical` changes in the DB. \n",
    "\n",
    "Not like `physical` changes, the information sent between the machines is enough to replicate the same transactions as occurred on the original machine, but the replicator should apply those individually.\n",
    "\n",
    "It's more `declarative` in nature much like SQL itself.\n",
    "\n",
    "Instead of: *Do Those Operations* -> *Make Sure Those Changes Persist*."
   ]
  },
  {
   "cell_type": "markdown",
   "metadata": {},
   "source": [
    "## Use Cases"
   ]
  },
  {
   "cell_type": "markdown",
   "metadata": {},
   "source": [
    "- Replicate to other hardware architecture / postgres version.\n",
    "- Replicate from multiple servers to one summary.\n",
    "- Expose subsets of data in a more efficient way (with other indexes, only relevant data with row filters and column list)."
   ]
  },
  {
   "cell_type": "markdown",
   "metadata": {},
   "source": [
    "## Terminology"
   ]
  },
  {
   "cell_type": "markdown",
   "metadata": {},
   "source": [
    "- Publisher - The original machine where the changes are recorded\n",
    "- Subscriber - The machine that replicates the changes\n",
    "- Logical Replication Worker - A general name for any one of the workers: `Apply`, `Apply Parallel`, `TableSync`\n",
    "\n",
    "Any postgres server can serve potentially both as a publisher and a subscriber, there is no application differentiation like in physical replication to `primary` and `standby`, those roles are viewed in a context of a particular replication."
   ]
  },
  {
   "cell_type": "markdown",
   "metadata": {},
   "source": [
    "## Architecture"
   ]
  },
  {
   "cell_type": "markdown",
   "metadata": {},
   "source": [
    "The logical replication is built on top of the physical replication both abstractly and even implementation wise"
   ]
  },
  {
   "cell_type": "markdown",
   "metadata": {},
   "source": [
    "### Regular Flow"
   ]
  },
  {
   "cell_type": "markdown",
   "metadata": {},
   "source": [
    "An already created logical replication setup"
   ]
  },
  {
   "cell_type": "markdown",
   "metadata": {},
   "source": [
    "<img src=\"./helpers/Logical Replication - Regular Flow.png\" alt=\"drawing\" height=\"500\"/>"
   ]
  },
  {
   "cell_type": "markdown",
   "metadata": {},
   "source": [
    "### Init Flow"
   ]
  },
  {
   "cell_type": "markdown",
   "metadata": {},
   "source": [
    "Setup a new logical replication"
   ]
  },
  {
   "cell_type": "markdown",
   "metadata": {},
   "source": [
    "<img src=\"./helpers/Logical Replication - Initial Flow.png\" alt=\"drawing\" height=\"800\"/>"
   ]
  },
  {
   "cell_type": "markdown",
   "metadata": {},
   "source": [
    "### Worker Types"
   ]
  },
  {
   "cell_type": "markdown",
   "metadata": {},
   "source": [
    "- Table Sync - Responsible for initial sync of a single **replicated table**. There is always 1-1 relation between table sync workers and tables, multiple can run in parallel for different tables.\n",
    "- Leader Apply - In charge of coordinating (in parallel mode) and applying (in regular mode) of a single on-going **subscription**.\n",
    "- Parallel Apply - In charge of applying changes along side with other parallel apply workers in a single **subscription**."
   ]
  },
  {
   "cell_type": "markdown",
   "metadata": {},
   "source": [
    "### Streaming Types"
   ]
  },
  {
   "cell_type": "markdown",
   "metadata": {},
   "source": [
    "- Off - Send transaction to subscriber only when transaction committed on publisher.\n",
    "- On - Stream changes continuously to subscriber, write to temp file on subscriber and only on transaction commit on publisher side the subscriber commit it as well. Good to technique to deal with long running transaction that include large amount of changes.\n",
    "- Parallel - Same as `on` but applied in parallel with multiple `parallel apply` workers."
   ]
  },
  {
   "cell_type": "markdown",
   "metadata": {},
   "source": [
    "## Which Data To Replicate"
   ]
  },
  {
   "cell_type": "markdown",
   "metadata": {},
   "source": [
    "### Tables Specification"
   ]
  },
  {
   "cell_type": "markdown",
   "metadata": {},
   "source": [
    "- Single specified table\n",
    "- Multiple specified table\n",
    "- All tables in schema (`TABLES IN SCHEMA`)\n",
    "- All table in DB (`ALL TABLES`)"
   ]
  },
  {
   "cell_type": "markdown",
   "metadata": {},
   "source": [
    "### Operation Type"
   ]
  },
  {
   "cell_type": "markdown",
   "metadata": {},
   "source": [
    "- Insert\n",
    "- Update - using replica identity\n",
    "- Delete - using replica identity\n",
    "- Truncate"
   ]
  },
  {
   "cell_type": "markdown",
   "metadata": {},
   "source": [
    "### Replica Identity"
   ]
  },
  {
   "cell_type": "markdown",
   "metadata": {},
   "source": [
    "To perform update / delete operation the published table should have a `replica identity` - an expression that can be used to search for rows on subscriber side to perform operations on existing rows.\n",
    "\n",
    "This can be:\n",
    "- Primary key (by default).\n",
    "- Unique index (must be BTREE, non-partial, leftmost field should be a column on published table).\n",
    "- FULL - all the tuple is used to compare, very inefficient since it's using full scan + potentially N(columns amount) of comparisons per tuple. "
   ]
  },
  {
   "cell_type": "markdown",
   "metadata": {},
   "source": [
    "### Column Lists"
   ]
  },
  {
   "cell_type": "markdown",
   "metadata": {},
   "source": [
    "Allows replication of a subset of a table on the publisher, when only a subset needed, resulting in higher performance less network traffic and less storage."
   ]
  },
  {
   "cell_type": "markdown",
   "metadata": {},
   "source": [
    "### Row Filters"
   ]
  },
  {
   "cell_type": "markdown",
   "metadata": {},
   "source": [
    "Specifying the rows to replicate changes on with a `WHERE` clause.\n",
    "\n",
    "If the row filter evaluates to `false` or `NULL` then the row is **not replicated**.\n",
    "\n",
    "Multiple subscriptions on the same table and same operation are being grouped into `OR` qualifier on publisher."
   ]
  },
  {
   "cell_type": "markdown",
   "metadata": {},
   "source": [
    "#### Insert & Delete"
   ]
  },
  {
   "cell_type": "markdown",
   "metadata": {},
   "source": [
    "Send operation to subscriber if the new / old rows satisfy the `WHERE` clause."
   ]
  },
  {
   "cell_type": "markdown",
   "metadata": {},
   "source": [
    "#### Update"
   ]
  },
  {
   "cell_type": "markdown",
   "metadata": {},
   "source": [
    "Which versions satisfy `WHERE`:\n",
    "- Both old and new -> send update\n",
    "- Only old -> send delete\n",
    "- Only new -> send insert\n",
    "- Neither -> skip"
   ]
  },
  {
   "cell_type": "markdown",
   "metadata": {},
   "source": [
    "### Note"
   ]
  },
  {
   "cell_type": "markdown",
   "metadata": {},
   "source": [
    "Row filters and column lists are not applied on `TRUNCATE` -> any truncate will affect all rows."
   ]
  },
  {
   "cell_type": "markdown",
   "metadata": {},
   "source": [
    "## Maintenance"
   ]
  },
  {
   "cell_type": "markdown",
   "metadata": {},
   "source": [
    "### Handling Errors"
   ]
  },
  {
   "cell_type": "markdown",
   "metadata": {},
   "source": [
    "When applying a change on subscriber it's possible to run into conflicts which will cause the apply worker process to exit.\n",
    "\n",
    "Then, the launcher will detect there is a missing apply worker and start a new process which will try to apply the last LSN again.\n",
    "\n",
    "In the default scenario without manual intervention that is an *endless loop!*"
   ]
  },
  {
   "cell_type": "markdown",
   "metadata": {},
   "source": [
    "#### Disable On Error"
   ]
  },
  {
   "cell_type": "markdown",
   "metadata": {},
   "source": [
    "A `DISABLE_ON_ERROR` subscription configuration can be turned on to disable the subscription when an error occurs to not cause this loop.\n",
    "\n",
    "One should be very careful with that option because without fixing this issue a replication slot will remain on the publisher and cause the WAL directory to bloat over time."
   ]
  },
  {
   "cell_type": "markdown",
   "metadata": {},
   "source": [
    "#### Ways To Solve Conflicts"
   ]
  },
  {
   "cell_type": "markdown",
   "metadata": {},
   "source": [
    "- Change data / constraints / permissions on subscriber side.\n",
    "- Skip LSN -> `ALTER SUBSCRIPTION sub_alltables SKIP (LSN = '<some_lsn>');`\\\n",
    "The LSN can be found on server log (The LSN can be omitted on parallel mode, to find it you should switch to streaming / regular)."
   ]
  },
  {
   "cell_type": "markdown",
   "metadata": {},
   "source": [
    "### Monitoring"
   ]
  },
  {
   "cell_type": "markdown",
   "metadata": {},
   "source": [
    "Same as physical replication and:\n",
    "- `pg_stat_subscription_stats` - cumulative information about errors in replication.\n",
    "- `pg_stat_subscription` - dynamic information about currently running logical replication worker processes."
   ]
  },
  {
   "cell_type": "markdown",
   "metadata": {},
   "source": [
    "## Related Relations"
   ]
  },
  {
   "cell_type": "markdown",
   "metadata": {},
   "source": [
    "Publication / Subscription  |   Relation Name               |   View / Table    |   Description\n",
    "--------------------------  |   -------------               |   ------------    |   -----------\n",
    "Subscription                |   pg_subscription             |   Table           |   contains all subscriptions\n",
    "Subscription                |   pg_subscription_rel         |   Table           |   contains subscription <-> replicated tables mapping\n",
    "Subscription                |   pg_stat_subscription        |   View            |   contains information about currently running logical replication workers\n",
    "Subscription                |   pg_stat_subscription_stats  |   View            |   contains cumulative information about subscriptions on server\n",
    "Publication                 |   pg_publication              |   Table           |   contains all publications\n",
    "Publication                 |   pg_publication_rel          |   Table           |   contains publications <-> replicated tables mapping\n",
    "Publication                 |   pg_publication_namespace    |   Table           |   contains publications <-> schemas mapping\n",
    "Publication                 |   pg_publication_tables       |   View            |   contains publications <-> replicated tables mapping in a more readable format **+** joined to pg_publication **+** added `FOR ALL TABLES` publication information in single table granularity\n",
    "\n"
   ]
  },
  {
   "cell_type": "markdown",
   "metadata": {},
   "source": [
    "Mapping between Publications <-> Tables can be seen in `pg_publication_tables`"
   ]
  },
  {
   "cell_type": "markdown",
   "metadata": {},
   "source": [
    "## Caveats"
   ]
  },
  {
   "cell_type": "markdown",
   "metadata": {},
   "source": [
    "### Missing Functionality"
   ]
  },
  {
   "cell_type": "markdown",
   "metadata": {},
   "source": [
    "- DDL and Schema changes are not replicated.\n",
    "- Sequence data is not replicated.\n",
    "- Only tables and partitioned tables are replicated any other objects not.\n",
    "- In partitioned table - the partitions on publisher side should exist on the subscriber side as well, except when `publish_via_partition_root=true`."
   ]
  },
  {
   "cell_type": "markdown",
   "metadata": {},
   "source": [
    "### Restrictions"
   ]
  },
  {
   "cell_type": "markdown",
   "metadata": {},
   "source": [
    "- Truncate on subscriber side will fail if it's linked to a table not included in the subscription.\n"
   ]
  }
 ],
 "metadata": {
  "kernelspec": {
   "display_name": "Python 3 (ipykernel)",
   "language": "python",
   "name": "python3"
  },
  "language_info": {
   "codemirror_mode": {
    "name": "ipython",
    "version": 3
   },
   "file_extension": ".py",
   "mimetype": "text/x-python",
   "name": "python",
   "nbconvert_exporter": "python",
   "pygments_lexer": "ipython3",
   "version": "3.11.6"
  }
 },
 "nbformat": 4,
 "nbformat_minor": 4
}
