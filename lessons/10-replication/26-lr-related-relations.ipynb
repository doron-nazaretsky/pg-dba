{
 "cells": [
  {
   "cell_type": "markdown",
   "metadata": {},
   "source": [
    "# Related Relations"
   ]
  },
  {
   "cell_type": "markdown",
   "metadata": {},
   "source": [
    "Publication / Subscription  |   Relation Name               |   View / Table    |   Description\n",
    "--------------------------  |   -------------               |   ------------    |   -----------\n",
    "Subscription                |   pg_subscription             |   Table           |   contains all subscriptions\n",
    "Subscription                |   pg_subscription_rel         |   Table           |   contains subscription <-> replicated tables mapping\n",
    "Subscription                |   pg_stat_subscription        |   View            |   contains information about currently running logical replication workers\n",
    "Subscription                |   pg_stat_subscription_stats  |   View            |   contains cumulative information about subscriptions on server\n",
    "Publication                 |   pg_publication              |   Table           |   contains all publications\n",
    "Publication                 |   pg_publication_rel          |   Table           |   contains publications <-> replicated tables mapping\n",
    "Publication                 |   pg_publication_namespace    |   Table           |   contains publications <-> schemas mapping\n",
    "Publication                 |   pg_publication_tables       |   View            |   contains publications <-> replicated tables mapping in a more readable format **+** joined to pg_publication **+** added `FOR ALL TABLES` publication information in single table granularity\n",
    "\n"
   ]
  },
  {
   "cell_type": "markdown",
   "metadata": {},
   "source": [
    "Mapping between Publications <-> Tables can be seen in `pg_publication_tables`"
   ]
  }
 ],
 "metadata": {
  "kernelspec": {
   "display_name": "Python 3 (ipykernel)",
   "language": "python",
   "name": "python3"
  },
  "language_info": {
   "codemirror_mode": {
    "name": "ipython",
    "version": 3
   },
   "file_extension": ".py",
   "mimetype": "text/x-python",
   "name": "python",
   "nbconvert_exporter": "python",
   "pygments_lexer": "ipython3",
   "version": "3.11.6"
  }
 },
 "nbformat": 4,
 "nbformat_minor": 4
}
