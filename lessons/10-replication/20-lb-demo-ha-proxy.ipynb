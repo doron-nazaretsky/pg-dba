{
 "cells": [
  {
   "cell_type": "markdown",
   "metadata": {},
   "source": [
    "# HAProxy"
   ]
  },
  {
   "cell_type": "markdown",
   "metadata": {},
   "source": [
    "## Configure"
   ]
  },
  {
   "cell_type": "markdown",
   "metadata": {},
   "source": [
    "Create a a new `cfg` config file or edit the existing default `/etc/haproxy/haproxy.cfg`"
   ]
  },
  {
   "cell_type": "markdown",
   "metadata": {},
   "source": [
    "### HAProxy Global And Defaults"
   ]
  },
  {
   "cell_type": "markdown",
   "metadata": {},
   "source": [
    "```cfg\n",
    "global\n",
    "    maxconn 300\n",
    "    log     127.0.0.1 local2\n",
    "\n",
    "defaults\n",
    "    log global\n",
    "    mode tcp\n",
    "    retries 2\n",
    "    timeout client 30m\n",
    "    timeout connect 4s\n",
    "    timeout server 30m\n",
    "    timeout check 5s\n",
    "\n",
    "listen stats\n",
    "    mode http\n",
    "    bind *:7000\n",
    "    stats enable\n",
    "    stats uri /\n",
    "```"
   ]
  },
  {
   "cell_type": "markdown",
   "metadata": {},
   "source": [
    "### Primary"
   ]
  },
  {
   "cell_type": "markdown",
   "metadata": {},
   "source": [
    "```cfg\n",
    "listen primary\n",
    "    bind *:5000\n",
    "    option httpchk\n",
    "    http-check expect status 200\n",
    "    default-server inter 3s fall 3 rise 2 on-marked-down shutdown-sessions\n",
    "    server pg-1 pg-1:5432 maxconn 100 check port 8008\n",
    "    server pg-2 pg-2:5432 maxconn 100 check port 8008\n",
    "    server pg-3 pg-3:5432 maxconn 100 check port 8008\n",
    "```"
   ]
  },
  {
   "cell_type": "markdown",
   "metadata": {},
   "source": [
    "### Standby"
   ]
  },
  {
   "cell_type": "markdown",
   "metadata": {},
   "source": [
    "```cfg\n",
    "listen standby\n",
    "    bind *:5001\n",
    "    option httpchk OPTIONS/replica\n",
    "    http-check expect status 200\n",
    "    default-server inter 3s fall 3 rise 2 on-marked-down shutdown-sessions\n",
    "    server pg-1 pg-1:5432 maxconn 100 check port 8008\n",
    "    server pg-2 pg-2:5432 maxconn 100 check port 8008\n",
    "    server pg-3 pg-3:5432 maxconn 100 check port 8008\n",
    "```"
   ]
  },
  {
   "cell_type": "markdown",
   "metadata": {},
   "source": [
    "## Run HAProxy"
   ]
  },
  {
   "cell_type": "code",
   "execution_count": null,
   "metadata": {
    "vscode": {
     "languageId": "bash"
    }
   },
   "outputs": [],
   "source": [
    "haproxy -f /etc/haproxy/haproxy.cfg"
   ]
  }
 ],
 "metadata": {
  "language_info": {
   "name": "python"
  }
 },
 "nbformat": 4,
 "nbformat_minor": 2
}
