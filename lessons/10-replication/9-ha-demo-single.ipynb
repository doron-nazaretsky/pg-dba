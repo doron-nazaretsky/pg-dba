{
 "cells": [
  {
   "cell_type": "markdown",
   "metadata": {},
   "source": [
    "# Single Machine"
   ]
  },
  {
   "cell_type": "markdown",
   "metadata": {},
   "source": [
    "## Architecture"
   ]
  },
  {
   "cell_type": "markdown",
   "metadata": {},
   "source": [
    "<img src=\"./helpers/replication-single-machine.png\" alt=\"drawing\" width=\"600\"/>"
   ]
  },
  {
   "cell_type": "markdown",
   "metadata": {},
   "source": [
    "## Prerequisites"
   ]
  },
  {
   "cell_type": "markdown",
   "metadata": {},
   "source": [
    "- Single linux machine with installed PostgreSQL"
   ]
  },
  {
   "cell_type": "markdown",
   "metadata": {},
   "source": [
    "## Install Tools"
   ]
  },
  {
   "cell_type": "code",
   "execution_count": null,
   "metadata": {
    "vscode": {
     "languageId": "bash"
    }
   },
   "outputs": [],
   "source": [
    "# Patroni\n",
    "apt install patroni -y\n",
    "\n",
    "# ETCD\n",
    "apt install curl -y\n",
    "export ETCD_VER=v3.5.13\n",
    "export DOWNLOAD_URL=https://github.com/etcd-io/etcd/releases/download\n",
    "curl -L ${DOWNLOAD_URL}/${ETCD_VER}/etcd-${ETCD_VER}-linux-amd64.tar.gz -o /tmp/etcd-${ETCD_VER}-linux-amd64.tar.gz\n",
    "tar xzvf /tmp/etcd-${ETCD_VER}-linux-amd64.tar.gz -C /usr/local/bin --strip-components=1"
   ]
  },
  {
   "cell_type": "markdown",
   "metadata": {},
   "source": [
    "## Configure Patroni"
   ]
  },
  {
   "cell_type": "markdown",
   "metadata": {},
   "source": [
    "### Single Node Config"
   ]
  },
  {
   "cell_type": "markdown",
   "metadata": {},
   "source": [
    "Explore this `YAML` configuration file for Patroni.\n",
    "\n",
    "This is a template for a basic Patroni deployment for a single Patroni - PostgreSQL pair.\n",
    "\n",
    "*Configuration Explanation By Scope:*\n",
    "- Global\n",
    "    - Scope - Cluster name\n",
    "    - Namespace - Where the data about the cluster is stored on the DCS (in our case ETCD)\n",
    "    - Name - This deployment name\n",
    "- restapi - Configurations for Patroni REST API\n",
    "- ctl - Configurations for Patroni CTL API (script)\n",
    "- etcd - Config connectivity to ETCD\n",
    "- bootstrap - Configurations for the bootstrap of a PostgresSQL server, since Patroni is responsible to start a failed or non-existent server it needs PG parameters for that. \\\n",
    "That is complemented by the global `dcs` configurations presented in the next yaml block\n",
    "- postgresql - This deployment explicit configurations\n",
    "- watchdog - Can be used to make sure more than one Postgres node is not elected to be primary due to Patroni bug / error\n",
    "- tags - Patroni tags to change some behaviors of the deployment, some examples attached"
   ]
  },
  {
   "cell_type": "markdown",
   "metadata": {},
   "source": [
    "```yaml\n",
    "scope: batman\n",
    "namespace: /service\n",
    "name: postgresql0\n",
    "\n",
    "restapi:\n",
    "  listen: 127.0.0.1:8008\n",
    "  connect_address: 127.0.0.1:8008\n",
    "\n",
    "ctl:\n",
    " insecure: false # Allow connections to Patroni REST API without verifying certificates\n",
    "\n",
    "etcd:\n",
    "  host: 127.0.0.1:2379\n",
    "\n",
    "# The bootstrap configuration. Works only when the cluster is not yet initialized.\n",
    "# If the cluster is already initialized, all changes in the `bootstrap` section are ignored!\n",
    "bootstrap:\n",
    "  initdb:  \n",
    "  - encoding: UTF8\n",
    "  - data-checksums\n",
    "\n",
    "postgresql:\n",
    "  listen: 127.0.0.1:5432\n",
    "  connect_address: 127.0.0.1:5432\n",
    "  data_dir: data/postgresql0\n",
    "  authentication:\n",
    "    replication:\n",
    "      username: replicator\n",
    "      password: rep-pass\n",
    "    superuser:\n",
    "      username: postgres\n",
    "      password: zalando\n",
    "    rewind:\n",
    "      username: rewind_user\n",
    "      password: rewind_password\n",
    "# Can be used to make sure more than one Postgres node is not elected to be primary due to Patroni bug / error\n",
    "# By default on\n",
    "watchdog: \n",
    "  mode: off\n",
    "\n",
    "tags:\n",
    "    noloadbalance: false # Only HA\n",
    "    nostream: false # Change to file based continuous recovery\n",
    "    # replicatefrom: # Create cascading replication with this\n",
    "```"
   ]
  },
  {
   "cell_type": "markdown",
   "metadata": {},
   "source": [
    "### Global Config"
   ]
  },
  {
   "cell_type": "markdown",
   "metadata": {},
   "source": [
    "This `YAML` block can be entered a single time in one config file across all the cluster since it's stored in ETCD and shared globally across all nodes as GLOBAL Variables.\n",
    "\n",
    "Specific deployment variables can override this!\n",
    "\n",
    "*Note* - Pay attention to the `parameters`, commented out are defaults."
   ]
  },
  {
   "cell_type": "markdown",
   "metadata": {},
   "source": [
    "```yaml\n",
    "bootstrap:\n",
    "  # This section will be written into Etcd:/<namespace>/<scope>/config after initializing new cluster\n",
    "  # and all other cluster members will use it as a `global configuration`.\n",
    "  # WARNING! If you want to change any of the parameters that were set up\n",
    "  # via `bootstrap.dcs` section, please use `patronictl edit-config`!\n",
    "  dcs:\n",
    "    ttl: 30\n",
    "    loop_wait: 10\n",
    "    retry_timeout: 10\n",
    "    maximum_lag_on_failover: 1048576\n",
    "#    primary_start_timeout: 300\n",
    "#    synchronous_mode: false\n",
    "    postgresql:\n",
    "      use_pg_rewind: true\n",
    "      pg_hba:\n",
    "      - host replication replicator 127.0.0.1/32 md5\n",
    "      - host all all 0.0.0.0/0 md5\n",
    "      parameters:\n",
    "#        wal_level: hot_standby\n",
    "#        hot_standby: \"on\"\n",
    "#        max_connections: 100\n",
    "#        max_worker_processes: 8\n",
    "#        wal_keep_segments: 8\n",
    "#        max_wal_senders: 10\n",
    "#        max_replication_slots: 10\n",
    "#        max_prepared_transactions: 0\n",
    "#        max_locks_per_transaction: 64\n",
    "#        wal_log_hints: \"on\"\n",
    "#        track_commit_timestamp: \"off\"\n",
    "#        archive_mode: \"on\"\n",
    "#        archive_timeout: 1800s\n",
    "#        archive_command: mkdir -p ../wal_archive && test ! -f ../wal_archive/%f && cp %p ../wal_archive/%f\n",
    "#      recovery_conf:\n",
    "#        restore_command: cp ../wal_archive/%f %p\n",
    "```"
   ]
  },
  {
   "cell_type": "markdown",
   "metadata": {},
   "source": [
    "### Add Configuration Files"
   ]
  },
  {
   "cell_type": "markdown",
   "metadata": {},
   "source": [
    "1. Change to postgres user\n",
    "1. cd to ~\n",
    "1. Create 3 files:\n",
    "    - postgres0.yml with global config\n",
    "    - postgres1.yml -> change names and ports accordingly\n",
    "    - postgres2.yml -> change names and ports accordingly"
   ]
  },
  {
   "cell_type": "markdown",
   "metadata": {},
   "source": [
    "## Start ETCD"
   ]
  },
  {
   "cell_type": "markdown",
   "metadata": {},
   "source": [
    "From a designated terminal start the ETCD service"
   ]
  },
  {
   "cell_type": "code",
   "execution_count": null,
   "metadata": {
    "vscode": {
     "languageId": "bash"
    }
   },
   "outputs": [],
   "source": [
    "etcd --data-dir=data/etcd --enable-v2=true"
   ]
  },
  {
   "cell_type": "markdown",
   "metadata": {},
   "source": [
    "## Start Patroni"
   ]
  },
  {
   "cell_type": "markdown",
   "metadata": {},
   "source": [
    "Open 3 different terminals using `postgres` user in the directory `~` and start 3 deployment based on the config files we configured earlier"
   ]
  },
  {
   "cell_type": "code",
   "execution_count": null,
   "metadata": {
    "vscode": {
     "languageId": "bash"
    }
   },
   "outputs": [],
   "source": [
    "patroni postgres0.yml\n",
    "patroni postgres1.yml\n",
    "patroni postgres2.yml"
   ]
  },
  {
   "cell_type": "markdown",
   "metadata": {},
   "source": [
    "## Monitor Activity"
   ]
  },
  {
   "cell_type": "code",
   "execution_count": null,
   "metadata": {
    "vscode": {
     "languageId": "bash"
    }
   },
   "outputs": [],
   "source": [
    "curl -s http://localhost:8008/patroni | jq .\n",
    "curl -s http://localhost:8008/cluster | jq .\n",
    "curl -s http://localhost:8008/history | jq ."
   ]
  },
  {
   "cell_type": "markdown",
   "metadata": {},
   "source": [
    "## Play With Your HA Cluster"
   ]
  },
  {
   "cell_type": "markdown",
   "metadata": {},
   "source": [
    "- Try killing some servers (check out `primary_start_timeout`)\n",
    "- Try switching to file based log shipping\n",
    "- Think of a way to use `pgBackRest` instead of `cp`\n",
    "- Think how would periodic backup look like in HA"
   ]
  }
 ],
 "metadata": {
  "language_info": {
   "name": "python"
  }
 },
 "nbformat": 4,
 "nbformat_minor": 2
}
