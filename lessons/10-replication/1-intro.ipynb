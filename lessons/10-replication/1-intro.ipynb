{
 "cells": [
  {
   "cell_type": "markdown",
   "metadata": {},
   "source": [
    "# Intro"
   ]
  },
  {
   "cell_type": "markdown",
   "metadata": {},
   "source": [
    "## Problems"
   ]
  },
  {
   "cell_type": "markdown",
   "metadata": {},
   "source": [
    "### High Availability"
   ]
  },
  {
   "cell_type": "markdown",
   "metadata": {},
   "source": [
    "Problem: in a case of a failure, with backups we can recover but it demands at least a small downtime and human interaction - running a recovery script."
   ]
  },
  {
   "cell_type": "markdown",
   "metadata": {},
   "source": [
    "### Performance (Load Balancing)"
   ]
  },
  {
   "cell_type": "markdown",
   "metadata": {},
   "source": [
    "Problem: a single machine is (very) limited with the amount of compute power it can scale, because it is scaling vertically meaning it can add hardware. The amount of hardware that can be added efficiently to a machine is limited and every scaling of that sort typically requires downtime."
   ]
  },
  {
   "cell_type": "markdown",
   "metadata": {},
   "source": [
    "## Solutions"
   ]
  },
  {
   "cell_type": "markdown",
   "metadata": {},
   "source": [
    "Those are fundamental software problems which have different solutions we different trade offs.\n",
    "\n",
    "The common denominator of the solutions is the idea of horizontal scaling -> adding more machines to work together causing some kind of a distributed system.\n",
    "\n",
    "This approach has been proven to be very effective and almost limitless in resources around all kinds of software products, but it presents a *new problem*!\n",
    "\n",
    "The main overhead in distributed systems is **consistency**"
   ]
  },
  {
   "cell_type": "markdown",
   "metadata": {},
   "source": [
    "### Types Of Abstract Solutions"
   ]
  },
  {
   "cell_type": "markdown",
   "metadata": {},
   "source": [
    "- Common storage (shared disk, network file system)\n",
    "- Write / Read separation (one write server, multiple write servers, always multiple read servers)\n",
    "- Sync / Async consistency (multi machine transactions vs eventually consistent)\n",
    "- Communication protocol and method (byte like, logical, SQL)"
   ]
  },
  {
   "cell_type": "markdown",
   "metadata": {},
   "source": [
    "There are lots of available solutions out there for PostgreSQL but we will discuss mainly the two built-in solutions which are the most common ones as well.\n",
    "\n",
    "Most of the commercial close-code solutions are based on those approaches anyway so if you understand them it should be sufficient."
   ]
  },
  {
   "cell_type": "markdown",
   "metadata": {},
   "source": [
    "### Replication - Built In Solution"
   ]
  },
  {
   "cell_type": "markdown",
   "metadata": {},
   "source": [
    "Replication means that there are several machines, each storing (almost) all the data.\n",
    "\n",
    "There are two methods of communication that the replication supports:\n",
    "- WAL based\n",
    "- Logical"
   ]
  },
  {
   "cell_type": "markdown",
   "metadata": {},
   "source": [
    "#### WAL Replication (Log Shipping) - Physical"
   ]
  },
  {
   "cell_type": "markdown",
   "metadata": {},
   "source": [
    "Changes across the DB are already written to WAL files in a low level protocol for durability reasons, those can be used to update other machines efficiently as well."
   ]
  },
  {
   "cell_type": "markdown",
   "metadata": {},
   "source": [
    "#### Logical Replication"
   ]
  },
  {
   "cell_type": "markdown",
   "metadata": {},
   "source": [
    "Transactions are recorded and propagated from servers to other servers to be done on them too."
   ]
  }
 ],
 "metadata": {
  "language_info": {
   "name": "python"
  }
 },
 "nbformat": 4,
 "nbformat_minor": 2
}
