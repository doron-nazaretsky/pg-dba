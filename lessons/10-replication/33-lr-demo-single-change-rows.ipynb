{
 "cells": [
  {
   "cell_type": "markdown",
   "metadata": {},
   "source": [
    "# Change Rows"
   ]
  },
  {
   "cell_type": "markdown",
   "metadata": {},
   "source": [
    "## Set select alias"
   ]
  },
  {
   "cell_type": "code",
   "execution_count": null,
   "metadata": {
    "vscode": {
     "languageId": "bash"
    }
   },
   "outputs": [],
   "source": [
    "#### db-2 ####\n",
    "alias pg_select_rep_a='psql -c \"SELECT * FROM replicated_a;\"'\n",
    "alias pg_select_rep_b='psql -c \"SELECT * FROM replicated_b;\"'"
   ]
  },
  {
   "cell_type": "markdown",
   "metadata": {},
   "source": [
    "## Insert"
   ]
  },
  {
   "cell_type": "code",
   "execution_count": null,
   "metadata": {
    "vscode": {
     "languageId": "bash"
    }
   },
   "outputs": [],
   "source": [
    "#### db-1 ####\n",
    "psql -c \"INSERT INTO replicated_a VALUES (1, 'a'), (2, 'b');\"\n",
    "\n",
    "#### db-2 ####\n",
    "pg_select_rep_a"
   ]
  },
  {
   "cell_type": "markdown",
   "metadata": {},
   "source": [
    "## Update"
   ]
  },
  {
   "cell_type": "code",
   "execution_count": null,
   "metadata": {
    "vscode": {
     "languageId": "bash"
    }
   },
   "outputs": [],
   "source": [
    "#### db-1 ####\n",
    "psql -c \"UPDATE replicated_a SET data = 'c' WHERE id = 1;\"\n",
    "\n",
    "#### db-2 ####\n",
    "pg_select_rep_a"
   ]
  },
  {
   "cell_type": "markdown",
   "metadata": {},
   "source": [
    "## Delete"
   ]
  },
  {
   "cell_type": "code",
   "execution_count": null,
   "metadata": {
    "vscode": {
     "languageId": "bash"
    }
   },
   "outputs": [],
   "source": [
    "#### db-1 ####\n",
    "psql -c \"DELETE FROM replicated_a WHERE id = 2;\"\n",
    "\n",
    "#### db-2 ####\n",
    "pg_select_rep_a"
   ]
  }
 ],
 "metadata": {
  "language_info": {
   "name": "python"
  }
 },
 "nbformat": 4,
 "nbformat_minor": 2
}
