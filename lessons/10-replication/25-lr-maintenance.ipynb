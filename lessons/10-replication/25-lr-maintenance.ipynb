{
 "cells": [
  {
   "cell_type": "markdown",
   "metadata": {},
   "source": [
    "# Maintenance"
   ]
  },
  {
   "cell_type": "markdown",
   "metadata": {},
   "source": [
    "## Handling Errors"
   ]
  },
  {
   "cell_type": "markdown",
   "metadata": {},
   "source": [
    "When applying a change on subscriber it's possible to run into conflicts which will cause the apply worker process to exit.\n",
    "\n",
    "Then, the launcher will detect there is a missing apply worker and start a new process which will try to apply the last LSN again.\n",
    "\n",
    "In the default scenario without manual intervention that is an *endless loop!*"
   ]
  },
  {
   "cell_type": "markdown",
   "metadata": {},
   "source": [
    "### Disable On Error"
   ]
  },
  {
   "cell_type": "markdown",
   "metadata": {},
   "source": [
    "A `DISABLE_ON_ERROR` subscription configuration can be turned on to disable the subscription when an error occurs to not cause this loop.\n",
    "\n",
    "One should be very careful with that option because without fixing this issue a replication slot will remain on the publisher and cause the WAL directory to bloat over time."
   ]
  },
  {
   "cell_type": "markdown",
   "metadata": {},
   "source": [
    "### Ways To Solve Conflicts"
   ]
  },
  {
   "cell_type": "markdown",
   "metadata": {},
   "source": [
    "- Change data / constraints / permissions on subscriber side.\n",
    "- Skip LSN -> `ALTER SUBSCRIPTION sub_alltables SKIP (LSN = '<some_lsn>');`\\\n",
    "The LSN can be found on server log (The LSN can be omitted on parallel mode, to find it you should switch to streaming / regular)."
   ]
  },
  {
   "cell_type": "markdown",
   "metadata": {},
   "source": [
    "## Monitoring"
   ]
  },
  {
   "cell_type": "markdown",
   "metadata": {},
   "source": [
    "Same as physical replication and:\n",
    "- `pg_stat_subscription_stats` - cumulative information about errors in replication.\n",
    "- `pg_stat_subscription` - dynamic information about currently running logical replication worker processes."
   ]
  }
 ],
 "metadata": {
  "kernelspec": {
   "display_name": "Python 3 (ipykernel)",
   "language": "python",
   "name": "python3"
  },
  "language_info": {
   "codemirror_mode": {
    "name": "ipython",
    "version": 3
   },
   "file_extension": ".py",
   "mimetype": "text/x-python",
   "name": "python",
   "nbconvert_exporter": "python",
   "pygments_lexer": "ipython3",
   "version": "3.11.6"
  }
 },
 "nbformat": 4,
 "nbformat_minor": 4
}
