{
 "cells": [
  {
   "cell_type": "markdown",
   "metadata": {},
   "source": [
    "# Handle Conflicts"
   ]
  },
  {
   "cell_type": "markdown",
   "metadata": {},
   "source": [
    "## Set monitoring alias"
   ]
  },
  {
   "cell_type": "code",
   "execution_count": null,
   "metadata": {
    "vscode": {
     "languageId": "bash"
    }
   },
   "outputs": [],
   "source": [
    "#### db-2 ####\n",
    "alias pg_sub_stats='echo \"SELECT * FROM pg_stat_subscription_stats; \\watch i=5 c=4\" | psql' # Cumulative\n",
    "alias pg_sub='psql -c \"SELECT * FROM pg_stat_subscription;\"' # Dynamic"
   ]
  },
  {
   "cell_type": "markdown",
   "metadata": {},
   "source": [
    "## Create Conflict"
   ]
  },
  {
   "cell_type": "code",
   "execution_count": null,
   "metadata": {
    "vscode": {
     "languageId": "bash"
    }
   },
   "outputs": [],
   "source": [
    "#### db-2 ####\n",
    "psql -c \"ALTER TABLE replicated_a ADD CONSTRAINT a_unique_data UNIQUE(data);\"\n",
    "\n",
    "#### db-1 ####\n",
    "psql -c \"INSERT INTO replicated_a VALUES (2, 'z'), (3, 'z');\"\n",
    "\n",
    "#### db-2 ####\n",
    "## Check out the subscription\n",
    "pg_select_rep_a\n",
    "pg_logs -n 100\n",
    "pg_sub\n",
    "pg_sub_stats\n",
    "\n",
    "\n",
    "#### db-1 ####\n",
    "## Look on the delta\n",
    "psql << EOM\n",
    "SELECT \n",
    "    pg_size_pretty(pg_current_wal_lsn() - confirmed_flush_lsn) fall_behaind_size\n",
    "FROM pg_replication_slots\n",
    "WHERE slot_name = 'sub_db1_all_tbl';\n",
    "EOM"
   ]
  },
  {
   "cell_type": "markdown",
   "metadata": {},
   "source": [
    "## Disable Subscription - Quit Loop"
   ]
  },
  {
   "cell_type": "code",
   "execution_count": null,
   "metadata": {
    "vscode": {
     "languageId": "bash"
    }
   },
   "outputs": [],
   "source": [
    "#### db-2 ####\n",
    "psql -c \"ALTER SUBSCRIPTION sub_db1_all_tbl SET (DISABLE_ON_ERROR='on');\"\n",
    "\n",
    "## Check out the subscription\n",
    "pg_sub\n",
    "pg_sub_stats"
   ]
  },
  {
   "cell_type": "markdown",
   "metadata": {},
   "source": [
    "## Handle By Changing Constraint"
   ]
  },
  {
   "cell_type": "code",
   "execution_count": null,
   "metadata": {
    "vscode": {
     "languageId": "bash"
    }
   },
   "outputs": [],
   "source": [
    "#### db-2 ####\n",
    "## Remove constraint to handle error\n",
    "psql -c \"ALTER TABLE replicated_a DROP CONSTRAINT a_unique_data;\"\n",
    "\n",
    "## Enable the subscription\n",
    "psql -c \"ALTER SUBSCRIPTION sub_db1_all_tbl ENABLE;\"\n",
    "pg_select_rep_a"
   ]
  },
  {
   "cell_type": "markdown",
   "metadata": {},
   "source": [
    "## Handle By Skipping LSN"
   ]
  },
  {
   "cell_type": "code",
   "execution_count": null,
   "metadata": {
    "vscode": {
     "languageId": "bash"
    }
   },
   "outputs": [],
   "source": [
    "###### Create conflict on replicated_b ######\n",
    "#### db-2 ####\n",
    "psql -c \"ALTER TABLE replicated_b ADD CONSTRAINT b_unique_data UNIQUE(data);\"\n",
    "\n",
    "#### db-1 ####\n",
    "psql -c \"INSERT INTO replicated_b VALUES (2, 'z'), (3, 'z');\"\n",
    "psql -c \"INSERT INTO replicated_b VALUES (4, 'z'), (5, 'x');\"\n",
    "\n",
    "\n",
    "###### Handle by skipping LSN ######\n",
    "## Find problematic LSN\n",
    "pg_logs\n",
    "\n",
    "## Skip LSN\n",
    "psql -c \"ALTER SUBSCRIPTION sub_db1_all_tbl SKIP (LSN='<lsn>');\"\n",
    "\n",
    "## Enable the subscription\n",
    "psql -c \"ALTER SUBSCRIPTION sub_db1_all_tbl ENABLE;\"\n",
    "pg_select_rep_b\n",
    "pg_sub\n",
    "pg_sub_stats"
   ]
  }
 ],
 "metadata": {
  "language_info": {
   "name": "python"
  }
 },
 "nbformat": 4,
 "nbformat_minor": 2
}
