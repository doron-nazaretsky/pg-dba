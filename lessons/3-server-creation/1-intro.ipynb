{
 "cells": [
  {
   "cell_type": "markdown",
   "metadata": {},
   "source": [
    "# Intro"
   ]
  },
  {
   "cell_type": "markdown",
   "metadata": {},
   "source": [
    "Creating a PostgreSQL instance involves setting up a new database cluster, configuring essential parameters, and initializing the database environment. \n",
    "\n",
    "This process ensures that PostgreSQL is ready to manage and store data effectively. \n",
    "\n",
    "The following demo will guide you through the step-by-step process of creating and configuring a PostgreSQL instance, providing the pros and cons of the available configurations."
   ]
  }
 ],
 "metadata": {
  "kernelspec": {
   "display_name": "Python 3 (ipykernel)",
   "language": "python",
   "name": "python3"
  },
  "language_info": {
   "codemirror_mode": {
    "name": "ipython",
    "version": 3
   },
   "file_extension": ".py",
   "mimetype": "text/x-python",
   "name": "python",
   "nbconvert_exporter": "python",
   "pygments_lexer": "ipython3",
   "version": "3.11.6"
  }
 },
 "nbformat": 4,
 "nbformat_minor": 4
}
