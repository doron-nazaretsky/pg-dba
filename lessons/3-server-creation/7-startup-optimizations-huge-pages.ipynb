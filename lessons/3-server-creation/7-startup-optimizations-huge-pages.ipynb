{
 "cells": [
  {
   "cell_type": "markdown",
   "metadata": {},
   "source": [
    "# Linux huge pages"
   ]
  },
  {
   "cell_type": "markdown",
   "metadata": {},
   "source": [
    "Optimizes memory management by allowing larger memory pages to be used, reducing the overhead associated with managing smaller pages. \n",
    "\n",
    "This optimization can significantly improve database performance by reducing memory access latency and enhancing overall system efficiency. "
   ]
  },
  {
   "cell_type": "markdown",
   "metadata": {},
   "source": [
    "## How to configure"
   ]
  },
  {
   "cell_type": "markdown",
   "metadata": {},
   "source": [
    "- Enable with CONFIG_HUGETLBFS=y, CONFIG_HUGETLB_PAGE=y\n",
    "- Calculate required number of huge pages with shared_memory_size, shared_memory_size_in_huge_pages\n",
    "- Enable this number of pages with vm.nr_hugepages option (not available on virtualization)"
   ]
  },
  {
   "cell_type": "markdown",
   "metadata": {},
   "source": [
    "## Benchmarks\n"
   ]
  },
  {
   "cell_type": "markdown",
   "metadata": {},
   "source": [
    "![benchmark](./helpers/huge-page-benchmark-1.png)\n",
    "\n",
    "![benchmark](./helpers/huge-page-benchmark-2.png)"
   ]
  },
  {
   "cell_type": "markdown",
   "metadata": {},
   "source": [
    "## Summary"
   ]
  },
  {
   "cell_type": "markdown",
   "metadata": {},
   "source": [
    "- Mostly beneficial when the DB has a big load + a lot of concurrent connections (more than ~80)\n",
    "- It's almost always good to use it, have to check which size is better for you\n",
    "\n",
    "[Here](https://www.enterprisedb.com/blog/improving-postgresql-performance-without-making-changes-postgresql) is a quick tutorial on benchmarking step by step"
   ]
  }
 ],
 "metadata": {
  "kernelspec": {
   "display_name": "Python 3 (ipykernel)",
   "language": "python",
   "name": "python3"
  },
  "language_info": {
   "codemirror_mode": {
    "name": "ipython",
    "version": 3
   },
   "file_extension": ".py",
   "mimetype": "text/x-python",
   "name": "python",
   "nbconvert_exporter": "python",
   "pygments_lexer": "ipython3",
   "version": "3.11.6"
  }
 },
 "nbformat": 4,
 "nbformat_minor": 4
}
