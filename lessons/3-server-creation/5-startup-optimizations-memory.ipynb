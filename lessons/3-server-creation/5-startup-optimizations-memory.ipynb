{
 "cells": [
  {
   "cell_type": "markdown",
   "metadata": {},
   "source": [
    "# Shared Memory"
   ]
  },
  {
   "cell_type": "markdown",
   "metadata": {},
   "source": [
    "Name\t|\tDescription\t|\tValues needed to run one PostgreSQL instance\n",
    "-----   | -------- |          -------------\n",
    "SHMMAX\t|\tMaximum size of shared memory segment (bytes)\t|\tat least 1kB, but the default is usually much higher\n",
    "SHMMIN\t|\tMinimum size of shared memory segment (bytes)\t|\t1\n",
    "SHMALL\t|\tTotal amount of shared memory available (bytes or pages)\t|\tsame as SHMMAX if bytes, or ceil(SHMMAX/PAGE_SIZE) if pages, plus room for other applications\n",
    "SHMSEG\t|\tMaximum number of shared memory segments per process\t|\tonly 1 segment is needed, but the default is much higher\n",
    "SHMMNI\t|\tMaximum number of shared memory segments system-wide\t|\tlike SHMSEG plus room for other applications\n",
    "SEMMNI\t|\tMaximum number of semaphore identifiers (i.e., sets)\t|\tat least ceil((max_connections + autovacuum_max_workers + max_wal_senders + max_worker_processes + 5) / 16) plus room for other applications\n",
    "SEMMNS\t|\tMaximum number of semaphores system-wide\t|\tceil((max_connections + autovacuum_max_workers + max_wal_senders + max_worker_processes + 5) / 16) * 17 plus room for other applications\n",
    "SEMMSL\t|\tMaximum number of semaphores per set\t|\tat least 17\n",
    "SEMMAP\t|\tNumber of entries in semaphore map\t|\tsee text\n",
    "SEMVMX\t|\tMaximum value of semaphore\t|\tat least 1000 (The default is often 32767; do not change unless necessary)\n",
    "\n",
    "[link to docs](https://www.postgresql.org/docs/16/kernel-resources.html#SYSVIPC-PARAMETERS)"
   ]
  }
 ],
 "metadata": {
  "kernelspec": {
   "display_name": "Python 3 (ipykernel)",
   "language": "python",
   "name": "python3"
  },
  "language_info": {
   "codemirror_mode": {
    "name": "ipython",
    "version": 3
   },
   "file_extension": ".py",
   "mimetype": "text/x-python",
   "name": "python",
   "nbconvert_exporter": "python",
   "pygments_lexer": "ipython3",
   "version": "3.11.6"
  }
 },
 "nbformat": 4,
 "nbformat_minor": 4
}
