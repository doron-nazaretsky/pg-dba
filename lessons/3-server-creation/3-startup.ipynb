{
 "cells": [
  {
   "cell_type": "markdown",
   "metadata": {},
   "source": [
    "# Server Startup"
   ]
  },
  {
   "cell_type": "markdown",
   "metadata": {},
   "source": [
    "## Steps"
   ]
  },
  {
   "cell_type": "markdown",
   "metadata": {},
   "source": [
    "- Separate user that supposed to own only pg data, not his executables - often postgres\n",
    "- Configure authentication with pg_hba.conf\n",
    "- If using a different volume, create a sub dir that is owned by postgres\n",
    "- Debian specific [installation wiki](https://wiki.debian.org/PostgreSql)"
   ]
  },
  {
   "cell_type": "markdown",
   "metadata": {},
   "source": [
    "```BASH\n",
    "# On debian we get some PG tools for running multi version postgres on the server\n",
    "# List existing clusters\n",
    "pg_lsclusters\n",
    "```"
   ]
  },
  {
   "cell_type": "markdown",
   "metadata": {},
   "source": [
    "## Configure Authentication"
   ]
  },
  {
   "cell_type": "markdown",
   "metadata": {},
   "source": [
    "```BASH\n",
    "# Create a password for postgres user\n",
    "su postgres -c \"pg_ctlcluster 16 main start\" # That would be pg_ctl\n",
    "psql -U postgres\n",
    "# Add password with \\password meta command\n",
    "```"
   ]
  },
  {
   "cell_type": "markdown",
   "metadata": {},
   "source": [
    "```BASH\n",
    "# Change auth to password required\n",
    "find / -type f -name pg_hba.conf -exec nano {} \\;\n",
    "su postgres -c \"pg_ctlcluster 16 main restart\" # restart to apply changes\n",
    "```"
   ]
  },
  {
   "cell_type": "markdown",
   "metadata": {},
   "source": [
    "## Find the necessary directories"
   ]
  },
  {
   "cell_type": "markdown",
   "metadata": {},
   "source": [
    "```BASH\n",
    "# With env variables\n",
    "cd $PGDATA\n",
    "```"
   ]
  },
  {
   "cell_type": "markdown",
   "metadata": {},
   "source": [
    "```BASH\n",
    "# With debian tools\n",
    "# First\n",
    "pg_lsclusters\n",
    "\n",
    "# Second\n",
    "pg_conftool show all\n",
    "```"
   ]
  },
  {
   "cell_type": "markdown",
   "metadata": {},
   "source": [
    "```BASH\n",
    "# By configuration (relative to PGDATA)\n",
    "psql -c \"SHOW log_directory;\"\n",
    "```"
   ]
  },
  {
   "cell_type": "markdown",
   "metadata": {},
   "source": [
    "## Create A New Cluster"
   ]
  },
  {
   "cell_type": "markdown",
   "metadata": {},
   "source": [
    "```BASH\n",
    "# Without Debian dedicated tools\n",
    "MYDIR=postgres/data\n",
    "DATADIR=/var/lib/$MYDIR\n",
    "mkdir -p $DATADIR\n",
    "cd $DATADIR\n",
    "chown -R postgres ../\n",
    "su postgres -c \"initdb -D ${DATADIR}\"\n",
    "```"
   ]
  },
  {
   "cell_type": "markdown",
   "metadata": {},
   "source": [
    "```BASH\n",
    "# With debian tools\n",
    "pg_createcluster 16 new\n",
    "```"
   ]
  }
 ],
 "metadata": {
  "kernelspec": {
   "display_name": "Python 3 (ipykernel)",
   "language": "python",
   "name": "python3"
  },
  "language_info": {
   "codemirror_mode": {
    "name": "ipython",
    "version": 3
   },
   "file_extension": ".py",
   "mimetype": "text/x-python",
   "name": "python",
   "nbconvert_exporter": "python",
   "pygments_lexer": "ipython3",
   "version": "3.11.6"
  }
 },
 "nbformat": 4,
 "nbformat_minor": 4
}
