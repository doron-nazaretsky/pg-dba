{
 "cells": [
  {
   "cell_type": "markdown",
   "metadata": {},
   "source": [
    "# Shutting Down"
   ]
  },
  {
   "cell_type": "markdown",
   "metadata": {},
   "source": [
    "There are several ways to shut down the database server. Under the hood, they all reduce to sending a signal to the supervisor postgres process."
   ]
  },
  {
   "cell_type": "markdown",
   "metadata": {},
   "source": [
    "## Smart Shutdown"
   ]
  },
  {
   "cell_type": "markdown",
   "metadata": {},
   "source": [
    "After receiving `SIGTERM`, the server disallows new connections, but lets existing sessions end their work normally. It shuts down only after all of the sessions terminate."
   ]
  },
  {
   "cell_type": "markdown",
   "metadata": {},
   "source": [
    "```BASH\n",
    "# Standard tools\n",
    "pg_ctl stop -D /path/to/postgres/data -m smart\n",
    "\n",
    "# Debian\n",
    "pg_ctlcluster 16 main stop -- -m smart\n",
    "```"
   ]
  },
  {
   "cell_type": "markdown",
   "metadata": {},
   "source": [
    "## Fast Shutdown"
   ]
  },
  {
   "cell_type": "markdown",
   "metadata": {},
   "source": [
    "The server disallows new connections and sends all existing server processes `SIGTERM`, which will cause them to abort their current transactions and exit promptly. \n",
    "\n",
    "It then waits for all server processes to exit and finally shuts down."
   ]
  },
  {
   "cell_type": "markdown",
   "metadata": {},
   "source": [
    "```BASH\n",
    "# Standard tools\n",
    "pg_ctl stop -D /path/to/postgres/data -m fast\n",
    "\n",
    "\n",
    "# Debian\n",
    "pg_ctlcluster 16 main stop -- -m fast\n",
    "```"
   ]
  },
  {
   "cell_type": "markdown",
   "metadata": {},
   "source": [
    "## Immediate Shutdown"
   ]
  },
  {
   "cell_type": "markdown",
   "metadata": {},
   "source": [
    "The server will send `SIGQUIT` to all child processes and wait for them to terminate. \n",
    "\n",
    "If any do not terminate within 5 seconds, they will be sent SIGKILL. \n",
    "\n",
    "The supervisor server process exits as soon as all child processes have exited, without doing normal database shutdown processing. "
   ]
  },
  {
   "cell_type": "markdown",
   "metadata": {},
   "source": [
    "```BASH\n",
    "# Standard tools\n",
    "pg_ctl stop -D /path/to/postgres/data -m immediate\n",
    "\n",
    "\n",
    "# Debian\n",
    "pg_ctlcluster 16 main stop -- -m immediate\n",
    "```"
   ]
  }
 ],
 "metadata": {
  "kernelspec": {
   "display_name": "Python 3 (ipykernel)",
   "language": "python",
   "name": "python3"
  },
  "language_info": {
   "codemirror_mode": {
    "name": "ipython",
    "version": 3
   },
   "file_extension": ".py",
   "mimetype": "text/x-python",
   "name": "python",
   "nbconvert_exporter": "python",
   "pygments_lexer": "ipython3",
   "version": "3.11.6"
  }
 },
 "nbformat": 4,
 "nbformat_minor": 4
}
