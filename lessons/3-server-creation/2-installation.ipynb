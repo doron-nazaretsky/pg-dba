{
 "cells": [
  {
   "cell_type": "markdown",
   "metadata": {},
   "source": [
    "# Installation"
   ]
  },
  {
   "cell_type": "markdown",
   "metadata": {},
   "source": [
    "## From Source"
   ]
  },
  {
   "cell_type": "markdown",
   "metadata": {},
   "source": [
    "Follow the [postgres tutorial](https://www.postgresql.org/docs/current/installation.html) and install requirements and tar file"
   ]
  },
  {
   "cell_type": "markdown",
   "metadata": {},
   "source": [
    "## Pre Build Default"
   ]
  },
  {
   "cell_type": "markdown",
   "metadata": {},
   "source": [
    "Every debian distribution comes by default with a certain PostgreSQL software reference"
   ]
  },
  {
   "cell_type": "markdown",
   "metadata": {},
   "source": [
    "```BASH\n",
    "# Just install the distribution bundled with Debian\n",
    "apt install postgresql\n",
    "```"
   ]
  },
  {
   "cell_type": "markdown",
   "metadata": {},
   "source": [
    "## Pre Build Custom"
   ]
  },
  {
   "cell_type": "markdown",
   "metadata": {},
   "source": [
    "Through the [PostgreSQL APT Repository](https://www.postgresql.org/download/linux/debian/)"
   ]
  },
  {
   "cell_type": "markdown",
   "metadata": {},
   "source": [
    "```BASH\n",
    "# Install a specific version with PostgreSQL ATP Repository\n",
    "apt update\n",
    "apt install -y postgresql-common\n",
    "/usr/share/postgresql-common/pgdg/apt.postgresql.org.sh\n",
    "apt update\n",
    "apt install postgresql-16 -y\n",
    "```"
   ]
  }
 ],
 "metadata": {
  "kernelspec": {
   "display_name": "Python 3 (ipykernel)",
   "language": "python",
   "name": "python3"
  },
  "language_info": {
   "codemirror_mode": {
    "name": "ipython",
    "version": 3
   },
   "file_extension": ".py",
   "mimetype": "text/x-python",
   "name": "python",
   "nbconvert_exporter": "python",
   "pygments_lexer": "ipython3",
   "version": "3.11.6"
  }
 },
 "nbformat": 4,
 "nbformat_minor": 4
}
