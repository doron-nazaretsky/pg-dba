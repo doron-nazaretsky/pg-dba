{
 "cells": [
  {
   "cell_type": "markdown",
   "metadata": {},
   "source": [
    "# Resource Limits"
   ]
  },
  {
   "cell_type": "markdown",
   "metadata": {},
   "source": [
    "- Processes per user (maxproc) - more than max_connections\n",
    "- Open files per process (openfiles) - If the machine is dedicated to postgres, it can be scaled to enhance performance, especially when there are large partitioned tables (every partition is effectively another file fork). Also relevant when facing open file failures.\n",
    "- Maximum socket connection queue length (net.core.somaxconn on linux) - can be scaled on servers with a lot of connections, default is 128. be careful, not enough connection queue can mean that postgres is slow with accepting connections and you are just hiding the issue and creating larger latency\n",
    "- Out of memory (OS level) - The OS can kill the postmaster process when the physical and swap memory is exhausted. Since over committing is the default behavior, the postmaster can allocate easily too much memory and get killed. \\\n",
    "Approaches:\n",
    "    - (OS Level) Adjust [OOM (Out Of Memory) score](https://dev.to/rrampage/surviving-the-linux-oom-killer-2ki9) for postmaster\n",
    "    - (OS Level) Change over committing strategy with [vm.overcommit_memory=2](https://www.kernel.org/doc/Documentation/vm/overcommit-accounting\n",
    "    - (Postgres Level) Limit shared memory\n",
    "    - (Postgres Level) Limit max connections"
   ]
  }
 ],
 "metadata": {
  "kernelspec": {
   "display_name": "Python 3 (ipykernel)",
   "language": "python",
   "name": "python3"
  },
  "language_info": {
   "codemirror_mode": {
    "name": "ipython",
    "version": 3
   },
   "file_extension": ".py",
   "mimetype": "text/x-python",
   "name": "python",
   "nbconvert_exporter": "python",
   "pygments_lexer": "ipython3",
   "version": "3.11.6"
  }
 },
 "nbformat": 4,
 "nbformat_minor": 4
}
