{
 "cells": [
  {
   "cell_type": "markdown",
   "metadata": {},
   "source": [
    "#### Installation\n",
    "- From source - install requirements and tar file\n",
    "- Pre build - comes by default with debian\n",
    "- Pre build - through the PostgreSQL APT Repository"
   ]
  },
  {
   "cell_type": "code",
   "execution_count": null,
   "metadata": {
    "vscode": {
     "languageId": "bash"
    }
   },
   "outputs": [],
   "source": [
    "# Just install the distribution bundled with Debian\n",
    "apt install postgresql"
   ]
  },
  {
   "cell_type": "code",
   "execution_count": null,
   "metadata": {
    "vscode": {
     "languageId": "bash"
    }
   },
   "outputs": [],
   "source": [
    "# Install a specific version with PostgreSQL ATP Repository\n",
    "apt update\n",
    "apt install -y postgresql-common\n",
    "/usr/share/postgresql-common/pgdg/apt.postgresql.org.sh\n",
    "apt update\n",
    "apt install postgresql-16 -y"
   ]
  },
  {
   "cell_type": "markdown",
   "metadata": {},
   "source": [
    "#### Server Startup\n",
    "- Separate user that supposed to own only pg data, not his executables - often postgres\n",
    "- Configure authentication with pg_hba.conf\n",
    "- If using a different volume, create a sub dir that is owned by postgres\n",
    "- Debian specific [installation wiki](https://wiki.debian.org/PostgreSql)"
   ]
  },
  {
   "cell_type": "code",
   "execution_count": null,
   "metadata": {
    "vscode": {
     "languageId": "bash"
    }
   },
   "outputs": [],
   "source": [
    "# On debian we get some PG tools for running multi version postgres on the server\n",
    "# List existing clusters\n",
    "pg_lsclusters"
   ]
  },
  {
   "cell_type": "markdown",
   "metadata": {},
   "source": [
    "##### Configure Authentication"
   ]
  },
  {
   "cell_type": "code",
   "execution_count": null,
   "metadata": {
    "vscode": {
     "languageId": "bash"
    }
   },
   "outputs": [],
   "source": [
    "# Create a password for postgres user\n",
    "su postgres -c \"pg_ctlcluster 16 main start\"\n",
    "psql -U postgres\n",
    "# Add password with \\password meta command"
   ]
  },
  {
   "cell_type": "code",
   "execution_count": null,
   "metadata": {
    "vscode": {
     "languageId": "bash"
    }
   },
   "outputs": [],
   "source": [
    "# Change auth to password required\n",
    "find / -type f -name pg_hba.conf -exec nano {} \\;\n",
    "su postgres -c \"pg_ctlcluster 16 main restart\" # restart to apply changes"
   ]
  },
  {
   "cell_type": "markdown",
   "metadata": {},
   "source": [
    "#### Kernel Specifications\n",
    "Inter process communication (IPC): PostgreSQL requires the operating system to provide inter-process communication (IPC) features, specifically shared memory and semaphores. Unix-derived systems typically provide “System V” IPC, “POSIX” IPC, or both."
   ]
  },
  {
   "cell_type": "markdown",
   "metadata": {},
   "source": [
    "##### Shared Memory\n",
    "Name\t|\tDescription\t|\tValues needed to run one PostgreSQL instance\n",
    "-----   | -------- |          -------------\n",
    "SHMMAX\t|\tMaximum size of shared memory segment (bytes)\t|\tat least 1kB, but the default is usually much higher\n",
    "SHMMIN\t|\tMinimum size of shared memory segment (bytes)\t|\t1\n",
    "SHMALL\t|\tTotal amount of shared memory available (bytes or pages)\t|\tsame as SHMMAX if bytes, or ceil(SHMMAX/PAGE_SIZE) if pages, plus room for other applications\n",
    "SHMSEG\t|\tMaximum number of shared memory segments per process\t|\tonly 1 segment is needed, but the default is much higher\n",
    "SHMMNI\t|\tMaximum number of shared memory segments system-wide\t|\tlike SHMSEG plus room for other applications\n",
    "SEMMNI\t|\tMaximum number of semaphore identifiers (i.e., sets)\t|\tat least ceil((max_connections + autovacuum_max_workers + max_wal_senders + max_worker_processes + 5) / 16) plus room for other applications\n",
    "SEMMNS\t|\tMaximum number of semaphores system-wide\t|\tceil((max_connections + autovacuum_max_workers + max_wal_senders + max_worker_processes + 5) / 16) * 17 plus room for other applications\n",
    "SEMMSL\t|\tMaximum number of semaphores per set\t|\tat least 17\n",
    "SEMMAP\t|\tNumber of entries in semaphore map\t|\tsee text\n",
    "SEMVMX\t|\tMaximum value of semaphore\t|\tat least 1000 (The default is often 32767; do not change unless necessary)\n",
    "\n",
    "[link to docs](https://www.postgresql.org/docs/16/kernel-resources.html#SYSVIPC-PARAMETERS)"
   ]
  },
  {
   "cell_type": "markdown",
   "metadata": {},
   "source": [
    "##### Resource Limits\n",
    "1. Processes per user (maxproc) - more than max_connections\n",
    "1. Open files per process (openfiles) - If the machine is dedicated to postgres, it can be scaled to enhance performance, especially when there are large partitioned tables (every partition is effectively another file fork). Also relevant when facing open file failures.\n",
    "1. Maximum socket connection queue length (net.core.somaxconn on linux) - can be scaled on servers with a lot of connections, default is 128. be careful, not enough connection queue can mean that postgres is slow with accepting connections and you are just hiding the issue and creating larger latency\n",
    "1. Out of memory (OS level) - The OS can kill the postmaster process when the physical and swap memory is exhausted. Since over committing is the default behavior, the postmaster can allocate easily too much memory and get killed. \\\n",
    "Approaches:\n",
    "    - (OS Level) Adjust [OOM (Out Of Memory) score](https://dev.to/rrampage/surviving-the-linux-oom-killer-2ki9) for postmaster\n",
    "    - (OS Level) Change over committing strategy with [vm.overcommit_memory=2](https://www.kernel.org/doc/Documentation/vm/overcommit-accounting\n",
    "    - (Postgres Level) Limit shared memory\n",
    "    - (Postgres Level) Limit max connections"
   ]
  },
  {
   "cell_type": "markdown",
   "metadata": {},
   "source": [
    "#### Linux huge pages\n",
    "- Enable with CONFIG_HUGETLBFS=y, CONFIG_HUGETLB_PAGE=y\n",
    "- Calculate required number of huge pages with shared_memory_size, shared_memory_size_in_huge_pages\n",
    "- Enable this number of pages with vm.nr_hugepages option (not available on virtualization)\n",
    "\n",
    "![benchmark](./helpers/huge-page-benchmark-1.png)\n",
    "\n",
    "![benchmark](./helpers/huge-page-benchmark-2.png)\n",
    "\n",
    "\n",
    "Conclusion\n",
    "- Mostly beneficial when the DB has a big load + a lot of concurrent connections (more than ~80)\n",
    "- It's almost always good to use it, have to check which size is better for you\n",
    "\n",
    "[Here](https://www.enterprisedb.com/blog/improving-postgresql-performance-without-making-changes-postgresql) is a quick tutorial on benchmarking step by step"
   ]
  },
  {
   "cell_type": "markdown",
   "metadata": {},
   "source": [
    "#### Shutting Down\n",
    "There are several ways to shut down the database server. Under the hood, they all reduce to sending a signal to the supervisor postgres process.\n",
    "\n",
    "Modes:\n",
    "- **Smart Shutdown** - After receiving SIGTERM, the server disallows new connections, but lets existing sessions end their work normally. It shuts down only after all of the sessions terminate.\n",
    "- **Fast Shutdown** - The server disallows new connections and sends all existing server processes SIGTERM, which will cause them to abort their current transactions and exit promptly. It then waits for all server processes to exit and finally shuts down.\n",
    "- **Immediate Shutdown** - The server will send SIGQUIT to all child processes and wait for them to terminate. If any do not terminate within 5 seconds, they will be sent SIGKILL. The supervisor server process exits as soon as all child processes have exited, without doing normal database shutdown processing. "
   ]
  }
 ],
 "metadata": {
  "language_info": {
   "name": "python"
  }
 },
 "nbformat": 4,
 "nbformat_minor": 2
}
