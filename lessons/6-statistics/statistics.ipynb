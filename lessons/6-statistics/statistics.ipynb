{
 "cells": [
  {
   "cell_type": "markdown",
   "metadata": {},
   "source": [
    "## Example"
   ]
  },
  {
   "cell_type": "code",
   "execution_count": null,
   "metadata": {
    "vscode": {
     "languageId": "bash"
    }
   },
   "outputs": [],
   "source": [
    "export PGHOST=db\n",
    "export PGUSER=postgres\n",
    "export PGDATABASE=postgres"
   ]
  },
  {
   "cell_type": "code",
   "execution_count": null,
   "metadata": {
    "tags": [],
    "vscode": {
     "languageId": "bash"
    }
   },
   "outputs": [],
   "source": [
    "psql << EOM\n",
    "    DROP TABLE IF EXISTS seq_data;\n",
    "    SELECT *\n",
    "    INTO seq_data\n",
    "    FROM generate_series(1,10000) a, generate_series(1,100) b;\n",
    "\n",
    "    DROP TABLE IF EXISTS rand_data;\n",
    "    SELECT a, floor(random() * 99)::int b\n",
    "    INTO rand_data\n",
    "    FROM generate_series(1,1000000) a;\n",
    "EOM"
   ]
  },
  {
   "cell_type": "code",
   "execution_count": null,
   "metadata": {
    "vscode": {
     "languageId": "bash"
    }
   },
   "outputs": [],
   "source": [
    "psql << EOM\n",
    "    CREATE INDEX idx_seq_data_a ON seq_data(a);\n",
    "    CREATE INDEX idx_rand_data_a ON rand_data(a);\n",
    "EOM"
   ]
  },
  {
   "cell_type": "markdown",
   "metadata": {},
   "source": [
    "## General"
   ]
  },
  {
   "cell_type": "markdown",
   "metadata": {},
   "source": [
    "- Computed on ANALYZE / VACUUM / INDEX CREATION\n",
    "- Used by planner to optimize the plan\n",
    "- In production probably never accurate"
   ]
  },
  {
   "cell_type": "markdown",
   "metadata": {},
   "source": [
    "## Types"
   ]
  },
  {
   "cell_type": "markdown",
   "metadata": {},
   "source": [
    "### Default Statistics"
   ]
  },
  {
   "cell_type": "markdown",
   "metadata": {},
   "source": [
    "Properties:\n",
    "- Built in\n",
    "- Based on one column\n",
    "- Stored in both `pg_class` and `pg_statistic`\n",
    "- Viewed Mainly in `pg_stats`"
   ]
  },
  {
   "cell_type": "code",
   "execution_count": null,
   "metadata": {
    "tags": [],
    "vscode": {
     "languageId": "bash"
    }
   },
   "outputs": [],
   "source": [
    "psql << EOM\n",
    "    SELECT relname, relkind, reltuples, relpages\n",
    "    FROM pg_class\n",
    "    WHERE relname IN ('seq_data', 'rand_data', 'idx_seq_data_a', 'idx_rand_data_a');\n",
    "EOM"
   ]
  },
  {
   "cell_type": "code",
   "execution_count": null,
   "metadata": {
    "tags": [],
    "vscode": {
     "languageId": "bash"
    }
   },
   "outputs": [],
   "source": [
    "psql << EOM\n",
    "    SELECT * \n",
    "    FROM pg_stats\n",
    "    WHERE tablename IN ('seq_data', 'rand_data', 'idx_seq_data_a', 'idx_rand_data_a');\n",
    "EOM"
   ]
  },
  {
   "cell_type": "markdown",
   "metadata": {},
   "source": [
    "##### Statistics"
   ]
  },
  {
   "cell_type": "markdown",
   "metadata": {},
   "source": [
    "Name      |     Description\n",
    "------    | -----\n",
    "null_frac | Fraction of column entries that are null\n",
    "avg_width | Average width in bytes of column's entries\n",
    "n_distinct |    If greater than zero, the estimated number of distinct values in the column. If less than zero, the negative of the number of distinct values divided by the number of rows. (The negated form is used when ANALYZE believes that the number of distinct values is likely to increase as the table grows; the positive form is used when the column seems to have a fixed number of possible values.) For example, -1 indicates a unique column in which the number of distinct values is the same as the number of rows.\n",
    "most_common_vals |  A list of the most common values in the column. (Null if no values seem to be more common than any others.)\n",
    "most_common_freqs | A list of the frequencies of the most common values, i.e., number of occurrences of each divided by total number of rows. (Null when most_common_vals is.)\n",
    "histogram_bounds |  A list of values that divide the column's values into groups of approximately equal population. The values in most_common_vals, if present, are omitted from this histogram calculation. (This column is null if the column data type does not have a < operator or if the most_common_vals list accounts for the entire population.)\n",
    "correlation |   Statistical correlation between physical row ordering and logical ordering of the column values. This ranges from -1 to +1. When the value is near -1 or +1, an index scan on the column will be estimated to be cheaper than when it is near zero, due to reduction of random access to the disk. (This column is null if the column data type does not have a < operator.)\n",
    "most_common_elems | A list of non-null element values most often appearing within values of the column. (Null for scalar types.)\n",
    "most_common_elem_freqs |    A list of the frequencies of the most common element values, i.e., the fraction of rows containing at least one instance of the given value. Two or three additional values follow the per-element frequencies; these are the minimum and maximum of the preceding per-element frequencies, and optionally the frequency of null elements. (Null when most_common_elems is.)\n",
    "elem_count_histogram |  A histogram of the counts of distinct non-null element values within the values of the column, followed by the average number of distinct non-null elements. (Null for scalar types.)"
   ]
  },
  {
   "cell_type": "markdown",
   "metadata": {},
   "source": [
    "### Custom Statistics"
   ]
  },
  {
   "cell_type": "markdown",
   "metadata": {},
   "source": [
    "Properties:\n",
    "- Can be multi-column\n",
    "- Stored in pg_statistic_ext_data\n",
    "- Viewed in pg_stats_ext\n",
    "- Use with caution, only when it's really needed and will be used because it's expensive"
   ]
  },
  {
   "cell_type": "markdown",
   "metadata": {},
   "source": [
    "#### Functional Dependencies"
   ]
  },
  {
   "cell_type": "markdown",
   "metadata": {},
   "source": [
    "##### Definition"
   ]
  },
  {
   "cell_type": "markdown",
   "metadata": {},
   "source": [
    "We say that column `b` is functionally dependent on column `a` if knowledge of the value of `a` is sufficient to determine the value of `b`, that is there are no two rows having the same value of a but different values of `b`."
   ]
  },
  {
   "cell_type": "markdown",
   "metadata": {},
   "source": [
    "##### Properties"
   ]
  },
  {
   "cell_type": "markdown",
   "metadata": {},
   "source": [
    "- Should not occur often in a normalized DB (can occur on denormalized DB for performance reasons)\n",
    "- Can occur partially due to the variables correlation in different columns\n",
    "- Can help the planner when there are filter conditions on dependent columns\n",
    "- Only for equality with constants\n",
    "- Can be incorrect when the constant values of the columns are not matching"
   ]
  },
  {
   "cell_type": "markdown",
   "metadata": {},
   "source": [
    "##### Example"
   ]
  },
  {
   "cell_type": "code",
   "execution_count": null,
   "metadata": {
    "tags": [],
    "vscode": {
     "languageId": "bash"
    }
   },
   "outputs": [],
   "source": [
    "psql << EOM\n",
    "    DROP TABLE IF EXISTS dep_data;\n",
    "    SELECT a, a + 5 b\n",
    "    INTO dep_data\n",
    "    FROM generate_series(1,1000000) a;\n",
    "\n",
    "    EXPLAIN SELECT * FROM dep_data WHERE a = 10 AND b = 15;\n",
    "\n",
    "    CREATE STATISTICS stts (dependencies) ON a, b FROM dep_data;\n",
    "    ANALYZE;\n",
    "    EXPLAIN SELECT * FROM dep_data WHERE a = 10 AND b = 15;\n",
    "EOM"
   ]
  },
  {
   "cell_type": "code",
   "execution_count": null,
   "metadata": {
    "vscode": {
     "languageId": "bash"
    }
   },
   "outputs": [],
   "source": [
    "psql << EOM\n",
    "SELECT stxname, stxkeys, stxddependencies\n",
    "  FROM pg_statistic_ext join pg_statistic_ext_data on (oid = stxoid)\n",
    "  WHERE stxname = 'stts';\n",
    "EOM"
   ]
  },
  {
   "cell_type": "code",
   "execution_count": null,
   "metadata": {
    "vscode": {
     "languageId": "bash"
    }
   },
   "outputs": [],
   "source": [
    "psql << EOM\n",
    "  EXPLAIN SELECT * FROM dep_data WHERE a = 10 AND b = 10;\n",
    "EOM"
   ]
  },
  {
   "cell_type": "markdown",
   "metadata": {},
   "source": [
    "#### Multivariate N-Distinct Counts"
   ]
  },
  {
   "cell_type": "markdown",
   "metadata": {},
   "source": [
    "##### Definition"
   ]
  },
  {
   "cell_type": "markdown",
   "metadata": {},
   "source": [
    "Collect n-distinct statistics for groups of columns, how much rows are existent for each combinations"
   ]
  },
  {
   "cell_type": "markdown",
   "metadata": {},
   "source": [
    "##### Properties"
   ]
  },
  {
   "cell_type": "markdown",
   "metadata": {},
   "source": [
    "- Only relevant for columns that are used together in GROUP BY clause"
   ]
  },
  {
   "cell_type": "markdown",
   "metadata": {},
   "source": [
    "##### Example"
   ]
  },
  {
   "cell_type": "code",
   "execution_count": null,
   "metadata": {
    "tags": [],
    "vscode": {
     "languageId": "bash"
    }
   },
   "outputs": [],
   "source": [
    "psql << EOM\n",
    "    DROP TABLE IF EXISTS dist_data;\n",
    "    SELECT a, a % 5 b, a % 10 c, a % 15 d\n",
    "    INTO dist_data\n",
    "    FROM generate_series(1,1000000) a;\n",
    "\n",
    "    DROP STATISTICS IF EXISTS stts2;\n",
    "    CREATE STATISTICS stts2 (ndistinct) ON b, c, d FROM dist_data;\n",
    "    ANALYZE;\n",
    "\n",
    "    SELECT stxkeys AS k, stxdndistinct AS nd\n",
    "    FROM pg_statistic_ext join pg_statistic_ext_data on (oid = stxoid)\n",
    "    WHERE stxname = 'stts2';\n",
    "EOM"
   ]
  },
  {
   "cell_type": "markdown",
   "metadata": {},
   "source": [
    "#### Multivariate MCV Lists"
   ]
  },
  {
   "cell_type": "markdown",
   "metadata": {},
   "source": [
    "##### Definition"
   ]
  },
  {
   "cell_type": "markdown",
   "metadata": {},
   "source": [
    "Multi column MCV lists, just as it sounds"
   ]
  },
  {
   "cell_type": "markdown",
   "metadata": {},
   "source": [
    "##### Properties"
   ]
  },
  {
   "cell_type": "markdown",
   "metadata": {},
   "source": [
    "- Good for some trends in MCV between columns\n",
    "- Can be tested to see the value in the difference between base_frequency (without multi column statistic) and frequency"
   ]
  },
  {
   "cell_type": "markdown",
   "metadata": {},
   "source": [
    "##### Example"
   ]
  },
  {
   "cell_type": "code",
   "execution_count": null,
   "metadata": {
    "tags": [],
    "vscode": {
     "languageId": "bash"
    }
   },
   "outputs": [],
   "source": [
    "psql << EOM\n",
    "    DROP TABLE IF EXISTS dist_data;\n",
    "    SELECT a, a % 5 b, a % 10 c, a % 20 d\n",
    "    INTO dist_data\n",
    "    FROM generate_series(1,1000000) a;\n",
    "\n",
    "    DROP STATISTICS IF EXISTS stts3;\n",
    "    CREATE STATISTICS stts3 (mcv) ON b, c, d FROM dist_data;\n",
    "    ANALYZE;\n",
    "\n",
    "    SELECT m.* \n",
    "    FROM \n",
    "        pg_statistic_ext \n",
    "        join pg_statistic_ext_data on (oid = stxoid),\n",
    "        pg_mcv_list_items(stxdmcv) m \n",
    "    WHERE stxname = 'stts3';\n",
    "EOM"
   ]
  }
 ],
 "metadata": {
  "kernelspec": {
   "display_name": "",
   "name": ""
  },
  "language_info": {
   "name": "python"
  }
 },
 "nbformat": 4,
 "nbformat_minor": 4
}
