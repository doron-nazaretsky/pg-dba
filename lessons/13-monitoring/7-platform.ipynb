{
 "cells": [
  {
   "cell_type": "markdown",
   "metadata": {},
   "source": [
    "# Platform Level"
   ]
  },
  {
   "cell_type": "markdown",
   "metadata": {},
   "source": [
    "The PostgreSQL deployment should be monitored on platform level as well mainly focusing on resource utilization\n",
    "\n",
    "This can achieved with Linux built in tools and some PostgreSQL tools as well."
   ]
  },
  {
   "cell_type": "markdown",
   "metadata": {},
   "source": [
    "## Processes"
   ]
  },
  {
   "cell_type": "code",
   "execution_count": null,
   "metadata": {
    "vscode": {
     "languageId": "bash"
    }
   },
   "outputs": [],
   "source": [
    "# Check which postgres related processes are running\n",
    "ps -AfH | grep postgres"
   ]
  },
  {
   "cell_type": "markdown",
   "metadata": {},
   "source": [
    "## CPU Usage"
   ]
  },
  {
   "cell_type": "code",
   "execution_count": null,
   "metadata": {
    "vscode": {
     "languageId": "bash"
    }
   },
   "outputs": [],
   "source": [
    "# Check which postgres processes are using a the most CPU\n",
    "top -b -n 1 | sed -n '7,12p'"
   ]
  },
  {
   "cell_type": "code",
   "execution_count": null,
   "metadata": {
    "vscode": {
     "languageId": "bash"
    }
   },
   "outputs": [],
   "source": [
    "# Look on memory statistics\n",
    "free -m -t"
   ]
  },
  {
   "cell_type": "markdown",
   "metadata": {},
   "source": [
    "## Disk Space"
   ]
  },
  {
   "cell_type": "markdown",
   "metadata": {},
   "source": [
    "### Linux"
   ]
  },
  {
   "cell_type": "code",
   "execution_count": null,
   "metadata": {
    "vscode": {
     "languageId": "bash"
    }
   },
   "outputs": [],
   "source": [
    "# Look on disk statistics\n",
    "iostat -h"
   ]
  },
  {
   "cell_type": "code",
   "execution_count": null,
   "metadata": {
    "vscode": {
     "languageId": "bash"
    }
   },
   "outputs": [],
   "source": [
    "# Look on disk utilization by directory\n",
    "du -Lh $PGDATA"
   ]
  },
  {
   "cell_type": "markdown",
   "metadata": {},
   "source": [
    "### PostgreSQL"
   ]
  },
  {
   "cell_type": "code",
   "execution_count": null,
   "metadata": {
    "vscode": {
     "languageId": "sql"
    }
   },
   "outputs": [],
   "source": [
    "-- Check relation size\n",
    "SELECT\n",
    "\trelname relation_name,\n",
    "    n.nspname,\n",
    "    pg_relation_filepath(c.oid) physical_location, \n",
    "    pg_size_pretty(pg_table_size(c.relname::regclass)) relation_size, -- including fsm and vm\n",
    "    c.relpages relation_pages_num,\n",
    "\tpg_size_pretty(pg_indexes_size(c.relname::regclass)) index_size,\n",
    "    pg_size_pretty(pg_total_relation_size(c.relname::regclass)) total_relation_size -- including index\n",
    "FROM \n",
    "\tpg_class c\n",
    "\tJOIN pg_namespace n ON c.relnamespace = n.oid AND n.nspname NOT IN ('information_schema', 'pg_toast')\n",
    "WHERE c.relkind = 'r'\n",
    "ORDER BY pg_total_relation_size(c.relname::regclass) DESC\n",
    "LIMIT 5;"
   ]
  },
  {
   "cell_type": "code",
   "execution_count": null,
   "metadata": {
    "vscode": {
     "languageId": "sql"
    }
   },
   "outputs": [],
   "source": [
    "-- Check database size\n",
    "SELECT \n",
    "\toid,\n",
    "\tdatname database_name,\n",
    "\tpg_size_pretty(pg_database_size(oid)) size\n",
    "FROM pg_database;"
   ]
  },
  {
   "cell_type": "code",
   "execution_count": null,
   "metadata": {
    "vscode": {
     "languageId": "sql"
    }
   },
   "outputs": [],
   "source": [
    "-- Check tablespace size\n",
    "SELECT \n",
    "\toid,\n",
    "\tspcname table_space_name,\n",
    "\tpg_size_pretty(pg_tablespace_size(oid)) size\n",
    "FROM pg_tablespace;"
   ]
  }
 ],
 "metadata": {
  "language_info": {
   "name": "python"
  }
 },
 "nbformat": 4,
 "nbformat_minor": 2
}
