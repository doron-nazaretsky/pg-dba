{
 "cells": [
  {
   "cell_type": "markdown",
   "metadata": {},
   "source": [
    "# Architecture"
   ]
  },
  {
   "cell_type": "markdown",
   "metadata": {},
   "source": [
    "## Components"
   ]
  },
  {
   "cell_type": "markdown",
   "metadata": {},
   "source": [
    "- Metrics collector (`GO`) - reading the configuration and metric defintions, fetching the metrics from the configured databases using the configured connection info and finally storing the metrics to some other database.\n",
    "- Configuration store (`PostgreSQL`, `YAML`, Env variables) - configurations to how often and with which metrics (SQL-s queries) are to be gathered.\n",
    "- Metrics store (`PostgreSQL`, `InfluxDB`, `Prometheus`, `Graphite`, `JSON`) - metrics gathered by the collector.\n",
    "- Admin web UI - an optional and relatively simple Web UI serving as an interface to the configuration store.\n",
    "- Dashboards (`Grafana`, Any other tool) - explore the metrics and make alerts."
   ]
  },
  {
   "cell_type": "markdown",
   "metadata": {},
   "source": [
    "## Pull"
   ]
  },
  {
   "cell_type": "markdown",
   "metadata": {},
   "source": [
    "<img src=\"./helpers/pgwatch-architecture-pull.png\" alt=\"drawing\" width=800 style=\"background-color:white\"/>"
   ]
  },
  {
   "cell_type": "markdown",
   "metadata": {},
   "source": [
    "## Push"
   ]
  },
  {
   "cell_type": "markdown",
   "metadata": {},
   "source": [
    "<img src=\"./helpers/pgwatch-architecture-push.png\" alt=\"drawing\" width=800 style=\"background-color:white\"/>"
   ]
  }
 ],
 "metadata": {
  "language_info": {
   "name": "python"
  }
 },
 "nbformat": 4,
 "nbformat_minor": 2
}
