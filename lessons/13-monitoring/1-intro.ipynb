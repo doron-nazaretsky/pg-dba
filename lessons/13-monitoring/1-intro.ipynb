{
 "cells": [
  {
   "cell_type": "markdown",
   "metadata": {},
   "source": [
    "# Intro"
   ]
  },
  {
   "cell_type": "markdown",
   "metadata": {},
   "source": [
    "Monitoring a PostgreSQL application is crucial because (like any other database and complex application):\n",
    "- Sometimes requires maintenance (`VACUUM`, `ANALYZE`, `REINDEX`, Upgrading resources, etc...)\n",
    "- Detect potential problems (Too much connections, Tuples bloating, Disk bloating (WAL), Long running queries, Problematic locks, Resources utilization, etc...)"
   ]
  },
  {
   "cell_type": "markdown",
   "metadata": {},
   "source": [
    "## Types Of Monitoring"
   ]
  },
  {
   "cell_type": "markdown",
   "metadata": {},
   "source": [
    "- Application Level: Dynamic - real time data\n",
    "- Application Level: Cumulative - history data\n",
    "- Platform Level: Resources Utilization"
   ]
  },
  {
   "cell_type": "markdown",
   "metadata": {},
   "source": [
    "## Tools"
   ]
  },
  {
   "cell_type": "markdown",
   "metadata": {},
   "source": [
    "- Built-in PostgreSQL - functions, system tables and views\n",
    "- OS - general tools to monitor resources and performance\n",
    "- Third Party - usually monitor both application and resources and provide some easy GUI to interact with the data + implements some kind of alerts system"
   ]
  }
 ],
 "metadata": {
  "language_info": {
   "name": "python"
  }
 },
 "nbformat": 4,
 "nbformat_minor": 2
}
