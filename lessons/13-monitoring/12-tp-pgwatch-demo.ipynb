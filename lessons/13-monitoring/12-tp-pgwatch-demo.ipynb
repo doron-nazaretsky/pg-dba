{
 "cells": [
  {
   "cell_type": "markdown",
   "metadata": {},
   "source": [
    "# Demo"
   ]
  },
  {
   "cell_type": "markdown",
   "metadata": {},
   "source": [
    "## Prerequisites"
   ]
  },
  {
   "cell_type": "markdown",
   "metadata": {},
   "source": [
    "Linux machine with:\n",
    "- PostgreSQL tools installed\n",
    "- Python3 installed (for UI)"
   ]
  },
  {
   "cell_type": "markdown",
   "metadata": {},
   "source": [
    "## Prepare Env"
   ]
  },
  {
   "cell_type": "code",
   "execution_count": null,
   "metadata": {
    "vscode": {
     "languageId": "bash"
    }
   },
   "outputs": [],
   "source": [
    "# Create relevant clusters\n",
    "pg_createcluster 16 monitored -p 5433 --start -- -A trust\n",
    "pg_createcluster 16 pgwatch-backend -p 5434 --start -- -A trust\n",
    "\n",
    "# Install tools\n",
    "apt install -y wget git"
   ]
  }
 ],
 "metadata": {
  "language_info": {
   "name": "python"
  }
 },
 "nbformat": 4,
 "nbformat_minor": 2
}
