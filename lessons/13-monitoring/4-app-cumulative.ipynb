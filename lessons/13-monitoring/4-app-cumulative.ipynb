{
 "cells": [
  {
   "cell_type": "markdown",
   "metadata": {},
   "source": [
    "# Cumulative"
   ]
  },
  {
   "cell_type": "markdown",
   "metadata": {},
   "source": [
    "- Every process updates the statistics just before going `idle`, so it's not instant and `in progress` queries do not effect it (including the current transaction)\n",
    "- Statistics are cached per transaction making them static through a single transaction (by default, can be modified `stats_fetch_consistency`)\n",
    "- An exception to both ot the above rules are `pg_stat_xact*` views that show current transaction statistics and are changing dynamically through the transaction (basically using the `local` statistics and the ones stored in `shared memory`)"
   ]
  },
  {
   "cell_type": "markdown",
   "metadata": {},
   "source": [
    "## What To Monitor"
   ]
  },
  {
   "cell_type": "markdown",
   "metadata": {},
   "source": [
    "- Access / Usage of objects\n",
    "- I/O - disk and buffer reads and writes\n",
    "- Replication / WAL\n",
    "- Archiving"
   ]
  },
  {
   "cell_type": "markdown",
   "metadata": {},
   "source": [
    "## How To Monitor"
   ]
  },
  {
   "cell_type": "markdown",
   "metadata": {},
   "source": [
    "The amount of provided cumulative statistics views is a bit overwhelming, the important part is to understand which data can be found here by category. Then, one can understand what to look for and where."
   ]
  },
  {
   "cell_type": "markdown",
   "metadata": {},
   "source": [
    "Category                |    View Name                  |   Description\n",
    "--------                |    -------                    |   --------\n",
    "General                 |   pg_stat_database\t        |   One row per database, showing database-wide statistics.\n",
    "Archiving               |   pg_stat_archiver\t        |   One row only, showing statistics about the WAL archiver process's activity.\n",
    "Replication             |   pg_stat_database_conflicts\t|   One row per database, showing database-wide statistics about query cancels due to conflict with recovery on standby servers.\n",
    "Replication             |   pg_stat_replication_slots\t|   One row per replication slot, showing statistics about the replication slot's usage.\n",
    "Replication             |   pg_stat_subscription_stats\t|   One row per subscription, showing statistics about errors.\n",
    "Replication             |   pg_stat_wal\t                |   One row only, showing statistics about WAL activity.\n",
    "Access                  |   pg_stat_all_tables\t        |   One row for each table in the current database, showing statistics about accesses to that specific table.\n",
    "Access                  |   pg_stat_sys_tables\t        |   Same as pg_stat_all_tables, except that only system tables are shown.\n",
    "Access                  |   pg_stat_user_tables\t        |   Same as pg_stat_all_tables, except that only user tables are shown.\n",
    "Access                  |   pg_stat_xact_all_tables\t    |   Similar to pg_stat_all_tables, but counts actions taken so far within the current transaction (which are not yet included in pg_stat_all_tables and related views). The columns for numbers of live and dead rows and vacuum and analyze actions are not present in this view.\n",
    "Access                  |   pg_stat_xact_sys_tables\t    |   Same as pg_stat_xact_all_tables, except that only system tables are shown.\n",
    "Access                  |   pg_stat_xact_user_tables\t|   Same as pg_stat_xact_all_tables, except that only user tables are shown.\n",
    "Access                  |   pg_stat_all_indexes\t        |   One row for each index in the current database, showing statistics about accesses to that specific index.\n",
    "Access                  |   pg_stat_sys_indexes\t        |   Same as pg_stat_all_indexes, except that only indexes on system tables are shown.\n",
    "Access                  |   pg_stat_user_indexes\t    |   Same as pg_stat_all_indexes, except that only indexes on user tables are shown.\n",
    "Access                  |   pg_stat_user_functions\t    |   One row for each tracked function, showing statistics about executions of that function.\n",
    "Access                  |   pg_stat_xact_user_functions |   Similar to pg_stat_user_functions, but counts only calls during the current transaction (which are not yet included in pg_stat_user_functions).\n",
    "I/O                     |   pg_stat_bgwriter\t        |   One row only, showing statistics about the background writer process's activity.\n",
    "I/O                     |   pg_stat_io\t                |   One row for each combination of backend type, context, and target object containing cluster-wide I/O statistics.\n",
    "I/O                     |   pg_stat_slru                |   One row per SLRU, showing statistics of operations.\n",
    "I/O                     |   pg_statio_all_tables\t    |   One row for each table in the current database, showing statistics about I/O on that specific table.\n",
    "I/O                     |   pg_statio_sys_tables\t    |   Same as pg_statio_all_tables, except that only system tables are shown.\n",
    "I/O                     |   pg_statio_user_tables\t    |   Same as pg_statio_all_tables, except that only user tables are shown.\n",
    "I/O                     |   pg_statio_all_indexes\t    |   One row for each index in the current database, showing statistics about I/O on that specific index.\n",
    "I/O                     |   pg_statio_sys_indexes\t    |   Same as pg_statio_all_indexes, except that only indexes on system tables are shown.\n",
    "I/O                     |   pg_statio_user_indexes\t    |   Same as pg_statio_all_indexes, except that only indexes on user tables are shown.\n",
    "I/O                     |   pg_statio_all_sequences\t    |   One row for each sequence in the current database, showing statistics about I/O on that specific sequence.\n",
    "I/O                     |   pg_statio_sys_sequences\t    |   Same as pg_statio_all_sequences, except that only system sequences are shown. (Presently, no system sequences are defined, so this view is always empty.)\n",
    "I/O                     |   pg_statio_user_sequences\t|   Same as pg_statio_all_sequences, except that only user sequences are shown.\n",
    "\n",
    "More information in the [docs](https://www.postgresql.org/docs/current/monitoring-stats.html#MONITORING-STATS-VIEWS-TABLE)"
   ]
  },
  {
   "cell_type": "markdown",
   "metadata": {},
   "source": [
    "## Usage Example"
   ]
  },
  {
   "cell_type": "markdown",
   "metadata": {},
   "source": [
    "### I/O Overview"
   ]
  },
  {
   "cell_type": "code",
   "execution_count": null,
   "metadata": {
    "vscode": {
     "languageId": "sql"
    }
   },
   "outputs": [],
   "source": [
    "SELECT \n",
    "    backend_type,\n",
    "    CASE WHEN object = 'temp relation' THEN true ELSE false END is_temp,\n",
    "\tcontext,\n",
    "\treads,\n",
    "\tread_time,\n",
    "\twrites,\n",
    "\twrite_time,\n",
    "\thits buffer_hits,\n",
    "\tevictions buffer_flushed_for_other_use,\n",
    "\tfsyncs,\n",
    "\tfsync_time,\n",
    "    stats_reset\n",
    "FROM pg_stat_io \n",
    "WHERE reads <> 0 OR writes <> 0 OR extends <> 0;"
   ]
  },
  {
   "cell_type": "markdown",
   "metadata": {},
   "source": [
    "### Index VS Sequential Access"
   ]
  },
  {
   "cell_type": "code",
   "execution_count": null,
   "metadata": {
    "vscode": {
     "languageId": "sql"
    }
   },
   "outputs": [],
   "source": [
    "WITH calc AS (\n",
    "SELECT\n",
    "\trelid AS oid,\n",
    "\tschemaname AS schema,\n",
    "\trelname AS relation,\n",
    "\tidx_tup_fetch,\n",
    "\tseq_tup_read,\n",
    "\tCASE WHEN idx_tup_fetch + seq_tup_read = 0 THEN NULL ELSE idx_tup_fetch + seq_tup_read END AS total_read\n",
    "FROM pg_stat_all_tables\n",
    ")\n",
    "\n",
    "SELECT\n",
    "\toid,\n",
    "\tschema,\n",
    "\trelation,\n",
    "\tidx_tup_fetch,\n",
    "\tseq_tup_read,\n",
    "\tCOALESCE(total_read, 0) AS total_read,\n",
    "\tROUND(idx_tup_fetch::numeric / total_read, 2) AS index_scan_percentage\n",
    "FROM calc\n",
    "ORDER BY index_scan_percentage;"
   ]
  }
 ],
 "metadata": {
  "language_info": {
   "name": "python"
  }
 },
 "nbformat": 4,
 "nbformat_minor": 2
}
