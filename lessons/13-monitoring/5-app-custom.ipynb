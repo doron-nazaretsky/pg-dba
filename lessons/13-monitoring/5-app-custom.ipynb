{
 "cells": [
  {
   "cell_type": "markdown",
   "metadata": {},
   "source": [
    "# Custom - Functions"
   ]
  },
  {
   "cell_type": "markdown",
   "metadata": {},
   "source": [
    "## Idea"
   ]
  },
  {
   "cell_type": "markdown",
   "metadata": {},
   "source": [
    "Although the built in views are very detailed, one can decide he wants a subset or a slightly different view of the statistics.\n",
    "\n",
    "This can be achieved of course with the presented views, but to enhance performance you can use the underlying statistics functions that give a more modular interface.\n",
    "\n",
    "This is very useful for monitoring tools that want to be refreshed frequently but don't want to impact on overall application performance."
   ]
  },
  {
   "cell_type": "markdown",
   "metadata": {},
   "source": [
    "## Find Functions"
   ]
  },
  {
   "cell_type": "markdown",
   "metadata": {},
   "source": [
    "To find the relevant functions, just find the view that fetches the relevant information and check it's definition. Most of time your desired information can be easily produced using just one function instead of invoking a lot of them to bring unnecessary data."
   ]
  },
  {
   "cell_type": "markdown",
   "metadata": {},
   "source": [
    "### Example"
   ]
  },
  {
   "cell_type": "code",
   "execution_count": null,
   "metadata": {
    "vscode": {
     "languageId": "bash"
    }
   },
   "outputs": [],
   "source": [
    "psql -c \"\\d+ pg_stat_database;\""
   ]
  },
  {
   "cell_type": "code",
   "execution_count": null,
   "metadata": {
    "vscode": {
     "languageId": "sql"
    }
   },
   "outputs": [],
   "source": [
    "SELECT pg_stat_get_db_tuples_returned(oid)\n",
    "FROM pg_database\n",
    "WHERE datname = 'postgres';"
   ]
  },
  {
   "cell_type": "code",
   "execution_count": null,
   "metadata": {
    "vscode": {
     "languageId": "bash"
    }
   },
   "outputs": [],
   "source": [
    "psql -c \"\\d+ pg_stat_all_tables;\""
   ]
  },
  {
   "cell_type": "code",
   "execution_count": null,
   "metadata": {
    "vscode": {
     "languageId": "sql"
    }
   },
   "outputs": [],
   "source": [
    "SELECT pg_stat_get_tuples_returned(oid)\n",
    "FROM pg_class\n",
    "WHERE relname = 'pg_database';"
   ]
  }
 ],
 "metadata": {
  "language_info": {
   "name": "python"
  }
 },
 "nbformat": 4,
 "nbformat_minor": 2
}
