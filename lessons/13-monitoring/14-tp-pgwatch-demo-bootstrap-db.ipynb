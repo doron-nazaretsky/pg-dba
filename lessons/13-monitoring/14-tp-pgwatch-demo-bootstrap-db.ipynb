{
 "cells": [
  {
   "cell_type": "markdown",
   "metadata": {},
   "source": [
    "# Bootstrap DBs"
   ]
  },
  {
   "cell_type": "markdown",
   "metadata": {},
   "source": [
    "## Bootstrap Config DB"
   ]
  },
  {
   "cell_type": "code",
   "execution_count": null,
   "metadata": {
    "vscode": {
     "languageId": "bash"
    }
   },
   "outputs": [],
   "source": [
    "psql -U postgres -p 5434 -c \"create user pgwatch2 password 'xyz'\"\n",
    "psql -U postgres -p 5434 -c \"create database pgwatch2 owner pgwatch2\"\n",
    "psql -U postgres -p 5434 -f /etc/pgwatch2/sql/config_store/config_store.sql pgwatch2\n",
    "psql -U postgres -p 5434 -f /etc/pgwatch2/sql/config_store/metric_definitions.sql pgwatch2"
   ]
  },
  {
   "cell_type": "markdown",
   "metadata": {},
   "source": [
    "## Bootstrap Metrics DB"
   ]
  },
  {
   "cell_type": "code",
   "execution_count": null,
   "metadata": {
    "vscode": {
     "languageId": "bash"
    }
   },
   "outputs": [],
   "source": [
    "psql -U postgres -p 5434 -c \"create database pgwatch2_metrics owner pgwatch2\"\n",
    "cd /etc/pgwatch2/sql/metric_store\n",
    "psql -U postgres -p 5434 -f roll_out_metric_time.psql pgwatch2_metrics"
   ]
  },
  {
   "cell_type": "markdown",
   "metadata": {},
   "source": [
    "## Prepare Monitored DB"
   ]
  },
  {
   "cell_type": "code",
   "execution_count": null,
   "metadata": {
    "vscode": {
     "languageId": "bash"
    }
   },
   "outputs": [],
   "source": [
    "# Create monitoring role \n",
    "# TODO - check it\n",
    "psql -U postgres -p 5433 -c \"create user \""
   ]
  }
 ],
 "metadata": {
  "language_info": {
   "name": "python"
  }
 },
 "nbformat": 4,
 "nbformat_minor": 2
}
