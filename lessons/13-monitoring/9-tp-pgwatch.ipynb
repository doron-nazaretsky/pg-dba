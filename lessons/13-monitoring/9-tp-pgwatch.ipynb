{
 "cells": [
  {
   "cell_type": "markdown",
   "metadata": {},
   "source": [
    "# PGWATCH2"
   ]
  },
  {
   "cell_type": "markdown",
   "metadata": {},
   "source": [
    "## Description"
   ]
  },
  {
   "cell_type": "markdown",
   "metadata": {},
   "source": [
    "Flexible and modular self-contained PostgreSQL metrics monitoring/dashboarding solution.\n",
    "\n",
    "It's modular approach provides with the flexibility to deploy it almost in any architecture without having to change anything - just adding some DBs and a server."
   ]
  }
 ],
 "metadata": {
  "language_info": {
   "name": "python"
  }
 },
 "nbformat": 4,
 "nbformat_minor": 2
}
