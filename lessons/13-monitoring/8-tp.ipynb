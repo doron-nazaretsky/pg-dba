{
 "cells": [
  {
   "cell_type": "markdown",
   "metadata": {},
   "source": [
    "# Third Party"
   ]
  },
  {
   "cell_type": "markdown",
   "metadata": {},
   "source": [
    "PostgreSQL having a very large community has a lot of third party tools for monitoring.\n",
    "\n",
    "Those tools could be categorized to:\n",
    "- Contrib PostgreSQL extensions\n",
    "- Plugins for external tools\n",
    "- Single purpose\n",
    "- Complete solutions"
   ]
  },
  {
   "cell_type": "markdown",
   "metadata": {},
   "source": [
    "## Contrib"
   ]
  },
  {
   "cell_type": "markdown",
   "metadata": {},
   "source": [
    "Some examples:\n",
    "- `pg_stat_statements` - tracks all queries that are executed on the server and records average runtime per query \"class\" among other parameters.\n",
    "- `pg_stat_plans` - extends on pg_stat_statements and records query plans for all executed quries.\n",
    "- `pgstattuple` - generates statistics for tables and indexes size, space and mvcc related."
   ]
  },
  {
   "cell_type": "markdown",
   "metadata": {},
   "source": [
    "## Plugins"
   ]
  },
  {
   "cell_type": "markdown",
   "metadata": {},
   "source": [
    "Some examples:\n",
    "- `check_pgactivity` - plugin for `Nagios` based tools\n",
    "- `check_postgres` - plugin for `Icinga` and `MRTG` (also can be used as standalone)\n",
    "- `pgexporter` - plugin for `Prometheus`\n",
    "- `weaponry/pgSCV` - plugin for `Prometheus` compatible systems\n",
    "- `Datadog` - there is a built in datadog plugin for Postgres"
   ]
  },
  {
   "cell_type": "markdown",
   "metadata": {},
   "source": [
    "## Single Purpose"
   ]
  },
  {
   "cell_type": "markdown",
   "metadata": {},
   "source": [
    "Some examples:\n",
    "- `pg_activity` - similar to linux `top` but with in-app query granularity to monitor running queries and CPU consumption\n",
    "- `pganalyze/collector` - collects `pg_stat_plans` query information as well as various performance-relevant database parameters and converts them into a JSON structure for easy ingestion in other systems."
   ]
  },
  {
   "cell_type": "markdown",
   "metadata": {},
   "source": [
    "## Complete Solutions"
   ]
  },
  {
   "cell_type": "markdown",
   "metadata": {},
   "source": [
    "Some examples:\n",
    "- `pg_view` - mixing linux and postgres tools to give an overall monitoring of the cluster\n",
    "- `pgwatch2` - open source self-contained, easy to install, modular and highly configurable PostgreSQL monitoring tool.\n",
    "- `EnterpriseDB Postgres Enterprise Manager` - monitors, alerts, manages and tunes local and remote large scale Postgres deployments from a single graphical console.\n",
    "- `Open PostgreSQL Monitoring (OPM)` - open source flexible tool that will follow the activity of each instance, gather stats, display dashboards and send warnings when something goes wrong. The long-term goal of the project is to provide similar features to those of Oracle Grid Control or SQL Server Management Studio."
   ]
  },
  {
   "cell_type": "markdown",
   "metadata": {},
   "source": [
    "We will focus on pgwatch2 because it's very flexible so it suits almost any architecture (dockerized, cloud, on-prem, remote, local, integrating to other monitor tools)."
   ]
  }
 ],
 "metadata": {
  "language_info": {
   "name": "python"
  }
 },
 "nbformat": 4,
 "nbformat_minor": 2
}
