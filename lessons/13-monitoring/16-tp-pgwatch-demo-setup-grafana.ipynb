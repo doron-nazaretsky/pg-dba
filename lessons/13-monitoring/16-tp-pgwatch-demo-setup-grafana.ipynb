{
 "cells": [
  {
   "cell_type": "markdown",
   "metadata": {},
   "source": [
    "# Setup Grafana"
   ]
  },
  {
   "cell_type": "markdown",
   "metadata": {},
   "source": [
    "## On Machine Install"
   ]
  },
  {
   "cell_type": "markdown",
   "metadata": {},
   "source": [
    "### Debian"
   ]
  },
  {
   "cell_type": "code",
   "execution_count": null,
   "metadata": {
    "vscode": {
     "languageId": "bash"
    }
   },
   "outputs": [],
   "source": [
    "# Setup APT repository\n",
    "apt install -y apt-transport-https software-properties-common wget\n",
    "mkdir -p /etc/apt/keyrings/\n",
    "wget -q -O - https://apt.grafana.com/gpg.key | gpg --dearmor | tee /etc/apt/keyrings/grafana.gpg > /dev/null\n",
    "echo \"deb [signed-by=/etc/apt/keyrings/grafana.gpg] https://apt.grafana.com stable main\" | tee -a /etc/apt/sources.list.d/grafana.list\n",
    "\n",
    "# Updates the list of available packages\n",
    "apt update\n",
    "# Installs the latest OSS release:\n",
    "apt install -y grafana"
   ]
  },
  {
   "cell_type": "markdown",
   "metadata": {},
   "source": [
    "### RHEL"
   ]
  },
  {
   "cell_type": "code",
   "execution_count": null,
   "metadata": {
    "vscode": {
     "languageId": "bash"
    }
   },
   "outputs": [],
   "source": [
    "wget -q -O gpg.key https://rpm.grafana.com/gpg.key\n",
    "sudo rpm --import gpg.key"
   ]
  },
  {
   "cell_type": "markdown",
   "metadata": {},
   "source": [
    "Create `/etc/yum.repos.d/grafana.repo` file with:\n",
    "\n",
    "```ini\n",
    "[grafana]\n",
    "name=grafana\n",
    "baseurl=https://rpm.grafana.com\n",
    "repo_gpgcheck=1\n",
    "enabled=1\n",
    "gpgcheck=1\n",
    "gpgkey=https://rpm.grafana.com/gpg.key\n",
    "sslverify=1\n",
    "sslcacert=/etc/pki/tls/certs/ca-bundle.crt\n",
    "```"
   ]
  },
  {
   "cell_type": "code",
   "execution_count": null,
   "metadata": {
    "vscode": {
     "languageId": "bash"
    }
   },
   "outputs": [],
   "source": [
    "sudo dnf install grafana-enterprise"
   ]
  },
  {
   "cell_type": "markdown",
   "metadata": {},
   "source": [
    "## Setup Grafana Config DB"
   ]
  },
  {
   "cell_type": "code",
   "execution_count": null,
   "metadata": {
    "vscode": {
     "languageId": "bash"
    }
   },
   "outputs": [],
   "source": [
    "psql -U postgres -p 5434 -c \"create user pgwatch2_grafana password 'xyz'\"\n",
    "psql -U postgres -p 5434 -c \"create database pgwatch2_grafana owner pgwatch2_grafana\""
   ]
  },
  {
   "cell_type": "markdown",
   "metadata": {},
   "source": [
    "## Setup Grafana Config"
   ]
  },
  {
   "cell_type": "markdown",
   "metadata": {},
   "source": [
    "Add database section to grafana config\n",
    "\n",
    "```ini\n",
    "[database]\n",
    "type = postgres\n",
    "host = localhost:5434\n",
    "name = pgwatch2_grafana\n",
    "user = pgwatch2_grafana\n",
    "password = xyz\n",
    "```"
   ]
  }
 ],
 "metadata": {
  "language_info": {
   "name": "python"
  }
 },
 "nbformat": 4,
 "nbformat_minor": 2
}
