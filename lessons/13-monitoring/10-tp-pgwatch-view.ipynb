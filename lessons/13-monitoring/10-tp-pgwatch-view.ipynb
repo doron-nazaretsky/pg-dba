{
 "cells": [
  {
   "cell_type": "markdown",
   "metadata": {},
   "source": [
    "# Grafana View"
   ]
  },
  {
   "cell_type": "markdown",
   "metadata": {},
   "source": [
    "`pgwatch` is loosely coupled with `grafana` for it's UI since it comes with a built-in set of predefined dashboards available to cover most of the metrics gathered via the `Preset Configs`.\n",
    "\n",
    "Nevertheless, you can use the collected metrics with any other visualization tool, you will just have to spend time on dashboarding.\n",
    "\n",
    "https://demo.pgwatch.com/"
   ]
  },
  {
   "cell_type": "markdown",
   "metadata": {},
   "source": [
    "## Overview"
   ]
  },
  {
   "cell_type": "markdown",
   "metadata": {},
   "source": [
    "<img src=\"./helpers/pgwatch-overview.png\" alt=\"drawing\" width=700/>\n",
    "<img src=\"./helpers/pgwatch-health.png\" alt=\"drawing\" width=700/>"
   ]
  },
  {
   "cell_type": "markdown",
   "metadata": {},
   "source": [
    "## Activity"
   ]
  },
  {
   "cell_type": "markdown",
   "metadata": {},
   "source": [
    "<img src=\"./helpers/pgwatch-server-log.png\" alt=\"drawing\" height=600/>\n",
    "<img src=\"./helpers/pgwatch-activity-view.png\" alt=\"drawing\" height=500/>"
   ]
  },
  {
   "cell_type": "markdown",
   "metadata": {},
   "source": [
    "<img src=\"./helpers/pgwatch-bgwriter.png\" alt=\"drawing\" width=800/>"
   ]
  },
  {
   "cell_type": "markdown",
   "metadata": {},
   "source": [
    "## Investigate"
   ]
  },
  {
   "cell_type": "markdown",
   "metadata": {},
   "source": [
    "<img src=\"./helpers/pgwatch-index.png\" alt=\"drawing\" width=800/>\n",
    "<img src=\"./helpers/pgwatch-statements.png\" alt=\"drawing\" width=800/>"
   ]
  },
  {
   "cell_type": "markdown",
   "metadata": {},
   "source": [
    "## Follow Up Steps"
   ]
  },
  {
   "cell_type": "markdown",
   "metadata": {},
   "source": [
    "<img src=\"./helpers/pgwatch-recommendations.png\" alt=\"drawing\" width=800/>\n",
    "<img src=\"./helpers/pgwatch-replication-lag.png\" alt=\"drawing\" width=800/>"
   ]
  }
 ],
 "metadata": {
  "language_info": {
   "name": "python"
  }
 },
 "nbformat": 4,
 "nbformat_minor": 2
}
