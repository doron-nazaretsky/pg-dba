{
 "cells": [
  {
   "cell_type": "markdown",
   "metadata": {},
   "source": [
    "# Install Tool"
   ]
  },
  {
   "cell_type": "markdown",
   "metadata": {},
   "source": [
    "## Pre-Built Packages"
   ]
  },
  {
   "cell_type": "code",
   "execution_count": null,
   "metadata": {
    "vscode": {
     "languageId": "bash"
    }
   },
   "outputs": [],
   "source": [
    "# Debian (AMD architecture)\n",
    "wget https://github.com/cybertec-postgresql/pgwatch2/releases/download/v1.13.0/pgwatch2_.1.13.0_Linux_x86_64.deb\n",
    "apt install pgwatch2_.1.13.0_Linux_x86_64.deb\n",
    "\n",
    "# RHEL\n",
    "wget https://github.com/cybertec-postgresql/pgwatch2/releases/download/v1.13.0/pgwatch2_.1.13.0_Linux_x86_64.rpm\n",
    "dnf install pgwatch2_.1.13.0_Linux_x86_64.rpm"
   ]
  },
  {
   "cell_type": "markdown",
   "metadata": {},
   "source": [
    "## From Source"
   ]
  },
  {
   "cell_type": "code",
   "execution_count": null,
   "metadata": {
    "vscode": {
     "languageId": "bash"
    }
   },
   "outputs": [],
   "source": [
    "GO_INSTALLATION_URL=https://go.dev/dl/go1.22.3.linux-arm64.tar.gz\n",
    "wget \"$GO_INSTALLATION_URL\"\n",
    "rm -rf /usr/local/go\n",
    "tar -C /usr/local -xzf $(basename \"$GO_INSTALLATION_URL\")\n",
    "export PATH=$PATH:/usr/local/go/bin\n",
    "echo 'export PATH=$PATH:/usr/local/go/bin' >> ~/.bashrc\n",
    "\n",
    "git clone https://github.com/cybertec-postgresql/pgwatch2.git\n",
    "cd pgwatch2/pgwatch2\n",
    "./build_gatherer.sh\n",
    "mkdir /etc/pgwatch2\n",
    "cp -r ./sql /etc/pgwatch2/sql\n",
    "cp -r ../webpy /etc/pgwatch2/webpy/\n",
    "cp pgwatch2 /usr/bin/pgwatch2-daemon"
   ]
  }
 ],
 "metadata": {
  "language_info": {
   "name": "python"
  }
 },
 "nbformat": 4,
 "nbformat_minor": 2
}
