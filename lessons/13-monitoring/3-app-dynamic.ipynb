{
 "cells": [
  {
   "cell_type": "markdown",
   "metadata": {},
   "source": [
    "# Dynamic"
   ]
  },
  {
   "cell_type": "markdown",
   "metadata": {},
   "source": [
    "Some of the information in dynamic statistics is security restricted - ordinary users can only"
   ]
  },
  {
   "cell_type": "markdown",
   "metadata": {},
   "source": [
    "## What To Monitor"
   ]
  },
  {
   "cell_type": "markdown",
   "metadata": {},
   "source": [
    "- Processes and their commands\n",
    "- Replication\n",
    "- Connections\n",
    "- Backend operations progress (`ANALYZE`, `CLUSTER`, `CREATE INDEX`, `VACUUM`, `COPY`, `BASE_BACKUP`)"
   ]
  },
  {
   "cell_type": "markdown",
   "metadata": {},
   "source": [
    "## How To Monitor"
   ]
  },
  {
   "cell_type": "markdown",
   "metadata": {},
   "source": [
    "Category    |    View Name                      |   Description\n",
    "--------    |    -------                        |   --------\n",
    "Processes   |   pg_stat_activity\t            |   One row per server process, showing information related to the current activity of that process, such as state and current query\n",
    "Replication |   pg_stat_replication\t            |   One row per WAL sender process, showing statistics about replication to that sender's connected standby server\n",
    "Replication |   pg_stat_wal_receiver\t        |   Only one row, showing statistics about the WAL receiver from that receiver's connected server\n",
    "Replication |   pg_stat_recovery_prefetch\t    |   Only one row, showing statistics about blocks prefetched during recovery\n",
    "Replication |   pg_stat_subscription\t        |   At least one row per subscription, showing information about the subscription workers\n",
    "Connections |   pg_stat_ssl\t                    |   One row per connection (regular and replication), showing information about SSL used on this connection\n",
    "Connections |   pg_stat_gssapi\t                |   One row per connection (regular and replication), showing information about GSSAPI authentication and encryption used on this connection\n",
    "Progress    |   pg_stat_progress_analyze\t    |   One row for each backend (including autovacuum worker processes) running ANALYZE, showing current progress\n",
    "Progress    |   pg_stat_progress_create_index   |\tOne row for each backend running CREATE INDEX or REINDEX, showing current progress\n",
    "Progress    |   pg_stat_progress_vacuum         |\tOne row for each backend (including autovacuum worker processes) running VACUUM, showing current progress\n",
    "Progress    |   pg_stat_progress_cluster        |\tOne row for each backend running CLUSTER or VACUUM FULL, showing current progress\n",
    "Progress    |   pg_stat_progress_basebackup     |\tOne row for each WAL sender process streaming a base backup, showing current progress\n",
    "Progress    |   pg_stat_progress_copy           |\tOne row for each backend running COPY, showing current progress\n",
    "\n",
    "More information in the [docs](https://www.postgresql.org/docs/current/monitoring-stats.html#MONITORING-STATS-DYNAMIC-VIEWS-TABLE)"
   ]
  },
  {
   "cell_type": "markdown",
   "metadata": {},
   "source": [
    "## Usage Example"
   ]
  },
  {
   "cell_type": "markdown",
   "metadata": {},
   "source": [
    "### Long Running Queries"
   ]
  },
  {
   "cell_type": "code",
   "execution_count": null,
   "metadata": {
    "vscode": {
     "languageId": "sql"
    }
   },
   "outputs": [],
   "source": [
    "SELECT (NOW() - xact_start) running_time, *\n",
    "FROM pg_stat_activity\n",
    "WHERE state IN ('idle in transaction', 'active');"
   ]
  },
  {
   "cell_type": "markdown",
   "metadata": {},
   "source": [
    "### Connections By State"
   ]
  },
  {
   "cell_type": "code",
   "execution_count": null,
   "metadata": {
    "vscode": {
     "languageId": "sql"
    }
   },
   "outputs": [],
   "source": [
    "SELECT state, count(*) num\n",
    "FROM (\n",
    "    SELECT \n",
    "        CASE \n",
    "            WHEN state IS NULL THEN 'system_process' \n",
    "            ELSE state \n",
    "        END \n",
    "    FROM pg_stat_activity\n",
    ")\n",
    "GROUP BY state;"
   ]
  },
  {
   "cell_type": "markdown",
   "metadata": {},
   "source": [
    "### Blocked Queries"
   ]
  },
  {
   "cell_type": "code",
   "execution_count": null,
   "metadata": {
    "vscode": {
     "languageId": "sql"
    }
   },
   "outputs": [],
   "source": [
    "SELECT\n",
    "    pid,\n",
    "    usename,\n",
    "    pg_blocking_pids(pid) AS blocked_by,\n",
    "    query AS blocked_query\n",
    "FROM pg_stat_activity\n",
    "WHERE cardinality(pg_blocking_pids(pid)) > 0;"
   ]
  }
 ],
 "metadata": {
  "language_info": {
   "name": "python"
  }
 },
 "nbformat": 4,
 "nbformat_minor": 2
}
