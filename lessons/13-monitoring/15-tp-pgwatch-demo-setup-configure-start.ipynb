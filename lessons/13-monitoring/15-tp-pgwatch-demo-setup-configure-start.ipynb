{
 "cells": [
  {
   "cell_type": "markdown",
   "metadata": {},
   "source": [
    "# Configure And Start"
   ]
  },
  {
   "cell_type": "markdown",
   "metadata": {},
   "source": [
    "## Admin UI"
   ]
  },
  {
   "cell_type": "markdown",
   "metadata": {},
   "source": [
    "`pgwatch2` comes with an optional built-in GUI service (python based) that can help manipulate the pgwatch configurations"
   ]
  },
  {
   "cell_type": "code",
   "execution_count": null,
   "metadata": {
    "vscode": {
     "languageId": "bash"
    }
   },
   "outputs": [],
   "source": [
    "# Make sure python3 and pip3 are installed\n",
    "apt install -y python3 python3-pip python3-venv\n",
    "cd /etc/pgwatch2/webpy/\n",
    "python3 -m venv ./venv\n",
    "source venv/bin/activate\n",
    "pip3 install -U -r requirements_pg_metrics.txt\n",
    "python3 web.py --datastore=postgres -p 5434 --pg-metric-store-conn-str=\"dbname=pgwatch2_metrics user=pgwatch2 port=5434\""
   ]
  },
  {
   "cell_type": "markdown",
   "metadata": {},
   "source": [
    "## Add Monitored DB"
   ]
  },
  {
   "cell_type": "markdown",
   "metadata": {},
   "source": [
    "With the UI add a new database under monitoring"
   ]
  },
  {
   "cell_type": "markdown",
   "metadata": {},
   "source": [
    "## Start Metrics Collection"
   ]
  },
  {
   "cell_type": "code",
   "execution_count": null,
   "metadata": {
    "vscode": {
     "languageId": "bash"
    }
   },
   "outputs": [],
   "source": [
    "pgwatch2-daemon \\\n",
    "  --host=localhost --user=pgwatch2 --dbname=pgwatch2 -p 5434 \\\n",
    "  --datastore=postgres --pg-metric-store-conn-str=postgresql://pgwatch2@localhost:5434/pgwatch2_metrics \\\n",
    "  --verbose=info"
   ]
  }
 ],
 "metadata": {
  "language_info": {
   "name": "python"
  }
 },
 "nbformat": 4,
 "nbformat_minor": 2
}
