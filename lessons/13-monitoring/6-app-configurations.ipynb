{
 "cells": [
  {
   "cell_type": "markdown",
   "metadata": {},
   "source": [
    "# Configurations"
   ]
  },
  {
   "cell_type": "markdown",
   "metadata": {},
   "source": [
    "Since collecting statistics includes overhead for DB activity, you could disable the collection to enhance performance."
   ]
  },
  {
   "cell_type": "markdown",
   "metadata": {},
   "source": [
    "Parameter Name           | Description \n",
    "----                     | ----\n",
    "track_activities         | enables monitoring of the current command being executed by any server process\n",
    "track_counts             | controls whether cumulative statistics are collected about table and index accesses\n",
    "track_functions          | enables tracking of usage of user-defined functions\n",
    "track_io_timing          | enables monitoring of block read and write times\n",
    "track_wal_io_timing      | enables monitoring of WAL write times\n"
   ]
  }
 ],
 "metadata": {
  "language_info": {
   "name": "python"
  }
 },
 "nbformat": 4,
 "nbformat_minor": 2
}
