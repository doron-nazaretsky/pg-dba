{
 "cells": [
  {
   "cell_type": "markdown",
   "metadata": {},
   "source": [
    "# Query Path"
   ]
  },
  {
   "cell_type": "markdown",
   "metadata": {},
   "source": [
    "## Overview"
   ]
  },
  {
   "cell_type": "markdown",
   "metadata": {},
   "source": [
    "1. Connect - Create a session to the DB\n",
    "1. Query submitted by client \n",
    "1. Parse - Check for syntax validity\n",
    "1. Analyze (Semantics Analysis / Transformation Process) - Validate objects by querying system catalogs\n",
    "1. Rewrite (Rule System) - Manipulate query based on rules\n",
    "1. Plan (Optimizer) - Generate possible plans to execute the query and pick one based on a cost system\n",
    "1. Execute - Execute the picked plan\n",
    "\n",
    "<img src=\"./helpers/query-path-overview.png\" alt=\"drawing\" width=\"700\"/>"
   ]
  }
 ],
 "metadata": {
  "kernelspec": {
   "display_name": "Python 3 (ipykernel)",
   "language": "python",
   "name": "python3"
  },
  "language_info": {
   "codemirror_mode": {
    "name": "ipython",
    "version": 3
   },
   "file_extension": ".py",
   "mimetype": "text/x-python",
   "name": "python",
   "nbconvert_exporter": "python",
   "pygments_lexer": "ipython3",
   "version": "3.11.6"
  }
 },
 "nbformat": 4,
 "nbformat_minor": 4
}
