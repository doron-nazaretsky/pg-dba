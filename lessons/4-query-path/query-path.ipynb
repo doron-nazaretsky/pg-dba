{
 "cells": [
  {
   "cell_type": "markdown",
   "metadata": {},
   "source": [
    "#### General Overview"
   ]
  },
  {
   "cell_type": "markdown",
   "metadata": {},
   "source": [
    "1. Connect\n",
    "1. Parse\n",
    "1. Analyze (Semantics Analysis / Transformation Process in docs)\n",
    "1. Rewrite (Rule System)\n",
    "1. Plan (Optimizer)\n",
    "1. Execute\n",
    "\n",
    "<img src=\"./helpers/query-path-overview.png\" alt=\"drawing\" width=\"700\"/>"
   ]
  },
  {
   "cell_type": "markdown",
   "metadata": {},
   "source": [
    "#### Parser"
   ]
  },
  {
   "cell_type": "markdown",
   "metadata": {},
   "source": [
    "##### Input / Output"
   ]
  },
  {
   "cell_type": "markdown",
   "metadata": {},
   "source": [
    "- Input: Query string\n",
    "- Output: Parse tree"
   ]
  },
  {
   "cell_type": "markdown",
   "metadata": {},
   "source": [
    "##### Details:"
   ]
  },
  {
   "cell_type": "markdown",
   "metadata": {},
   "source": [
    "1. Check for valid syntax (only fixes SQL grammar rules)\n",
    "1. Generate a parse tree"
   ]
  },
  {
   "cell_type": "markdown",
   "metadata": {},
   "source": [
    "##### Example:"
   ]
  },
  {
   "cell_type": "markdown",
   "metadata": {},
   "source": [
    "<img src=\"./helpers/parse-tree-example.png\" alt=\"drawing\" width=\"700\"/>"
   ]
  },
  {
   "cell_type": "markdown",
   "metadata": {},
   "source": [
    "#### Analyzer"
   ]
  },
  {
   "cell_type": "markdown",
   "metadata": {},
   "source": [
    "##### Input / Output"
   ]
  },
  {
   "cell_type": "markdown",
   "metadata": {},
   "source": [
    "- Input: Parse tree\n",
    "- Output: Query tree"
   ]
  },
  {
   "cell_type": "markdown",
   "metadata": {},
   "source": [
    "##### Details"
   ]
  },
  {
   "cell_type": "markdown",
   "metadata": {},
   "source": [
    "1. Query system catalogs\n",
    "1. Interpret the referenced objects to columns, functions, tables, views, etc...\n",
    "1. Interpret data types and data structures\n",
    "1. This part open a transaction so it can already query system catalogs (that's why there is a separation from the previous one)"
   ]
  },
  {
   "cell_type": "markdown",
   "metadata": {},
   "source": [
    "##### Example"
   ]
  },
  {
   "cell_type": "markdown",
   "metadata": {},
   "source": [
    "<img src=\"./helpers/query-tree-example.png\" alt=\"drawing\" width=\"700\"/>"
   ]
  },
  {
   "cell_type": "markdown",
   "metadata": {},
   "source": [
    "#### Rewrite (Rule System)"
   ]
  },
  {
   "cell_type": "markdown",
   "metadata": {},
   "source": [
    "##### Input / Output"
   ]
  },
  {
   "cell_type": "markdown",
   "metadata": {},
   "source": [
    "- Input: Query tree\n",
    "- Output: Query tree\n",
    "\n",
    "**NOTE** - Pay attention, there is no data structure change"
   ]
  },
  {
   "cell_type": "markdown",
   "metadata": {},
   "source": [
    "##### Details:\n"
   ]
  },
  {
   "cell_type": "markdown",
   "metadata": {},
   "source": [
    "1. Idea - create a step between Analyzer and Planner that can manipulate the Query Tree object, one can think of it like a classic hook\n",
    "1. Rules are stored in `pg_rules` which is a view wrapper around `pg_rewrite` table\n",
    "1. Views are implemented with the rule system, when creating a view an empty relation is created with a `ON SELECT DO INSTEAD` rule that redirects to the view query"
   ]
  },
  {
   "cell_type": "markdown",
   "metadata": {},
   "source": [
    "##### View Rewrite Example"
   ]
  },
  {
   "cell_type": "markdown",
   "metadata": {},
   "source": [
    "With a view like:\n",
    "\n",
    "```sql\n",
    "CREATE VIEW employees_list AS \n",
    "SELECT e.id, e.name, d.name AS department \n",
    "FROM \n",
    "    employees AS e,\n",
    "    departments AS d\n",
    "WHERE e.department_id = d.id;\n",
    "```\n",
    "\n",
    "And a query like:\n",
    "\n",
    "```sql\n",
    "SELECT * FROM employees_list;\n",
    "```\n",
    "The rewrite system will process the query tree:\n",
    "\n",
    "<img src=\"./helpers/rewrite-query-tree-view.png\" alt=\"drawing\" width=\"900\"/>"
   ]
  },
  {
   "cell_type": "markdown",
   "metadata": {},
   "source": [
    "##### Quick Demo\n",
    "TODO - Try to do the demo before\n",
    "Docker Compose:\n",
    "- Add \"-c\", \"debug_print_parse=on\" to docker compose\n",
    "- Issue a query\n",
    "- Check for the appropriate log in the log file\n",
    "On Debian\n",
    "- Find hba.conf file\n",
    "- Change the configuration from there\n",
    "- Restart the server\n",
    "- Issue a query\n",
    "- Check for the appropriate log in the log file"
   ]
  },
  {
   "cell_type": "markdown",
   "metadata": {},
   "source": [
    "#### Planner / Optimizer"
   ]
  },
  {
   "cell_type": "markdown",
   "metadata": {},
   "source": [
    "##### Input / Output"
   ]
  },
  {
   "cell_type": "markdown",
   "metadata": {},
   "source": [
    "- Input: Query Tree\n",
    "- Output: Plan Tree"
   ]
  }
 ],
 "metadata": {
  "language_info": {
   "name": "python"
  }
 },
 "nbformat": 4,
 "nbformat_minor": 2
}
