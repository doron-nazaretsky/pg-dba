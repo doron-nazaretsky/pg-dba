{
 "cells": [
  {
   "cell_type": "markdown",
   "metadata": {},
   "source": [
    "# Rewrite (Rule System)"
   ]
  },
  {
   "cell_type": "markdown",
   "metadata": {},
   "source": [
    "## Input / Output"
   ]
  },
  {
   "cell_type": "markdown",
   "metadata": {},
   "source": [
    "- Input: Query tree\n",
    "- Output: Query tree"
   ]
  },
  {
   "cell_type": "markdown",
   "metadata": {},
   "source": [
    "```{note}\n",
    "Pay attention, there is no data structure change\n",
    "```"
   ]
  },
  {
   "cell_type": "markdown",
   "metadata": {},
   "source": [
    "## Details:\n"
   ]
  },
  {
   "cell_type": "markdown",
   "metadata": {},
   "source": [
    "1. Idea - create a step between Analyzer and Planner that can manipulate the Query Tree object, one can think of it like a classic hook\n",
    "1. Rules are stored in `pg_rules` which is a view wrapper around `pg_rewrite` table\n",
    "1. Views are implemented with the rule system, when creating a view an empty relation is created with a `ON SELECT DO INSTEAD` rule that redirects to the view query"
   ]
  },
  {
   "cell_type": "markdown",
   "metadata": {},
   "source": [
    "## View Rewrite Example"
   ]
  },
  {
   "cell_type": "markdown",
   "metadata": {},
   "source": [
    "With a view like:\n",
    "\n",
    "```sql\n",
    "CREATE VIEW employees_list AS \n",
    "SELECT e.id, e.name, d.name AS department \n",
    "FROM \n",
    "    employees AS e,\n",
    "    departments AS d\n",
    "WHERE e.department_id = d.id;\n",
    "```\n",
    "\n",
    "And a query like:\n",
    "\n",
    "```sql\n",
    "SELECT * FROM employees_list;\n",
    "```\n",
    "The rewrite system will process the query tree:\n",
    "\n",
    "<img src=\"./helpers/rewrite-query-tree-view.png\" alt=\"drawing\" width=\"900\"/>"
   ]
  }
 ],
 "metadata": {
  "kernelspec": {
   "display_name": "Python 3 (ipykernel)",
   "language": "python",
   "name": "python3"
  },
  "language_info": {
   "codemirror_mode": {
    "name": "ipython",
    "version": 3
   },
   "file_extension": ".py",
   "mimetype": "text/x-python",
   "name": "python",
   "nbconvert_exporter": "python",
   "pygments_lexer": "ipython3",
   "version": "3.11.6"
  }
 },
 "nbformat": 4,
 "nbformat_minor": 4
}
