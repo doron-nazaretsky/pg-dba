{
 "cells": [
  {
   "cell_type": "markdown",
   "metadata": {},
   "source": [
    "# Related Data Structures"
   ]
  },
  {
   "cell_type": "markdown",
   "metadata": {},
   "source": [
    "There are two main data structures that are already discussed briefly in some other models (`Physical Layer` and `Optimizer`) but are mainly used and updated by the `VACUUM` process.\n",
    "\n",
    "- FSM - Free Space Map\n",
    "- VM - Visibility Map"
   ]
  }
 ],
 "metadata": {
  "language_info": {
   "name": "python"
  }
 },
 "nbformat": 4,
 "nbformat_minor": 2
}
