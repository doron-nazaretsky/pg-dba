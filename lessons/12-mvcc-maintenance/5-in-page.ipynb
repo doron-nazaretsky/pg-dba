{
 "cells": [
  {
   "cell_type": "markdown",
   "metadata": {},
   "source": [
    "# In Page Maintenance"
   ]
  },
  {
   "cell_type": "markdown",
   "metadata": {},
   "source": [
    "This approach tries to perform small opportunistic maintenance inside a single page"
   ]
  },
  {
   "cell_type": "markdown",
   "metadata": {},
   "source": [
    "## Characteristics"
   ]
  },
  {
   "cell_type": "markdown",
   "metadata": {},
   "source": [
    "- Small And Fast - low amount of tuples involved\n",
    "- Frequent - potentially happens when retrieving rows, meaning `SELECT`, `UPDATE` and `DELETE` can trigger it\n",
    "- Single Page Scope\n",
    "- Opportunistic And Heuristic - trying to prune line pointers and tuples only if it's **necessary** and **fast**"
   ]
  },
  {
   "cell_type": "markdown",
   "metadata": {},
   "source": [
    "## Why"
   ]
  },
  {
   "cell_type": "markdown",
   "metadata": {},
   "source": [
    "Massive maintenance processes have high cost in terms of performance and CPU usage, especially when indexes are involved. It's impractical to perform them frequently.\n",
    "\n",
    "To reduce the amount of work for those massive jobs, postgres tries to perform some small scale maintenance whenever it's really needed to smoothen the burden of having massive loads once in a while.\n",
    "\n",
    "This helps with otherwise fast bloating tables due to frequent `UPDATE`s and `DELETE`s."
   ]
  },
  {
   "cell_type": "markdown",
   "metadata": {},
   "source": [
    "## How"
   ]
  },
  {
   "cell_type": "markdown",
   "metadata": {},
   "source": [
    "### Conditions"
   ]
  },
  {
   "cell_type": "markdown",
   "metadata": {},
   "source": [
    "Whenever a query retrieves a page, it tries to prune it if one of the following conditions are met:\n",
    "- The page free pace is less then MAX(`fillfactor`, 10%)\n",
    "- The page was tagged as `FULL` by other `UPDATE` -> other `UPDATE` couldn't fit it's changes in this page"
   ]
  },
  {
   "cell_type": "markdown",
   "metadata": {},
   "source": [
    "The implementation details are not discussed here but you can check out the [source code](https://github.com/postgres/postgres/blob/5603e119f4bd4818f8fa432ffc177c3caf9efeb6/src/backend/access/heap/pruneheap.c#L193)"
   ]
  }
 ],
 "metadata": {
  "language_info": {
   "name": "python"
  }
 },
 "nbformat": 4,
 "nbformat_minor": 2
}
