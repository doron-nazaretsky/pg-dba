{
 "cells": [
  {
   "cell_type": "markdown",
   "metadata": {},
   "source": [
    "# Hands On"
   ]
  },
  {
   "cell_type": "markdown",
   "metadata": {},
   "source": [
    "## Prepare"
   ]
  },
  {
   "cell_type": "markdown",
   "metadata": {},
   "source": [
    "```SQL\n",
    "DROP TABLE IF EXISTS tbl;\n",
    "SELECT generate_series AS id, 0 AS data\n",
    "INTO tbl\n",
    "FROM generate_series(1,10);\n",
    "\n",
    "/*** (detailed in VACUUM module) ***/\n",
    "-- Turn autovacuum off\n",
    "ALTER TABLE tbl SET (autovacuum_enabled = false);\n",
    "\n",
    "-- Look at the page layout\n",
    "DROP VIEW IF EXISTS vw_inspect_tbl_first_page;\n",
    "CREATE VIEW vw_inspect_tbl_first_page AS\n",
    "SELECT\n",
    "\tlp AS line_pointer\n",
    "\t,lp_off AS liner_pointer_offset\n",
    "\t,lp_len AS liner_pointer_length\n",
    "\t,lp_off - lp_len AS next_liner_pointer_offset\n",
    "\t,t_xmin\n",
    "\t,t_xmax\n",
    "\t,t_ctid\n",
    "FROM \n",
    "\theap_page_items(get_raw_page('tbl', 0)) hp;\n",
    "\n",
    "-- Look at the page headers\n",
    "DROP VIEW IF EXISTS vw_tbl_first_page_free_space;\n",
    "CREATE VIEW vw_tbl_first_page_free_space AS\n",
    "SELECT \n",
    "    lower AS line_pointers_offset\n",
    "    ,upper AS data_offset\n",
    "    ,upper - lower AS free_space\n",
    "\t,pagesize AS page_size\n",
    "FROM page_header(get_raw_page('tbl', 0));\n",
    "```"
   ]
  },
  {
   "cell_type": "markdown",
   "metadata": {},
   "source": [
    "## Fill Up A Page"
   ]
  },
  {
   "cell_type": "markdown",
   "metadata": {},
   "source": [
    "```SQL\n",
    "-- Check how much space a complete tuple is taking\n",
    "SELECT free_space -- 7808\n",
    "FROM vw_tbl_first_page_free_space;\n",
    "\n",
    "INSERT INTO tbl VALUES (11, 1);\n",
    "SELECT free_space -- 7772\n",
    "FROM vw_tbl_first_page_free_space;\n",
    "\n",
    "SELECT 7808 - 7772; -- 36 (4 for line_pointer, 32 for tuple)\n",
    "```"
   ]
  },
  {
   "cell_type": "markdown",
   "metadata": {},
   "source": [
    "```SQL\n",
    "-- Check how much space is enough to trigger in page pruning\n",
    "SELECT page_size / 10 -- 819\n",
    "FROM vw_tbl_first_page_free_space;\n",
    "```"
   ]
  },
  {
   "cell_type": "markdown",
   "metadata": {},
   "source": [
    "```SQL\n",
    "DO $$\n",
    "DECLARE\n",
    "\tconst_new_tuple_space INTEGER := 36;\n",
    "\tconst_space_trigger INTEGER := 819;\n",
    "\tvar_counter INTEGER := 1;\n",
    "\tvar_current_free_space INTEGER;\n",
    "BEGIN\n",
    "\tRAISE NOTICE 'Started';\n",
    "\n",
    "\tSELECT free_space\n",
    "\tINTO var_current_free_space\n",
    "\tFROM vw_tbl_first_page_free_space;\n",
    "\n",
    "\tWHILE var_current_free_space > const_space_trigger LOOP \n",
    "\t\tRAISE NOTICE 'Inserting %th tuple', var_counter;\n",
    "\t\tvar_counter := var_counter + 1;\n",
    "\t\tINSERT INTO tbl VALUES (100 + var_counter,0);\n",
    "\t\tSELECT free_space\n",
    "\t\tINTO var_current_free_space\n",
    "\t\tFROM vw_tbl_first_page_free_space;\n",
    "\tEND LOOP;\n",
    "END;\n",
    "$$;\n",
    "```"
   ]
  },
  {
   "cell_type": "markdown",
   "metadata": {},
   "source": [
    "```SQL\n",
    "-- Check out the current layout\n",
    "SELECT * FROM vw_inspect_tbl_first_page;\n",
    "SELECT * FROM vw_tbl_first_page_free_space;\n",
    "```"
   ]
  },
  {
   "cell_type": "markdown",
   "metadata": {},
   "source": [
    "## Update"
   ]
  },
  {
   "cell_type": "markdown",
   "metadata": {},
   "source": [
    "```SQL\n",
    "-- Update a same row 3 times and watch what happens\n",
    "UPDATE tbl SET data = 1 WHERE id = 1;\n",
    "SELECT * FROM vw_inspect_tbl_first_page;\n",
    "SELECT * FROM vw_tbl_first_page_free_space;\n"
   ]
  }
 ],
 "metadata": {
  "language_info": {
   "name": "python"
  }
 },
 "nbformat": 4,
 "nbformat_minor": 2
}
