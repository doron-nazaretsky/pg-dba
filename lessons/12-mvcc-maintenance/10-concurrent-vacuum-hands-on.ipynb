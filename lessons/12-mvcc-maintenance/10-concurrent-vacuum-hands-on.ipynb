{
 "cells": [
  {
   "cell_type": "markdown",
   "metadata": {},
   "source": [
    "# Hands On"
   ]
  },
  {
   "cell_type": "markdown",
   "metadata": {},
   "source": [
    "## Prepare"
   ]
  },
  {
   "cell_type": "markdown",
   "metadata": {},
   "source": [
    "```SQL\n",
    "DROP TABLE IF EXISTS lp_flags_map CASCADE;\n",
    "CREATE TABLE lp_flags_map(id INT, description VARCHAR(40));\n",
    "INSERT INTO lp_flags_map VALUES \n",
    "(0, 'Unused'),\n",
    "(1, 'Normal'),\n",
    "(2, 'Redirect'),\n",
    "(3, 'Dead');\n",
    "\n",
    "DROP TABLE IF EXISTS tbl CASCADE;\n",
    "SELECT generate_series AS id, 0 AS data\n",
    "INTO tbl\n",
    "FROM generate_series(1,300);\n",
    "\n",
    "ALTER TABLE tbl SET (autovacuum_enabled = false);\n",
    "\n",
    "DROP VIEW IF EXISTS vw_inspect_tbl_first_page;\n",
    "CREATE VIEW vw_inspect_tbl_first_page AS\n",
    "SELECT\n",
    "\tlp AS line_pointer\n",
    "\t,lp_off AS liner_pointer_offset\n",
    "\t,lp_len AS liner_pointer_length\n",
    "\t,lp_off - lp_len AS next_liner_pointer_offset\n",
    "\t,t_xmin\n",
    "\t,t_xmax\n",
    "\t,t_ctid\n",
    "\t,f.description AS liner_pointer_flags\n",
    "FROM \n",
    "\theap_page_items(get_raw_page('tbl', 0)) hp\n",
    "\tLEFT JOIN lp_flags_map f ON hp.lp_flags = f.id;\n",
    "\n",
    "DROP VIEW IF EXISTS vw_inspect_tbl_second_page;\n",
    "CREATE VIEW vw_inspect_tbl_second_page AS\n",
    "SELECT\n",
    "\tlp AS line_pointer\n",
    "\t,lp_off AS liner_pointer_offset\n",
    "\t,lp_len AS liner_pointer_length\n",
    "\t,lp_off - lp_len AS next_liner_pointer_offset\n",
    "\t,t_xmin\n",
    "\t,t_xmax\n",
    "\t,t_ctid\n",
    "\t,f.description AS liner_pointer_flags\n",
    "FROM \n",
    "\theap_page_items(get_raw_page('tbl', 1)) hp\n",
    "\tLEFT JOIN lp_flags_map f ON hp.lp_flags = f.id;\n",
    "```"
   ]
  },
  {
   "cell_type": "markdown",
   "metadata": {},
   "source": [
    "```SQL\n",
    "VACUUM tbl;\n",
    "```"
   ]
  },
  {
   "cell_type": "markdown",
   "metadata": {},
   "source": [
    "### VM And FSM"
   ]
  },
  {
   "cell_type": "markdown",
   "metadata": {},
   "source": [
    "```SQL\n",
    "-- Check the visibility\n",
    "SELECT * FROM pg_visibility('tbl'::regclass);\n",
    "-- Nothing... because it's not created yet\n",
    "```"
   ]
  },
  {
   "cell_type": "markdown",
   "metadata": {},
   "source": [
    "```BASH\n",
    "# Bash!\n",
    "# Let's find the physical layout of our new table\n",
    "RELATION_FILE_PATH=$(psql -t -c \"SELECT pg_relation_filepath('tbl');\" | tr -d ' ')\n",
    "echo \"Relation file path is: '$RELATION_FILE_PATH'\"\n",
    "RELATION_LOCATION=$(echo $RELATION_FILE_PATH | cut -d \"/\" -f 1,2)\n",
    "RELATION_FILE_NODE=$(echo $RELATION_FILE_PATH | cut -d \"/\" -f 3)\n",
    "echo \"Relation locations is: '$RELATION_LOCATION' and file node is: '$RELATION_FILE_NODE'\"\n",
    "\n",
    "# Check the fork\n",
    "ls $PGDATA/$RELATION_LOCATION | grep $RELATION_FILE_NODE # Looks like there is only the main data file for now\n",
    "\n",
    "# Perform a VACUUM\n",
    "psql -c \"VACUUM tbl;\"\n",
    "\n",
    "ls $PGDATA/$RELATION_LOCATION | grep $RELATION_FILE_NODE # Now we have vm and fsm added\n",
    "```"
   ]
  },
  {
   "cell_type": "markdown",
   "metadata": {},
   "source": [
    "```SQL\n",
    "-- After first VACUUM\n",
    "SELECT * FROM pg_visibility('tbl'::regclass);\n",
    "```"
   ]
  },
  {
   "cell_type": "markdown",
   "metadata": {},
   "source": [
    "## Dead Tuples"
   ]
  },
  {
   "cell_type": "markdown",
   "metadata": {},
   "source": [
    "```SQL\n",
    "DELETE FROM tbl WHERE id BETWEEN 1 AND 5;\n",
    "SELECT * FROM vw_inspect_tbl_first_page; -- Still `normal` flag\n",
    "```"
   ]
  },
  {
   "cell_type": "markdown",
   "metadata": {},
   "source": [
    "```SQL\n",
    "INSERT INTO tbl VALUES (1001,0), (1002,0);\n",
    "SELECT * FROM vw_inspect_tbl_first_page; -- Still!\n",
    "SELECT * FROM vw_inspect_tbl_second_page; -- No reuse\n",
    "```"
   ]
  },
  {
   "cell_type": "markdown",
   "metadata": {},
   "source": [
    "```SQL\n",
    "UPDATE tbl SET data = 1 WHERE id = 6; \n",
    "SELECT * FROM vw_inspect_tbl_first_page; -- This retrieves a row and triggers the in-page maintenance, some reuse\n",
    "\n",
    "INSERT INTO tbl VALUES (1003,0), (1004,0);\n",
    "SELECT * FROM vw_inspect_tbl_first_page; -- Insert still can't use it\n",
    "SELECT * FROM vw_inspect_tbl_second_page; -- No reuse\n",
    "```"
   ]
  },
  {
   "cell_type": "markdown",
   "metadata": {},
   "source": [
    "```SQL\n",
    "VACUUM tbl\n",
    "```"
   ]
  },
  {
   "cell_type": "markdown",
   "metadata": {},
   "source": [
    "```SQL\n",
    "SELECT * FROM vw_inspect_tbl_first_page; -- Now the tuples are unused and not dead\n",
    "INSERT INTO tbl VALUES (1005,0), (1006,0);\n",
    "SELECT * FROM vw_inspect_tbl_first_page; -- Insert can reuse place\n",
    "```"
   ]
  },
  {
   "cell_type": "markdown",
   "metadata": {},
   "source": [
    "## Relation Size"
   ]
  },
  {
   "cell_type": "markdown",
   "metadata": {},
   "source": [
    "### Insert More Tuples"
   ]
  },
  {
   "cell_type": "markdown",
   "metadata": {},
   "source": [
    "```SQL\n",
    "INSERT INTO tbl\n",
    "SELECT generate_series AS id, 0 AS data\n",
    "FROM generate_series(1,1000000);\n",
    "```"
   ]
  },
  {
   "cell_type": "markdown",
   "metadata": {},
   "source": [
    "```SQL\n",
    "SELECT pg_size_pretty(pg_relation_size('tbl'));\n",
    "```"
   ]
  },
  {
   "cell_type": "markdown",
   "metadata": {},
   "source": [
    "### Delete Tuples"
   ]
  },
  {
   "cell_type": "markdown",
   "metadata": {},
   "source": [
    "```SQL\n",
    "DELETE FROM tbl WHERE id BETWEEN 300 AND 900000;\n",
    "SELECT pg_size_pretty(pg_relation_size('tbl')); -- Still big\n",
    "```"
   ]
  },
  {
   "cell_type": "markdown",
   "metadata": {},
   "source": [
    "```SQL\n",
    "VACUUM tbl;\n",
    "SELECT pg_size_pretty(pg_relation_size('tbl')); -- What? still big...\n",
    "```"
   ]
  },
  {
   "cell_type": "markdown",
   "metadata": {},
   "source": [
    "```SQL\n",
    "VACUUM FULL tbl;\n",
    "SELECT pg_size_pretty(pg_relation_size('tbl')); -- Finally...\n",
    "```"
   ]
  }
 ],
 "metadata": {
  "language_info": {
   "name": "python"
  }
 },
 "nbformat": 4,
 "nbformat_minor": 2
}
