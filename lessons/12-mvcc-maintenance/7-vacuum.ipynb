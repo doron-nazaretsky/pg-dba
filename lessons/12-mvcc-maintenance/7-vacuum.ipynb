{
 "cells": [
  {
   "cell_type": "markdown",
   "metadata": {},
   "source": [
    "# VACUUM Maintenance"
   ]
  },
  {
   "cell_type": "markdown",
   "metadata": {},
   "source": [
    "This utility is used to perform large scale MVCC maintenance"
   ]
  },
  {
   "cell_type": "markdown",
   "metadata": {},
   "source": [
    "## Purposes"
   ]
  },
  {
   "cell_type": "markdown",
   "metadata": {},
   "source": [
    "1. To recover or reuse disk space occupied by `updated or deleted` rows.\n",
    "1. Rewrite `pages` on disk to include only relevant tuples.\n",
    "1. To update data `statistics` used by the PostgreSQL query planner.\n",
    "1. To update the `visibility map`, which speeds up `index-only` scans.\n",
    "1. To protect against loss of very old data due to `transaction ID wraparound` or multixact ID wraparound."
   ]
  },
  {
   "cell_type": "markdown",
   "metadata": {},
   "source": [
    "## VACUUM Types"
   ]
  },
  {
   "cell_type": "markdown",
   "metadata": {},
   "source": [
    "- Standard VACUUM (concurrent / lazy)\n",
    "- Full VACUUM"
   ]
  },
  {
   "cell_type": "markdown",
   "metadata": {},
   "source": [
    "VACUUM Type |   Relative Speed  |   Lock Type   |   Functionality   |   Disk Cleanup\n",
    "----        |   ---             |   ---         |   ---             |   ---\n",
    "Standard    |   Quick           |   `ShareUpdateExclusiveLock` (DDL)    |   Mark dead tuples as unused and available for recycling  |   Doesn't reduce disk size, but allows new tuple to recycle disk space\n",
    "Full        |   Slow            |   `AccessExclusiveLock` (All Access)  |   Create a new table from the previous one    |   Reduce disk space if possible"
   ]
  },
  {
   "cell_type": "markdown",
   "metadata": {},
   "source": [
    "## Relations Target Types"
   ]
  },
  {
   "cell_type": "markdown",
   "metadata": {},
   "source": [
    "- Table\n",
    "- Material View\n",
    "- Toast Table \n",
    "- Partitioned table (skip the father relation and vacuum the children)"
   ]
  }
 ],
 "metadata": {
  "language_info": {
   "name": "python"
  }
 },
 "nbformat": 4,
 "nbformat_minor": 2
}
