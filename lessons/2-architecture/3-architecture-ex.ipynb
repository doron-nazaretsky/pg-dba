{
 "cells": [
  {
   "cell_type": "markdown",
   "metadata": {},
   "source": [
    "1. Create 5 different backends\n",
    "1. Check which PIDs are associated with those\n",
    "1. Write a simple script in your preferred coding language to reach the maximum connections"
   ]
  }
 ],
 "metadata": {
  "language_info": {
   "name": "python"
  }
 },
 "nbformat": 4,
 "nbformat_minor": 2
}
