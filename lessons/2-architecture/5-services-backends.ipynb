{
 "cells": [
  {
   "cell_type": "markdown",
   "metadata": {},
   "source": [
    "# Backends"
   ]
  },
  {
   "cell_type": "markdown",
   "metadata": {},
   "source": [
    "## Description"
   ]
  },
  {
   "cell_type": "markdown",
   "metadata": {},
   "source": [
    "The PostgreSQL backend process is the backbone of the server, it is responsible for handling individual client connections and executing SQL queries. \n",
    "\n",
    "Each client connection is assigned its own backend process, which manages query parsing, execution, transaction handling and consumes it's own dedicated virtual memory. \n",
    "\n",
    "This isolation ensures robust performance and stability, allowing for efficient query processing and concurrent database operations."
   ]
  },
  {
   "cell_type": "markdown",
   "metadata": {},
   "source": [
    "## Hands On"
   ]
  },
  {
   "cell_type": "markdown",
   "metadata": {},
   "source": [
    "```SQL\n",
    "SELECT \n",
    "    datname,\n",
    "    pid,\n",
    "    usename,\n",
    "    client_addr,\n",
    "    client_port,\n",
    "    state,\n",
    "    query,\n",
    "    backend_type\n",
    "FROM pg_stat_activity\n",
    "WHERE backend_type = 'client backend';\n",
    "```"
   ]
  },
  {
   "cell_type": "markdown",
   "metadata": {},
   "source": [
    "```{note}\n",
    "- Since each forked process consumes CPU cores and RAM, the number of clients connecting to the server simultaneously are limited by the available cores and RAM. Any new client requests after the server resources are exhausted will be declined. That's actually ok because too much connections are bad architecture anyway.\n",
    "- Connection Pooling - initiate several connections to the server during the connection pooler startup and serve them to the client as the requests come in.\n",
    "```"
   ]
  },
  {
   "cell_type": "markdown",
   "metadata": {},
   "source": [
    "```SQL\n",
    "-- You can check the max_connection configuration using, the default is 100\n",
    "SHOW max_connections;\n",
    "```"
   ]
  }
 ],
 "metadata": {
  "kernelspec": {
   "display_name": "Python 3 (ipykernel)",
   "language": "python",
   "name": "python3"
  },
  "language_info": {
   "codemirror_mode": {
    "name": "ipython",
    "version": 3
   },
   "file_extension": ".py",
   "mimetype": "text/x-python",
   "name": "python",
   "nbconvert_exporter": "python",
   "pygments_lexer": "ipython3",
   "version": "3.11.6"
  }
 },
 "nbformat": 4,
 "nbformat_minor": 4
}
