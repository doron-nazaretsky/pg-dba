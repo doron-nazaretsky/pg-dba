{
 "cells": [
  {
   "cell_type": "markdown",
   "metadata": {},
   "source": [
    "#### General\n",
    "All the data needed for a database cluster is stored within the cluster's data directory, commonly referred to as PGDATA (after the name of the environment variable that can be used to define it). A common location for PGDATA is /var/lib/pgsql/data. Multiple clusters, managed by different server instances, can exist on the same machine.\n",
    "\n",
    "Contents of PGDATA:\n",
    "Item\t                |   Description\n",
    "------------------      |   ------------\n",
    "PG_VERSION\t            |    A file containing the major version number of PostgreSQL\n",
    "base\t                |    Subdirectory containing per-database subdirectories\n",
    "global\t                |    Subdirectory containing cluster-wide tables, such as pg_database\n",
    "pg_tblspc\t            |    Subdirectory containing symbolic links to tablespaces\n",
    "pg_wal\t                |    Subdirectory containing WAL (Write Ahead Log) files\n",
    "pg_xact\t                |    Subdirectory containing transaction commit status data\n",
    "pg_commit_ts\t        |    Subdirectory containing transaction commit timestamp data\n",
    "pg_stat\t                |    Subdirectory containing permanent files for the statistics subsystem\n",
    "pg_stat_tmp\t            |    Subdirectory containing temporary files for the statistics subsystem\n",
    "pg_dynshmem\t            |    Subdirectory containing files used by the dynamic shared memory subsystem\n",
    "current_logfiles\t    |    File recording the log file(s) currently written to by the logging collector\n",
    "pg_subtrans\t            |    Subdirectory containing subtransaction status data\n",
    "pg_logical\t            |    Subdirectory containing status data for logical decoding\n",
    "pg_multixact\t        |    Subdirectory containing multitransaction status data (used for shared row locks)\n",
    "pg_notify\t            |    Subdirectory containing LISTEN/NOTIFY status data\n",
    "pg_replslot\t            |    Subdirectory containing replication slot data\n",
    "pg_serial\t            |    Subdirectory containing information about committed serializable transactions\n",
    "pg_snapshots\t        |    Subdirectory containing exported snapshots\n",
    "pg_twophase\t            |    Subdirectory containing state files for prepared transactions\n",
    "postgresql.auto.conf    |    A file used for storing configuration parameters that are set by ALTER SYSTEM\n",
    "postmaster.opts\t        |    A file recording the command-line options the server was last started with\n",
    "postmaster.pid\t        |    A lock file recording the current postmaster process ID (PID), cluster data directory path, postmaster start timestamp, port number, Unix-domain socket directory path (could be empty), first valid listen_address (IP address or *, or empty if not listening on TCP), and shared memory segment ID (this file is not present after server shutdown)"
   ]
  },
  {
   "cell_type": "markdown",
   "metadata": {},
   "source": [
    "#### Directories tree visualization\n",
    "![Directories](./helpers/directories-detailed.jpeg)"
   ]
  },
  {
   "cell_type": "markdown",
   "metadata": {},
   "source": [
    "#### Base\n",
    "For each database in the cluster there is a subdirectory within PGDATA/base, named after the database's OID in pg_database. This subdirectory is the default location for the database's files.\\\n",
    "in particular, its system catalogs are stored there.\\\n",
    "Each table and index is stored in a fork, named after the table or index's filenode number (which sometimes will be the same as the OID of the relation but can be changed over time), which can be found in pg_class.relfilenode.\n"
   ]
  },
  {
   "cell_type": "code",
   "execution_count": null,
   "metadata": {
    "tags": []
   },
   "outputs": [],
   "source": [
    "export PGHOST=db\n",
    "export PGUSER=postgres\n",
    "export PGDATABASE=postgres"
   ]
  },
  {
   "cell_type": "code",
   "execution_count": null,
   "metadata": {
    "tags": []
   },
   "outputs": [],
   "source": [
    "psql << EOM\n",
    "    DROP TABLE IF EXISTS my_table;\n",
    "    CREATE TABLE my_table(\n",
    "        ID INT,\n",
    "        NAME VARCHAR(20)\n",
    "    );\n",
    "\n",
    "    SELECT\n",
    "        oid\n",
    "        ,relname\n",
    "        ,relfilenode\n",
    "    FROM pg_class\n",
    "    WHERE relname = 'my_table';\n",
    "EOM"
   ]
  },
  {
   "cell_type": "code",
   "execution_count": null,
   "metadata": {},
   "outputs": [],
   "source": [
    "psql << EOM\n",
    "    SELECT pg_relation_filepath('my_table');\n",
    "EOM"
   ]
  },
  {
   "cell_type": "code",
   "execution_count": null,
   "metadata": {},
   "outputs": [],
   "source": [
    "# Change of file node number\n",
    "psql << EOM\n",
    "    SELECT pg_relation_filepath('my_table');\n",
    "    TRUNCATE my_table;\n",
    "    SELECT pg_relation_filepath('my_table'); -- New file node\n",
    "EOM"
   ]
  },
  {
   "cell_type": "markdown",
   "metadata": {},
   "source": [
    "#### Relation forks\n",
    "- main fork (no suffix)\n",
    "- more data when reaching the limit (suffix .1, .2, ...)\n",
    "- free space map (suffix: fsm) - For heap and indexes (except hash index) keep track of available space in the relation\n",
    "- visibility map (suffix: vm) - For heap only, keep track of which pages contain only tuples that are known to be visible to all active transactions\n",
    "- initialization fork (suffix: init) - an empty table or index of the appropriate type for un-logged tables (without WAL).\n",
    "\n",
    "![RelationFork](./helpers/relation-fork.png)"
   ]
  },
  {
   "cell_type": "markdown",
   "metadata": {},
   "source": [
    "#### Table Spaces\n",
    "Tablespaces in PostgreSQL allow database administrators to define locations in the file system where the files representing database objects can be stored. Once created, a tablespace can be referred to by name when creating database objects. By using tablespaces, an administrator can control the disk layout of a PostgreSQL installation. This is useful in at least two ways:\n",
    "1. If the partition or volume on which the cluster was initialized runs out of space and cannot be extended, a tablespace can be created on a different partition and used until the system can be reconfigured.\\\n",
    "1. Tablespaces allow an administrator to use knowledge of the usage pattern of database objects to optimize performance. For example, an index which is very heavily used can be placed on a very fast, highly available disk, such as an expensive solid state device. At the same time a table storing archived data which is rarely used or not performance critical could be stored on a less expensive, slower disk system.\n",
    "\n",
    "The directory $PGDATA/pg_tblspc contains symbolic links that point to each of the non-built-in tablespaces defined in the cluster."
   ]
  },
  {
   "cell_type": "code",
   "execution_count": null,
   "metadata": {},
   "outputs": [],
   "source": [
    "# Need root permissions, can be done inside the container\n",
    "mkdir -p /ssd/postgresql/data\n",
    "chown -R postgres /ssd/postgresql/data"
   ]
  },
  {
   "cell_type": "code",
   "execution_count": null,
   "metadata": {},
   "outputs": [],
   "source": [
    "# Make sure the appropriate user has ownership of this directory to be able to manipulate the objects there\n",
    "\n",
    "psql << EOM\n",
    "    CREATE TABLESPACE fastspace LOCATION '/ssd/postgresql/data';\n",
    "    CREATE TABLE foo(i int) TABLESPACE fastspace;\n",
    "    INSERT INTO foo VALUES (1), (2), (3);\n",
    "    SELECT * FROM foo;\n",
    "EOM"
   ]
  },
  {
   "cell_type": "code",
   "execution_count": null,
   "metadata": {},
   "outputs": [],
   "source": [
    "# Check available tablespaces\n",
    "\n",
    "psql << EOM\n",
    "    SELECT spcname FROM pg_tablespace;\n",
    "EOM"
   ]
  },
  {
   "cell_type": "markdown",
   "metadata": {},
   "source": [
    "#### Important catalogs\n",
    "- pg_class: describes tables and other objects that have columns or are otherwise similar to a table\n",
    "- pg_database: stores information about the available databases\n",
    "- pg_tablespace: stores tablespaces"
   ]
  }
 ],
 "metadata": {
  "kernelspec": {
   "display_name": "Bash",
   "language": "bash",
   "name": "bash"
  },
  "language_info": {
   "codemirror_mode": {
    "name": "ipython",
    "version": 3
   },
   "file_extension": ".py",
   "mimetype": "text/x-python",
   "name": "bash",
   "nbconvert_exporter": "python",
   "pygments_lexer": "ipython3",
   "version": "3.11.6"
  }
 },
 "nbformat": 4,
 "nbformat_minor": 4
}
