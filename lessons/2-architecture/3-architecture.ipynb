{
 "cells": [
  {
   "cell_type": "markdown",
   "metadata": {},
   "source": [
    "## Overview"
   ]
  },
  {
   "cell_type": "markdown",
   "metadata": {},
   "source": [
    "- Single main process - postmaster / postgres\n",
    "- Backends - process per client connection\n",
    "- Background Processes - Parallel execution / Customer user code (extensions)\n",
    "- Auxiliary Processes - Maintenance"
   ]
  },
  {
   "cell_type": "markdown",
   "metadata": {},
   "source": [
    "#### Postmaster\n",
    "- Main supervisor\n",
    "- Daemon process - Listens on a port\n",
    "- Manage client authentication and connection creation\n",
    "- Spins up backends for every connection (even unsuccessful ones)\n",
    "- Creates the memory context mechanism - memory recursive data structure to avoid leaks\n",
    "- Creates the shared memory\n",
    "- Spins up other backend processes (Background, Auxiliary)\n",
    "\n",
    "\n",
    "- Since each forked process consumes CPU cores and RAM, the number of clients connecting to the server simultaneously are limited by the available cores and RAM. Any new client requests after the server resources are exhausted will be declined. That's actually ok because too much connections are bad architecture anyway.\n",
    "- Connection Pooling - initiate several connections to the server during the connection pooler startup and serve them to the client as the requests come in.\n",
    "\n"
   ]
  },
  {
   "cell_type": "markdown",
   "metadata": {},
   "source": [
    "#### Backends\n",
    "- Forked from postmaster\n",
    "- Responsible for a single client connection - process all queries\n",
    "- Allowed to operate on a single DB\n",
    "- Consume a dedicated virtual memory"
   ]
  },
  {
   "cell_type": "markdown",
   "metadata": {},
   "source": [
    "#### Background Processes\n",
    "- Pool of workers\n",
    "- Execute parallel execution plans\n",
    "- Use a different memory system to communicate"
   ]
  },
  {
   "cell_type": "markdown",
   "metadata": {},
   "source": [
    "#### Auxiliary Processes\n",
    "A group of processes that perform maintenance operations on the cluster:\n",
    "- Autovacuum launcher - Launches autovacuum workers to perform vacuum and analyze operations \n",
    "- Background writer - In charge of writing from shared memory to disk when it's time to free space in the shared memory\n",
    "- Checkpointer - Flushes dirty pages to disk to recycle the WAL buffer and ensure durability (not made for performance reasons)\n",
    "- Logger - Logs stuff\n",
    "- Startup process - Startup following a crash\n",
    "- WAL archiver - Creates copies of WAL files on disk\n",
    "- WAL receiver - Runs on a replica and receives WAL from the primary server\n",
    "- WAL writer - Flushes dirty WAL"
   ]
  },
  {
   "cell_type": "markdown",
   "metadata": {},
   "source": [
    "#### Check the processes"
   ]
  },
  {
   "cell_type": "code",
   "execution_count": null,
   "metadata": {
    "vscode": {
     "languageId": "bash"
    }
   },
   "outputs": [],
   "source": [
    "# With PS\n",
    "ps -HAf"
   ]
  },
  {
   "cell_type": "code",
   "execution_count": null,
   "metadata": {
    "vscode": {
     "languageId": "bash"
    }
   },
   "outputs": [],
   "source": [
    "# With PSTREE\n",
    "pstree -p"
   ]
  },
  {
   "cell_type": "code",
   "execution_count": null,
   "metadata": {
    "vscode": {
     "languageId": "bash"
    }
   },
   "outputs": [],
   "source": [
    "# With SQL, more informative\n",
    "export PGHOST=db\n",
    "export PGUSER=postgres\n",
    "export PGDATABASE=postgres\n",
    "\n",
    "psql << EOM \n",
    "    SELECT \n",
    "        datname,\n",
    "        pid,\n",
    "        usename,\n",
    "        client_addr,\n",
    "        client_port,\n",
    "        state,\n",
    "        query,\n",
    "        backend_type\n",
    "    FROM pg_stat_activity;\n",
    "EOM"
   ]
  },
  {
   "cell_type": "code",
   "execution_count": null,
   "metadata": {
    "vscode": {
     "languageId": "bash"
    }
   },
   "outputs": [],
   "source": [
    "# Show max connections\n",
    "psql -c \"SHOW max_connections;\""
   ]
  }
 ],
 "metadata": {
  "kernelspec": {
   "display_name": "Python 3 (ipykernel)",
   "language": "python",
   "name": "python3"
  },
  "language_info": {
   "codemirror_mode": {
    "name": "ipython",
    "version": 3
   },
   "file_extension": ".py",
   "mimetype": "text/x-python",
   "name": "python",
   "nbconvert_exporter": "python",
   "pygments_lexer": "ipython3",
   "version": "3.11.6"
  }
 },
 "nbformat": 4,
 "nbformat_minor": 4
}
