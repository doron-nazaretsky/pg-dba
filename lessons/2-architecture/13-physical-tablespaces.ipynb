{
 "cells": [
  {
   "cell_type": "markdown",
   "metadata": {},
   "source": [
    "# Tablespaces"
   ]
  },
  {
   "cell_type": "markdown",
   "metadata": {},
   "source": [
    "Tablespaces in PostgreSQL allow database administrators to define locations in the file system where the files representing database objects can be stored. \n",
    "\n",
    "Once created, a tablespace can be referred to by name when creating database objects.\n",
    "\n",
    "The directory `$PGDATA/pg_tblspc` contains symbolic links that point to each of the non-built-in tablespaces defined in the cluster."
   ]
  },
  {
   "cell_type": "markdown",
   "metadata": {},
   "source": [
    "## Why"
   ]
  },
  {
   "cell_type": "markdown",
   "metadata": {},
   "source": [
    "By using tablespaces, an administrator can control the disk layout of a PostgreSQL installation. This is useful in at least two ways:\n",
    "1. If the partition or volume on which the cluster was initialized runs out of space and cannot be extended, a tablespace can be created on a different partition and used until the system can be reconfigured.\n",
    "1. Tablespaces allow an administrator to use knowledge of the usage pattern of database objects to optimize performance. For example, an index which is very heavily used can be placed on a very fast, highly available disk, such as an expensive `sdd`. At the same time a table storing archived data which is rarely used or not performance critical could be stored on a less expensive, slower `hard disk` system.\n",
    "\n"
   ]
  },
  {
   "cell_type": "markdown",
   "metadata": {},
   "source": [
    "## Hands On"
   ]
  },
  {
   "cell_type": "markdown",
   "metadata": {},
   "source": [
    "### Create"
   ]
  },
  {
   "cell_type": "markdown",
   "metadata": {},
   "source": [
    "```BASH\n",
    "# Need root permissions, can be done inside the container\n",
    "mkdir -p /ssd/postgresql/data\n",
    "chown -R postgres /ssd/postgresql/data\n",
    "```"
   ]
  },
  {
   "cell_type": "markdown",
   "metadata": {},
   "source": [
    "```SQL\n",
    "-- Make sure the appropriate user has ownership of this directory to be able to manipulate the objects there\n",
    "CREATE TABLESPACE fastspace LOCATION '/ssd/postgresql/data';\n",
    "CREATE TABLE foo(i int) TABLESPACE fastspace;\n",
    "INSERT INTO foo VALUES (1), (2), (3);\n",
    "SELECT * FROM foo;\n",
    "```"
   ]
  },
  {
   "cell_type": "markdown",
   "metadata": {},
   "source": [
    "### Check It Out!"
   ]
  },
  {
   "cell_type": "markdown",
   "metadata": {},
   "source": [
    "```SQL\n",
    "SELECT spcname FROM pg_tablespace;\n",
    "```"
   ]
  },
  {
   "cell_type": "markdown",
   "metadata": {},
   "source": [
    "```BASH\n",
    "tree /ssd/postgresql/data\n",
    "```"
   ]
  }
 ],
 "metadata": {
  "kernelspec": {
   "display_name": "Bash",
   "language": "bash",
   "name": "bash"
  },
  "language_info": {
   "codemirror_mode": {
    "name": "ipython",
    "version": 3
   },
   "file_extension": ".py",
   "mimetype": "text/x-python",
   "name": "bash",
   "nbconvert_exporter": "python",
   "pygments_lexer": "ipython3",
   "version": "3.11.6"
  }
 },
 "nbformat": 4,
 "nbformat_minor": 4
}
