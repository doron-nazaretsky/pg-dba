{
 "cells": [
  {
   "cell_type": "markdown",
   "metadata": {},
   "source": [
    "# Parallel Workers"
   ]
  },
  {
   "cell_type": "markdown",
   "metadata": {},
   "source": [
    "## Description"
   ]
  },
  {
   "cell_type": "markdown",
   "metadata": {},
   "source": [
    "The PostgreSQL parallel worker processes are a specialized type of processes that enables the execution of queries in parallel, significantly improving performance for large and complex operations.\n",
    "\n",
    "They use a different memory system to communicate more efficiently since their communication is much more frequent and have a larger volume.\n",
    "\n",
    "By distributing the workload across multiple CPU cores, parallel workers expedite tasks such as table scans, joins, and aggregations. "
   ]
  },
  {
   "cell_type": "markdown",
   "metadata": {},
   "source": [
    "## Visualization"
   ]
  },
  {
   "cell_type": "markdown",
   "metadata": {},
   "source": [
    "If a user named `fred` connected to a database named `salesdb` and ran a query that the optimizer has decided to use parallelism for, the processes could look like the following:\n",
    "\n",
    "<img src=\"./helpers/parallel-workers.png\" alt=\"drawing\" width=\"800\"/>"
   ]
  }
 ],
 "metadata": {
  "kernelspec": {
   "display_name": "Python 3 (ipykernel)",
   "language": "python",
   "name": "python3"
  },
  "language_info": {
   "codemirror_mode": {
    "name": "ipython",
    "version": 3
   },
   "file_extension": ".py",
   "mimetype": "text/x-python",
   "name": "python",
   "nbconvert_exporter": "python",
   "pygments_lexer": "ipython3",
   "version": "3.11.6"
  }
 },
 "nbformat": 4,
 "nbformat_minor": 4
}
