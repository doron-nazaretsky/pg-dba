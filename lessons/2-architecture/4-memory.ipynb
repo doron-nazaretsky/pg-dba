{
 "cells": [
  {
   "cell_type": "markdown",
   "metadata": {},
   "source": [
    "#### General\n",
    "Memory architecture in PostgreSQL can be classified into two broad categories:\n",
    "- Local memory area – allocated by each backend process for its own use.\n",
    "- Shared memory area – used by all processes of a PostgreSQL server."
   ]
  },
  {
   "cell_type": "markdown",
   "metadata": {},
   "source": [
    "<img src=\"./helpers/memory.png\" alt=\"drawing\" width=\"700\"/>"
   ]
  },
  {
   "cell_type": "markdown",
   "metadata": {},
   "source": [
    "#### Local Memory Area\n",
    "Each backend process allocates a local memory area for query processing. The area is divided into several sub-areas, whose sizes are either fixed or variable.\n",
    "\n",
    "sub-area                |   description\n",
    "---------               |   -----------\n",
    "work_mem                |   The executor uses this area for sorting tuples by ORDER BY and DISTINCT operations, and for joining tables by merge-join and hash-join operations.\n",
    "maintenance_work_mem    |   Some kinds of maintenance operations (e.g., VACUUM, REINDEX) use this area.\n",
    "temp_buffers            |   The executor uses this area for storing temporary tables.\t"
   ]
  },
  {
   "cell_type": "markdown",
   "metadata": {},
   "source": [
    "#### Shared Memory\n",
    "A shared memory area is allocated by a PostgreSQL server when it starts up. This area is also divided into several fixed-sized sub-areas.\n",
    "\n",
    "sub-area                |   description\n",
    "---------               |   -----------\n",
    "shared buffer pool      |   PostgreSQL loads pages within tables and indexes from a persistent storage to this area, and operates them directly.\n",
    "WAL buffer              |   To ensure that no data has been lost by server failures, PostgreSQL supports the WAL mechanism. WAL data (also referred to as XLOG records) are the transaction log in PostgreSQL. The WAL buffer is a buffering area of the WAL data before writing to a persistent storage.\n",
    "commit log              |   The commit log (CLOG) keeps the states of all transactions (e.g., in_progress, committed, aborted) for the concurrency control (CC) mechanism.\n",
    "\n",
    "\n",
    "In addition to the shared buffer pool, WAL buffer, and commit log, PostgreSQL allocates several other areas, as shown below:\n",
    "\n",
    "- Sub-areas for the various access control mechanisms. (e.g., semaphores, lightweight locks, shared and exclusive locks, etc)\n",
    "- Sub-areas for the various background processes, such as the checkpointer and autovacuum.\n",
    "- Sub-areas for transaction processing, such as savepoints and two-phase commit.\n",
    "and others."
   ]
  },
  {
   "cell_type": "code",
   "execution_count": null,
   "metadata": {
    "vscode": {
     "languageId": "bash"
    }
   },
   "outputs": [],
   "source": [
    "# TODO - Make code examples\n"
   ]
  }
 ],
 "metadata": {
  "language_info": {
   "name": "python"
  }
 },
 "nbformat": 4,
 "nbformat_minor": 2
}
