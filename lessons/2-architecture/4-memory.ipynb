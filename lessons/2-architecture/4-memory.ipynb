{
 "cells": [
  {
   "cell_type": "markdown",
   "metadata": {},
   "source": [
    "#### General\n",
    "Memory architecture in PostgreSQL can be classified into two broad categories:\n",
    "- Local memory area – allocated by each backend process for its own use.\n",
    "- Shared memory area – used by all processes of a PostgreSQL server."
   ]
  },
  {
   "cell_type": "markdown",
   "metadata": {},
   "source": [
    "<img src=\"./helpers/memory.png\" alt=\"drawing\" width=\"700\"/>"
   ]
  },
  {
   "cell_type": "markdown",
   "metadata": {},
   "source": [
    "#### Local Memory Area\n",
    "Each backend process allocates a local memory area for query processing. The area is divided into several sub-areas, whose sizes are either fixed or variable.\n",
    "\n",
    "sub-area                |   description\n",
    "---------               |   -----------\n",
    "work_mem                |   The executor uses this area for sorting tuples by ORDER BY and DISTINCT operations, and for joining tables by merge-join and hash-join operations.\n",
    "maintenance_work_mem    |   Some kinds of maintenance operations (e.g., VACUUM, REINDEX) use this area.\n",
    "temp_buffers            |   The executor uses this area for storing temporary tables.\t"
   ]
  },
  {
   "cell_type": "markdown",
   "metadata": {},
   "source": [
    "#### Shared Memory\n",
    "A shared memory area is allocated by a PostgreSQL server when it starts up. This area is also divided into several fixed-sized sub-areas.\n",
    "\n",
    "sub-area                |   description\n",
    "---------               |   -----------\n",
    "shared buffer pool      |   PostgreSQL loads pages within tables and indexes from a persistent storage to this area, and operates them directly.\n",
    "WAL buffer              |   To ensure that no data has been lost by server failures, PostgreSQL supports the WAL mechanism. WAL data (also referred to as XLOG records) are the transaction log in PostgreSQL. The WAL buffer is a buffering area of the WAL data before writing to a persistent storage.\n",
    "commit log              |   The commit log (CLOG) keeps the states of all transactions (e.g., in_progress, committed, aborted) for the concurrency control (CC) mechanism.\n",
    "\n",
    "\n",
    "In addition to the shared buffer pool, WAL buffer, and commit log, PostgreSQL allocates several other areas, as shown below:\n",
    "\n",
    "- Sub-areas for the various access control mechanisms. (e.g., semaphores, lightweight locks, shared and exclusive locks, etc)\n",
    "- Sub-areas for the various background processes, such as the checkpointer and autovacuum.\n",
    "- Sub-areas for transaction processing, such as savepoints and two-phase commit.\n",
    "and others."
   ]
  },
  {
   "cell_type": "markdown",
   "metadata": {},
   "source": [
    "#### Using pg_buffercache for memory analysis"
   ]
  },
  {
   "cell_type": "code",
   "execution_count": null,
   "metadata": {
    "vscode": {
     "languageId": "bash"
    }
   },
   "outputs": [],
   "source": [
    "export PGHOST=db\n",
    "export PGUSER=postgres\n",
    "export PGDATABASE=postgres"
   ]
  },
  {
   "cell_type": "code",
   "execution_count": null,
   "metadata": {
    "vscode": {
     "languageId": "bash"
    }
   },
   "outputs": [],
   "source": [
    "psql -c \"create extension pg_buffercache;\""
   ]
  },
  {
   "cell_type": "markdown",
   "metadata": {},
   "source": [
    "##### View pg_buffercache\n",
    "- One row per buffer\n",
    "- Unused are shown with NULL on all fields except bufferid\n",
    "- Shared system catalog shown as belonging to DB zero\n",
    "- Using 128MB (default) of shared_buffers with 8kB of block size, there are 16,384 buffers, so pg_buffercache has the same number of 16,384 rows.\n"
   ]
  },
  {
   "cell_type": "code",
   "execution_count": null,
   "metadata": {
    "vscode": {
     "languageId": "bash"
    }
   },
   "outputs": [],
   "source": [
    "# Inspect it\n",
    "psql -c \"\\d pg_buffercache;\""
   ]
  },
  {
   "cell_type": "markdown",
   "metadata": {},
   "source": [
    "##### Summary with pg_buffercache_summary"
   ]
  },
  {
   "cell_type": "code",
   "execution_count": null,
   "metadata": {
    "vscode": {
     "languageId": "bash"
    }
   },
   "outputs": [],
   "source": [
    "psql -c \"\\df pg_buffercache_summary;\"\n",
    "psql -c \"SELECT pg_buffercache_summary();\""
   ]
  },
  {
   "cell_type": "markdown",
   "metadata": {},
   "source": [
    "##### Usage count with pg_buffercache_usage_counts"
   ]
  },
  {
   "cell_type": "code",
   "execution_count": null,
   "metadata": {
    "vscode": {
     "languageId": "bash"
    }
   },
   "outputs": [],
   "source": [
    "psql -c \"\\df pg_buffercache_usage_counts;\"\n",
    "psql -c \"SELECT pg_buffercache_usage_counts();\""
   ]
  },
  {
   "cell_type": "markdown",
   "metadata": {},
   "source": [
    "##### Some complex queries for cache analysis"
   ]
  },
  {
   "cell_type": "code",
   "execution_count": null,
   "metadata": {
    "vscode": {
     "languageId": "bash"
    }
   },
   "outputs": [],
   "source": [
    "# Get buffer count per relation\n",
    "psql << EOM\n",
    "    SELECT n.nspname, c.relname, count(*) AS buffers\n",
    "    FROM \n",
    "        pg_buffercache b JOIN pg_class c \n",
    "            ON b.relfilenode = pg_relation_filenode(c.oid) AND b.reldatabase IN (0, (SELECT oid FROM pg_database WHERE datname = current_database()))\n",
    "        JOIN pg_namespace n ON n.oid = c.relnamespace\n",
    "    GROUP BY n.nspname, c.relname\n",
    "    ORDER BY 3 DESC\n",
    "    LIMIT 10;\n",
    "EOM"
   ]
  },
  {
   "cell_type": "code",
   "execution_count": null,
   "metadata": {
    "vscode": {
     "languageId": "bash"
    }
   },
   "outputs": [],
   "source": [
    "# Get shared memory cache usage by database\n",
    "psql << EOM\n",
    "WITH empty_handled AS (\n",
    "    SELECT \n",
    "        CASE \n",
    "            WHEN c.reldatabase IS NULL THEN 'Unused'\n",
    "            WHEN c.reldatabase = 0 THEN 'System Catalog'\n",
    "            ELSE d.datname\n",
    "        END AS database\n",
    "    FROM \n",
    "        pg_buffercache AS c LEFT JOIN pg_database AS d ON c.reldatabase = d.oid\n",
    ")\n",
    "    SELECT\n",
    "        database,\n",
    "        count(*) AS cached_blocks\n",
    "    FROM \n",
    "        empty_handled\n",
    "    GROUP BY database\n",
    "    ORDER BY database;\n",
    "\n",
    "    SELECT COUNT(*) AS total_chached_blocks FROM pg_buffercache;\n",
    "EOM"
   ]
  },
  {
   "cell_type": "markdown",
   "metadata": {},
   "source": [
    "#### Shared memory techniques\n",
    "- MMAP: Anonymous Memory Mapped Files\n",
    "- Posix Shared Memory: Shared memory in file style done with temp file system on /dev/shm\n",
    "- System V shared memory: Shared memory in actual file mapping"
   ]
  }
 ],
 "metadata": {
  "language_info": {
   "name": "python"
  }
 },
 "nbformat": 4,
 "nbformat_minor": 2
}
