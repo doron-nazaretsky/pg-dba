{
 "cells": [
  {
   "cell_type": "markdown",
   "metadata": {},
   "source": [
    "#### Logical Structure\n",
    "- Instance: A group of backend and auxiliary processes that communicate using a common shared memory area. One postmaster process manages the instance; one instance manages exactly one database cluster with all its databases. Many instances can run on the same server as long as their TCP ports do not conflict.\n",
    "- (Database) Cluster: A collection of databases and global SQL objects, and their common static and dynamic metadata.\n",
    "\n",
    "![LogicalStructure](./helpers/logical-structure.png)\n",
    "\n",
    "#### Hierarchy\n",
    "##### Main\n",
    "- Cluster\n",
    "- Database\n",
    "- Schema (namesapce) - not always\n",
    "- Object\n",
    "\n",
    "##### Detailed\n",
    "![DetailedHierarchy](./helpers/objects_hierarchy.svg)\n"
   ]
  }
 ],
 "metadata": {
  "language_info": {
   "name": "python"
  }
 },
 "nbformat": 4,
 "nbformat_minor": 2
}
