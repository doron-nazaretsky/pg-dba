{
 "cells": [
  {
   "cell_type": "markdown",
   "metadata": {},
   "source": [
    "#### Logical Structure\n",
    "- Instance: A group of backend and auxiliary processes that communicate using a common shared memory area. One postmaster process manages the instance; one instance manages exactly one database cluster with all its databases. Many instances can run on the same server as long as their TCP ports do not conflict.\n",
    "- (Database) Cluster: A collection of databases and global SQL objects, and their common static and dynamic metadata.\n",
    "\n",
    "#### Hierarchy\n",
    "##### Main\n",
    "- Cluster\n",
    "- Database\n",
    "- Schema (namesapce) - not always\n",
    "- Object\n",
    "\n",
    "##### Detailed\n",
    "![DetailedHierarchy](./helpers/objects-hierarchy.svg)\n"
   ]
  }
 ],
 "metadata": {
  "kernelspec": {
   "display_name": "Python 3 (ipykernel)",
   "language": "python",
   "name": "python3"
  },
  "language_info": {
   "codemirror_mode": {
    "name": "ipython",
    "version": 3
   },
   "file_extension": ".py",
   "mimetype": "text/x-python",
   "name": "python",
   "nbconvert_exporter": "python",
   "pygments_lexer": "ipython3",
   "version": "3.11.6"
  }
 },
 "nbformat": 4,
 "nbformat_minor": 4
}
