{
 "cells": [
  {
   "cell_type": "markdown",
   "metadata": {},
   "source": [
    "# Physical Layout"
   ]
  },
  {
   "cell_type": "markdown",
   "metadata": {},
   "source": [
    "## PGDATA"
   ]
  },
  {
   "cell_type": "markdown",
   "metadata": {},
   "source": [
    "### Description"
   ]
  },
  {
   "cell_type": "markdown",
   "metadata": {},
   "source": [
    "All the data needed for a database cluster is stored within the cluster's data directory, commonly referred to as `PGDATA` (after the name of the environment variable that can be used to define it).\n",
    "\n",
    "A common location for `PGDATA` is /var/lib/pgsql/data. \n",
    "\n",
    "Multiple clusters, managed by different server instances, can exist on the same machine (debian supports built in tools for multi instance management on the same machine)."
   ]
  },
  {
   "cell_type": "markdown",
   "metadata": {},
   "source": [
    "### Contents"
   ]
  },
  {
   "cell_type": "markdown",
   "metadata": {},
   "source": [
    "Item\t                |   Description\n",
    "------------------      |   ------------\n",
    "PG_VERSION\t            |    A file containing the major version number of PostgreSQL\n",
    "base\t                |    Subdirectory containing per-database subdirectories\n",
    "global\t                |    Subdirectory containing cluster-wide tables, such as pg_database\n",
    "pg_tblspc\t            |    Subdirectory containing symbolic links to tablespaces\n",
    "pg_wal\t                |    Subdirectory containing WAL (Write Ahead Log) files\n",
    "pg_xact\t                |    Subdirectory containing transaction commit status data\n",
    "pg_commit_ts\t        |    Subdirectory containing transaction commit timestamp data\n",
    "pg_stat\t                |    Subdirectory containing permanent files for the statistics subsystem\n",
    "pg_stat_tmp\t            |    Subdirectory containing temporary files for the statistics subsystem\n",
    "pg_dynshmem\t            |    Subdirectory containing files used by the dynamic shared memory subsystem\n",
    "current_logfiles\t    |    File recording the log file(s) currently written to by the logging collector\n",
    "pg_subtrans\t            |    Subdirectory containing subtransaction status data\n",
    "pg_logical\t            |    Subdirectory containing status data for logical decoding\n",
    "pg_multixact\t        |    Subdirectory containing multitransaction status data (used for shared row locks)\n",
    "pg_notify\t            |    Subdirectory containing LISTEN/NOTIFY status data\n",
    "pg_replslot\t            |    Subdirectory containing replication slot data\n",
    "pg_serial\t            |    Subdirectory containing information about committed serializable transactions\n",
    "pg_snapshots\t        |    Subdirectory containing exported snapshots\n",
    "pg_twophase\t            |    Subdirectory containing state files for prepared transactions\n",
    "postgresql.auto.conf    |    A file used for storing configuration parameters that are set by ALTER SYSTEM\n",
    "postmaster.opts\t        |    A file recording the command-line options the server was last started with\n",
    "postmaster.pid\t        |    A lock file recording the current postmaster process ID (PID), cluster data directory path, postmaster start timestamp, port number, Unix-domain socket directory path (could be empty), first valid listen_address (IP address or *, or empty if not listening on TCP), and shared memory segment ID (this file is not present after server shutdown)"
   ]
  },
  {
   "cell_type": "markdown",
   "metadata": {},
   "source": [
    "### Visualization"
   ]
  },
  {
   "cell_type": "markdown",
   "metadata": {},
   "source": [
    "<img src=\"./helpers/directories-detailed.jpeg\" alt=\"drawing\"/>"
   ]
  }
 ],
 "metadata": {
  "kernelspec": {
   "display_name": "Bash",
   "language": "bash",
   "name": "bash"
  },
  "language_info": {
   "codemirror_mode": {
    "name": "ipython",
    "version": 3
   },
   "file_extension": ".py",
   "mimetype": "text/x-python",
   "name": "bash",
   "nbconvert_exporter": "python",
   "pygments_lexer": "ipython3",
   "version": "3.11.6"
  }
 },
 "nbformat": 4,
 "nbformat_minor": 4
}
