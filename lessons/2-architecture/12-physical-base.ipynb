{
 "cells": [
  {
   "cell_type": "markdown",
   "metadata": {},
   "source": [
    "# Base Directory"
   ]
  },
  {
   "cell_type": "markdown",
   "metadata": {},
   "source": [
    "For each database in the cluster there is a subdirectory within `PGDATA/base`, named after the database's `OID` in pg_database. \n",
    "\n",
    "This subdirectory is the default location for the database's files. In particular, its dedicated system catalogs are stored there."
   ]
  },
  {
   "cell_type": "markdown",
   "metadata": {},
   "source": [
    "## Relation Forks"
   ]
  },
  {
   "cell_type": "markdown",
   "metadata": {},
   "source": [
    "### Description"
   ]
  },
  {
   "cell_type": "markdown",
   "metadata": {},
   "source": [
    "Each table and index is stored in forks (files), named after the table or index's `filenode number` (which sometimes will be the same as the OID of the relation but can be changed over time)\n",
    "\n",
    "The `filenode number` can be found in `pg_class.relfilenode`."
   ]
  },
  {
   "cell_type": "markdown",
   "metadata": {},
   "source": [
    "### Structure"
   ]
  },
  {
   "cell_type": "markdown",
   "metadata": {},
   "source": [
    "Elements:\n",
    "- main fork (no suffix)\n",
    "- more data when reaching the limit (suffix .1, .2, ...)\n",
    "- free space map (suffix: fsm) - For heap and indexes (except hash index) keep track of available space in the relation\n",
    "- visibility map (suffix: vm) - For heap only, keep track of which pages contain only tuples that are known to be visible to all active transactions\n",
    "- initialization fork (suffix: init) - an empty table or index of the appropriate type for un-logged tables (without WAL).\n",
    "\n",
    "<img src=\"./helpers/relation-fork.png\" alt=\"drawing\" width=\"800\"/>"
   ]
  },
  {
   "cell_type": "markdown",
   "metadata": {},
   "source": [
    "## Hands On"
   ]
  },
  {
   "cell_type": "markdown",
   "metadata": {},
   "source": [
    "```SQL\n",
    "DROP TABLE IF EXISTS my_table;\n",
    "CREATE TABLE my_table(\n",
    "    ID INT,\n",
    "    NAME VARCHAR(20)\n",
    ");\n",
    "\n",
    "INSERT INTO my_table VALUES (1,'2pac');\n",
    "\n",
    "SELECT\n",
    "    oid\n",
    "    ,relname\n",
    "    ,relfilenode\n",
    "FROM pg_class\n",
    "WHERE relname = 'my_table';\n",
    "\n",
    "VACUUM my_table;\n",
    "```"
   ]
  },
  {
   "cell_type": "markdown",
   "metadata": {},
   "source": [
    "```SQL\n",
    "SELECT pg_relation_filepath('my_table');\n",
    "```"
   ]
  },
  {
   "cell_type": "markdown",
   "metadata": {},
   "source": [
    "```BASH\n",
    "# Look for my_table table physical layout\n",
    "FULL_RELATION_FILE_NODE=$(psql -A -t -c \"SELECT pg_relation_filepath('my_table');\")\n",
    "DATABASE_FILE_NODE=$(echo $FULL_RELATION_FILE_NODE | awk -F \"/\" '{print $2}')\n",
    "RELATION_FILE_NODE=$(echo $FULL_RELATION_FILE_NODE | awk -F \"/\" '{print $3}')\n",
    "ls $PGDATA/base/$DATABASE_FILE_NODE | grep $RELATION_FILE_NODE\n",
    "```"
   ]
  },
  {
   "cell_type": "markdown",
   "metadata": {},
   "source": [
    "```SQL\n",
    "SELECT pg_relation_filepath('my_table');\n",
    "TRUNCATE my_table;\n",
    "SELECT pg_relation_filepath('my_table'); -- New file node\n",
    "```"
   ]
  }
 ],
 "metadata": {
  "kernelspec": {
   "display_name": "Bash",
   "language": "bash",
   "name": "bash"
  },
  "language_info": {
   "codemirror_mode": {
    "name": "ipython",
    "version": 3
   },
   "file_extension": ".py",
   "mimetype": "text/x-python",
   "name": "bash",
   "nbconvert_exporter": "python",
   "pygments_lexer": "ipython3",
   "version": "3.11.6"
  }
 },
 "nbformat": 4,
 "nbformat_minor": 4
}
