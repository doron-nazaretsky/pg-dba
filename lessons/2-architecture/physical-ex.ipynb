{
 "cells": [
  {
   "cell_type": "markdown",
   "metadata": {},
   "source": [
    "#### General\n",
    "1. Go to the PGDATA directory\n",
    "1. Explore the sub directories we talked about\n",
    "\n",
    "#### Tablespaces\n",
    "1. Create a new tablespace\n",
    "1. Find it's representation in the file system\n",
    "1. Create 3 new tables in your new tablespace\n",
    "1. Write a query that finds all the relations in your new tablespace\n",
    "\n",
    "#### FSM and forks\n",
    "1. Create a table\n",
    "1. Check it's FSM statistics\n",
    "1. Find it's file system representation\n",
    "1. Insert some rows and check for difference in the FSM\n",
    "1. Calculate how much storage every row is taking \n",
    "1. Insert enough rows to make postgres create another fork file"
   ]
  }
 ],
 "metadata": {
  "language_info": {
   "name": "python"
  }
 },
 "nbformat": 4,
 "nbformat_minor": 2
}
