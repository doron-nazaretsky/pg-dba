{
 "cells": [
  {
   "cell_type": "markdown",
   "metadata": {},
   "source": [
    "# Memory"
   ]
  },
  {
   "cell_type": "markdown",
   "metadata": {},
   "source": [
    "Memory architecture in PostgreSQL can be classified into two broad categories:\n",
    "- Local memory area – allocated by each backend process for its own use.\n",
    "- Shared memory area – used by all processes of a PostgreSQL server."
   ]
  },
  {
   "cell_type": "markdown",
   "metadata": {},
   "source": [
    "<img src=\"./helpers/memory.png\" alt=\"drawing\" width=\"700\"/>"
   ]
  },
  {
   "cell_type": "markdown",
   "metadata": {},
   "source": [
    "## Shared memory techniques"
   ]
  },
  {
   "cell_type": "markdown",
   "metadata": {},
   "source": [
    "Postgres can use various shared memory techniques to achieve it's communication and caching goals:\n",
    "- MMAP: Anonymous Memory Mapped Files\n",
    "- Posix Shared Memory: Shared memory in file style done with temp file system on /dev/shm\n",
    "- System V shared memory: Shared memory in actual file mapping"
   ]
  }
 ],
 "metadata": {
  "language_info": {
   "name": "python"
  }
 },
 "nbformat": 4,
 "nbformat_minor": 2
}
