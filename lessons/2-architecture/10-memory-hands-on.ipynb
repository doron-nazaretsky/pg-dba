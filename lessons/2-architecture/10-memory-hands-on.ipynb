{
 "cells": [
  {
   "cell_type": "markdown",
   "metadata": {},
   "source": [
    "# Hands On"
   ]
  },
  {
   "cell_type": "markdown",
   "metadata": {},
   "source": [
    "## Prepare ENV"
   ]
  },
  {
   "cell_type": "markdown",
   "metadata": {},
   "source": [
    "```SQL\n",
    "CREATE EXTENSION pg_buffercache;\n",
    "```"
   ]
  },
  {
   "cell_type": "markdown",
   "metadata": {},
   "source": [
    "## PG_BUFFERCACHE Extension"
   ]
  },
  {
   "cell_type": "markdown",
   "metadata": {},
   "source": [
    "### pg_buffercache View"
   ]
  },
  {
   "cell_type": "markdown",
   "metadata": {},
   "source": [
    "- One row per buffer\n",
    "- Unused are shown with NULL on all fields except bufferid\n",
    "- Shared system catalog shown as belonging to DB zero\n",
    "- Using 128MB (default) of shared_buffers with 8kB of block size, there are 16,384 buffers, so pg_buffercache has the same number of 16,384 rows."
   ]
  },
  {
   "cell_type": "markdown",
   "metadata": {},
   "source": [
    "```SQL\n",
    "SELECT * FROM pg_buffercache;\"\n",
    "```"
   ]
  },
  {
   "cell_type": "markdown",
   "metadata": {},
   "source": [
    "### Summary with pg_buffercache_summary"
   ]
  },
  {
   "cell_type": "markdown",
   "metadata": {},
   "source": [
    "```SQL\n",
    "SELECT pg_buffercache_summary();\n",
    "```"
   ]
  },
  {
   "cell_type": "markdown",
   "metadata": {},
   "source": [
    "### Usage count with pg_buffercache_usage_counts"
   ]
  },
  {
   "cell_type": "markdown",
   "metadata": {},
   "source": [
    "```SQL\n",
    "SELECT pg_buffercache_usage_counts();\n",
    "```"
   ]
  },
  {
   "cell_type": "markdown",
   "metadata": {},
   "source": [
    "## Cache Analysis Use Cases"
   ]
  },
  {
   "cell_type": "markdown",
   "metadata": {},
   "source": [
    "```SQL\n",
    "-- Get buffer count per relation\n",
    "SELECT n.nspname, c.relname, count(*) AS buffers\n",
    "FROM \n",
    "    pg_buffercache b JOIN pg_class c \n",
    "        ON b.relfilenode = pg_relation_filenode(c.oid) AND b.reldatabase IN (0, (SELECT oid FROM pg_database WHERE datname = current_database()))\n",
    "    JOIN pg_namespace n ON n.oid = c.relnamespace\n",
    "GROUP BY n.nspname, c.relname\n",
    "ORDER BY 3 DESC\n",
    "LIMIT 10;\n",
    "```"
   ]
  },
  {
   "cell_type": "markdown",
   "metadata": {},
   "source": [
    "```SQL\n",
    "-- Get shared memory cache usage by database\n",
    "WITH empty_handled AS (\n",
    "    SELECT \n",
    "        CASE \n",
    "            WHEN c.reldatabase IS NULL THEN 'Unused'\n",
    "            WHEN c.reldatabase = 0 THEN 'System Catalog'\n",
    "            ELSE d.datname\n",
    "        END AS database\n",
    "    FROM \n",
    "        pg_buffercache AS c LEFT JOIN pg_database AS d ON c.reldatabase = d.oid\n",
    ")\n",
    "\n",
    "SELECT\n",
    "    database,\n",
    "    count(*) AS cached_blocks\n",
    "FROM \n",
    "    empty_handled\n",
    "GROUP BY database\n",
    "ORDER BY database;\n",
    "\n",
    "SELECT COUNT(*) AS total_chached_blocks FROM pg_buffercache;\n",
    "```"
   ]
  }
 ],
 "metadata": {
  "language_info": {
   "name": "python"
  }
 },
 "nbformat": 4,
 "nbformat_minor": 2
}
