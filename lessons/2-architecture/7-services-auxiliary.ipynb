{
 "cells": [
  {
   "cell_type": "markdown",
   "metadata": {},
   "source": [
    "# Auxiliary Processes"
   ]
  },
  {
   "cell_type": "markdown",
   "metadata": {},
   "source": [
    "## Overview"
   ]
  },
  {
   "cell_type": "markdown",
   "metadata": {},
   "source": [
    "The PostgreSQL auxiliary processes are essential background processes that support the database's core functionality and maintenance tasks. \n",
    "\n",
    "Those include:\n",
    "- Autovacuum launcher - Launches autovacuum workers to perform vacuum and analyze operations \n",
    "- Background writer - In charge of writing from shared memory to disk when it's time to free space in the shared memory\n",
    "- Checkpointer - Flushes dirty pages to disk to recycle the WAL buffer and ensure durability (not made for performance reasons)\n",
    "- Logger - Logs stuff\n",
    "- Startup process - Startup following a crash\n",
    "- WAL archiver - Creates copies of WAL files on disk\n",
    "- WAL receiver - Runs on a replica and receives WAL from the primary server\n",
    "- WAL writer - Flushes dirty WAL"
   ]
  }
 ],
 "metadata": {
  "kernelspec": {
   "display_name": "Python 3 (ipykernel)",
   "language": "python",
   "name": "python3"
  },
  "language_info": {
   "codemirror_mode": {
    "name": "ipython",
    "version": 3
   },
   "file_extension": ".py",
   "mimetype": "text/x-python",
   "name": "python",
   "nbconvert_exporter": "python",
   "pygments_lexer": "ipython3",
   "version": "3.11.6"
  }
 },
 "nbformat": 4,
 "nbformat_minor": 4
}
