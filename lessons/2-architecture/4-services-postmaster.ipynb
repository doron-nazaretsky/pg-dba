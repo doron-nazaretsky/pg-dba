{
 "cells": [
  {
   "cell_type": "markdown",
   "metadata": {},
   "source": [
    "# Postmaster (Postgres)"
   ]
  },
  {
   "cell_type": "markdown",
   "metadata": {},
   "source": [
    "## Description"
   ]
  },
  {
   "cell_type": "markdown",
   "metadata": {},
   "source": [
    "The PostgreSQL postmaster process is the central control daemon process responsible for managing the PostgreSQL server and listening on the specified network port.\n",
    "\n",
    "It handles:\n",
    "- Client connection requests and authentication\n",
    "- Spins up backends for every connection (even unsuccessful ones)\n",
    "- Creates the memory context mechanism - memory recursive data structure to avoid leaks\n",
    "- Responsible for inter-process communication\n",
    "- Creates the shared memory\n",
    "- Spins up other backend processes (Background, Auxiliary)"
   ]
  },
  {
   "cell_type": "markdown",
   "metadata": {},
   "source": [
    "## Hands On"
   ]
  },
  {
   "cell_type": "markdown",
   "metadata": {},
   "source": [
    "```{note}\n",
    "As you can see all the postgres related processes are forked from the postmaster process\n",
    "```"
   ]
  },
  {
   "cell_type": "markdown",
   "metadata": {},
   "source": [
    "```BASH\n",
    "# All postgres related processes\n",
    "ps -AHf | grep postgres\n",
    "\n",
    "# The postmaster process PID represents the instance\n",
    "su postgres -c \"pg_ctl status\"\n",
    "```"
   ]
  }
 ],
 "metadata": {
  "kernelspec": {
   "display_name": "Python 3 (ipykernel)",
   "language": "python",
   "name": "python3"
  },
  "language_info": {
   "codemirror_mode": {
    "name": "ipython",
    "version": 3
   },
   "file_extension": ".py",
   "mimetype": "text/x-python",
   "name": "python",
   "nbconvert_exporter": "python",
   "pygments_lexer": "ipython3",
   "version": "3.11.6"
  }
 },
 "nbformat": 4,
 "nbformat_minor": 4
}
