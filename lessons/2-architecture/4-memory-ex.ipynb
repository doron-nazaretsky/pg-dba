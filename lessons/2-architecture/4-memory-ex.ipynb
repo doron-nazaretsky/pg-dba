{
 "cells": [
  {
   "cell_type": "markdown",
   "metadata": {},
   "source": [
    "1. Create a new table with an ID and some columns\n",
    "1. Insert into it some rows\n",
    "1. Check how much rows are buffered first\n",
    "1. Select from this table\n",
    "1. Check how much rows are buffered now\n",
    "1. Create a table that will take over the buffer, how much rows should it contain?\n",
    "1. Select from the table and check that other relations have lost their buffers"
   ]
  }
 ],
 "metadata": {
  "language_info": {
   "name": "python"
  }
 },
 "nbformat": 4,
 "nbformat_minor": 2
}
