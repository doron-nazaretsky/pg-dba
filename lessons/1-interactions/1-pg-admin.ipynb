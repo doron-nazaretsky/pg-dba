{
 "cells": [
  {
   "cell_type": "markdown",
   "metadata": {},
   "source": [
    "### UI\n",
    "- **Menus and toolbars**\n",
    "- **Object explorer**\n",
    "- **Right Panel**\n",
    "    1. Dashboard\n",
    "    1. Properties\n",
    "    1. SQL\n",
    "    1. Statistics\n",
    "    1. Dependencies\n",
    "    1. Dependents\n",
    "    1. Processes\n",
    "- **Query tool**\n",
    "    1. Auto complete\n",
    "    1. Data output\n",
    "    1. Scratch pad\n",
    "    1. Explain\n",
    "    1. Notifications \n",
    "        - LISTEN\n",
    "        - NOTIFY\n",
    "    1. Macros (with selection)\n",
    "    1. Execute options\n",
    "        - Auto commit\n",
    "        - Explain (with options)\n",
    "    1. View / Filter\n",
    "- **Files**\n",
    "    1. Export data\n",
    "    1. Import data\n",
    "    1. Create backup\n",
    "    1. Restore backup\n",
    "- **PG Tools**\n",
    "    1. Schema DIFF\n",
    "    1. ERD tool\n",
    "\n"
   ]
  }
 ],
 "metadata": {
  "kernelspec": {
   "display_name": "Python 3 (ipykernel)",
   "language": "python",
   "name": "python3"
  },
  "language_info": {
   "codemirror_mode": {
    "name": "ipython",
    "version": 3
   },
   "file_extension": ".py",
   "mimetype": "text/x-python",
   "name": "python",
   "nbconvert_exporter": "python",
   "pygments_lexer": "ipython3",
   "version": "3.11.6"
  }
 },
 "nbformat": 4,
 "nbformat_minor": 4
}
