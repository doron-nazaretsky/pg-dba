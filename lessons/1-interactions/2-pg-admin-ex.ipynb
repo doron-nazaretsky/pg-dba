{
 "cells": [
  {
   "cell_type": "markdown",
   "metadata": {},
   "source": [
    "1. Create 3 different sessions\n",
    "1. Terminate them\n",
    "1. Create objects through the UI\n",
    "    - New DB called dba-course with the UI\n",
    "    - Table named `courses` with columns: `id`, `name`, `length_in_months`, `start_date`, `end_date`\n",
    "    - Table named `learners` with columns: `id`, `name`, `course_id`\n",
    "1. Add rows through the UI\n",
    "    - Some rows to table `courses`\n",
    "    - Some rows to table `learners`\n",
    "1. Get SQL\n",
    "    - Get the create script for all the objects you created (without backup/restore) and save it to a file\n",
    "    - Drop DB\n",
    "    - Create DB from scratch with the script\n",
    "1. Clear the environment - drop DB again"
   ]
  }
 ],
 "metadata": {
  "language_info": {
   "name": "python"
  }
 },
 "nbformat": 4,
 "nbformat_minor": 2
}
