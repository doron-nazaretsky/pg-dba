{
 "cells": [
  {
   "cell_type": "markdown",
   "metadata": {},
   "source": [
    "1. Create 3 different sessions (check yourself in PG Admin)\n",
    "1. Terminate them\n",
    "1. Interactive Shell\n",
    "    - Create a new DB with a script\n",
    "    - List databases\n",
    "    - Connect it with Interactive Shell\n",
    "    - Create a new DB called `db-course`\n",
    "    - Create a table named `courses` with columns: `id`, `name`, `length_in_months`, `start_date`, `end_date`\n",
    "    - Create a table named `learners` with columns: `id`, `name`, `course_id`\n",
    "    - Check for their properties\n",
    "    - Insert rows to both tables\n",
    "    - Drop new DB\n",
    "1. Scripting\n",
    "    - Create a BASH script with multi string from the SQL you generated in PG Admin exercise\n",
    "    - Run the script\n",
    "    - Make sure the objects are created as expected\n",
    "    - Drop DB\n",
    "    - Save the SQL as a file somewhere available\n",
    "    - Run the file with PSQL\n",
    "1. Looping\n",
    "    - Write a script that inserts X (customizable) amount of rows to `courses` table with the same learner name\n",
    "    - Create a table with learner names\n",
    "    - Insert 5 names there\n",
    "    - Adjust the script written previously to take the names from this table"
   ]
  }
 ],
 "metadata": {
  "language_info": {
   "name": "python"
  }
 },
 "nbformat": 4,
 "nbformat_minor": 2
}
