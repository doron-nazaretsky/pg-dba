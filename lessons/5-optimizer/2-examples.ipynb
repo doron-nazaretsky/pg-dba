{
 "cells": [
  {
   "cell_type": "markdown",
   "metadata": {},
   "source": [
    "## Generate Example"
   ]
  },
  {
   "cell_type": "code",
   "execution_count": null,
   "metadata": {
    "tags": [],
    "vscode": {
     "languageId": "bash"
    }
   },
   "outputs": [],
   "source": [
    "export PGHOST=db\n",
    "export PGUSER=postgres\n",
    "export PGDATABASE=postgres"
   ]
  },
  {
   "cell_type": "code",
   "execution_count": null,
   "metadata": {
    "vscode": {
     "languageId": "bash"
    }
   },
   "outputs": [],
   "source": [
    "psql << EOM\n",
    "    DROP TABLE IF EXISTS seq_data;\n",
    "    SELECT *\n",
    "    INTO seq_data\n",
    "    FROM generate_series(1,10000) a, generate_series(1,100) b;\n",
    "\n",
    "    DROP TABLE IF EXISTS rand_data;\n",
    "    SELECT a, floor(random() * 99)::int b\n",
    "    INTO rand_data\n",
    "    FROM generate_series(1,1000000) a;\n",
    "EOM"
   ]
  },
  {
   "cell_type": "code",
   "execution_count": null,
   "metadata": {
    "tags": [],
    "vscode": {
     "languageId": "bash"
    }
   },
   "outputs": [],
   "source": [
    "psql << EOM\n",
    "    DROP INDEX IF EXISTS idx_seq_data_a;\n",
    "    DROP INDEX IF EXISTS idx_rand_data_a;\n",
    "EOM"
   ]
  },
  {
   "cell_type": "code",
   "execution_count": null,
   "metadata": {
    "tags": [],
    "vscode": {
     "languageId": "bash"
    }
   },
   "outputs": [],
   "source": [
    "psql << EOM\n",
    "    CREATE INDEX idx_seq_data_a ON seq_data(a);\n",
    "    CREATE INDEX idx_rand_data_a ON rand_data(a);\n",
    "EOM"
   ]
  },
  {
   "cell_type": "markdown",
   "metadata": {},
   "source": [
    "## Scans"
   ]
  },
  {
   "cell_type": "markdown",
   "metadata": {},
   "source": [
    "### All"
   ]
  },
  {
   "cell_type": "code",
   "execution_count": null,
   "metadata": {
    "tags": [],
    "vscode": {
     "languageId": "bash"
    }
   },
   "outputs": [],
   "source": [
    "psql -c \"EXPLAIN SELECT * FROM seq_data;\""
   ]
  },
  {
   "cell_type": "code",
   "execution_count": null,
   "metadata": {
    "tags": [],
    "vscode": {
     "languageId": "bash"
    }
   },
   "outputs": [],
   "source": [
    "psql -c \"EXPLAIN SELECT * FROM rand_data;\""
   ]
  },
  {
   "cell_type": "markdown",
   "metadata": {},
   "source": [
    "### With Filter"
   ]
  },
  {
   "cell_type": "code",
   "execution_count": null,
   "metadata": {
    "tags": [],
    "vscode": {
     "languageId": "bash"
    }
   },
   "outputs": [],
   "source": [
    "# Added cpu_operator_cost\n",
    "psql -c \"EXPLAIN SELECT * FROM seq_data WHERE a = 200;\""
   ]
  },
  {
   "cell_type": "code",
   "execution_count": null,
   "metadata": {
    "tags": [],
    "vscode": {
     "languageId": "bash"
    }
   },
   "outputs": [],
   "source": [
    "# Added cpu_operator_cost\n",
    "psql -c \"EXPLAIN SELECT * FROM rand_data WHERE a = 200;\""
   ]
  },
  {
   "cell_type": "markdown",
   "metadata": {},
   "source": [
    "### With index and a filter"
   ]
  },
  {
   "cell_type": "code",
   "execution_count": null,
   "metadata": {
    "tags": [],
    "vscode": {
     "languageId": "bash"
    }
   },
   "outputs": [],
   "source": [
    "psql -c \"EXPLAIN SELECT * FROM seq_data WHERE a = 200;\""
   ]
  },
  {
   "cell_type": "code",
   "execution_count": null,
   "metadata": {
    "tags": [],
    "vscode": {
     "languageId": "bash"
    }
   },
   "outputs": [],
   "source": [
    "psql -c \"EXPLAIN SELECT * FROM rand_data WHERE a = 200;\""
   ]
  },
  {
   "cell_type": "markdown",
   "metadata": {},
   "source": [
    "## Joins"
   ]
  },
  {
   "cell_type": "markdown",
   "metadata": {},
   "source": [
    "### Types\n",
    "- Run with different disable options"
   ]
  },
  {
   "cell_type": "code",
   "execution_count": null,
   "metadata": {
    "tags": [],
    "vscode": {
     "languageId": "bash"
    }
   },
   "outputs": [],
   "source": [
    "# DISABLE_OTHER_JOINS=\"SET enable_hashjoin = off;SET enable_mergejoin = off;\" # Nested\n",
    "# DISABLE_OTHER_JOINS=\"SET enable_nestloop = off;SET enable_mergejoin = off;\" # Hash\n",
    "# DISABLE_OTHER_JOINS=\"SET enable_hashjoin = off;SET enable_nestloop = off;\" # Merge\n",
    "DISABLE_OTHER_JOINS=\"SET enable_hashjoin = on;SET enable_nestloop = on;SET enable_mergejoin = on;\" # Enable all"
   ]
  },
  {
   "cell_type": "markdown",
   "metadata": {
    "tags": []
   },
   "source": [
    "Run two times:\n",
    "1. Without Index\n",
    "1. With Index"
   ]
  },
  {
   "cell_type": "code",
   "execution_count": null,
   "metadata": {
    "tags": [],
    "vscode": {
     "languageId": "bash"
    }
   },
   "outputs": [],
   "source": [
    "# Get all data\n",
    "psql -c \"${DISABLE_OTHER_JOINS} EXPLAIN SELECT * FROM rand_data r JOIN seq_data s USING (a);\""
   ]
  },
  {
   "cell_type": "code",
   "execution_count": null,
   "metadata": {
    "tags": [],
    "vscode": {
     "languageId": "bash"
    }
   },
   "outputs": [],
   "source": [
    "# Get only column a\n",
    "psql -c \"${DISABLE_OTHER_JOINS} EXPLAIN SELECT r.a, s.a FROM rand_data r JOIN seq_data s USING (a);\""
   ]
  },
  {
   "cell_type": "code",
   "execution_count": null,
   "metadata": {
    "tags": [],
    "vscode": {
     "languageId": "bash"
    }
   },
   "outputs": [],
   "source": [
    "# Get only column b\n",
    "psql -c \"${DISABLE_OTHER_JOINS} EXPLAIN SELECT r.b, s.b FROM rand_data r JOIN seq_data s USING (a);\""
   ]
  }
 ],
 "metadata": {
  "kernelspec": {
   "display_name": "",
   "name": ""
  },
  "language_info": {
   "name": "python"
  }
 },
 "nbformat": 4,
 "nbformat_minor": 4
}
