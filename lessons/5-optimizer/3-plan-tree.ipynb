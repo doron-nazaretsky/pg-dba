{
 "cells": [
  {
   "cell_type": "markdown",
   "metadata": {},
   "source": [
    "### Plan Tree Creation"
   ]
  },
  {
   "cell_type": "markdown",
   "metadata": {},
   "source": [
    "#### Steps\n",
    "- Preprocessing\n",
    "- Get cheapest access path\n",
    "- Create plan tree"
   ]
  },
  {
   "cell_type": "markdown",
   "metadata": {},
   "source": [
    "#### Important Objects\n",
    "- PlannerInfo - represents a query tree, contain all the information needed to create a plan\n",
    "- Path - some access path node that represents a single operation on a relation, will be later translated to PlanNode\n",
    "- RelOptInfo - information about a relation\n",
    "- PlannedStmt - complete planning information for a single query tree\n",
    "- PlanNode - final access path picked, building block of a Plan Tree inside a PlannedStmt"
   ]
  },
  {
   "cell_type": "markdown",
   "metadata": {},
   "source": [
    "### Plan Tree For Single Table Query"
   ]
  },
  {
   "cell_type": "markdown",
   "metadata": {},
   "source": [
    "#### Preprocessing (simplifying the query)"
   ]
  },
  {
   "cell_type": "markdown",
   "metadata": {},
   "source": [
    "- Simplifying the query tree - target list (2 + 2 -> 4), clauses (aggregate, sub queries, window, and so on)\n",
    "- Normalizing boolean expressions - NOT (NOT a) = a\n",
    "- Flatten boolean expressions - from binary to n-ary \n",
    "    ```sql\n",
    "    (id = 1) OR (id = 2) OR (id = 3)\n",
    "    ```\n",
    "    <img src=\"./helpers/flatten-boolean-expressions.png\" alt=\"drawing\" width=\"900\"/>"
   ]
  },
  {
   "cell_type": "markdown",
   "metadata": {},
   "source": [
    "#### Get Cheapest Access Path"
   ]
  },
  {
   "cell_type": "markdown",
   "metadata": {},
   "source": [
    "- Create `RelOptInfo` object for the relation which contains: Restrictions (WHERE Clause) + Index List (On relation)\n",
    "- Add all possible access paths (every access path push by cost based sort to list)\n",
    "- Get cheapest access path\n",
    "- Add `LIMIT` / `ORDER BY` costs if necessary"
   ]
  },
  {
   "cell_type": "markdown",
   "metadata": {},
   "source": [
    "#### Create Plan Tree"
   ]
  },
  {
   "cell_type": "markdown",
   "metadata": {},
   "source": [
    "Creates `PlannedStmt` object that summarizes the plan and it's meta data, the main attributes are:\n",
    "- `commandType` - stores a type of operation, such as SELECT, UPDATE or INSERT\n",
    "- `rtable` - stores rangeTable entries, basically all the relations that the query is dependent on.\n",
    "- `plantree` - stores a plan tree that is composed of plan nodes, where each node corresponds to a specific operation, such as sequential scan, sort and index scan.\n",
    "\n",
    "`Plan Tree` - Composed of different `PlanNode`s that all have:\n",
    "- start-up cost and total_cost - the estimated costs of the operation corresponding to this node.\n",
    "- rows - the number of rows to be scanned, which is estimated by the planner.\n",
    "- targetlist - stores the target list items contained in the query tree.\n",
    "- qual - a list that stores qual conditions.\n",
    "- lefttree and righttree - the nodes for adding the children nodes.\n",
    "\n",
    "The root plan node is the last node to be executed."
   ]
  },
  {
   "cell_type": "markdown",
   "metadata": {},
   "source": [
    "### Plan Tree For Multi Table Query Additions"
   ]
  },
  {
   "cell_type": "markdown",
   "metadata": {},
   "source": [
    "#### Preprocessing\n",
    "- Planning and converting CTEs\n",
    "- Pulling sub queries up and try to convert to a join\n",
    "    ```sql\n",
    "    SELECT * FROM tbl_a AS a, (SELECT * FROM tbl_b) as b WHERE a.id = b.id;\n",
    "    ```\n",
    "    ↓\n",
    "    ```sql\n",
    "    SELECT * FROM tbl_a AS a, tbl_b as b WHERE a.id = b.id;\n",
    "    ```"
   ]
  },
  {
   "cell_type": "markdown",
   "metadata": {},
   "source": [
    "#### Getting The Cheapest Path"
   ]
  },
  {
   "cell_type": "markdown",
   "metadata": {},
   "source": [
    "##### Standard Way\n",
    "<img src=\"./helpers/cheapest-plan-multi-table.png\" alt=\"drawing\" width=\"900\"/>"
   ]
  },
  {
   "cell_type": "markdown",
   "metadata": {},
   "source": [
    "#### Genetic Query Planning\n",
    "As we saw while reviewing the JOIN operations, there are a lot of options to join two tables and a lot of options for access path for a relation as well.\n",
    "\n",
    "In a query that should join a lot of tables -> above `geqo_threshold` (default 12) it makes PostgreSQL to waste a lot of resources to find the cheapest plan tree.\n",
    "\n",
    "That's why genetic query planning has been introduced. It's out of the scope of this course but it using an approximate algorithm to find a reasonable plan in a reasonable time."
   ]
  }
 ],
 "metadata": {
  "language_info": {
   "name": "python"
  }
 },
 "nbformat": 4,
 "nbformat_minor": 2
}
