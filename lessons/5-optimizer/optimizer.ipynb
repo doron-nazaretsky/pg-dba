{
 "cells": [
  {
   "cell_type": "markdown",
   "metadata": {},
   "source": [
    "### Cost Analysis"
   ]
  },
  {
   "cell_type": "markdown",
   "metadata": {},
   "source": [
    "#### General"
   ]
  },
  {
   "cell_type": "markdown",
   "metadata": {},
   "source": [
    "##### Cost Types\n",
    "- The start-up cost is the cost expended before the first tuple is fetched. For example, the start-up cost of the index scan node is the cost of reading index pages to access the first tuple in the target table.\n",
    "- The run cost is the cost of fetching all tuples.\n",
    "- The total cost is the sum of the costs of both start-up and run costs."
   ]
  },
  {
   "cell_type": "markdown",
   "metadata": {},
   "source": [
    "##### Important Notes\n",
    "- PostgreSQL does not consider whether the scanned page is in the shared buffers or not"
   ]
  },
  {
   "cell_type": "markdown",
   "metadata": {},
   "source": [
    "##### Configurable Costs\n",
    "Name                    |   Description                                                     |   Default Value   |   Note\n",
    "----                    |   -----------                                                     |   -------------   |   ----\n",
    "cpu_tuple_cost          |   Processing each row                                             |   0.01            |   \n",
    "cpu_operator_cost       |   Processing each operator or function                            |   0.0025          |\n",
    "cpu_index_tuple_cost    |   Processing each index entry                                     |   0.005           |\n",
    "seq_page_cost           |   Disk page fetch that is part of a series of sequential fetches  |   1               |   Serves as the relative point for other operations, hence 1\n",
    "random_page_cost        |   Non-sequentially-fetched disk page                              |   4.0             |   Reduce relative to seq_page_cost will cause more index scans, in practice it's much slower (around x40) in flash disks but the indexes are assumed to be 90% in cache. Moreover, in SSDs the relative cost of random vs sequential is lower as well."
   ]
  },
  {
   "cell_type": "markdown",
   "metadata": {},
   "source": [
    "#### Cost Helpers and Terms\n",
    "\n",
    "- Selectivity - the proportion of the search range that satisfies the WHERE clause, it is a floating-point number from 0 to 1. (explained in detail in statistics)\n",
    "- Index Correlation - The correlation between the index physical layout order and the table physical layout order. Helps to estimate how likely we can get the right page in the table based on it's place in the index.\n",
    "\n",
    "Variables\n",
    "\n",
    "- Nind-tup - Number of index tuples\n",
    "- Nind-page - Number of index pages\n",
    "- Ntup - Number of table tuples\n",
    "- Hind - Height of index tree"
   ]
  },
  {
   "cell_type": "markdown",
   "metadata": {},
   "source": [
    "##### Create Example"
   ]
  },
  {
   "cell_type": "code",
   "execution_count": null,
   "metadata": {
    "tags": []
   },
   "outputs": [],
   "source": [
    "# Create Example\n",
    "export PGHOST=db\n",
    "export PGUSER=postgres\n",
    "export PGDATABASE=postgres\n",
    "\n",
    "psql < ./helpers/create-example.sql"
   ]
  },
  {
   "cell_type": "markdown",
   "metadata": {},
   "source": [
    "#### Sequential Scan\n"
   ]
  },
  {
   "cell_type": "markdown",
   "metadata": {},
   "source": [
    "##### Cost Calculation"
   ]
  },
  {
   "cell_type": "markdown",
   "metadata": {},
   "source": [
    "`startup_cost` = 0\n",
    "\n",
    "`run_cost` = `CPU Run Cost` + `Disk Run Cost`\n",
    "\n",
    "`CPU Run Cost` = (`cpu_tuple_cost` + `cpu_operator_cost`) * Ntup\n",
    "\n",
    "`Disk Run Cost` = `seq_page_cost` * *Npa*\n",
    "\n",
    "Variables Explained:\n",
    "\n",
    "- Ntup - Number of table tuples\n",
    "- Npa - Number of table pages"
   ]
  },
  {
   "cell_type": "markdown",
   "metadata": {},
   "source": [
    "##### Calculate"
   ]
  },
  {
   "cell_type": "code",
   "execution_count": null,
   "metadata": {
    "tags": []
   },
   "outputs": [],
   "source": [
    "##### Create Example\n",
    "psql -c \"SELECT relpages, reltuples FROM pg_class WHERE relname = 'tbl';\"\n",
    "psql -c \"EXPLAIN SELECT * FROM tbl WHERE id < 8000;\""
   ]
  },
  {
   "cell_type": "markdown",
   "metadata": {},
   "source": [
    "#### Index Scan (BTREE)"
   ]
  },
  {
   "cell_type": "markdown",
   "metadata": {},
   "source": [
    "##### Startup Cost\n",
    "*startup_cost* - The start-up cost of the index scan is the cost of reading the index pages to access the first tuple in the target table, which actually is the cost of descending through the index BTREE.\n",
    "\n",
    "`startup_cost` = (`Comparison` + `Entering Pages`) * `cpu_operator_cost`\n",
    "\n",
    "`Comparison` = ceil(log2(*Nind-tup*))\n",
    "\n",
    "`Entering Pages` = (*Hind* + `Leaf Page Enter`) * 50\n",
    "\n",
    "`Leaf Page Enter` = 1\n",
    "\n",
    "[Link to source](https://github.com/postgres/postgres/blob/a29834beb1deeb0aa06742dd77ba1d21b444ca44/src/backend/utils/adt/selfuncs.c#L5777)"
   ]
  },
  {
   "cell_type": "markdown",
   "metadata": {},
   "source": [
    "##### Run Cost\n",
    "TODO - Draw a chart from this\n",
    "\n",
    "TODO - Summarize that, what is important to remember\n",
    "\n",
    "`run_cost` = `Index CPU Cost` + `Table CPU Cost` + `Index I/O Cost` + `Table I/O Cost`\n",
    "\n",
    "`Index CPU Cost` = Selectivity * Nind-tup * (`cpu_index_tuple_cost` + 0.0025)\n",
    "\n",
    "`Table CPU Cost` = Selectivity * Ntup * `cpu_tuple_cost`\n",
    "\n",
    "`Index I/O Cost` = ceil(Selectivity * Nind-pa) * `random_page_cost`\n",
    "\n",
    "`Table I/O Cost` = `Max I/O Cost` + (IndexCorrelation)^2 * (`Min I/O Cost` - `Max I/O Cost`)\n",
    "\n",
    "`Max I/O Cost` = Npa * `random_page_cost` # Means we had to enter all the pages to find the tuples\n",
    "\n",
    "`Min I/O Cost` = (\\\n",
    "    &ensp; &ensp; &ensp; 1 * `random_page_cost` # Means we randomly chose one page\\\n",
    "    &ensp; &ensp; &ensp; + ((ceil(Selectivity * Npa))-1) * `seq_page_cost` # Others were sequentially found\\\n",
    ")"
   ]
  },
  {
   "cell_type": "markdown",
   "metadata": {},
   "source": [
    "##### Calculate"
   ]
  },
  {
   "cell_type": "code",
   "execution_count": null,
   "metadata": {},
   "outputs": [],
   "source": [
    "##### Create Example\n",
    "psql -c \"SELECT relpages, reltuples FROM pg_class WHERE relname = 'tbl_data_idx';\"\n",
    "psql -c \"EXPLAIN SELECT id, data FROM tbl WHERE data < 240;\""
   ]
  }
 ],
 "metadata": {
  "kernelspec": {
   "display_name": "Bash",
   "language": "bash",
   "name": "bash"
  },
  "language_info": {
   "codemirror_mode": "shell",
   "file_extension": ".sh",
   "mimetype": "text/x-sh",
   "name": "bash"
  }
 },
 "nbformat": 4,
 "nbformat_minor": 4
}
