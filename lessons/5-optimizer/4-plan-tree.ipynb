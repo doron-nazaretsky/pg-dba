{
 "cells": [
  {
   "cell_type": "markdown",
   "metadata": {},
   "source": [
    "### Plan Tree Creation"
   ]
  },
  {
   "cell_type": "markdown",
   "metadata": {},
   "source": [
    "#### Steps\n",
    "- Preprocessing\n",
    "- Get cheapest access path\n",
    "- Create plan tree"
   ]
  },
  {
   "cell_type": "markdown",
   "metadata": {},
   "source": [
    "#### Important Objects\n",
    "- PlannerInfo - represents a query tree, contain all the information needed to create a plan\n",
    "- Path - some access path node that represents a single operation on a relation, will be later translated to PlanNode\n",
    "- RelOptInfo - information about a relation\n",
    "- PlannedStmt - complete planning information for a single query tree\n",
    "- PlanNode - final access path picked, building block of a Plan Tree inside a PlannedStmt"
   ]
  },
  {
   "cell_type": "markdown",
   "metadata": {},
   "source": [
    "### Plan Tree For Single Table Query"
   ]
  },
  {
   "cell_type": "markdown",
   "metadata": {},
   "source": [
    "#### Preprocessing (simplifying the query)"
   ]
  },
  {
   "cell_type": "markdown",
   "metadata": {},
   "source": [
    "- Simplifying the query tree - target list (2 + 2 -> 4), clauses (aggregate, sub queries, window, and so on)\n",
    "- Normalizing boolean expressions - NOT (NOT a) = a\n",
    "- Flatten boolean expressions - from binary to n-ary \n",
    "    ```sql\n",
    "    (id = 1) OR (id = 2) OR (id = 3)\n",
    "    ```\n",
    "    <img src=\"./helpers/flatten-boolean-expressions.png\" alt=\"drawing\" width=\"900\"/>"
   ]
  },
  {
   "cell_type": "markdown",
   "metadata": {},
   "source": [
    "#### Get Cheapest Access Path"
   ]
  },
  {
   "cell_type": "markdown",
   "metadata": {},
   "source": [
    "- Create `RelOptInfo` object for the relation which contains: Restrictions (WHERE Clause) + Index List (On relation)\n",
    "- Add all possible access paths (every access path push by cost based sort to list)\n",
    "- Get cheapest access path\n",
    "- Add `LIMIT` / `ORDER BY` costs if necessary"
   ]
  },
  {
   "cell_type": "markdown",
   "metadata": {},
   "source": [
    "#### Create Plan Tree"
   ]
  },
  {
   "cell_type": "markdown",
   "metadata": {},
   "source": [
    "Creates `PlannedStmt` object that summarizes the plan and it's meta data, the main attributes are:\n",
    "- `commandType` - stores a type of operation, such as SELECT, UPDATE or INSERT\n",
    "- `rtable` - stores rangeTable entries, basically all the relations that the query is dependent on.\n",
    "- `plantree` - stores a plan tree that is composed of plan nodes, where each node corresponds to a specific operation, such as sequential scan, sort and index scan.\n",
    "\n",
    "`Plan Tree` - Composed of different `PlanNode`s that all have:\n",
    "- start-up cost and total_cost - the estimated costs of the operation corresponding to this node.\n",
    "- rows - the number of rows to be scanned, which is estimated by the planner.\n",
    "- targetlist - stores the target list items contained in the query tree.\n",
    "- qual - a list that stores qual conditions.\n",
    "- lefttree and righttree - the nodes for adding the children nodes.\n",
    "\n",
    "The root plan node is the last node to be executed."
   ]
  },
  {
   "cell_type": "markdown",
   "metadata": {},
   "source": [
    "### Plan Tree For Multi Table Query Additions"
   ]
  },
  {
   "cell_type": "markdown",
   "metadata": {},
   "source": [
    "#### Preprocessing\n",
    "- Planning and converting CTEs\n",
    "- Pulling sub queries up and try to convert to a join\n",
    "    ```sql\n",
    "    SELECT * FROM tbl_a AS a, (SELECT * FROM tbl_b) as b WHERE a.id = b.id;\n",
    "    ```\n",
    "    ↓\n",
    "    ```sql\n",
    "    SELECT * FROM tbl_a AS a, tbl_b as b WHERE a.id = b.id;\n",
    "    ```"
   ]
  },
  {
   "cell_type": "markdown",
   "metadata": {},
   "source": [
    "#### Getting The Cheapest Path"
   ]
  },
  {
   "cell_type": "markdown",
   "metadata": {},
   "source": [
    "##### Standard Way\n",
    "<img src=\"./helpers/cheapest-plan-multi-table.png\" alt=\"drawing\" width=\"900\"/>"
   ]
  },
  {
   "cell_type": "markdown",
   "metadata": {},
   "source": [
    "#### Genetic Query Planning\n",
    "As we saw while reviewing the JOIN operations, there are a lot of options to join two tables and a lot of options for access path for a relation as well.\n",
    "\n",
    "In a query that should join a lot of tables -> above `geqo_threshold` (default 12) it makes PostgreSQL to waste a lot of resources to find the cheapest plan tree.\n",
    "\n",
    "That's why genetic query planning has been introduced. It's out of the scope of this course but it using an approximate algorithm to find a reasonable plan in a reasonable time."
   ]
  },
  {
   "cell_type": "markdown",
   "metadata": {},
   "source": [
    "#### More Planing Time Optimizations"
   ]
  },
  {
   "cell_type": "markdown",
   "metadata": {},
   "source": [
    "##### Explicit Join"
   ]
  },
  {
   "cell_type": "code",
   "execution_count": null,
   "metadata": {
    "tags": [],
    "vscode": {
     "languageId": "bash"
    }
   },
   "outputs": [],
   "source": [
    "export PGHOST=db\n",
    "export PGUSER=postgres\n",
    "export PGDATABASE=postgres"
   ]
  },
  {
   "cell_type": "code",
   "execution_count": null,
   "metadata": {
    "vscode": {
     "languageId": "bash"
    }
   },
   "outputs": [],
   "source": [
    "# Unexplicit\n",
    "psql -c \"SELECT * FROM a, b, c WHERE a.id = b.id AND b.ref = c.id;\""
   ]
  },
  {
   "cell_type": "code",
   "execution_count": null,
   "metadata": {
    "vscode": {
     "languageId": "bash"
    }
   },
   "outputs": [],
   "source": [
    "# Explicit Inner\n",
    "psql -c \"SELECT * FROM a JOIN (b JOIN c ON (b.ref = c.id)) ON (a.id = b.id);\""
   ]
  },
  {
   "cell_type": "code",
   "execution_count": null,
   "metadata": {
    "vscode": {
     "languageId": "bash"
    }
   },
   "outputs": [],
   "source": [
    "# Explicit Outer\n",
    "psql -c \"SELECT * FROM a LEFT JOIN (b LEFT JOIN c ON (b.ref = c.id)) ON (a.id = b.id);\""
   ]
  },
  {
   "cell_type": "markdown",
   "metadata": {},
   "source": [
    "`join_collapse_limit` - when does the planner stop to calculate plans for join possibilities?\n",
    "Set to 1"
   ]
  },
  {
   "cell_type": "code",
   "execution_count": null,
   "metadata": {
    "tags": [],
    "vscode": {
     "languageId": "bash"
    }
   },
   "outputs": [],
   "source": [
    "TABLES_NUM=20\n",
    "GEQO_THRESHOLD=21\n",
    "psql << EOM\n",
    "    SELECT FORMAT('CREATE TABLE a%s (a INT)', id) FROM generate_series(1,${TABLES_NUM}) AS id\n",
    "    \\gexec\n",
    "EOM\n"
   ]
  },
  {
   "cell_type": "code",
   "execution_count": null,
   "metadata": {
    "tags": [],
    "vscode": {
     "languageId": "bash"
    }
   },
   "outputs": [],
   "source": [
    "# Without limit\n",
    "psql << EOM\n",
    "    SET geqo_threshold = ${GEQO_THRESHOLD};\n",
    "    SET join_collapse_limit = ${GEQO_THRESHOLD};\n",
    "    WITH cte AS (\n",
    "    SELECT\n",
    "        'EXPLAIN SELECT * FROM a1 ' stmt_start, \n",
    "        string_agg(FORMAT('JOIN a%s USING (a)', id), ' ') stmt_end\n",
    "    FROM generate_series(2,${TABLES_NUM}) AS id\n",
    "    GROUP BY 1\n",
    "    )\n",
    "    SELECT CONCAT(stmt_start, stmt_end)\n",
    "    FROM cte\n",
    "    \\gexec\n",
    "EOM"
   ]
  },
  {
   "cell_type": "code",
   "execution_count": null,
   "metadata": {
    "tags": [],
    "vscode": {
     "languageId": "bash"
    }
   },
   "outputs": [],
   "source": [
    "# With limit\n",
    "JOIN_LIMIT=1\n",
    "psql << EOM\n",
    "    SET geqo_threshold = ${GEQO_THRESHOLD};\n",
    "    SET join_collapse_limit = ${JOIN_LIMIT};\n",
    "    WITH cte AS (\n",
    "    SELECT\n",
    "        'EXPLAIN SELECT * FROM a1 ' stmt_start, \n",
    "        string_agg(FORMAT('JOIN a%s USING (a)', id), ' ') stmt_end\n",
    "    FROM generate_series(2,${TABLES_NUM}) AS id\n",
    "    GROUP BY 1\n",
    "    )\n",
    "    SELECT CONCAT(stmt_start, stmt_end)\n",
    "    FROM cte\n",
    "    \\gexec\n",
    "EOM"
   ]
  },
  {
   "cell_type": "markdown",
   "metadata": {},
   "source": [
    "##### Sub Queries"
   ]
  },
  {
   "cell_type": "markdown",
   "metadata": {},
   "source": [
    "Tries to flatten queries"
   ]
  },
  {
   "cell_type": "code",
   "execution_count": null,
   "metadata": {
    "vscode": {
     "languageId": "bash"
    }
   },
   "outputs": [],
   "source": [
    "# Sub Query\n",
    "psql << EOM\n",
    "SELECT *\n",
    "FROM x, y,\n",
    "    (SELECT * FROM a, b, c WHERE something) AS ss\n",
    "WHERE somethingelse;\n",
    "EOM"
   ]
  },
  {
   "cell_type": "code",
   "execution_count": null,
   "metadata": {
    "vscode": {
     "languageId": "bash"
    }
   },
   "outputs": [],
   "source": [
    "# Flatten\n",
    "psql << EOM\n",
    "    SELECT * FROM x, y, a, b, c WHERE something AND somethingelse;\n",
    "EOM"
   ]
  },
  {
   "cell_type": "markdown",
   "metadata": {},
   "source": [
    "Aspects\n",
    "- Pro: Qualificators can be propagated into the sub query\n",
    "- Cons: More time planning because there are more options"
   ]
  }
 ],
 "metadata": {
  "kernelspec": {
   "display_name": "",
   "name": ""
  },
  "language_info": {
   "name": "python"
  }
 },
 "nbformat": 4,
 "nbformat_minor": 4
}
