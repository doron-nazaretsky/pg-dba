{
 "cells": [
  {
   "cell_type": "markdown",
   "metadata": {},
   "source": [
    "## Main Scan Operations"
   ]
  },
  {
   "cell_type": "markdown",
   "metadata": {},
   "source": [
    "### Sequential Scan\n",
    "This is the simplest way of fetching data from a table, it scans through every page of data sequentially."
   ]
  },
  {
   "cell_type": "markdown",
   "metadata": {},
   "source": [
    "#### Use Cases\n",
    "- It's the only option\n",
    "- The query required a large proportion of the table"
   ]
  },
  {
   "cell_type": "markdown",
   "metadata": {},
   "source": [
    "### Index Scan\n",
    "Traverse the index to find the matching predicate rows and then fetch them from the table -> two searches per row.\n"
   ]
  },
  {
   "cell_type": "markdown",
   "metadata": {},
   "source": [
    "#### Use Cases\n",
    "- A small portion of the table is required"
   ]
  },
  {
   "cell_type": "markdown",
   "metadata": {},
   "source": [
    "### Index Only Scan\n",
    "Happens when the actual data needed is found completely inside the index. So we just traverse the index and take the data from there. It's much more preferred than regular index scan because it avoids the overhead of searching the actual table."
   ]
  },
  {
   "cell_type": "markdown",
   "metadata": {},
   "source": [
    "#### Use Cases\n",
    "- A small portion of the table is required\n",
    "- Index is supporting (mainly due to MVCC and Data Structure)\n",
    "- All the data exists in the index"
   ]
  },
  {
   "cell_type": "markdown",
   "metadata": {},
   "source": [
    "### Bitmap Index Scan\n",
    "Traverse the index and create a bitmap of the index values to match with the table values later on. If the bitmap structure is getting too big, it can switch to `lossy` strategy which just keeps  data to a file This stage only creates the bitmap which is used in later steps."
   ]
  },
  {
   "cell_type": "markdown",
   "metadata": {},
   "source": [
    "#### Use Cases\n",
    "- A medium proportion of the table is required\n",
    "- Index is present\n",
    "- When index order is not an issue -> no matching ORDER BY clause"
   ]
  },
  {
   "cell_type": "markdown",
   "metadata": {},
   "source": [
    "### Bitmap Heap Scan\n",
    "Applying the bitmap created by `Bitmap Index Scan` (maybe combined with `BitmapAnd` or `BitmapOr` operations) to actually fetch the rows from the table"
   ]
  },
  {
   "cell_type": "markdown",
   "metadata": {},
   "source": [
    "#### Use Cases\n",
    "- A bitmap structure is present"
   ]
  },
  {
   "cell_type": "markdown",
   "metadata": {},
   "source": [
    "### CTE Scan"
   ]
  },
  {
   "cell_type": "markdown",
   "metadata": {},
   "source": [
    "When using a CTE postgres can use it with 2 strategies:\n",
    "1. Materialize the CTE and treat it like a temp table, done when the CTE is referenced multiple times \n",
    "    - Pros: single time execution\n",
    "    - Cons: no optimization based on parent query, no propagation of restrictions\n",
    "1. Not materialize the CTE so just treat it like a query tree (sometime as a sub query)\n",
    "    - Pros: can optimize based on parent\n",
    "    - Cons: will be calculated multiple times if needed\n",
    "\n",
    "You can enforce a strategy by using `MATERIALIZED` or `NOT MATERIALIZED` keywords in CTE definition"
   ]
  },
  {
   "cell_type": "markdown",
   "metadata": {},
   "source": [
    "## Main Join Operations"
   ]
  },
  {
   "cell_type": "markdown",
   "metadata": {},
   "source": [
    "### Nested Loop Joins"
   ]
  },
  {
   "cell_type": "markdown",
   "metadata": {},
   "source": [
    "#### Regular Nested Loop Join"
   ]
  },
  {
   "cell_type": "markdown",
   "metadata": {},
   "source": [
    "Always estimated because it's always an option, but rarely used because more performant variations are usually available\n",
    "\n",
    "<img src=\"./helpers/regular-nested-loop-join.png\" alt=\"drawing\" width=\"900\"/>"
   ]
  },
  {
   "cell_type": "markdown",
   "metadata": {},
   "source": [
    "#### Materialized Nested Loop Join"
   ]
  },
  {
   "cell_type": "markdown",
   "metadata": {},
   "source": [
    "First materialize all the inner table (in memory or with spill) and than perform a regular nested loop join with cheaper inner table scan.\n",
    "\n",
    "<img src=\"./helpers/materialize-nested-loop-join.png\" alt=\"drawing\" width=\"900\"/>"
   ]
  },
  {
   "cell_type": "markdown",
   "metadata": {},
   "source": [
    "#### Indexes Nested Loop Join (inner)"
   ]
  },
  {
   "cell_type": "markdown",
   "metadata": {},
   "source": [
    "If there is an index on the inner table, it can be used to avoid the re-scanning of the inner table at every loop iteration, causing the loop to run only a single time!\n",
    "\n",
    "<img src=\"./helpers/inner-indexed-nested-loop-join.png\" alt=\"drawing\" width=\"900\"/>"
   ]
  },
  {
   "cell_type": "markdown",
   "metadata": {},
   "source": [
    "#### Other Variations"
   ]
  },
  {
   "cell_type": "markdown",
   "metadata": {},
   "source": [
    "1. Outer index nested loop join - If there is an index on the outer table, especially when it's content is relevant for the WHERE clause of the outer table, it can reduce the outer loop greatly. Of course if all of the outer table is needed it's pretty useless\n",
    "1. Outer index with inner materialize\n",
    "1. Outer index with inner index\n",
    "\n",
    "\n",
    "<img src=\"./helpers/other-variation-nested-loop-join.png\" alt=\"drawing\" width=\"900\"/>"
   ]
  },
  {
   "cell_type": "markdown",
   "metadata": {},
   "source": [
    "### Merge Join\n",
    "Only relevant when it's an equi-join, which means the join condition is based on `=` equality"
   ]
  },
  {
   "cell_type": "markdown",
   "metadata": {},
   "source": [
    "#### Regular Merge Join\n",
    "Sorts both inner and outer tables and then performs the join"
   ]
  },
  {
   "cell_type": "markdown",
   "metadata": {},
   "source": [
    "<img src=\"./helpers/regular-merge-join.png\" alt=\"drawing\" width=\"900\"/>"
   ]
  },
  {
   "cell_type": "markdown",
   "metadata": {},
   "source": [
    "#### Materialized Merge Join\n",
    "Merge join with materializing the inner table"
   ]
  },
  {
   "cell_type": "markdown",
   "metadata": {},
   "source": [
    "<img src=\"./helpers/materialized-merge-join.png\" alt=\"drawing\" width=\"900\"/>"
   ]
  },
  {
   "cell_type": "markdown",
   "metadata": {},
   "source": [
    "#### Other Variations"
   ]
  },
  {
   "cell_type": "markdown",
   "metadata": {},
   "source": [
    "1. Merge join with outer index scan\n",
    "1. Materialized merge join with outer index scan\n",
    "1. Indexed merge join with outer index scan\n",
    "\n",
    "<img src=\"./helpers/other-variations-merge-join.png\" alt=\"drawing\" width=\"900\"/>"
   ]
  },
  {
   "cell_type": "markdown",
   "metadata": {},
   "source": [
    "### Hash Joins\n",
    "Only relevant when it's an equi-join, which means the join condition is based on `=` equality"
   ]
  },
  {
   "cell_type": "markdown",
   "metadata": {},
   "source": [
    "#### In Memory Hash Join\n",
    "Happens when the inner table (hash target) size is 25% or less of the work_mem.\n",
    "\n",
    "Steps:\n",
    "1. Create a batch on work_mem\n",
    "1. Insert the first tuple of the build table into the corresponding bucket of the batch by using hash function on join attribute\n",
    "1. Insert remaining tuple of build table\n",
    "1. Probe the first tuple of the probe table (check hash, than check complete equality since hash can be many to many) and join if equal\n",
    "1. Probe the rest\n",
    "\n",
    "Terms:\n",
    "- Batch - hash table area\n",
    "- Bucket - a single slot in the hash table\n",
    "- Build table (inner) - the table which the hash is built on\n",
    "- Probe table (outer) - the table which tuples are checked against teh build\n",
    "\n",
    "<img src=\"./helpers/in-memory-hash-join-1.png\" alt=\"drawing\" width=\"900\"/>\n",
    "<img src=\"./helpers/in-memory-hash-join-2.png\" alt=\"drawing\" width=\"900\"/>"
   ]
  },
  {
   "cell_type": "markdown",
   "metadata": {},
   "source": [
    "#### Hybrid Skewed Hash Join\n",
    "When all the tuples of the inner table can not be stored in memory (work_mem), a hybrid join is used which is basically splitting the hash table to multiple batches and dealing with them one at a time in memory.\n",
    "\n",
    "This hash technique is based on a mix of grace hash join with classical hash join and some optimization"
   ]
  },
  {
   "cell_type": "markdown",
   "metadata": {},
   "source": [
    "##### Grace Hash Join"
   ]
  },
  {
   "cell_type": "markdown",
   "metadata": {},
   "source": [
    "**Problem**\n",
    "\n",
    "Not enough memory to store the inner table and do the comparisons in memory"
   ]
  },
  {
   "cell_type": "markdown",
   "metadata": {},
   "source": [
    "**Optimization**\n",
    "\n",
    "Use less memory by partitioning the data on both sides and join step by step. \n",
    "\n",
    "<img src=\"./helpers/grace-hash-join.png\" alt=\"drawing\" width=\"500\"/>"
   ]
  },
  {
   "cell_type": "markdown",
   "metadata": {},
   "source": [
    "**Steps**\n",
    "1. Partition by some partitioning hash on the join attribute both the inner and outer table and write all to disk\n",
    "1. If the partitions are still too big it can be done recursively to partition another time\n",
    "1. Fetch matching partitions for both tables and preform join\n",
    "1. Loop over the fetch until all partitions are joined"
   ]
  },
  {
   "cell_type": "markdown",
   "metadata": {},
   "source": [
    "##### Standard Hybrid Hash Join"
   ]
  },
  {
   "cell_type": "markdown",
   "metadata": {},
   "source": [
    "**Problem**\n",
    "\n",
    "We are not using all the memory possible (always a bad idea) + wasting time on writing the first partition on both sides to disk while we could just maintain it in memory."
   ]
  },
  {
   "cell_type": "markdown",
   "metadata": {},
   "source": [
    "**Optimization**\n",
    "\n",
    "Mixing the grace hash join with the classical, by dividing the memory to two parts:\n",
    "- Partition the data\n",
    "- Save the first partition of the tables in memory, but make it the largest \n",
    "\n",
    "<img src=\"./helpers/hybrid-hash-join.png\" alt=\"drawing\" width=\"500\"/>"
   ]
  },
  {
   "cell_type": "markdown",
   "metadata": {},
   "source": [
    "Steps:\n",
    "1. Partition the data\n",
    "1. Carefully estimate how much batch partitions can fit in memory without the need to write them to disk\n",
    "1. Write all batches to disk except the first x batches which could fit in memory\n",
    "1. Perform the grace hash join algorithm as usual"
   ]
  },
  {
   "cell_type": "markdown",
   "metadata": {},
   "source": [
    "##### Skewed Optimization"
   ]
  },
  {
   "cell_type": "markdown",
   "metadata": {},
   "source": [
    "**Problem**\n",
    "\n",
    "When joining two tuples from inner and outer table, the resulting row becomes *bigger*, so unfortunately the batch itself becomes bigger as well. This can cause movement of tuples between batches and result in OOM and other problems."
   ]
  },
  {
   "cell_type": "markdown",
   "metadata": {},
   "source": [
    "**Optimization**\n",
    "\n",
    "Check the outer table statistics (MCV - Most Common Values) and make sure that the inner table tuples that will match the most outer table tuples will be in the first batch called skew\n",
    "\n",
    "<img src=\"./helpers/skew-hash-join-optimization.png\" alt=\"drawing\" width=\"900\"/>"
   ]
  },
  {
   "cell_type": "markdown",
   "metadata": {},
   "source": [
    "## Main Other Operations"
   ]
  },
  {
   "cell_type": "markdown",
   "metadata": {},
   "source": [
    "### Materialize\n",
    "Bring some data into the local environment preferred to memory (work_mem) and when it's not enough to disk with spill"
   ]
  }
 ],
 "metadata": {
  "kernelspec": {
   "display_name": "Python 3 (ipykernel)",
   "language": "python",
   "name": "python3"
  },
  "language_info": {
   "codemirror_mode": {
    "name": "ipython",
    "version": 3
   },
   "file_extension": ".py",
   "mimetype": "text/x-python",
   "name": "python",
   "nbconvert_exporter": "python",
   "pygments_lexer": "ipython3",
   "version": "3.11.6"
  }
 },
 "nbformat": 4,
 "nbformat_minor": 4
}
